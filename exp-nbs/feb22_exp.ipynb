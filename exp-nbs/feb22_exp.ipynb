{
 "cells": [
  {
   "cell_type": "markdown",
   "metadata": {},
   "source": [
    "# _Experimentation 2/22/2020_\n",
    "\n",
    "**TL;DR** --> Going to download/begin preprocessing of Iranian Twitter Data from Oct. 2018 & Jan. 2019"
   ]
  },
  {
   "cell_type": "code",
   "execution_count": 27,
   "metadata": {},
   "outputs": [
    {
     "name": "stdout",
     "output_type": "stream",
     "text": [
      "The autoreload extension is already loaded. To reload it, use:\n",
      "  %reload_ext autoreload\n"
     ]
    }
   ],
   "source": [
    "%load_ext autoreload\n",
    "%autoreload 2\n",
    "%matplotlib inline\n",
    "%config InlineBackend.figure_format='retina'\n",
    "\n",
    "# Matplotlib\n",
    "import matplotlib as mpl\n",
    "import matplotlib.pyplot as plt\n",
    "import seaborn as sns\n",
    "plt.style.use('fivethirtyeight')"
   ]
  },
  {
   "cell_type": "code",
   "execution_count": 2,
   "metadata": {},
   "outputs": [
    {
     "name": "stdout",
     "output_type": "stream",
     "text": [
      "Our current working directory is '/notebooks/IRA-Twitter-Disinformation'.\n"
     ]
    }
   ],
   "source": [
    "# import os library to better help us navigate directories (which in this) case is our Google Drive\n",
    "import os\n",
    "\n",
    "# what is our current working directory?\n",
    "print(\"Our current working directory is '{}'.\".format(os.getcwd()))"
   ]
  },
  {
   "cell_type": "code",
   "execution_count": 3,
   "metadata": {},
   "outputs": [
    {
     "data": {
      "text/plain": [
       "PosixPath('/notebooks/IRA-Twitter-Disinformation')"
      ]
     },
     "execution_count": 3,
     "metadata": {},
     "output_type": "execute_result"
    }
   ],
   "source": [
    "from pathlib import Path\n",
    "\n",
    "#create path variable to primary directory\n",
    "path = Path(os.getcwd())\n",
    "path"
   ]
  },
  {
   "cell_type": "code",
   "execution_count": 4,
   "metadata": {},
   "outputs": [],
   "source": [
    "def tree(directory):\n",
    "    print(f'+ {directory}')\n",
    "    for path in sorted(directory.rglob('*')):\n",
    "        depth = len(path.relative_to(directory).parts)\n",
    "        spacer = '    ' * depth\n",
    "        print(f'{spacer}+ {path.name}')"
   ]
  },
  {
   "cell_type": "code",
   "execution_count": 5,
   "metadata": {},
   "outputs": [
    {
     "name": "stdout",
     "output_type": "stream",
     "text": [
      "+ /notebooks/IRA-Twitter-Disinformation\n",
      "    + .ipynb_checkpoints\n",
      "        + exp2_feb16-checkpoint.html\n",
      "        + exp2_feb16-checkpoint.ipynb\n",
      "        + exp_altair-checkpoint.html\n",
      "        + exp_altair-checkpoint.ipynb\n",
      "        + feb17_exp-checkpoint.html\n",
      "        + feb17_exp-checkpoint.ipynb\n",
      "        + feb22_exp-checkpoint.html\n",
      "        + feb22_exp-checkpoint.ipynb\n",
      "    + chart.html\n",
      "    + data\n",
      "        + everything_2020_02_07.pkl\n",
      "        + iran_201901_1_tweets_csv_hashed.zip\n",
      "        + iran_201901_1_tweets_csv_hashed_1.csv\n",
      "        + iran_201901_1_tweets_csv_hashed_2.csv\n",
      "        + iran_201901_1_tweets_csv_hashed_3.csv\n",
      "        + iran_201901_1_tweets_csv_hashed_4.csv\n",
      "    + exp2_feb16.html\n",
      "    + exp2_feb16.ipynb\n",
      "    + exp_altair.html\n",
      "    + exp_altair.ipynb\n",
      "    + exp_nbs\n",
      "        + .ipynb_checkpoints\n",
      "            + exp2_jan27-checkpoint.html\n",
      "            + exp2_jan27-checkpoint.ipynb\n",
      "            + exp_jan27-checkpoint.html\n",
      "            + exp_jan27-checkpoint.ipynb\n",
      "        + exp2_jan27.html\n",
      "        + exp2_jan27.ipynb\n",
      "        + exp_jan27.html\n",
      "        + exp_jan27.ipynb\n",
      "    + feb17_exp.html\n",
      "    + feb17_exp.ipynb\n",
      "    + feb22_exp.html\n",
      "    + feb22_exp.ipynb\n",
      "    + iran_201901_1_tweets_csv_hashed.zipx0yi5m_9.tmp\n"
     ]
    }
   ],
   "source": [
    "# check out directory tree\n",
    "tree(path)"
   ]
  },
  {
   "cell_type": "markdown",
   "metadata": {},
   "source": [
    "## _Retrieve Oct. 2018 Iranian Dataset_"
   ]
  },
  {
   "cell_type": "code",
   "execution_count": 6,
   "metadata": {},
   "outputs": [],
   "source": [
    "import pandas as pd\n",
    "\n",
    "iran18url = \"https://storage.googleapis.com/twitter-election-integrity/hashed/2018_10/iranian/iranian_tweets_csv_hashed.zip\""
   ]
  },
  {
   "cell_type": "code",
   "execution_count": 31,
   "metadata": {},
   "outputs": [],
   "source": [
    "iran18 = pd.read_csv(iran18url)"
   ]
  },
  {
   "cell_type": "code",
   "execution_count": 32,
   "metadata": {},
   "outputs": [
    {
     "name": "stdout",
     "output_type": "stream",
     "text": [
      "<class 'pandas.core.frame.DataFrame'>\n",
      "RangeIndex: 1122936 entries, 0 to 1122935\n",
      "Data columns (total 31 columns):\n",
      " #   Column                    Non-Null Count    Dtype  \n",
      "---  ------                    --------------    -----  \n",
      " 0   tweetid                   1122936 non-null  int64  \n",
      " 1   userid                    1122936 non-null  object \n",
      " 2   user_display_name         1122936 non-null  object \n",
      " 3   user_screen_name          1122936 non-null  object \n",
      " 4   user_reported_location    887669 non-null   object \n",
      " 5   user_profile_description  995845 non-null   object \n",
      " 6   user_profile_url          434954 non-null   object \n",
      " 7   follower_count            1122936 non-null  int64  \n",
      " 8   following_count           1122936 non-null  int64  \n",
      " 9   account_creation_date     1122936 non-null  object \n",
      " 10  account_language          1122936 non-null  object \n",
      " 11  tweet_language            1117307 non-null  object \n",
      " 12  tweet_text                1122936 non-null  object \n",
      " 13  tweet_time                1122936 non-null  object \n",
      " 14  tweet_client_name         1100078 non-null  object \n",
      " 15  in_reply_to_tweetid       339350 non-null   float64\n",
      " 16  in_reply_to_userid        440244 non-null   object \n",
      " 17  quoted_tweet_tweetid      23369 non-null    float64\n",
      " 18  is_retweet                1122936 non-null  bool   \n",
      " 19  retweet_userid            232337 non-null   object \n",
      " 20  retweet_tweetid           232337 non-null   float64\n",
      " 21  latitude                  32 non-null       float64\n",
      " 22  longitude                 32 non-null       float64\n",
      " 23  quote_count               1121572 non-null  float64\n",
      " 24  reply_count               1121572 non-null  float64\n",
      " 25  like_count                1121572 non-null  float64\n",
      " 26  retweet_count             1121572 non-null  float64\n",
      " 27  hashtags                  885731 non-null   object \n",
      " 28  urls                      1115553 non-null  object \n",
      " 29  user_mentions             685556 non-null   object \n",
      " 30  poll_choices              387 non-null      object \n",
      "dtypes: bool(1), float64(9), int64(3), object(18)\n",
      "memory usage: 258.1+ MB\n"
     ]
    }
   ],
   "source": [
    "iran18.info()"
   ]
  },
  {
   "cell_type": "code",
   "execution_count": 33,
   "metadata": {},
   "outputs": [
    {
     "data": {
      "text/plain": [
       "fr     323801\n",
       "en     276946\n",
       "ar     154326\n",
       "tr      92466\n",
       "fa      92206\n",
       "es      65244\n",
       "und     42750\n",
       "ru      40796\n",
       "NaN      5629\n",
       "ur       4578\n",
       "Name: tweet_language, dtype: int64"
      ]
     },
     "execution_count": 33,
     "metadata": {},
     "output_type": "execute_result"
    }
   ],
   "source": [
    "iran18[\"tweet_language\"].value_counts(dropna=False)[:10]"
   ]
  },
  {
   "cell_type": "code",
   "execution_count": 34,
   "metadata": {},
   "outputs": [],
   "source": [
    "iran18.to_pickle(\"iranOct18Twitter.pkl\")"
   ]
  },
  {
   "cell_type": "code",
   "execution_count": 10,
   "metadata": {},
   "outputs": [],
   "source": [
    "# grab only Tweets in English\n",
    "iran18en = iran18[iran18[\"tweet_language\"] == \"en\"].reset_index(drop=True)"
   ]
  },
  {
   "cell_type": "code",
   "execution_count": 11,
   "metadata": {},
   "outputs": [
    {
     "name": "stdout",
     "output_type": "stream",
     "text": [
      "<class 'pandas.core.frame.DataFrame'>\n",
      "RangeIndex: 276946 entries, 0 to 276945\n",
      "Data columns (total 31 columns):\n",
      " #   Column                    Non-Null Count   Dtype  \n",
      "---  ------                    --------------   -----  \n",
      " 0   tweetid                   276946 non-null  int64  \n",
      " 1   userid                    276946 non-null  object \n",
      " 2   user_display_name         276946 non-null  object \n",
      " 3   user_screen_name          276946 non-null  object \n",
      " 4   user_reported_location    173007 non-null  object \n",
      " 5   user_profile_description  239163 non-null  object \n",
      " 6   user_profile_url          94938 non-null   object \n",
      " 7   follower_count            276946 non-null  int64  \n",
      " 8   following_count           276946 non-null  int64  \n",
      " 9   account_creation_date     276946 non-null  object \n",
      " 10  account_language          276946 non-null  object \n",
      " 11  tweet_language            276946 non-null  object \n",
      " 12  tweet_text                276946 non-null  object \n",
      " 13  tweet_time                276946 non-null  object \n",
      " 14  tweet_client_name         271959 non-null  object \n",
      " 15  in_reply_to_tweetid       58222 non-null   float64\n",
      " 16  in_reply_to_userid        77301 non-null   object \n",
      " 17  quoted_tweet_tweetid      6683 non-null    float64\n",
      " 18  is_retweet                276946 non-null  bool   \n",
      " 19  retweet_userid            104017 non-null  object \n",
      " 20  retweet_tweetid           104017 non-null  float64\n",
      " 21  latitude                  17 non-null      float64\n",
      " 22  longitude                 17 non-null      float64\n",
      " 23  quote_count               276063 non-null  float64\n",
      " 24  reply_count               276063 non-null  float64\n",
      " 25  like_count                276063 non-null  float64\n",
      " 26  retweet_count             276063 non-null  float64\n",
      " 27  hashtags                  223445 non-null  object \n",
      " 28  urls                      275215 non-null  object \n",
      " 29  user_mentions             194040 non-null  object \n",
      " 30  poll_choices              18 non-null      object \n",
      "dtypes: bool(1), float64(9), int64(3), object(18)\n",
      "memory usage: 63.7+ MB\n"
     ]
    }
   ],
   "source": [
    "iran18en.info()"
   ]
  },
  {
   "cell_type": "markdown",
   "metadata": {},
   "source": [
    "## _Retrieve Jan. 2019 Iran Data_"
   ]
  },
  {
   "cell_type": "code",
   "execution_count": 17,
   "metadata": {},
   "outputs": [],
   "source": [
    "iranJan19url = \"https://storage.googleapis.com/twitter-election-integrity/hashed/2019_01/iran_201901_1/iran_201901_1_tweets_csv_hashed.zip\""
   ]
  },
  {
   "cell_type": "code",
   "execution_count": 19,
   "metadata": {},
   "outputs": [],
   "source": [
    "import requests\n",
    "\n",
    "r = requests.get(iranJan19url)"
   ]
  },
  {
   "cell_type": "code",
   "execution_count": 22,
   "metadata": {},
   "outputs": [],
   "source": [
    "#!pip install wget"
   ]
  },
  {
   "cell_type": "code",
   "execution_count": 25,
   "metadata": {},
   "outputs": [
    {
     "data": {
      "text/plain": [
       "'/notebooks/IRA-Twitter-Disinformation/data/iran_201901_1_tweets_csv_hashed.zip'"
      ]
     },
     "execution_count": 25,
     "metadata": {},
     "output_type": "execute_result"
    }
   ],
   "source": [
    "import wget\n",
    "\n",
    "wget.download(iranJan19url, os.getcwd() + \"/data\")"
   ]
  },
  {
   "cell_type": "code",
   "execution_count": 23,
   "metadata": {},
   "outputs": [],
   "source": [
    "from zipfile import ZipFile"
   ]
  },
  {
   "cell_type": "code",
   "execution_count": 27,
   "metadata": {},
   "outputs": [],
   "source": [
    "# Create a ZipFile Object and load sample.zip in it\n",
    "with ZipFile('data/iran_201901_1_tweets_csv_hashed.zip', 'r') as zipObj:\n",
    "    # Extract all the contents of zip file in different directory\n",
    "    zipObj.extractall('data')"
   ]
  },
  {
   "cell_type": "code",
   "execution_count": 12,
   "metadata": {},
   "outputs": [],
   "source": [
    "import glob\n",
    "\n",
    "iran2019files = glob.glob(\"data/*.csv\")"
   ]
  },
  {
   "cell_type": "code",
   "execution_count": 13,
   "metadata": {},
   "outputs": [],
   "source": [
    "iranJan19 = pd.concat([pd.read_csv(file, low_memory=False) for file in iran2019files])"
   ]
  },
  {
   "cell_type": "code",
   "execution_count": 14,
   "metadata": {},
   "outputs": [
    {
     "name": "stdout",
     "output_type": "stream",
     "text": [
      "<class 'pandas.core.frame.DataFrame'>\n",
      "Int64Index: 4671959 entries, 0 to 807056\n",
      "Data columns (total 31 columns):\n",
      " #   Column                    Dtype  \n",
      "---  ------                    -----  \n",
      " 0   tweetid                   int64  \n",
      " 1   userid                    object \n",
      " 2   user_display_name         object \n",
      " 3   user_screen_name          object \n",
      " 4   user_reported_location    object \n",
      " 5   user_profile_description  object \n",
      " 6   user_profile_url          object \n",
      " 7   follower_count            int64  \n",
      " 8   following_count           int64  \n",
      " 9   account_creation_date     object \n",
      " 10  account_language          object \n",
      " 11  tweet_language            object \n",
      " 12  tweet_text                object \n",
      " 13  tweet_time                object \n",
      " 14  tweet_client_name         object \n",
      " 15  in_reply_to_userid        object \n",
      " 16  in_reply_to_tweetid       float64\n",
      " 17  quoted_tweet_tweetid      float64\n",
      " 18  is_retweet                bool   \n",
      " 19  retweet_userid            object \n",
      " 20  retweet_tweetid           float64\n",
      " 21  latitude                  object \n",
      " 22  longitude                 object \n",
      " 23  quote_count               float64\n",
      " 24  reply_count               float64\n",
      " 25  like_count                float64\n",
      " 26  retweet_count             float64\n",
      " 27  hashtags                  object \n",
      " 28  urls                      object \n",
      " 29  user_mentions             object \n",
      " 30  poll_choices              float64\n",
      "dtypes: bool(1), float64(8), int64(3), object(19)\n",
      "memory usage: 1.1+ GB\n"
     ]
    }
   ],
   "source": [
    "iranJan19.info()"
   ]
  },
  {
   "cell_type": "code",
   "execution_count": 26,
   "metadata": {},
   "outputs": [],
   "source": [
    "iranJan19.to_pickle(\"iranJan19twitter.pkl\")"
   ]
  },
  {
   "cell_type": "code",
   "execution_count": 15,
   "metadata": {},
   "outputs": [
    {
     "data": {
      "text/plain": [
       "en     1492107\n",
       "ur     1008514\n",
       "ar      527137\n",
       "fa      432298\n",
       "in      312518\n",
       "hi      266938\n",
       "und     249228\n",
       "iw      154260\n",
       "NaN      41305\n",
       "tr       35828\n",
       "Name: tweet_language, dtype: int64"
      ]
     },
     "execution_count": 15,
     "metadata": {},
     "output_type": "execute_result"
    }
   ],
   "source": [
    "iranJan19[\"tweet_language\"].value_counts(dropna=False)[:10]"
   ]
  },
  {
   "cell_type": "markdown",
   "metadata": {},
   "source": [
    "## _Retrieve Russian Jan. 2019 Data_"
   ]
  },
  {
   "cell_type": "code",
   "execution_count": 18,
   "metadata": {},
   "outputs": [
    {
     "name": "stdout",
     "output_type": "stream",
     "text": [
      "https://storage.googleapis.com/twitter-election-integrity/hashed/2019_01/russia_201901_1/russia_201901_1_tweets_csv_hashed.zip\n"
     ]
    }
   ],
   "source": [
    "russJan1029 = \"https://storage.googleapis.com/twitter-election-integrity/hashed/2019_01/\\\n",
    "russia_201901_1/russia_201901_1_tweets_csv_hashed.zip\"\n",
    "print(url)"
   ]
  },
  {
   "cell_type": "code",
   "execution_count": 20,
   "metadata": {},
   "outputs": [
    {
     "data": {
      "text/plain": [
       "'/notebooks/IRA-Twitter-Disinformation/data/russia_201901_1_tweets_csv_hashed.zip'"
      ]
     },
     "execution_count": 20,
     "metadata": {},
     "output_type": "execute_result"
    }
   ],
   "source": [
    "import wget\n",
    "\n",
    "wget.download(russJan1029, os.getcwd() + \"/data\")"
   ]
  },
  {
   "cell_type": "code",
   "execution_count": 24,
   "metadata": {},
   "outputs": [],
   "source": [
    "# Create a ZipFile Object and load sample.zip in it\n",
    "with ZipFile('data/russia_201901_1_tweets_csv_hashed.zip', 'r') as zipObj:\n",
    "    # Extract all the contents of zip file in different directory\n",
    "    zipObj.extractall('data')"
   ]
  },
  {
   "cell_type": "code",
   "execution_count": 25,
   "metadata": {},
   "outputs": [
    {
     "data": {
      "text/plain": [
       "['data/everything_2020_02_07.pkl',\n",
       " 'data/iran_201901_1_tweets_csv_hashed.zip',\n",
       " 'data/iran_201901_1_tweets_csv_hashed_1.csv',\n",
       " 'data/iran_201901_1_tweets_csv_hashed_2.csv',\n",
       " 'data/iran_201901_1_tweets_csv_hashed_3.csv',\n",
       " 'data/iran_201901_1_tweets_csv_hashed_4.csv',\n",
       " 'data/russia_201901_1_tweets_csv_hashed.zip',\n",
       " 'data/russian_linked_tweets_csv_hashed.csv']"
      ]
     },
     "execution_count": 25,
     "metadata": {},
     "output_type": "execute_result"
    }
   ],
   "source": [
    "import glob\n",
    "\n",
    "glob.glob(\"data/*\")"
   ]
  },
  {
   "cell_type": "code",
   "execution_count": 28,
   "metadata": {},
   "outputs": [],
   "source": [
    "russiaJan19 = pd.read_csv(\"data/russian_linked_tweets_csv_hashed.csv\", low_memory=False)"
   ]
  },
  {
   "cell_type": "code",
   "execution_count": 29,
   "metadata": {},
   "outputs": [
    {
     "name": "stdout",
     "output_type": "stream",
     "text": [
      "<class 'pandas.core.frame.DataFrame'>\n",
      "RangeIndex: 920761 entries, 0 to 920760\n",
      "Data columns (total 31 columns):\n",
      " #   Column                    Non-Null Count   Dtype  \n",
      "---  ------                    --------------   -----  \n",
      " 0   tweetid                   920761 non-null  int64  \n",
      " 1   userid                    920761 non-null  object \n",
      " 2   user_display_name         920761 non-null  object \n",
      " 3   user_screen_name          920761 non-null  object \n",
      " 4   user_reported_location    912810 non-null  object \n",
      " 5   user_profile_description  901370 non-null  object \n",
      " 6   user_profile_url          329438 non-null  object \n",
      " 7   follower_count            920761 non-null  int64  \n",
      " 8   following_count           920761 non-null  int64  \n",
      " 9   account_creation_date     920761 non-null  object \n",
      " 10  account_language          920761 non-null  object \n",
      " 11  tweet_language            918184 non-null  object \n",
      " 12  tweet_text                920761 non-null  object \n",
      " 13  tweet_time                920761 non-null  object \n",
      " 14  tweet_client_name         920761 non-null  object \n",
      " 15  in_reply_to_userid        76106 non-null   object \n",
      " 16  in_reply_to_tweetid       72380 non-null   float64\n",
      " 17  quoted_tweet_tweetid      118087 non-null  float64\n",
      " 18  is_retweet                920761 non-null  bool   \n",
      " 19  retweet_userid            712800 non-null  object \n",
      " 20  retweet_tweetid           712800 non-null  float64\n",
      " 21  latitude                  920761 non-null  object \n",
      " 22  longitude                 920761 non-null  object \n",
      " 23  quote_count               914726 non-null  float64\n",
      " 24  reply_count               914726 non-null  float64\n",
      " 25  like_count                914726 non-null  float64\n",
      " 26  retweet_count             914726 non-null  float64\n",
      " 27  hashtags                  907427 non-null  object \n",
      " 28  urls                      903876 non-null  object \n",
      " 29  user_mentions             911084 non-null  object \n",
      " 30  poll_choices              0 non-null       float64\n",
      "dtypes: bool(1), float64(8), int64(3), object(19)\n",
      "memory usage: 211.6+ MB\n"
     ]
    }
   ],
   "source": [
    "russiaJan19.info()"
   ]
  },
  {
   "cell_type": "code",
   "execution_count": 30,
   "metadata": {},
   "outputs": [],
   "source": [
    "russiaJan19.to_pickle(\"russJan2019Twitter.pkl\")"
   ]
  },
  {
   "cell_type": "code",
   "execution_count": null,
   "metadata": {},
   "outputs": [],
   "source": []
  }
 ],
 "metadata": {
  "kernelspec": {
   "display_name": "Python 3",
   "language": "python",
   "name": "python3"
  },
  "language_info": {
   "codemirror_mode": {
    "name": "ipython",
    "version": 3
   },
   "file_extension": ".py",
   "mimetype": "text/x-python",
   "name": "python",
   "nbconvert_exporter": "python",
   "pygments_lexer": "ipython3",
   "version": "3.6.8"
  }
 },
 "nbformat": 4,
 "nbformat_minor": 2
}
