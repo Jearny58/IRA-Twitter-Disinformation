{
 "cells": [
  {
   "cell_type": "markdown",
   "metadata": {},
   "source": [
    "# _Experimentation: February 23, 2020_\n",
    "\n",
    "**TL;DR** --> Get as much data from Twitter Information operations archive as possible"
   ]
  },
  {
   "cell_type": "code",
   "execution_count": 2,
   "metadata": {},
   "outputs": [],
   "source": [
    "bangladeshJan2019url = \"https://storage.googleapis.com/twitter-election-integrity/hashed/2019_01/bangladesh_201901_1/bangladesh_201901_1_tweets_csv_hashed.zip\"\n",
    "venzJan2019part1url = \"https://storage.googleapis.com/twitter-election-integrity/hashed/2019_01/venezuela_201901_1/venezuela_201901_1_tweets_csv_hashed.zip\"\n",
    "venzJan2019part2url = \"https://storage.googleapis.com/twitter-election-integrity/hashed/2019_01/venezuela_201901_2/venezuela_201901_2_tweets_csv_hashed.zip\"\n",
    "cataloniaJune2019url = \"https://storage.googleapis.com/twitter-election-integrity/hashed/2019_06/catalonia_201906_1/catalonia_201906_1_tweets_csv_hashed.zip\"\n",
    "iranJune2019part1url = \"https://storage.googleapis.com/twitter-election-integrity/hashed/2019_06/iran_201906_1/iran_201906_1_tweets_csv_hashed.zip\"\n",
    "iranJune2019part2url = \"https://storage.googleapis.com/twitter-election-integrity/hashed/2019_06/iran_201906_2/iran_201906_2_tweets_csv_hashed.zip\"\n",
    "iranJune2019part3url = \"https://storage.googleapis.com/twitter-election-integrity/hashed/2019_06/iran_201906_3/iran_201906_3_tweets_csv_hashed.zip\"\n",
    "russiaJune2019 = \"https://storage.googleapis.com/twitter-election-integrity/hashed/2019_06/russia_201906_1/russia_201906_1_tweets_csv_hashed.zip\"\n",
    "venzJune2019url = \"https://storage.googleapis.com/twitter-election-integrity/hashed/2019_06/venezuela_201906_1/venezuela_201906_1_tweets_csv_hashed.zip\""
   ]
  },
  {
   "cell_type": "code",
   "execution_count": 21,
   "metadata": {},
   "outputs": [
    {
     "name": "stdout",
     "output_type": "stream",
     "text": [
      "The autoreload extension is already loaded. To reload it, use:\n",
      "  %reload_ext autoreload\n"
     ]
    }
   ],
   "source": [
    "%load_ext autoreload\n",
    "%autoreload 2\n",
    "%matplotlib inline\n",
    "%config InlineBackend.figure_format='retina'\n",
    "import pandas as pd\n",
    "\n",
    "# Matplotlib\n",
    "import matplotlib as mpl\n",
    "import matplotlib.pyplot as plt\n",
    "import seaborn as sns\n",
    "plt.style.use('fivethirtyeight')"
   ]
  },
  {
   "cell_type": "code",
   "execution_count": 4,
   "metadata": {},
   "outputs": [
    {
     "name": "stdout",
     "output_type": "stream",
     "text": [
      "Our current working directory is '/home/jupyter/IRA_Twitter_Disinformation'.\n"
     ]
    }
   ],
   "source": [
    "# import os library to better help us navigate directories (which in this) case is our Google Drive\n",
    "import os\n",
    "\n",
    "# what is our current working directory?\n",
    "print(\"Our current working directory is '{}'.\".format(os.getcwd()))"
   ]
  },
  {
   "cell_type": "code",
   "execution_count": 5,
   "metadata": {},
   "outputs": [
    {
     "data": {
      "text/plain": [
       "PosixPath('/home/jupyter/IRA_Twitter_Disinformation')"
      ]
     },
     "execution_count": 5,
     "metadata": {},
     "output_type": "execute_result"
    }
   ],
   "source": [
    "from pathlib import Path\n",
    "\n",
    "#create path variable to primary directory\n",
    "path = Path(os.getcwd())\n",
    "path"
   ]
  },
  {
   "cell_type": "code",
   "execution_count": 6,
   "metadata": {},
   "outputs": [],
   "source": [
    "def tree(directory):\n",
    "    print(f'+ {directory}')\n",
    "    for path in sorted(directory.rglob('*')):\n",
    "        depth = len(path.relative_to(directory).parts)\n",
    "        spacer = '    ' * depth\n",
    "        print(f'{spacer}+ {path.name}')"
   ]
  },
  {
   "cell_type": "code",
   "execution_count": 7,
   "metadata": {},
   "outputs": [
    {
     "name": "stdout",
     "output_type": "stream",
     "text": [
      "+ /home/jupyter/IRA_Twitter_Disinformation\n",
      "    + .ipynb_checkpoints\n",
      "        + Untitled-checkpoint.ipynb\n",
      "    + IRA_data\n",
      "        + ira_tweets_csv_hashed.csv\n",
      "    + Untitled.ipynb\n",
      "    + bigquery_nbs\n",
      "        + .ipynb_checkpoints\n",
      "            + exp2_feb3-checkpoint.ipynb\n",
      "            + exp2_feb7-checkpoint.ipynb\n",
      "            + exp_feb3-checkpoint.ipynb\n",
      "        + exp2_feb3.ipynb\n",
      "        + exp2_feb7.ipynb\n",
      "        + exp_feb3.ipynb\n",
      "    + exp_nbs\n",
      "        + .ipynb_checkpoints\n",
      "            + exp2_feb2-checkpoint.ipynb\n",
      "            + exp2_jan30-checkpoint.ipynb\n",
      "            + exp3_feb2-checkpoint.ipynb\n",
      "            + exp_feb1-checkpoint.ipynb\n",
      "            + exp_feb2-checkpoint.ipynb\n",
      "            + exp_feb5-checkpoint.ipynb\n",
      "            + exp_jan30-checkpoint.ipynb\n",
      "            + feb7_exp-checkpoint.ipynb\n",
      "            + upload_json_bigquery-checkpoint.ipynb\n",
      "        + exp2_feb2.ipynb\n",
      "        + exp2_jan30.ipynb\n",
      "        + exp3_feb2.ipynb\n",
      "        + exp_feb1.ipynb\n",
      "        + exp_feb2.ipynb\n",
      "        + exp_feb5.ipynb\n",
      "        + exp_jan30.ipynb\n",
      "        + feb7_exp.ipynb\n",
      "        + upload_json_bigquery.ipynb\n",
      "    + pickle_data\n",
      "        + .ipynb_checkpoints\n",
      "        + allverified__2020_02_07.pkl\n",
      "        + combined.pkl\n",
      "        + eng_ira.pkl\n",
      "        + everything2020_02_03_.pkl\n",
      "        + everything_2020_02_07.pkl\n",
      "        + everything_feb2.pkl\n",
      "    + twint_data\n",
      "        + .ipynb_checkpoints\n",
      "        + 50cent.json\n",
      "        + AOC.json\n",
      "        + ActuallyNPH.json\n",
      "        + ArianaGrande.json\n",
      "        + BarackObama.json\n",
      "        + BillGates.json\n",
      "        + CIA.json\n",
      "        + CNN.json\n",
      "        + DwyaneWade.json\n",
      "        + Edelman11.json\n",
      "        + EmmaWatson.json\n",
      "        + FBI.json\n",
      "        + Google.json\n",
      "        + HamillHimself.json\n",
      "        + HillaryClinton.json\n",
      "        + JHarden13.json\n",
      "        + JudgeJeanine.json\n",
      "        + Kaepernick7.json\n",
      "        + KendallJenner.json\n",
      "        + KevinHart4real.json\n",
      "        + KimKardashian.json\n",
      "        + KingJames.json\n",
      "        + KylieJenner.json\n",
      "        + MagicJohnson.json\n",
      "        + MarkRuffalo.json\n",
      "        + MeekMill.json\n",
      "        + MichelleObama.json\n",
      "        + MittRomney.json\n",
      "        + NASA.json\n",
      "        + Oprah.json\n",
      "        + Pontifex.json\n",
      "        + RobertDowneyJr.json\n",
      "        + SHAQ.json\n",
      "        + SarahKSilverman.json\n",
      "        + SenSchumer.json\n",
      "        + SethMacFarlane.json\n",
      "        + SnoopDogg.json\n",
      "        + SpeakerPelosi.json\n",
      "        + SpeakerRyan.json\n",
      "        + SportsCenter.json\n",
      "        + TheDailyShow.json\n",
      "        + TheEllenShow.json\n",
      "        + TheRock.json\n",
      "        + TomiLahren.json\n",
      "        + TuckerCarlson.json\n",
      "        + Twitter.json\n",
      "        + VP.json\n",
      "        + VancityReynolds.json\n",
      "        + aplusk.json\n",
      "        + brielarson.json\n",
      "        + britneyspears.json\n",
      "        + dallascowboys.json\n",
      "        + ddlovato.json\n",
      "        + elonmusk.json\n",
      "        + jack.json\n",
      "        + jaketapper.json\n",
      "        + jimmyfallon.json\n",
      "        + jtimberlake.json\n",
      "        + justinbieber.json\n",
      "        + katyperry.json\n",
      "        + khloekardashian.json\n",
      "        + ladygaga.json\n",
      "        + maddow.json\n",
      "        + neiltyson.json\n",
      "        + nyknicks.json\n",
      "        + nytimes.json\n",
      "        + obj.json\n",
      "        + realDonaldTrump.json\n",
      "        + rihanna.json\n",
      "        + rustyrockets.json\n",
      "        + seanhannity.json\n",
      "        + selenagomez.json\n",
      "        + senatemajldr.json\n",
      "        + shakira.json\n",
      "        + stephenasmith.json\n",
      "        + taylorswift13.json\n",
      "        + tim_cook.json\n",
      "        + tonyhawk.json\n",
      "        + twint-last-request.log\n",
      "        + twint-request_urls.log\n",
      "        + wizkhalifa.json\n"
     ]
    }
   ],
   "source": [
    "# check out directory tree\n",
    "tree(path)"
   ]
  },
  {
   "cell_type": "markdown",
   "metadata": {},
   "source": [
    "## _Bangladesh Jan. 2019 Data_"
   ]
  },
  {
   "cell_type": "code",
   "execution_count": 11,
   "metadata": {},
   "outputs": [],
   "source": [
    "#!pip install wget"
   ]
  },
  {
   "cell_type": "code",
   "execution_count": 12,
   "metadata": {},
   "outputs": [
    {
     "data": {
      "text/plain": [
       "'/home/jupyter/IRA_Twitter_Disinformation/Twitter_disinfo_data/bangladesh_201901_1_tweets_csv_hashed.zip'"
      ]
     },
     "execution_count": 12,
     "metadata": {},
     "output_type": "execute_result"
    }
   ],
   "source": [
    "import wget\n",
    "\n",
    "wget.download(bangladeshJan2019url, os.getcwd() + \"/Twitter_disinfo_data\")"
   ]
  },
  {
   "cell_type": "code",
   "execution_count": 14,
   "metadata": {},
   "outputs": [],
   "source": [
    "from zipfile import ZipFile\n",
    "\n",
    "# Create a ZipFile Object and load sample.zip in it\n",
    "with ZipFile('zip_data/bangladesh_201901_1_tweets_csv_hashed.zip', 'r') as zipObj:\n",
    "    # Extract all the contents of zip file in different directory\n",
    "    zipObj.extractall(\"Twitter_disinfo_data\")"
   ]
  },
  {
   "cell_type": "markdown",
   "metadata": {},
   "source": [
    "## _Venezuela Jan. 2019 Data_"
   ]
  },
  {
   "cell_type": "code",
   "execution_count": 15,
   "metadata": {},
   "outputs": [],
   "source": [
    "venezuelaJan2019 = [venzJan2019part1url, venzJan2019part2url]"
   ]
  },
  {
   "cell_type": "code",
   "execution_count": 17,
   "metadata": {},
   "outputs": [],
   "source": [
    "for url in venezuelaJan2019:\n",
    "    wget.download(url, os.getcwd() + \"/zip_data\")"
   ]
  },
  {
   "cell_type": "code",
   "execution_count": 19,
   "metadata": {},
   "outputs": [
    {
     "data": {
      "text/plain": [
       "['zip_data/venezuela_201901_2_tweets_csv_hashed.zip',\n",
       " 'zip_data/venezuela_201901_1_tweets_csv_hashed.zip']"
      ]
     },
     "execution_count": 19,
     "metadata": {},
     "output_type": "execute_result"
    }
   ],
   "source": [
    "import glob \n",
    "\n",
    "glob.glob(r\"zip_data/[venezuela]*.zip\")"
   ]
  },
  {
   "cell_type": "code",
   "execution_count": 20,
   "metadata": {},
   "outputs": [],
   "source": [
    "for file in glob.glob(r\"zip_data/[venezuela]*.zip\"):\n",
    "    # Create a ZipFile Object and load sample.zip in it\n",
    "    with ZipFile(file, 'r') as zipObj:\n",
    "        # Extract all the contents of zip file in different directory\n",
    "        zipObj.extractall(\"Twitter_disinfo_data\")"
   ]
  },
  {
   "cell_type": "code",
   "execution_count": 23,
   "metadata": {},
   "outputs": [
    {
     "data": {
      "text/plain": [
       "['Twitter_disinfo_data/venezuela_201901_1_tweets_csv_hashed_3.csv',\n",
       " 'Twitter_disinfo_data/venezuela_201901_1_tweets_csv_hashed_2.csv',\n",
       " 'Twitter_disinfo_data/venezuela_linked_tweets_csv_hashed.csv',\n",
       " 'Twitter_disinfo_data/venezuela_201901_1_tweets_csv_hashed_1.csv']"
      ]
     },
     "execution_count": 23,
     "metadata": {},
     "output_type": "execute_result"
    }
   ],
   "source": [
    "glob.glob(r\"Twitter_disinfo_data/[venezeula]*.csv\")"
   ]
  },
  {
   "cell_type": "code",
   "execution_count": 24,
   "metadata": {},
   "outputs": [
    {
     "name": "stderr",
     "output_type": "stream",
     "text": [
      "/opt/anaconda3/lib/python3.7/site-packages/IPython/core/interactiveshell.py:3242: DtypeWarning: Columns (15,19) have mixed types. Specify dtype option on import or set low_memory=False.\n",
      "  if (await self.run_code(code, result,  async_=asy)):\n"
     ]
    }
   ],
   "source": [
    "venezuelacombo = pd.concat([pd.read_csv(file, low_memory=False) for file in glob.glob(r\"Twitter_disinfo_data/[venezeula]*.csv\")])"
   ]
  },
  {
   "cell_type": "code",
   "execution_count": 25,
   "metadata": {},
   "outputs": [
    {
     "name": "stdout",
     "output_type": "stream",
     "text": [
      "<class 'pandas.core.frame.DataFrame'>\n",
      "Int64Index: 9935542 entries, 0 to 3481050\n",
      "Data columns (total 31 columns):\n",
      "tweetid                     int64\n",
      "userid                      object\n",
      "user_display_name           object\n",
      "user_screen_name            object\n",
      "user_reported_location      object\n",
      "user_profile_description    object\n",
      "user_profile_url            object\n",
      "follower_count              int64\n",
      "following_count             int64\n",
      "account_creation_date       object\n",
      "account_language            object\n",
      "tweet_language              object\n",
      "tweet_text                  object\n",
      "tweet_time                  object\n",
      "tweet_client_name           object\n",
      "in_reply_to_userid          object\n",
      "in_reply_to_tweetid         float64\n",
      "quoted_tweet_tweetid        float64\n",
      "is_retweet                  bool\n",
      "retweet_userid              object\n",
      "retweet_tweetid             float64\n",
      "latitude                    object\n",
      "longitude                   object\n",
      "quote_count                 float64\n",
      "reply_count                 float64\n",
      "like_count                  float64\n",
      "retweet_count               float64\n",
      "hashtags                    object\n",
      "urls                        object\n",
      "user_mentions               object\n",
      "poll_choices                float64\n",
      "dtypes: bool(1), float64(8), int64(3), object(19)\n",
      "memory usage: 2.3+ GB\n"
     ]
    }
   ],
   "source": [
    "venezuelacombo.info()"
   ]
  },
  {
   "cell_type": "code",
   "execution_count": 28,
   "metadata": {},
   "outputs": [],
   "source": [
    "cols_interest = [\n",
    "    \"tweetid\",\n",
    "    \"userid\",\n",
    "    \"user_screen_name\",\n",
    "    \"tweet_language\",\n",
    "    \"tweet_time\",\n",
    "    \"is_retweet\",\n",
    "    \"reply_count\",\n",
    "    \"like_count\",\n",
    "    \"retweet_count\",\n",
    "    \"tweet_text\",\n",
    "    \"hashtags\",\n",
    "    \"urls\",\n",
    "    \"user_mentions\",\n",
    "    \"follower_count\",\n",
    "    \"following_count\",\n",
    "    \"account_creation_date\",\n",
    "]"
   ]
  },
  {
   "cell_type": "code",
   "execution_count": 29,
   "metadata": {},
   "outputs": [
    {
     "name": "stdout",
     "output_type": "stream",
     "text": [
      "<class 'pandas.core.frame.DataFrame'>\n",
      "Int64Index: 9935542 entries, 0 to 3481050\n",
      "Data columns (total 16 columns):\n",
      "tweetid                  int64\n",
      "userid                   object\n",
      "user_screen_name         object\n",
      "tweet_language           object\n",
      "tweet_time               object\n",
      "is_retweet               bool\n",
      "reply_count              float64\n",
      "like_count               float64\n",
      "retweet_count            float64\n",
      "tweet_text               object\n",
      "hashtags                 object\n",
      "urls                     object\n",
      "user_mentions            object\n",
      "follower_count           int64\n",
      "following_count          int64\n",
      "account_creation_date    object\n",
      "dtypes: bool(1), float64(3), int64(3), object(9)\n",
      "memory usage: 1.2+ GB\n"
     ]
    }
   ],
   "source": [
    "venezuelacombo[cols_interest]."
   ]
  },
  {
   "cell_type": "code",
   "execution_count": null,
   "metadata": {},
   "outputs": [],
   "source": []
  }
 ],
 "metadata": {
  "kernelspec": {
   "display_name": "Python 3",
   "language": "python",
   "name": "python3"
  },
  "language_info": {
   "codemirror_mode": {
    "name": "ipython",
    "version": 3
   },
   "file_extension": ".py",
   "mimetype": "text/x-python",
   "name": "python",
   "nbconvert_exporter": "python",
   "pygments_lexer": "ipython3",
   "version": "3.7.4"
  }
 },
 "nbformat": 4,
 "nbformat_minor": 4
}
