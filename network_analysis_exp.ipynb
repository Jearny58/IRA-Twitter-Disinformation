{
 "cells": [
  {
   "cell_type": "markdown",
   "metadata": {},
   "source": [
    "# _Experimentation: Network Analysis_"
   ]
  },
  {
   "cell_type": "code",
   "execution_count": 1,
   "metadata": {},
   "outputs": [],
   "source": [
    "%reload_ext autoreload\n",
    "%autoreload 2\n",
    "%matplotlib inline\n",
    "%config InlineBackend.figure_format = 'retina'"
   ]
  },
  {
   "cell_type": "code",
   "execution_count": 2,
   "metadata": {},
   "outputs": [],
   "source": [
    "# import libraries\n",
    "import pandas as pd\n",
    "pd.options.display.max_columns = None\n",
    "import numpy as np\n",
    "import random\n",
    "import os\n",
    "\n",
    "# Matplotlib\n",
    "import matplotlib as mpl\n",
    "import matplotlib.pyplot as plt\n",
    "import seaborn as sns\n",
    "plt.style.use('fivethirtyeight')"
   ]
  },
  {
   "cell_type": "markdown",
   "metadata": {},
   "source": [
    "## _Load in Data_"
   ]
  },
  {
   "cell_type": "code",
   "execution_count": 3,
   "metadata": {},
   "outputs": [],
   "source": [
    "data = pd.read_json(\"json-data/all_tweets.json\", orient=\"split\")"
   ]
  },
  {
   "cell_type": "code",
   "execution_count": 4,
   "metadata": {},
   "outputs": [
    {
     "name": "stdout",
     "output_type": "stream",
     "text": [
      "<class 'pandas.core.frame.DataFrame'>\n",
      "Int64Index: 264542 entries, 0 to 264541\n",
      "Data columns (total 9 columns):\n",
      "id_str            264542 non-null int64\n",
      "screen_name       264542 non-null object\n",
      "created_at        264542 non-null datetime64[ns]\n",
      "lang              264542 non-null object\n",
      "source            264542 non-null object\n",
      "retweet_count     264542 non-null int64\n",
      "favorite_count    264542 non-null int64\n",
      "is_retweet        264542 non-null bool\n",
      "full_text         264542 non-null object\n",
      "dtypes: bool(1), datetime64[ns](1), int64(3), object(4)\n",
      "memory usage: 18.4+ MB\n"
     ]
    }
   ],
   "source": [
    "data.info()"
   ]
  },
  {
   "cell_type": "code",
   "execution_count": 5,
   "metadata": {},
   "outputs": [],
   "source": [
    "import preprocessor as p\n",
    "import random"
   ]
  },
  {
   "cell_type": "code",
   "execution_count": 16,
   "metadata": {},
   "outputs": [
    {
     "data": {
      "text/plain": [
       "129581"
      ]
     },
     "execution_count": 16,
     "metadata": {},
     "output_type": "execute_result"
    }
   ],
   "source": [
    "# how many observations contain an @?\n",
    "len(data[data[\"full_text\"].str.contains(\"@\")])"
   ]
  },
  {
   "cell_type": "code",
   "execution_count": 17,
   "metadata": {},
   "outputs": [],
   "source": [
    "import re\n",
    "\n",
    "def mention_finder(text):\n",
    "    \"\"\"\n",
    "    Function that finds all user mentions in a text.\n",
    "    \"\"\"\n",
    "    return re.findall(\"(^|[^@\\w])@(\\w{1,15})\", text)"
   ]
  },
  {
   "cell_type": "code",
   "execution_count": 21,
   "metadata": {},
   "outputs": [
    {
     "data": {
      "text/plain": [
       "0                                                    []\n",
       "1                                  [( , NBCNewsBETTER)]\n",
       "2                                                    []\n",
       "3                                                    []\n",
       "4                                                    []\n",
       "5                                                    []\n",
       "6                                                    []\n",
       "7                                                    []\n",
       "8                                                    []\n",
       "9                                                    []\n",
       "10                                                   []\n",
       "11                                     [( , dandeluce)]\n",
       "12                                     [( , NBCLatino)]\n",
       "13                                                   []\n",
       "14                                                   []\n",
       "15    [( , NBCNightlyNews), ( , LesterHoltNBC), ( , ...\n",
       "16                                 [( , NBCNewsBETTER)]\n",
       "17                                                   []\n",
       "18                                        [( , NBCOUT)]\n",
       "19                                                   []\n",
       "Name: full_text, dtype: object"
      ]
     },
     "execution_count": 21,
     "metadata": {},
     "output_type": "execute_result"
    }
   ],
   "source": [
    "data[\"full_text\"][:20].apply(lambda x: [x for x in mention_finder(x)])"
   ]
  },
  {
   "cell_type": "code",
   "execution_count": 29,
   "metadata": {},
   "outputs": [
    {
     "data": {
      "text/plain": [
       "['NBCNightlyNews', 'LesterHoltNBC', 'NBCNightlyNews']"
      ]
     },
     "execution_count": 29,
     "metadata": {},
     "output_type": "execute_result"
    }
   ],
   "source": [
    "# example of what is returned for tweets featuring multiple mentions\n",
    "data[\"full_text\"][15:16].apply(lambda x: [x[1] for x in mention_finder(x)]).iloc[0]"
   ]
  },
  {
   "cell_type": "code",
   "execution_count": 30,
   "metadata": {},
   "outputs": [],
   "source": [
    "data[\"user_mentions\"] = data[\"full_text\"].apply(lambda x: [x[1] for x in mention_finder(x)])"
   ]
  },
  {
   "cell_type": "code",
   "execution_count": null,
   "metadata": {},
   "outputs": [],
   "source": []
  }
 ],
 "metadata": {
  "kernelspec": {
   "display_name": "Python 3",
   "language": "python",
   "name": "python3"
  },
  "language_info": {
   "codemirror_mode": {
    "name": "ipython",
    "version": 3
   },
   "file_extension": ".py",
   "mimetype": "text/x-python",
   "name": "python",
   "nbconvert_exporter": "python",
   "pygments_lexer": "ipython3",
   "version": "3.7.4"
  }
 },
 "nbformat": 4,
 "nbformat_minor": 4
}
