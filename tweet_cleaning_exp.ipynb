{
 "cells": [
  {
   "cell_type": "code",
   "execution_count": 3,
   "metadata": {},
   "outputs": [],
   "source": [
    "import pandas as pd\n",
    "pd.set_option(\"display.max_columns\", None)\n",
    "\n",
    "# load in data\n",
    "df = pd.read_json(\"json-data/no_retweets.json\", orient=\"split\")"
   ]
  },
  {
   "cell_type": "code",
   "execution_count": 4,
   "metadata": {},
   "outputs": [
    {
     "data": {
      "text/html": [
       "<div>\n",
       "<style scoped>\n",
       "    .dataframe tbody tr th:only-of-type {\n",
       "        vertical-align: middle;\n",
       "    }\n",
       "\n",
       "    .dataframe tbody tr th {\n",
       "        vertical-align: top;\n",
       "    }\n",
       "\n",
       "    .dataframe thead th {\n",
       "        text-align: right;\n",
       "    }\n",
       "</style>\n",
       "<table border=\"1\" class=\"dataframe\">\n",
       "  <thead>\n",
       "    <tr style=\"text-align: right;\">\n",
       "      <th></th>\n",
       "      <th>id_str</th>\n",
       "      <th>screen_name</th>\n",
       "      <th>created_at</th>\n",
       "      <th>lang</th>\n",
       "      <th>source</th>\n",
       "      <th>retweet_count</th>\n",
       "      <th>favorite_count</th>\n",
       "      <th>full_text</th>\n",
       "    </tr>\n",
       "  </thead>\n",
       "  <tbody>\n",
       "    <tr>\n",
       "      <td>0</td>\n",
       "      <td>1209319045411028992</td>\n",
       "      <td>NBCNews</td>\n",
       "      <td>2019-12-24 03:45:03</td>\n",
       "      <td>en</td>\n",
       "      <td>SocialFlow</td>\n",
       "      <td>12</td>\n",
       "      <td>28</td>\n",
       "      <td>A North Carolina man is accused of using eye d...</td>\n",
       "    </tr>\n",
       "    <tr>\n",
       "      <td>1</td>\n",
       "      <td>1209315792657043456</td>\n",
       "      <td>NBCNews</td>\n",
       "      <td>2019-12-24 03:32:07</td>\n",
       "      <td>en</td>\n",
       "      <td>SocialFlow</td>\n",
       "      <td>4</td>\n",
       "      <td>16</td>\n",
       "      <td>11 best gifts and gadgets for home cooks. http...</td>\n",
       "    </tr>\n",
       "    <tr>\n",
       "      <td>2</td>\n",
       "      <td>1209308993459572736</td>\n",
       "      <td>NBCNews</td>\n",
       "      <td>2019-12-24 03:05:06</td>\n",
       "      <td>en</td>\n",
       "      <td>SocialFlow</td>\n",
       "      <td>14</td>\n",
       "      <td>61</td>\n",
       "      <td>A woman upset that KFC got sandwich wrong call...</td>\n",
       "    </tr>\n",
       "    <tr>\n",
       "      <td>3</td>\n",
       "      <td>1209300423456280576</td>\n",
       "      <td>NBCNews</td>\n",
       "      <td>2019-12-24 02:31:03</td>\n",
       "      <td>en</td>\n",
       "      <td>SocialFlow</td>\n",
       "      <td>22</td>\n",
       "      <td>50</td>\n",
       "      <td>California is taking the lead in helping stude...</td>\n",
       "    </tr>\n",
       "    <tr>\n",
       "      <td>4</td>\n",
       "      <td>1209297409316196352</td>\n",
       "      <td>NBCNews</td>\n",
       "      <td>2019-12-24 02:19:04</td>\n",
       "      <td>en</td>\n",
       "      <td>SocialFlow</td>\n",
       "      <td>26</td>\n",
       "      <td>106</td>\n",
       "      <td>Lizzo responds to social commentator who says ...</td>\n",
       "    </tr>\n",
       "  </tbody>\n",
       "</table>\n",
       "</div>"
      ],
      "text/plain": [
       "                id_str screen_name          created_at lang      source  \\\n",
       "0  1209319045411028992     NBCNews 2019-12-24 03:45:03   en  SocialFlow   \n",
       "1  1209315792657043456     NBCNews 2019-12-24 03:32:07   en  SocialFlow   \n",
       "2  1209308993459572736     NBCNews 2019-12-24 03:05:06   en  SocialFlow   \n",
       "3  1209300423456280576     NBCNews 2019-12-24 02:31:03   en  SocialFlow   \n",
       "4  1209297409316196352     NBCNews 2019-12-24 02:19:04   en  SocialFlow   \n",
       "\n",
       "   retweet_count  favorite_count  \\\n",
       "0             12              28   \n",
       "1              4              16   \n",
       "2             14              61   \n",
       "3             22              50   \n",
       "4             26             106   \n",
       "\n",
       "                                           full_text  \n",
       "0  A North Carolina man is accused of using eye d...  \n",
       "1  11 best gifts and gadgets for home cooks. http...  \n",
       "2  A woman upset that KFC got sandwich wrong call...  \n",
       "3  California is taking the lead in helping stude...  \n",
       "4  Lizzo responds to social commentator who says ...  "
      ]
     },
     "execution_count": 4,
     "metadata": {},
     "output_type": "execute_result"
    }
   ],
   "source": [
    "df.head()"
   ]
  },
  {
   "cell_type": "code",
   "execution_count": 5,
   "metadata": {},
   "outputs": [],
   "source": [
    "# create a subset of the data to experiment with\n",
    "subset = df.sample(n=1000, random_state=1)"
   ]
  },
  {
   "cell_type": "code",
   "execution_count": 6,
   "metadata": {},
   "outputs": [
    {
     "data": {
      "text/html": [
       "<div>\n",
       "<style scoped>\n",
       "    .dataframe tbody tr th:only-of-type {\n",
       "        vertical-align: middle;\n",
       "    }\n",
       "\n",
       "    .dataframe tbody tr th {\n",
       "        vertical-align: top;\n",
       "    }\n",
       "\n",
       "    .dataframe thead th {\n",
       "        text-align: right;\n",
       "    }\n",
       "</style>\n",
       "<table border=\"1\" class=\"dataframe\">\n",
       "  <thead>\n",
       "    <tr style=\"text-align: right;\">\n",
       "      <th></th>\n",
       "      <th>id_str</th>\n",
       "      <th>screen_name</th>\n",
       "      <th>created_at</th>\n",
       "      <th>lang</th>\n",
       "      <th>source</th>\n",
       "      <th>retweet_count</th>\n",
       "      <th>favorite_count</th>\n",
       "      <th>full_text</th>\n",
       "    </tr>\n",
       "  </thead>\n",
       "  <tbody>\n",
       "    <tr>\n",
       "      <td>148187</td>\n",
       "      <td>1067419455158931456</td>\n",
       "      <td>HillaryClinton</td>\n",
       "      <td>2018-11-27 14:06:44</td>\n",
       "      <td>en</td>\n",
       "      <td>Twitter Web Client</td>\n",
       "      <td>381</td>\n",
       "      <td>973</td>\n",
       "      <td>The National Immigrant Justice Center, or @NIJ...</td>\n",
       "    </tr>\n",
       "    <tr>\n",
       "      <td>12048</td>\n",
       "      <td>1190540505404325888</td>\n",
       "      <td>Google</td>\n",
       "      <td>2019-11-02 08:05:50</td>\n",
       "      <td>en</td>\n",
       "      <td>Conversocial</td>\n",
       "      <td>0</td>\n",
       "      <td>0</td>\n",
       "      <td>@FizanKhan1 Hi Fizan. This guide may help: htt...</td>\n",
       "    </tr>\n",
       "    <tr>\n",
       "      <td>167414</td>\n",
       "      <td>562080196489404416</td>\n",
       "      <td>neiltyson</td>\n",
       "      <td>2015-02-02 02:48:56</td>\n",
       "      <td>en</td>\n",
       "      <td>TweetDeck</td>\n",
       "      <td>3621</td>\n",
       "      <td>5050</td>\n",
       "      <td>A 50-yd field goal, in the University of Phoen...</td>\n",
       "    </tr>\n",
       "    <tr>\n",
       "      <td>192182</td>\n",
       "      <td>1202422229256097792</td>\n",
       "      <td>BuzzFeed</td>\n",
       "      <td>2019-12-05 02:59:34</td>\n",
       "      <td>en</td>\n",
       "      <td>PubHub by BuzzFeed</td>\n",
       "      <td>51</td>\n",
       "      <td>622</td>\n",
       "      <td>Emma Stone Just Got Engaged To Dave McCary, An...</td>\n",
       "    </tr>\n",
       "    <tr>\n",
       "      <td>122414</td>\n",
       "      <td>1128314104853278720</td>\n",
       "      <td>nyknicks</td>\n",
       "      <td>2019-05-14 15:00:20</td>\n",
       "      <td>en</td>\n",
       "      <td>Spredfast</td>\n",
       "      <td>624</td>\n",
       "      <td>2279</td>\n",
       "      <td>New York or Nowhere vibes. https://t.co/WW41xo...</td>\n",
       "    </tr>\n",
       "  </tbody>\n",
       "</table>\n",
       "</div>"
      ],
      "text/plain": [
       "                     id_str     screen_name          created_at lang  \\\n",
       "148187  1067419455158931456  HillaryClinton 2018-11-27 14:06:44   en   \n",
       "12048   1190540505404325888          Google 2019-11-02 08:05:50   en   \n",
       "167414   562080196489404416       neiltyson 2015-02-02 02:48:56   en   \n",
       "192182  1202422229256097792        BuzzFeed 2019-12-05 02:59:34   en   \n",
       "122414  1128314104853278720        nyknicks 2019-05-14 15:00:20   en   \n",
       "\n",
       "                    source  retweet_count  favorite_count  \\\n",
       "148187  Twitter Web Client            381             973   \n",
       "12048         Conversocial              0               0   \n",
       "167414           TweetDeck           3621            5050   \n",
       "192182  PubHub by BuzzFeed             51             622   \n",
       "122414           Spredfast            624            2279   \n",
       "\n",
       "                                                full_text  \n",
       "148187  The National Immigrant Justice Center, or @NIJ...  \n",
       "12048   @FizanKhan1 Hi Fizan. This guide may help: htt...  \n",
       "167414  A 50-yd field goal, in the University of Phoen...  \n",
       "192182  Emma Stone Just Got Engaged To Dave McCary, An...  \n",
       "122414  New York or Nowhere vibes. https://t.co/WW41xo...  "
      ]
     },
     "execution_count": 6,
     "metadata": {},
     "output_type": "execute_result"
    }
   ],
   "source": [
    "# check out first few rows\n",
    "subset.head()"
   ]
  },
  {
   "cell_type": "code",
   "execution_count": 7,
   "metadata": {},
   "outputs": [
    {
     "name": "stdout",
     "output_type": "stream",
     "text": [
      "<class 'pandas.core.frame.DataFrame'>\n",
      "Int64Index: 1000 entries, 148187 to 11077\n",
      "Data columns (total 8 columns):\n",
      "id_str            1000 non-null int64\n",
      "screen_name       1000 non-null object\n",
      "created_at        1000 non-null datetime64[ns]\n",
      "lang              1000 non-null object\n",
      "source            1000 non-null object\n",
      "retweet_count     1000 non-null int64\n",
      "favorite_count    1000 non-null int64\n",
      "full_text         1000 non-null object\n",
      "dtypes: datetime64[ns](1), int64(3), object(4)\n",
      "memory usage: 70.3+ KB\n"
     ]
    }
   ],
   "source": [
    "# get background information on columns\n",
    "subset.info()"
   ]
  },
  {
   "cell_type": "code",
   "execution_count": 8,
   "metadata": {},
   "outputs": [],
   "source": [
    "# reset index so it is easier to work with\n",
    "subset.reset_index(drop=True, inplace=True)"
   ]
  },
  {
   "cell_type": "markdown",
   "metadata": {},
   "source": [
    "## _Cleaning Tweet Text_"
   ]
  },
  {
   "cell_type": "code",
   "execution_count": 9,
   "metadata": {},
   "outputs": [
    {
     "data": {
      "text/plain": [
       "177"
      ]
     },
     "execution_count": 9,
     "metadata": {},
     "output_type": "execute_result"
    }
   ],
   "source": [
    "# check for \\n, indicating new line\n",
    "len(subset[subset[\"full_text\"].str.contains(\"\\n\")])"
   ]
  },
  {
   "cell_type": "code",
   "execution_count": 10,
   "metadata": {},
   "outputs": [
    {
     "data": {
      "text/html": [
       "<div>\n",
       "<style scoped>\n",
       "    .dataframe tbody tr th:only-of-type {\n",
       "        vertical-align: middle;\n",
       "    }\n",
       "\n",
       "    .dataframe tbody tr th {\n",
       "        vertical-align: top;\n",
       "    }\n",
       "\n",
       "    .dataframe thead th {\n",
       "        text-align: right;\n",
       "    }\n",
       "</style>\n",
       "<table border=\"1\" class=\"dataframe\">\n",
       "  <thead>\n",
       "    <tr style=\"text-align: right;\">\n",
       "      <th></th>\n",
       "      <th>id_str</th>\n",
       "      <th>screen_name</th>\n",
       "      <th>created_at</th>\n",
       "      <th>lang</th>\n",
       "      <th>source</th>\n",
       "      <th>retweet_count</th>\n",
       "      <th>favorite_count</th>\n",
       "      <th>full_text</th>\n",
       "    </tr>\n",
       "  </thead>\n",
       "  <tbody>\n",
       "    <tr>\n",
       "      <td>24</td>\n",
       "      <td>1171586555066142720</td>\n",
       "      <td>MLBNetwork</td>\n",
       "      <td>2019-09-11 00:49:36</td>\n",
       "      <td>en</td>\n",
       "      <td>Twitter Media Studio</td>\n",
       "      <td>19</td>\n",
       "      <td>138</td>\n",
       "      <td>Gavin Lux just hit career homer #1!\\n\\nEarlier...</td>\n",
       "    </tr>\n",
       "    <tr>\n",
       "      <td>26</td>\n",
       "      <td>1198795835288543232</td>\n",
       "      <td>SportsCenter</td>\n",
       "      <td>2019-11-25 02:49:34</td>\n",
       "      <td>en</td>\n",
       "      <td>Spredfast app</td>\n",
       "      <td>474</td>\n",
       "      <td>4363</td>\n",
       "      <td>DEEBO'S TOO QUICK ⚡️\\n\\n(via @NFL)\\nhttps://t....</td>\n",
       "    </tr>\n",
       "    <tr>\n",
       "      <td>35</td>\n",
       "      <td>1194416842615345152</td>\n",
       "      <td>NASA</td>\n",
       "      <td>2019-11-13 00:49:01</td>\n",
       "      <td>en</td>\n",
       "      <td>Sprinklr</td>\n",
       "      <td>274</td>\n",
       "      <td>1823</td>\n",
       "      <td>Have plans on Dec. 9-10? 📅\\n\\nWe’re inviting s...</td>\n",
       "    </tr>\n",
       "  </tbody>\n",
       "</table>\n",
       "</div>"
      ],
      "text/plain": [
       "                 id_str   screen_name          created_at lang  \\\n",
       "24  1171586555066142720    MLBNetwork 2019-09-11 00:49:36   en   \n",
       "26  1198795835288543232  SportsCenter 2019-11-25 02:49:34   en   \n",
       "35  1194416842615345152          NASA 2019-11-13 00:49:01   en   \n",
       "\n",
       "                  source  retweet_count  favorite_count  \\\n",
       "24  Twitter Media Studio             19             138   \n",
       "26         Spredfast app            474            4363   \n",
       "35              Sprinklr            274            1823   \n",
       "\n",
       "                                            full_text  \n",
       "24  Gavin Lux just hit career homer #1!\\n\\nEarlier...  \n",
       "26  DEEBO'S TOO QUICK ⚡️\\n\\n(via @NFL)\\nhttps://t....  \n",
       "35  Have plans on Dec. 9-10? 📅\\n\\nWe’re inviting s...  "
      ]
     },
     "execution_count": 10,
     "metadata": {},
     "output_type": "execute_result"
    }
   ],
   "source": [
    "# extract five observations that contain \\n for verification\n",
    "verification = subset[subset[\"full_text\"].str.contains(\"\\n\")][:5]\n",
    "\n",
    "verification[:3]"
   ]
  },
  {
   "cell_type": "code",
   "execution_count": 11,
   "metadata": {},
   "outputs": [
    {
     "name": "stdout",
     "output_type": "stream",
     "text": [
      "Gavin Lux just hit career homer #1!\n",
      "\n",
      "Earlier today, the @Dodgers rookie chatted with @AlexaDatt and @ScottBraun on #TheRundown: https://t.co/kuNtW8tn0O https://t.co/b3UW1ZzPzI \n",
      " ------------------------------\n",
      "DEEBO'S TOO QUICK ⚡️\n",
      "\n",
      "(via @NFL)\n",
      "https://t.co/GNHFzCaKdZ \n",
      " ------------------------------\n",
      "Have plans on Dec. 9-10? 📅\n",
      "\n",
      "We’re inviting social media users to apply to visit our rocket factory in New Orleans, see the @NASA_SLS rocket core stage assembled with all four RS-25 engines and learn about our #Artemis program to explore the Moon. Details: https://t.co/5IswTx1ifB https://t.co/hYKnDnwKU3 \n",
      " ------------------------------\n",
      "What do TIE fighters and @NASA_Dawn have in common? Ion engines! 🛰️💨\n",
      "\n",
      "In this #Maythe4th lesson, students apply Newton's Laws of Motion to model the velocity and distance traveled by spacecraft in our solar system... or in a galaxy far, far away 🌌: https://t.co/p2T2lRG0Cw https://t.co/sW99b0mwMu \n",
      " ------------------------------\n",
      "Pete Buttigieg's fast rise in recent early-state polls has come with new scrutiny and made him a big target in tomorrow's debate \n",
      "\n",
      "https://t.co/VDywLbbtTR \n",
      " ------------------------------\n"
     ]
    }
   ],
   "source": [
    "# focus on just full_text column\n",
    "for obs in verification[\"full_text\"]:\n",
    "    print(obs, \"\\n\", \"-\" * 30)"
   ]
  },
  {
   "cell_type": "markdown",
   "metadata": {},
   "source": [
    "From above, we can see that these observations represent a double `\\n`, i.e., they represent a double newlines. So we'll see what replacing them looks like below."
   ]
  },
  {
   "cell_type": "code",
   "execution_count": 12,
   "metadata": {},
   "outputs": [
    {
     "name": "stdout",
     "output_type": "stream",
     "text": [
      "Gavin Lux just hit career homer #1! Earlier today, the @Dodgers rookie chatted with @AlexaDatt and @ScottBraun on #TheRundown: https://t.co/kuNtW8tn0O https://t.co/b3UW1ZzPzI \n",
      "\n",
      "DEEBO'S TOO QUICK ⚡️ (via @NFL)\n",
      "https://t.co/GNHFzCaKdZ \n",
      "\n",
      "Have plans on Dec. 9-10? 📅 We’re inviting social media users to apply to visit our rocket factory in New Orleans, see the @NASA_SLS rocket core stage assembled with all four RS-25 engines and learn about our #Artemis program to explore the Moon. Details: https://t.co/5IswTx1ifB https://t.co/hYKnDnwKU3 \n",
      "\n",
      "What do TIE fighters and @NASA_Dawn have in common? Ion engines! 🛰️💨 In this #Maythe4th lesson, students apply Newton's Laws of Motion to model the velocity and distance traveled by spacecraft in our solar system... or in a galaxy far, far away 🌌: https://t.co/p2T2lRG0Cw https://t.co/sW99b0mwMu \n",
      "\n",
      "Pete Buttigieg's fast rise in recent early-state polls has come with new scrutiny and made him a big target in tomorrow's debate  https://t.co/VDywLbbtTR \n",
      "\n"
     ]
    }
   ],
   "source": [
    "# see what happens when we replace \\n with a space\n",
    "for text in verification[\"full_text\"].str.replace(\"\\n\\n\", \" \"):\n",
    "    print(text, \"\\n\")"
   ]
  },
  {
   "cell_type": "code",
   "execution_count": 18,
   "metadata": {},
   "outputs": [],
   "source": [
    "# have 177 observations that contain \\n\\n, let's clean this up first\n",
    "subset[\"full_text\"] = subset[\"full_text\"].str.replace(\"\\n\\n\", \" \").copy()"
   ]
  },
  {
   "cell_type": "code",
   "execution_count": 19,
   "metadata": {},
   "outputs": [
    {
     "data": {
      "text/plain": [
       "0"
      ]
     },
     "execution_count": 19,
     "metadata": {},
     "output_type": "execute_result"
    }
   ],
   "source": [
    "# check for \\n\\n, indicating new line\n",
    "len(subset[subset[\"full_text\"].str.contains(\"\\n\\n\")])"
   ]
  },
  {
   "cell_type": "code",
   "execution_count": 20,
   "metadata": {},
   "outputs": [
    {
     "data": {
      "text/plain": [
       "80"
      ]
     },
     "execution_count": 20,
     "metadata": {},
     "output_type": "execute_result"
    }
   ],
   "source": [
    "# check for observations with only a single \\n\n",
    "len(subset[subset[\"full_text\"].str.contains(\"\\n\")])"
   ]
  },
  {
   "cell_type": "markdown",
   "metadata": {},
   "source": [
    "We have `80` observations that contain a single `\\n`. Let's address these similar to how we cleaned up the double `\\n`, with `str.replace`."
   ]
  },
  {
   "cell_type": "code",
   "execution_count": 21,
   "metadata": {},
   "outputs": [],
   "source": [
    "# clean up observations that contain one \\n\n",
    "subset[\"full_text\"] = subset[\"full_text\"].str.replace(\"\\n\", \" \").copy()"
   ]
  },
  {
   "cell_type": "code",
   "execution_count": 22,
   "metadata": {},
   "outputs": [
    {
     "data": {
      "text/plain": [
       "0"
      ]
     },
     "execution_count": 22,
     "metadata": {},
     "output_type": "execute_result"
    }
   ],
   "source": [
    "# check to see if there are any observations with \\n\n",
    "len(subset[subset[\"full_text\"].str.contains(\"\\n\")])"
   ]
  },
  {
   "cell_type": "code",
   "execution_count": 23,
   "metadata": {},
   "outputs": [],
   "source": [
    "# install tweet-preprocessor library to help with Tweet text cleaning\n",
    "#!pip install tweet-preprocessor"
   ]
  },
  {
   "cell_type": "code",
   "execution_count": 24,
   "metadata": {},
   "outputs": [],
   "source": [
    "import preprocessor as p"
   ]
  },
  {
   "cell_type": "code",
   "execution_count": 25,
   "metadata": {},
   "outputs": [
    {
     "data": {
      "text/plain": [
       "'Gavin Lux just hit career homer #1! Earlier today, the @Dodgers rookie chatted with @AlexaDatt and @ScottBraun on #TheRundown: https://t.co/kuNtW8tn0O https://t.co/b3UW1ZzPzI'"
      ]
     },
     "execution_count": 25,
     "metadata": {},
     "output_type": "execute_result"
    }
   ],
   "source": [
    "# text we'll use for preprocessor example, contains user mentions, hashtags and links\n",
    "subset[\"full_text\"][24]"
   ]
  },
  {
   "cell_type": "code",
   "execution_count": 26,
   "metadata": {},
   "outputs": [
    {
     "data": {
      "text/plain": [
       "'Gavin Lux just hit career homer ! Earlier today, the rookie chatted with and on :'"
      ]
     },
     "execution_count": 26,
     "metadata": {},
     "output_type": "execute_result"
    }
   ],
   "source": [
    "# example of how tweet-preprocessor cleans a text\n",
    "p.clean(subset[\"full_text\"][24])"
   ]
  },
  {
   "cell_type": "markdown",
   "metadata": {},
   "source": [
    "From the comparison above, we can see that perhaps, as is, it cleans a little too much of the tweet. However, we can change the settings so that it doesn't eliminate the user mentions or hashtags (which often are used to add meaning to a tweet). However, the link is not all that important in regards to the text; additionally, because tweets are shortened using Twitter's [t.co service](https://help.twitter.com/en/using-twitter/url-shortener), every link is exactly 23 characters in length. \n",
    "\n",
    "So, we're going to keep user mentions and hashtags and eliminate links."
   ]
  },
  {
   "cell_type": "code",
   "execution_count": 55,
   "metadata": {},
   "outputs": [],
   "source": [
    "# only eliminate URLs\n",
    "p.set_options(p.OPT.URL, p.OPT.NUMBER)"
   ]
  },
  {
   "cell_type": "code",
   "execution_count": 56,
   "metadata": {},
   "outputs": [
    {
     "data": {
      "text/plain": [
       "'Gavin Lux just hit career homer 1! Earlier today, the Dodgers rookie chatted with AlexaDatt and ScottBraun on TheRundown'"
      ]
     },
     "execution_count": 56,
     "metadata": {},
     "output_type": "execute_result"
    }
   ],
   "source": [
    "# example of how tweet-preprocessor now cleans a text after setting option\n",
    "p.clean(subset[\"full_text\"][24]).replace(\":\", \"\").replace(\"@\", \"\").replace(\"#\", \"\")"
   ]
  },
  {
   "cell_type": "code",
   "execution_count": 57,
   "metadata": {},
   "outputs": [],
   "source": [
    "def tweet_preprocessor(text):\n",
    "    \"\"\"\"\n",
    "    First function that uses tweet-preprocesser library to clean Tweets.\n",
    "    \"\"\"\n",
    "    return p.clean(text).replace(\":\", \"\").replace(\"@\", \"\").replace(\"#\", \"\").replace(\" .\", \". \")"
   ]
  },
  {
   "cell_type": "code",
   "execution_count": 59,
   "metadata": {},
   "outputs": [
    {
     "name": "stdout",
     "output_type": "stream",
     "text": [
      "I was in my cell wit my man marked eating nachos turned all the way upp. .. I was happyyyy as shit \n",
      "\n",
      "There is a long history of mistakes in capital punishment, especially when it comes to Black and Brown people. Rodney Reed's execution should be halted—and it's time to end the death penalty for good. \n",
      "\n",
      "Israel’s beacon of democracy must always shine through the darkness. And America will be right there, standing proudly alongside her. Thank you for visiting the uscapitol today, Mr. Prime Minister netanyahu. \n",
      "\n",
      "More time to work in August? We welcome it so we can work on an issue weighing on the pockets of American families health care. More on our plan LIVE \n",
      "\n",
      "ladytrigger_ Hi there. Try the steps in this guide to troubleshoot the issue with \"Ok Google\" .  Keep us posted. \n",
      "\n"
     ]
    }
   ],
   "source": [
    "for text in subset[\"full_text\"][-5:].apply(lambda x: tweet_preprocessor(x)):\n",
    "    print(text, \"\\n\")"
   ]
  },
  {
   "cell_type": "code",
   "execution_count": 60,
   "metadata": {},
   "outputs": [
    {
     "name": "stdout",
     "output_type": "stream",
     "text": [
      "41.1 ms ± 846 µs per loop (mean ± std. dev. of 7 runs, 10 loops each)\n"
     ]
    }
   ],
   "source": [
    "%%timeit\n",
    "\n",
    "subset[\"clean_text\"] = subset[\"full_text\"].apply(lambda x: tweet_preprocessor(x))"
   ]
  },
  {
   "cell_type": "code",
   "execution_count": 61,
   "metadata": {},
   "outputs": [
    {
     "name": "stdout",
     "output_type": "stream",
     "text": [
      "I was in my cell wit my man marked eating nachos turned all the way upp. .. I was happyyyy as shit \n",
      "\n",
      "There is a long history of mistakes in capital punishment, especially when it comes to Black and Brown people. Rodney Reed's execution should be halted—and it's time to end the death penalty for good. \n",
      "\n",
      "Israel’s beacon of democracy must always shine through the darkness. And America will be right there, standing proudly alongside her. Thank you for visiting the uscapitol today, Mr. Prime Minister netanyahu. \n",
      "\n",
      "More time to work in August? We welcome it so we can work on an issue weighing on the pockets of American families health care. More on our plan LIVE \n",
      "\n",
      "ladytrigger_ Hi there. Try the steps in this guide to troubleshoot the issue with \"Ok Google\" .  Keep us posted. \n",
      "\n"
     ]
    }
   ],
   "source": [
    "for text in subset[\"clean_text\"][-5:]:\n",
    "    print(text, \"\\n\")"
   ]
  },
  {
   "cell_type": "code",
   "execution_count": 83,
   "metadata": {},
   "outputs": [],
   "source": [
    "import re\n",
    "\n",
    "def clean_text(text):\n",
    "    \"\"\"\n",
    "    Second Ffunction that takes in Tweet text and cleans it.\n",
    "    \"\"\"\n",
    "    clean = re.sub(r\"(@[A-Za-z0-9]+)|([^0-9A-Za-z \\t])|(\\w+:\\/\\/\\S+)|^rt|http.+?\", \"\", text)\n",
    "    return clean.strip()"
   ]
  },
  {
   "cell_type": "code",
   "execution_count": 84,
   "metadata": {},
   "outputs": [
    {
     "name": "stdout",
     "output_type": "stream",
     "text": [
      "The National Immigrant Justice Center or  helps asylumseekers win their cases and fights against renewed attempts to separate and jail more families \n",
      "\n",
      "Hi Fizan This guide may help  If something looks outofline we suggest adding extra layers of security to your Google Account with these tips \n",
      "\n",
      "A 50yd field goal in the University of Phoenix Stadium deflects about onethird inch to the right due to Earths rotation \n",
      "\n",
      "Emma Stone Just Got Engaged To Dave McCary And She Looks So Happy \n",
      "\n",
      "New York or Nowhere vibes \n",
      "\n"
     ]
    }
   ],
   "source": [
    "for text in subset[\"full_text\"][:5].apply(lambda x: clean_text(x)):\n",
    "    print(text, \"\\n\")"
   ]
  },
  {
   "cell_type": "code",
   "execution_count": 74,
   "metadata": {},
   "outputs": [
    {
     "name": "stdout",
     "output_type": "stream",
     "text": [
      "The National Immigrant Justice Center, or NIJC, helps asylum-seekers win their cases and fights against renewed attempts to separate and jail more families. \n",
      "\n",
      "FizanKhan1 Hi Fizan. This guide may help.  If something looks out-of-line, we suggest adding extra layers of security to your Google Account with these tips.  \n",
      "\n",
      "A -yd field goal, in the University of Phoenix Stadium, deflects about one-third inch to the right due to Earth's rotation \n",
      "\n",
      "Emma Stone Just Got Engaged To Dave McCary, And She Looks So Happy \n",
      "\n",
      "New York or Nowhere vibes. \n",
      "\n"
     ]
    }
   ],
   "source": [
    "for text in subset[\"full_text\"][:5].apply(lambda x: tweet_preprocessor(x)):\n",
    "    print(text, \"\\n\")"
   ]
  },
  {
   "cell_type": "code",
   "execution_count": 86,
   "metadata": {},
   "outputs": [
    {
     "data": {
      "text/plain": [
       "'gavin lux just hit career homer #1! earlier today, the @dodgers rookie chatted with @alexadatt and @scottbraun on #therundown: https://t.co/kuntw8tn0o https://t.co/b3uw1zzpzi'"
      ]
     },
     "execution_count": 86,
     "metadata": {},
     "output_type": "execute_result"
    }
   ],
   "source": [
    "# assign lowercase to every word in the text\n",
    "subset[\"full_text\"][24].lower()"
   ]
  },
  {
   "cell_type": "code",
   "execution_count": 87,
   "metadata": {},
   "outputs": [
    {
     "data": {
      "text/plain": [
       "'Gavin Lux just hit career homer #1! Earlier today, the @Dodgers rookie chatted with @AlexaDatt and @ScottBraun on #TheRundown:  '"
      ]
     },
     "execution_count": 87,
     "metadata": {},
     "output_type": "execute_result"
    }
   ],
   "source": [
    "# delete links from text\n",
    "re.sub(r\"http\\S+\", \"\", subset[\"full_text\"][24])"
   ]
  },
  {
   "cell_type": "code",
   "execution_count": 88,
   "metadata": {},
   "outputs": [
    {
     "data": {
      "text/plain": [
       "'Gavin Lux just hit career homer  1  Earlier today  the  Dodgers rookie chatted with  AlexaDatt and  ScottBraun on  TheRundown  https   t co kuNtW8tn0O https   t co b3UW1ZzPzI'"
      ]
     },
     "execution_count": 88,
     "metadata": {},
     "output_type": "execute_result"
    }
   ],
   "source": [
    "# matches any non-alphanumeric character (i.e. special characters)\n",
    "re.sub(\"\\W\", \" \", subset[\"full_text\"][24])"
   ]
  },
  {
   "cell_type": "code",
   "execution_count": 90,
   "metadata": {},
   "outputs": [
    {
     "data": {
      "text/plain": [
       "'Gavin Lux just hit career homer #1! Earlier today, the @Dodgers rookie chatted with @AlexaDatt and @ScottBraun on #TheRundown: https://t.co/kuNtW8tn0O https://t.co/b3UW1ZzPzI'"
      ]
     },
     "execution_count": 90,
     "metadata": {},
     "output_type": "execute_result"
    }
   ],
   "source": [
    "# matches any whitespace character\n",
    "re.sub(\"\\s+\", \" \", subset[\"full_text\"][24])"
   ]
  },
  {
   "cell_type": "code",
   "execution_count": 92,
   "metadata": {},
   "outputs": [
    {
     "data": {
      "text/plain": [
       "'Gavin Lux just hit career homer 1 Earlier today the Dodgers rookie chatted with AlexaDatt and ScottBraun on TheRundown httpstcokuNtW8tn0O httpstcob3UW1ZzPzI'"
      ]
     },
     "execution_count": 92,
     "metadata": {},
     "output_type": "execute_result"
    }
   ],
   "source": [
    "re.sub(\"[^\\w\\s]\", \"\", subset[\"full_text\"][24])"
   ]
  },
  {
   "cell_type": "code",
   "execution_count": 95,
   "metadata": {},
   "outputs": [
    {
     "data": {
      "text/plain": [
       "'Gavin Lux just hit career homer 1 Earlier today the Dodgers rookie chatted with AlexaDatt and ScottBraun on TheRundown'"
      ]
     },
     "execution_count": 95,
     "metadata": {},
     "output_type": "execute_result"
    }
   ],
   "source": [
    "test = re.sub(r\"http\\S+|[^\\w\\s]\", \"\", subset[\"full_text\"][24]).strip(\" \")"
   ]
  },
  {
   "cell_type": "code",
   "execution_count": 96,
   "metadata": {},
   "outputs": [],
   "source": [
    "def text_clean(text):\n",
    "    \"\"\"\n",
    "    Third function for cleaning text.\n",
    "    \"\"\"\n",
    "    # delete links and any alphanumeric character and the underscore, strips whitespace\n",
    "    text = re.sub(r\"http\\S+|[^\\w\\s]\", \"\", text).strip(\" \")\n",
    "    # replaces any non-alphanumeric character with blank space\n",
    "    text = re.sub(\"\\W\", \" \", text)\n",
    "    return text"
   ]
  },
  {
   "cell_type": "code",
   "execution_count": 100,
   "metadata": {},
   "outputs": [
    {
     "name": "stdout",
     "output_type": "stream",
     "text": [
      "Gavin Lux just hit career homer 1! Earlier today, the Dodgers rookie chatted with AlexaDatt and ScottBraun on TheRundown \n",
      "\n",
      ".burnaboy is being sampled by everyone, including Drake, and was named Best International Act by BET for his Afrofusion style. Watch the full interview here \n",
      "\n"
     ]
    }
   ],
   "source": [
    "for text in subset[\"full_text\"][24:26].apply(lambda x: tweet_preprocessor(x)):\n",
    "    print(text, \"\\n\")"
   ]
  },
  {
   "cell_type": "code",
   "execution_count": 101,
   "metadata": {},
   "outputs": [
    {
     "name": "stdout",
     "output_type": "stream",
     "text": [
      "Gavin Lux just hit career homer 1 Earlier today the  rookie chatted with  and  on TheRundown \n",
      "\n",
      "is being sampled by everyone including Drake and was named Best International Act by  for his Afrofusion style Watch the full interview here \n",
      "\n"
     ]
    }
   ],
   "source": [
    "for text in subset[\"full_text\"][24:26].apply(lambda x: clean_text(x)):\n",
    "    print(text, \"\\n\")"
   ]
  },
  {
   "cell_type": "code",
   "execution_count": 102,
   "metadata": {},
   "outputs": [
    {
     "name": "stdout",
     "output_type": "stream",
     "text": [
      "Gavin Lux just hit career homer 1 Earlier today the Dodgers rookie chatted with AlexaDatt and ScottBraun on TheRundown \n",
      "\n",
      "burnaboy is being sampled by everyone including Drake and was named Best International Act by BET for his Afrofusion style Watch the full interview here \n",
      "\n"
     ]
    }
   ],
   "source": [
    "for text in subset[\"full_text\"][24:26].apply(lambda x: text_clean(x)):\n",
    "    print(text, \"\\n\")"
   ]
  },
  {
   "cell_type": "code",
   "execution_count": null,
   "metadata": {},
   "outputs": [],
   "source": []
  }
 ],
 "metadata": {
  "kernelspec": {
   "display_name": "Python 3",
   "language": "python",
   "name": "python3"
  },
  "language_info": {
   "codemirror_mode": {
    "name": "ipython",
    "version": 3
   },
   "file_extension": ".py",
   "mimetype": "text/x-python",
   "name": "python",
   "nbconvert_exporter": "python",
   "pygments_lexer": "ipython3",
   "version": "3.7.4"
  }
 },
 "nbformat": 4,
 "nbformat_minor": 4
}
