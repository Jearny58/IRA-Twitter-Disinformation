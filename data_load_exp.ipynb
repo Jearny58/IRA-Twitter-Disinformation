{
 "cells": [
  {
   "cell_type": "code",
   "execution_count": 20,
   "metadata": {},
   "outputs": [],
   "source": [
    "import os\n",
    "import glob\n",
    "import pandas as pd"
   ]
  },
  {
   "cell_type": "code",
   "execution_count": 21,
   "metadata": {},
   "outputs": [],
   "source": [
    "def csv_files():\n",
    "    '''\n",
    "    Locates and returns CSV files in data directory.\n",
    "    '''\n",
    "    # initial directory\n",
    "    cwd = os.getcwd()\n",
    "    \n",
    "    # path to directory that contains CSV files\n",
    "    path = os.getcwd() + \"/data\"\n",
    "    \n",
    "    # file type extension\n",
    "    extension = \"csv\"\n",
    "    \n",
    "    # try to change to path directory and return list of csv files\n",
    "    try:\n",
    "        os.chdir(path)\n",
    "        result = glob.glob('*.{}'.format(extension))\n",
    "    # cache except\n",
    "    except:\n",
    "        print(\"Somrthing wrong with specified directory./nException: \", sys.exc_info())\n",
    "    #handling with finally\n",
    "    finally:\n",
    "        print(\"Restoring the path & return list of CSV files.\")\n",
    "        os.chdir(cwd)\n",
    "        return result"
   ]
  },
  {
   "cell_type": "code",
   "execution_count": 22,
   "metadata": {},
   "outputs": [
    {
     "name": "stdout",
     "output_type": "stream",
     "text": [
      "Restoring the path & return list of CSV files.\n"
     ]
    }
   ],
   "source": [
    "filenames = csv_files()"
   ]
  },
  {
   "cell_type": "code",
   "execution_count": 23,
   "metadata": {},
   "outputs": [],
   "source": [
    "dtype = {\n",
    "    \"id_str\": str\n",
    "}"
   ]
  },
  {
   "cell_type": "code",
   "execution_count": 24,
   "metadata": {},
   "outputs": [],
   "source": [
    "df = pd.concat((pd.read_csv(f\"data/{f}\", dtype=dtype) for f in filenames))"
   ]
  },
  {
   "cell_type": "code",
   "execution_count": 25,
   "metadata": {},
   "outputs": [
    {
     "data": {
      "text/html": [
       "<div>\n",
       "<style scoped>\n",
       "    .dataframe tbody tr th:only-of-type {\n",
       "        vertical-align: middle;\n",
       "    }\n",
       "\n",
       "    .dataframe tbody tr th {\n",
       "        vertical-align: top;\n",
       "    }\n",
       "\n",
       "    .dataframe thead th {\n",
       "        text-align: right;\n",
       "    }\n",
       "</style>\n",
       "<table border=\"1\" class=\"dataframe\">\n",
       "  <thead>\n",
       "    <tr style=\"text-align: right;\">\n",
       "      <th></th>\n",
       "      <th>id_str</th>\n",
       "      <th>screen_name</th>\n",
       "      <th>created_at</th>\n",
       "      <th>lang</th>\n",
       "      <th>source</th>\n",
       "      <th>retweet_count</th>\n",
       "      <th>favorite_count</th>\n",
       "      <th>is_retweet</th>\n",
       "      <th>full_text</th>\n",
       "    </tr>\n",
       "  </thead>\n",
       "  <tbody>\n",
       "    <tr>\n",
       "      <td>0</td>\n",
       "      <td>1208823227012861952</td>\n",
       "      <td>SenSanders</td>\n",
       "      <td>2019-12-22 18:54:50</td>\n",
       "      <td>en</td>\n",
       "      <td>Twitter Web App</td>\n",
       "      <td>2526</td>\n",
       "      <td>12622</td>\n",
       "      <td>False</td>\n",
       "      <td>Pope Francis said one of the world's most seri...</td>\n",
       "    </tr>\n",
       "    <tr>\n",
       "      <td>1</td>\n",
       "      <td>1208776817290760192</td>\n",
       "      <td>SenSanders</td>\n",
       "      <td>2019-12-22 15:50:25</td>\n",
       "      <td>en</td>\n",
       "      <td>Twitter Web App</td>\n",
       "      <td>1962</td>\n",
       "      <td>7730</td>\n",
       "      <td>False</td>\n",
       "      <td>Trickle-down economics has always been a fraud...</td>\n",
       "    </tr>\n",
       "    <tr>\n",
       "      <td>2</td>\n",
       "      <td>1208549189979955201</td>\n",
       "      <td>SenSanders</td>\n",
       "      <td>2019-12-22 00:45:55</td>\n",
       "      <td>en</td>\n",
       "      <td>Twitter Web App</td>\n",
       "      <td>1175</td>\n",
       "      <td>6142</td>\n",
       "      <td>False</td>\n",
       "      <td>Instead of listening to Sheldon Adelson and ot...</td>\n",
       "    </tr>\n",
       "    <tr>\n",
       "      <td>3</td>\n",
       "      <td>1208501407286005760</td>\n",
       "      <td>SenSanders</td>\n",
       "      <td>2019-12-21 21:36:03</td>\n",
       "      <td>en</td>\n",
       "      <td>Twitter Web App</td>\n",
       "      <td>2257</td>\n",
       "      <td>11957</td>\n",
       "      <td>False</td>\n",
       "      <td>In 1970, 30-year-olds had a 92% chance of earn...</td>\n",
       "    </tr>\n",
       "    <tr>\n",
       "      <td>4</td>\n",
       "      <td>1208486786646847489</td>\n",
       "      <td>SenSanders</td>\n",
       "      <td>2019-12-21 20:37:57</td>\n",
       "      <td>en</td>\n",
       "      <td>Twitter Web App</td>\n",
       "      <td>855</td>\n",
       "      <td>4125</td>\n",
       "      <td>False</td>\n",
       "      <td>It is an absolute disgrace that a refugee agen...</td>\n",
       "    </tr>\n",
       "  </tbody>\n",
       "</table>\n",
       "</div>"
      ],
      "text/plain": [
       "                id_str screen_name           created_at lang           source  \\\n",
       "0  1208823227012861952  SenSanders  2019-12-22 18:54:50   en  Twitter Web App   \n",
       "1  1208776817290760192  SenSanders  2019-12-22 15:50:25   en  Twitter Web App   \n",
       "2  1208549189979955201  SenSanders  2019-12-22 00:45:55   en  Twitter Web App   \n",
       "3  1208501407286005760  SenSanders  2019-12-21 21:36:03   en  Twitter Web App   \n",
       "4  1208486786646847489  SenSanders  2019-12-21 20:37:57   en  Twitter Web App   \n",
       "\n",
       "   retweet_count  favorite_count  is_retweet  \\\n",
       "0           2526           12622       False   \n",
       "1           1962            7730       False   \n",
       "2           1175            6142       False   \n",
       "3           2257           11957       False   \n",
       "4            855            4125       False   \n",
       "\n",
       "                                           full_text  \n",
       "0  Pope Francis said one of the world's most seri...  \n",
       "1  Trickle-down economics has always been a fraud...  \n",
       "2  Instead of listening to Sheldon Adelson and ot...  \n",
       "3  In 1970, 30-year-olds had a 92% chance of earn...  \n",
       "4  It is an absolute disgrace that a refugee agen...  "
      ]
     },
     "execution_count": 25,
     "metadata": {},
     "output_type": "execute_result"
    }
   ],
   "source": [
    "df.head()"
   ]
  },
  {
   "cell_type": "code",
   "execution_count": 26,
   "metadata": {},
   "outputs": [
    {
     "name": "stdout",
     "output_type": "stream",
     "text": [
      "<class 'pandas.core.frame.DataFrame'>\n",
      "Int64Index: 117985 entries, 0 to 3249\n",
      "Data columns (total 9 columns):\n",
      "id_str            117985 non-null object\n",
      "screen_name       117985 non-null object\n",
      "created_at        117985 non-null object\n",
      "lang              117985 non-null object\n",
      "source            117983 non-null object\n",
      "retweet_count     117985 non-null int64\n",
      "favorite_count    117985 non-null int64\n",
      "is_retweet        117985 non-null bool\n",
      "full_text         117985 non-null object\n",
      "dtypes: bool(1), int64(2), object(6)\n",
      "memory usage: 8.2+ MB\n"
     ]
    }
   ],
   "source": [
    "df.info()"
   ]
  },
  {
   "cell_type": "code",
   "execution_count": 27,
   "metadata": {},
   "outputs": [],
   "source": [
    "# change created_at column to datetime\n",
    "df[\"created_at\"] = pd.to_datetime(df[\"created_at\"])\n",
    "\n",
    "# change lang column to category type\n",
    "df[\"lang\"] = df[\"lang\"].astype(\"category\")\n",
    "\n",
    "# change source column to category type\n",
    "df[\"source\"] = df[\"source\"].astype(\"category\")"
   ]
  },
  {
   "cell_type": "code",
   "execution_count": 28,
   "metadata": {},
   "outputs": [
    {
     "data": {
      "text/plain": [
       "0.17361529007924736"
      ]
     },
     "execution_count": 28,
     "metadata": {},
     "output_type": "execute_result"
    }
   ],
   "source": [
    "df[\"is_retweet\"].mean()"
   ]
  },
  {
   "cell_type": "code",
   "execution_count": null,
   "metadata": {},
   "outputs": [],
   "source": []
  }
 ],
 "metadata": {
  "kernelspec": {
   "display_name": "Python 3",
   "language": "python",
   "name": "python3"
  },
  "language_info": {
   "codemirror_mode": {
    "name": "ipython",
    "version": 3
   },
   "file_extension": ".py",
   "mimetype": "text/x-python",
   "name": "python",
   "nbconvert_exporter": "python",
   "pygments_lexer": "ipython3",
   "version": "3.7.4"
  }
 },
 "nbformat": 4,
 "nbformat_minor": 4
}
