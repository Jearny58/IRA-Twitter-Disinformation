{
 "cells": [
  {
   "cell_type": "code",
   "execution_count": 77,
   "metadata": {},
   "outputs": [],
   "source": [
    "import os\n",
    "import glob\n",
    "import pandas as pd"
   ]
  },
  {
   "cell_type": "code",
   "execution_count": 78,
   "metadata": {},
   "outputs": [],
   "source": [
    "def csv_files():\n",
    "    '''\n",
    "    Locates and returns CSV files in data directory.\n",
    "    '''\n",
    "    # initial directory\n",
    "    cwd = os.getcwd()\n",
    "    \n",
    "    # path to directory that contains CSV files\n",
    "    path = os.getcwd() + \"/data\"\n",
    "    \n",
    "    # file type extension\n",
    "    extension = \"csv\"\n",
    "    \n",
    "    # try to change to path directory and return list of csv files\n",
    "    try:\n",
    "        os.chdir(path)\n",
    "        result = glob.glob('*.{}'.format(extension))\n",
    "    # cache except\n",
    "    except:\n",
    "        print(\"Somrthing wrong with specified directory./nException: \", sys.exc_info())\n",
    "    #handling with finally\n",
    "    finally:\n",
    "        print(\"Restoring the path & return list of CSV files.\")\n",
    "        os.chdir(cwd)\n",
    "        return result"
   ]
  },
  {
   "cell_type": "code",
   "execution_count": 79,
   "metadata": {},
   "outputs": [
    {
     "name": "stdout",
     "output_type": "stream",
     "text": [
      "Restoring the path & return list of CSV files.\n"
     ]
    }
   ],
   "source": [
    "filenames = csv_files()"
   ]
  },
  {
   "cell_type": "code",
   "execution_count": 80,
   "metadata": {},
   "outputs": [],
   "source": [
    "dtype = {\n",
    "    \"id_str\": str\n",
    "}"
   ]
  },
  {
   "cell_type": "code",
   "execution_count": 81,
   "metadata": {},
   "outputs": [
    {
     "name": "stdout",
     "output_type": "stream",
     "text": [
      "CPU times: user 1.03 s, sys: 189 ms, total: 1.22 s\n",
      "Wall time: 2.94 s\n"
     ]
    }
   ],
   "source": [
    "%%time\n",
    "\n",
    "df = pd.concat((pd.read_csv(f\"data/{f}\", dtype=dtype) for f in filenames))"
   ]
  },
  {
   "cell_type": "code",
   "execution_count": 82,
   "metadata": {},
   "outputs": [
    {
     "data": {
      "text/html": [
       "<div>\n",
       "<style scoped>\n",
       "    .dataframe tbody tr th:only-of-type {\n",
       "        vertical-align: middle;\n",
       "    }\n",
       "\n",
       "    .dataframe tbody tr th {\n",
       "        vertical-align: top;\n",
       "    }\n",
       "\n",
       "    .dataframe thead th {\n",
       "        text-align: right;\n",
       "    }\n",
       "</style>\n",
       "<table border=\"1\" class=\"dataframe\">\n",
       "  <thead>\n",
       "    <tr style=\"text-align: right;\">\n",
       "      <th></th>\n",
       "      <th>id_str</th>\n",
       "      <th>screen_name</th>\n",
       "      <th>created_at</th>\n",
       "      <th>lang</th>\n",
       "      <th>source</th>\n",
       "      <th>retweet_count</th>\n",
       "      <th>favorite_count</th>\n",
       "      <th>is_retweet</th>\n",
       "      <th>full_text</th>\n",
       "    </tr>\n",
       "  </thead>\n",
       "  <tbody>\n",
       "    <tr>\n",
       "      <td>0</td>\n",
       "      <td>1209319045411028993</td>\n",
       "      <td>NBCNews</td>\n",
       "      <td>2019-12-24 03:45:03</td>\n",
       "      <td>en</td>\n",
       "      <td>SocialFlow</td>\n",
       "      <td>12</td>\n",
       "      <td>28</td>\n",
       "      <td>False</td>\n",
       "      <td>A North Carolina man is accused of using eye d...</td>\n",
       "    </tr>\n",
       "    <tr>\n",
       "      <td>1</td>\n",
       "      <td>1209315792657043457</td>\n",
       "      <td>NBCNews</td>\n",
       "      <td>2019-12-24 03:32:07</td>\n",
       "      <td>en</td>\n",
       "      <td>SocialFlow</td>\n",
       "      <td>4</td>\n",
       "      <td>16</td>\n",
       "      <td>False</td>\n",
       "      <td>11 best gifts and gadgets for home cooks. http...</td>\n",
       "    </tr>\n",
       "    <tr>\n",
       "      <td>2</td>\n",
       "      <td>1209308993459572742</td>\n",
       "      <td>NBCNews</td>\n",
       "      <td>2019-12-24 03:05:06</td>\n",
       "      <td>en</td>\n",
       "      <td>SocialFlow</td>\n",
       "      <td>14</td>\n",
       "      <td>61</td>\n",
       "      <td>False</td>\n",
       "      <td>A woman upset that KFC got sandwich wrong call...</td>\n",
       "    </tr>\n",
       "    <tr>\n",
       "      <td>3</td>\n",
       "      <td>1209300423456280576</td>\n",
       "      <td>NBCNews</td>\n",
       "      <td>2019-12-24 02:31:03</td>\n",
       "      <td>en</td>\n",
       "      <td>SocialFlow</td>\n",
       "      <td>22</td>\n",
       "      <td>50</td>\n",
       "      <td>False</td>\n",
       "      <td>California is taking the lead in helping stude...</td>\n",
       "    </tr>\n",
       "    <tr>\n",
       "      <td>4</td>\n",
       "      <td>1209297409316196352</td>\n",
       "      <td>NBCNews</td>\n",
       "      <td>2019-12-24 02:19:04</td>\n",
       "      <td>en</td>\n",
       "      <td>SocialFlow</td>\n",
       "      <td>26</td>\n",
       "      <td>106</td>\n",
       "      <td>False</td>\n",
       "      <td>Lizzo responds to social commentator who says ...</td>\n",
       "    </tr>\n",
       "  </tbody>\n",
       "</table>\n",
       "</div>"
      ],
      "text/plain": [
       "                id_str screen_name           created_at lang      source  \\\n",
       "0  1209319045411028993     NBCNews  2019-12-24 03:45:03   en  SocialFlow   \n",
       "1  1209315792657043457     NBCNews  2019-12-24 03:32:07   en  SocialFlow   \n",
       "2  1209308993459572742     NBCNews  2019-12-24 03:05:06   en  SocialFlow   \n",
       "3  1209300423456280576     NBCNews  2019-12-24 02:31:03   en  SocialFlow   \n",
       "4  1209297409316196352     NBCNews  2019-12-24 02:19:04   en  SocialFlow   \n",
       "\n",
       "   retweet_count  favorite_count  is_retweet  \\\n",
       "0             12              28       False   \n",
       "1              4              16       False   \n",
       "2             14              61       False   \n",
       "3             22              50       False   \n",
       "4             26             106       False   \n",
       "\n",
       "                                           full_text  \n",
       "0  A North Carolina man is accused of using eye d...  \n",
       "1  11 best gifts and gadgets for home cooks. http...  \n",
       "2  A woman upset that KFC got sandwich wrong call...  \n",
       "3  California is taking the lead in helping stude...  \n",
       "4  Lizzo responds to social commentator who says ...  "
      ]
     },
     "execution_count": 82,
     "metadata": {},
     "output_type": "execute_result"
    }
   ],
   "source": [
    "df.head()"
   ]
  },
  {
   "cell_type": "code",
   "execution_count": 83,
   "metadata": {},
   "outputs": [
    {
     "name": "stdout",
     "output_type": "stream",
     "text": [
      "<class 'pandas.core.frame.DataFrame'>\n",
      "Int64Index: 264542 entries, 0 to 3249\n",
      "Data columns (total 9 columns):\n",
      "id_str            264542 non-null object\n",
      "screen_name       264542 non-null object\n",
      "created_at        264542 non-null object\n",
      "lang              264542 non-null object\n",
      "source            264471 non-null object\n",
      "retweet_count     264542 non-null int64\n",
      "favorite_count    264542 non-null int64\n",
      "is_retweet        264542 non-null bool\n",
      "full_text         264542 non-null object\n",
      "dtypes: bool(1), int64(2), object(6)\n",
      "memory usage: 18.4+ MB\n"
     ]
    }
   ],
   "source": [
    "df.info()"
   ]
  },
  {
   "cell_type": "code",
   "execution_count": 84,
   "metadata": {},
   "outputs": [],
   "source": [
    "# change created_at column to datetime\n",
    "df[\"created_at\"] = pd.to_datetime(df[\"created_at\"])\n",
    "\n",
    "# change lang column to category type\n",
    "df[\"lang\"] = df[\"lang\"].astype(\"category\")\n",
    "\n",
    "# change source column to category type\n",
    "df[\"source\"] = df[\"source\"].astype(\"category\")"
   ]
  },
  {
   "cell_type": "code",
   "execution_count": 85,
   "metadata": {},
   "outputs": [
    {
     "data": {
      "text/plain": [
       "0.2020019505409349"
      ]
     },
     "execution_count": 85,
     "metadata": {},
     "output_type": "execute_result"
    }
   ],
   "source": [
    "df[\"is_retweet\"].mean()"
   ]
  },
  {
   "cell_type": "code",
   "execution_count": 86,
   "metadata": {},
   "outputs": [
    {
     "data": {
      "text/plain": [
       "53438"
      ]
     },
     "execution_count": 86,
     "metadata": {},
     "output_type": "execute_result"
    }
   ],
   "source": [
    "df[\"is_retweet\"].sum()"
   ]
  },
  {
   "cell_type": "code",
   "execution_count": 87,
   "metadata": {},
   "outputs": [
    {
     "name": "stdout",
     "output_type": "stream",
     "text": [
      "User #1: 50cent\n",
      "User #2: ABC\n",
      "User #3: AOC\n",
      "User #4: AP\n",
      "User #5: ActuallyNPH\n",
      "User #6: BarackObama\n",
      "User #7: BetoORourke\n",
      "User #8: BillGates\n",
      "User #9: BuzzFeed\n",
      "User #10: CBSNews\n",
      "User #11: CIA\n",
      "User #12: CNN\n",
      "User #13: ChuckGrassley\n",
      "User #14: DwightHoward\n",
      "User #15: DwyaneWade\n",
      "User #16: Edelman11\n",
      "User #17: FBI\n",
      "User #18: FOXSports\n",
      "User #19: FoxNews\n",
      "User #20: Google\n",
      "User #21: HamillHimself\n",
      "User #22: HillaryClinton\n",
      "User #23: JHarden13\n",
      "User #24: Kaepernick7\n",
      "User #25: KevinHart4real\n",
      "User #26: KimKardashian\n",
      "User #27: KingJames\n",
      "User #28: LindseyGrahamSC\n",
      "User #29: MLBNetwork\n",
      "User #30: MagicJohnson\n",
      "User #31: MarkRuffalo\n",
      "User #32: MeekMill\n",
      "User #33: MichelleObama\n",
      "User #34: MittRomney\n",
      "User #35: NASA\n",
      "User #36: NBCNews\n",
      "User #37: NPR\n",
      "User #38: Oprah\n",
      "User #39: Reuters\n",
      "User #40: RobertDowneyJr\n",
      "User #41: SFGiants\n",
      "User #42: SHAQ\n",
      "User #43: SarahKSilverman\n",
      "User #44: SenKamalaHarris\n",
      "User #45: SenSanders\n",
      "User #46: SenSchumer\n",
      "User #47: SethMacFarlane\n",
      "User #48: SnoopDogg\n",
      "User #49: SpeakerPelosi\n",
      "User #50: SpeakerRyan\n",
      "User #51: SportsCenter\n",
      "User #52: TIME\n",
      "User #53: TheDailyShow\n",
      "User #54: TheEconomist\n",
      "User #55: TheEllenShow\n",
      "User #56: TuckerCarlson\n",
      "User #57: Twitter\n",
      "User #58: USATODAY\n",
      "User #59: VP\n",
      "User #60: VancityReynolds\n",
      "User #61: WSJ\n",
      "User #62: aplusk\n",
      "User #63: brielarson\n",
      "User #64: dallascowboys\n",
      "User #65: espn\n",
      "User #66: ewarren\n",
      "User #67: jaketapper\n",
      "User #68: justinbieber\n",
      "User #69: katyperry\n",
      "User #70: maddow\n",
      "User #71: marcorubio\n",
      "User #72: neiltyson\n",
      "User #73: nyknicks\n",
      "User #74: nytimes\n",
      "User #75: obj\n",
      "User #76: ochocinco\n",
      "User #77: politico\n",
      "User #78: realDonaldTrump\n",
      "User #79: rustyrockets\n",
      "User #80: seanhannity\n",
      "User #81: selenagomez\n",
      "User #82: senatemajldr\n",
      "User #83: serenawilliams\n",
      "User #84: stephenasmith\n",
      "User #85: tonyhawk\n",
      "User #86: wizkhalifa\n"
     ]
    }
   ],
   "source": [
    "cnt = 0\n",
    "for user in sorted(df[\"screen_name\"].unique()):\n",
    "    cnt += 1\n",
    "    print(f\"User #{cnt}: {user}\")"
   ]
  },
  {
   "cell_type": "code",
   "execution_count": null,
   "metadata": {},
   "outputs": [],
   "source": []
  },
  {
   "cell_type": "code",
   "execution_count": null,
   "metadata": {},
   "outputs": [],
   "source": []
  }
 ],
 "metadata": {
  "kernelspec": {
   "display_name": "Python 3",
   "language": "python",
   "name": "python3"
  },
  "language_info": {
   "codemirror_mode": {
    "name": "ipython",
    "version": 3
   },
   "file_extension": ".py",
   "mimetype": "text/x-python",
   "name": "python",
   "nbconvert_exporter": "python",
   "pygments_lexer": "ipython3",
   "version": "3.7.4"
  }
 },
 "nbformat": 4,
 "nbformat_minor": 4
}
