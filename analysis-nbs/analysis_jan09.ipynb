{
 "cells": [
  {
   "cell_type": "markdown",
   "metadata": {},
   "source": [
    "# _Exploration: Jan. 9, 2020_\n",
    "\n",
    "Following analysis is adapted from DataCamp's [Feature Engineering for NLP in Python](https://www.datacamp.com/courses/feature-engineering-for-nlp-in-python) program."
   ]
  },
  {
   "cell_type": "code",
   "execution_count": 1,
   "metadata": {},
   "outputs": [],
   "source": [
    "%reload_ext autoreload\n",
    "%autoreload 2\n",
    "%matplotlib inline\n",
    "%config InlineBackend.figure_format = 'retina'"
   ]
  },
  {
   "cell_type": "code",
   "execution_count": 2,
   "metadata": {},
   "outputs": [],
   "source": [
    "# import libraries\n",
    "import pandas as pd\n",
    "pd.options.display.max_columns = None\n",
    "import numpy as np\n",
    "import random\n",
    "import os\n",
    "\n",
    "# Matplotlib\n",
    "import matplotlib as mpl\n",
    "import matplotlib.pyplot as plt\n",
    "import seaborn as sns\n",
    "plt.style.use('fivethirtyeight')"
   ]
  },
  {
   "cell_type": "markdown",
   "metadata": {},
   "source": [
    "## _Load in Verified User Data_"
   ]
  },
  {
   "cell_type": "code",
   "execution_count": 3,
   "metadata": {},
   "outputs": [],
   "source": [
    "# load in data\n",
    "verified = pd.read_json(\"json-data/verified_train.json\", orient=\"split\", dtype={\"id_str\": str})\n",
    "ira = pd.read_json(\"json-data/ira_train.json\", orient=\"split\", dtype={\"id_str\": str}).sample(n=len(verified), random_state=5)\n",
    "\n",
    "# combine dfs above \n",
    "df = pd.concat([verified, ira])"
   ]
  },
  {
   "cell_type": "code",
   "execution_count": 4,
   "metadata": {},
   "outputs": [
    {
     "name": "stdout",
     "output_type": "stream",
     "text": [
      "<class 'pandas.core.frame.DataFrame'>\n",
      "Int64Index: 337766 entries, 0 to 1353475\n",
      "Data columns (total 10 columns):\n",
      "id_str            337766 non-null object\n",
      "screen_name       337766 non-null object\n",
      "created_at        337766 non-null datetime64[ns]\n",
      "lang              337766 non-null object\n",
      "source            337766 non-null object\n",
      "retweet_count     337766 non-null int64\n",
      "favorite_count    337766 non-null int64\n",
      "full_text         337766 non-null object\n",
      "clean_text        337766 non-null object\n",
      "label             337766 non-null object\n",
      "dtypes: datetime64[ns](1), int64(2), object(7)\n",
      "memory usage: 28.3+ MB\n"
     ]
    }
   ],
   "source": [
    "df.info()"
   ]
  },
  {
   "cell_type": "code",
   "execution_count": 5,
   "metadata": {},
   "outputs": [],
   "source": [
    "# one hot encode label column\n",
    "df = pd.get_dummies(df, columns=[\"label\"])"
   ]
  },
  {
   "cell_type": "code",
   "execution_count": 6,
   "metadata": {},
   "outputs": [
    {
     "name": "stdout",
     "output_type": "stream",
     "text": [
      "<class 'pandas.core.frame.DataFrame'>\n",
      "Int64Index: 337766 entries, 0 to 1353475\n",
      "Data columns (total 11 columns):\n",
      "id_str            337766 non-null object\n",
      "screen_name       337766 non-null object\n",
      "created_at        337766 non-null datetime64[ns]\n",
      "lang              337766 non-null object\n",
      "source            337766 non-null object\n",
      "retweet_count     337766 non-null int64\n",
      "favorite_count    337766 non-null int64\n",
      "full_text         337766 non-null object\n",
      "clean_text        337766 non-null object\n",
      "label_fake        337766 non-null uint8\n",
      "label_real        337766 non-null uint8\n",
      "dtypes: datetime64[ns](1), int64(2), object(6), uint8(2)\n",
      "memory usage: 26.4+ MB\n"
     ]
    }
   ],
   "source": [
    "df.info()"
   ]
  },
  {
   "cell_type": "markdown",
   "metadata": {},
   "source": [
    "## _Basic feature extraction_"
   ]
  },
  {
   "cell_type": "code",
   "execution_count": 7,
   "metadata": {},
   "outputs": [],
   "source": [
    "# grab subset of data to experiment on\n",
    "sample = df[[\"id_str\", \"screen_name\", \"created_at\", \"full_text\", \"label_fake\", \"label_real\"]].sample(frac=0.50, random_state=5)"
   ]
  },
  {
   "cell_type": "code",
   "execution_count": 8,
   "metadata": {},
   "outputs": [],
   "source": [
    "# reset index\n",
    "sample.reset_index(drop=True, inplace=True)"
   ]
  },
  {
   "cell_type": "code",
   "execution_count": 9,
   "metadata": {},
   "outputs": [],
   "source": [
    "# create a new column with character counts\n",
    "sample[\"char_count\"] = sample[\"full_text\"].apply(len)"
   ]
  },
  {
   "cell_type": "code",
   "execution_count": 10,
   "metadata": {},
   "outputs": [
    {
     "data": {
      "text/plain": [
       "label_real\n",
       "0     80.650241\n",
       "1    136.548233\n",
       "Name: char_count, dtype: float64"
      ]
     },
     "execution_count": 10,
     "metadata": {},
     "output_type": "execute_result"
    }
   ],
   "source": [
    "# first group by the labels then get average lenth\n",
    "sample.groupby([\"label_real\"])[\"char_count\"].mean()"
   ]
  },
  {
   "cell_type": "code",
   "execution_count": 11,
   "metadata": {},
   "outputs": [],
   "source": [
    "def count_words(string):\n",
    "    \"\"\"\n",
    "    Function that returns number of words in a string, and returns the number of words.\n",
    "    \"\"\"\n",
    "    # split the string into words\n",
    "    words = string.split()\n",
    "    # return the number of words\n",
    "    return len(words)"
   ]
  },
  {
   "cell_type": "code",
   "execution_count": 12,
   "metadata": {},
   "outputs": [
    {
     "data": {
      "text/plain": [
       "label_real\n",
       "0    11.382623\n",
       "1    19.993115\n",
       "Name: word_count, dtype: float64"
      ]
     },
     "execution_count": 12,
     "metadata": {},
     "output_type": "execute_result"
    }
   ],
   "source": [
    "# create a new feature word_count\n",
    "sample[\"word_count\"] = sample[\"full_text\"].apply(count_words)\n",
    "\n",
    "# group by fake/real then pring average word count\n",
    "sample.groupby(\"label_real\")[\"word_count\"].mean()"
   ]
  },
  {
   "cell_type": "code",
   "execution_count": 13,
   "metadata": {},
   "outputs": [],
   "source": [
    "def count_hashtags(string):\n",
    "    \"\"\"\n",
    "    Function that returns number of hashtags in a string\n",
    "    \"\"\"\n",
    "    # split string into words\n",
    "    words = string.split()\n",
    "    # create a list of words that are hashtags\n",
    "    hashtags = [word for word in words if word.startswith(\"#\")]\n",
    "    # return number of hashtags\n",
    "    return len(hashtags)"
   ]
  },
  {
   "cell_type": "code",
   "execution_count": 14,
   "metadata": {},
   "outputs": [],
   "source": [
    "# create new column with number of hashtags\n",
    "sample[\"hashtag_count\"] = sample[\"full_text\"].apply(count_hashtags)"
   ]
  },
  {
   "cell_type": "code",
   "execution_count": 15,
   "metadata": {},
   "outputs": [
    {
     "data": {
      "text/plain": [
       "label_real\n",
       "0    0.659744\n",
       "1    0.358038\n",
       "Name: hashtag_count, dtype: float64"
      ]
     },
     "execution_count": 15,
     "metadata": {},
     "output_type": "execute_result"
    }
   ],
   "source": [
    "# group by fake/real and then return mean number of hashtags\n",
    "sample.groupby(\"label_real\")[\"hashtag_count\"].mean()"
   ]
  },
  {
   "cell_type": "code",
   "execution_count": 16,
   "metadata": {},
   "outputs": [
    {
     "data": {
      "image/png": "[encoded data removed]",
      "text/plain": [
       "<Figure size 432x288 with 1 Axes>"
      ]
     },
     "metadata": {
      "image/png": {
       "height": 265,
       "width": 447
      }
     },
     "output_type": "display_data"
    }
   ],
   "source": [
    "# plot the above\n",
    "sample[\"hashtag_count\"].hist(edgecolor=\"black\");"
   ]
  },
  {
   "cell_type": "code",
   "execution_count": 17,
   "metadata": {},
   "outputs": [
    {
     "data": {
      "image/png": "[encoded data removed]",
      "text/plain": [
       "<Figure size 432x288 with 1 Axes>"
      ]
     },
     "metadata": {
      "image/png": {
       "height": 265,
       "width": 418
      }
     },
     "output_type": "display_data"
    }
   ],
   "source": [
    "# same as the above but plotted on a logarithmic scale\n",
    "sample[\"hashtag_count\"].hist(edgecolor=\"black\")\n",
    "plt.yscale(\"log\");"
   ]
  },
  {
   "cell_type": "code",
   "execution_count": 18,
   "metadata": {},
   "outputs": [],
   "source": [
    "def count_mentions(string):\n",
    "    \"\"\"\n",
    "    Function that returns number of mentions in a string\n",
    "    \"\"\"\n",
    "    # split string into words\n",
    "    words = string.split()\n",
    "    # create list of words that are mentions\n",
    "    mentions = [word for word in words if word.startswith(\"@\")]\n",
    "    # return number of mentions\n",
    "    return len(mentions)"
   ]
  },
  {
   "cell_type": "code",
   "execution_count": 19,
   "metadata": {},
   "outputs": [],
   "source": [
    "# create a column of mention counts\n",
    "sample[\"mention_count\"] = sample[\"full_text\"].apply(count_mentions)"
   ]
  },
  {
   "cell_type": "code",
   "execution_count": 20,
   "metadata": {},
   "outputs": [
    {
     "data": {
      "text/plain": [
       "label_real\n",
       "0    0.359735\n",
       "1    0.493115\n",
       "Name: mention_count, dtype: float64"
      ]
     },
     "execution_count": 20,
     "metadata": {},
     "output_type": "execute_result"
    }
   ],
   "source": [
    "# group by fake/real and then return mean number of mentions\n",
    "sample.groupby(\"label_real\")[\"mention_count\"].mean()"
   ]
  },
  {
   "cell_type": "code",
   "execution_count": 21,
   "metadata": {},
   "outputs": [
    {
     "data": {
      "image/png": "[encoded data removed]",
      "text/plain": [
       "<Figure size 432x288 with 1 Axes>"
      ]
     },
     "metadata": {
      "image/png": {
       "height": 265,
       "width": 447
      }
     },
     "output_type": "display_data"
    }
   ],
   "source": [
    "sample[\"mention_count\"].hist(edgecolor=\"black\");"
   ]
  },
  {
   "cell_type": "code",
   "execution_count": 22,
   "metadata": {},
   "outputs": [
    {
     "data": {
      "image/png": "[encoded data removed]",
      "text/plain": [
       "<Figure size 432x288 with 1 Axes>"
      ]
     },
     "metadata": {
      "image/png": {
       "height": 265,
       "width": 418
      }
     },
     "output_type": "display_data"
    }
   ],
   "source": [
    "# same as above but with logarithmic yscale\n",
    "sample[\"mention_count\"].hist(edgecolor=\"black\")\n",
    "plt.yscale(\"log\");"
   ]
  },
  {
   "cell_type": "markdown",
   "metadata": {},
   "source": [
    "## _Notes_\n",
    "\n",
    "- readability text examples\n",
    "    - Flesch reading ease \n",
    "        - greater the average sentance length, harder the text is to read\n",
    "        - greater the average number of syllables in a word, harder the text is to read\n",
    "    - Gunning fog index\n",
    "        - also dependent on average sentence length\n",
    "        - greater the percentage of complex words, harder the text is to read\n",
    "    - Simple Measure of Gobbledygook (SMOG)\n",
    "    - Dale-Chall score"
   ]
  },
  {
   "cell_type": "code",
   "execution_count": 23,
   "metadata": {},
   "outputs": [],
   "source": [
    "#!pip install textatistic"
   ]
  },
  {
   "cell_type": "code",
   "execution_count": 24,
   "metadata": {},
   "outputs": [
    {
     "data": {
      "text/plain": [
       "'.@SherylCrow, @TheBonnieRaitt and @mavisstaples. Three legends performing their new song together. That’s my kind of ladies’ night. https://t.co/GWv5cB8uzD'"
      ]
     },
     "execution_count": 24,
     "metadata": {},
     "output_type": "execute_result"
    }
   ],
   "source": [
    "text = sample[\"full_text\"][random.randint(0, len(sample))]\n",
    "text"
   ]
  },
  {
   "cell_type": "code",
   "execution_count": 25,
   "metadata": {},
   "outputs": [
    {
     "name": "stdout",
     "output_type": "stream",
     "text": [
      "The Flesch Reading Ease is 71.581\n"
     ]
    }
   ],
   "source": [
    "from textatistic import Textatistic\n",
    "\n",
    "# comput the readability score of random observation from data\n",
    "readability_scores = Textatistic(text).scores\n",
    "\n",
    "# print the flesch reading ease score\n",
    "flesch = readability_scores[\"flesch_score\"]\n",
    "print(\"The Flesch Reading Ease is %.3f\" % (flesch))"
   ]
  },
  {
   "cell_type": "code",
   "execution_count": 26,
   "metadata": {},
   "outputs": [
    {
     "data": {
      "text/plain": [
       "['Charles Schwab agrees to buy rival TD Ameritrade in a stock-swap transaction valued at about $26 billion https://t.co/mi3TIcjj4N',\n",
       " '|LIVE NOW| Ride wit me again http://t.co/B4lMBW5tXd',\n",
       " 'Arizona man allegedly taught undercover FBI agents how to make bombs: reports https://t.co/pSn7bNEQdM',\n",
       " '@RichOnOWN @VisitOceanside so cool. I was just on set. Big scene with Lady Mae .\\n #Greenleaf']"
      ]
     },
     "execution_count": 26,
     "metadata": {},
     "output_type": "execute_result"
    }
   ],
   "source": [
    "random.seed(5)\n",
    "\n",
    "# gather 4 random Tweets from sample subset\n",
    "excerpts = list(random.sample(list(sample[\"full_text\"]), k = 4))\n",
    "excerpts"
   ]
  },
  {
   "cell_type": "code",
   "execution_count": 27,
   "metadata": {},
   "outputs": [
    {
     "name": "stdout",
     "output_type": "stream",
     "text": [
      "(13.915789473684212, 'Charles Schwab agrees to buy rival TD Ameritrade in a stock-swap transaction valued at about $26 billion https://t.co/mi3TIcjj4N') \n",
      "\n",
      "(2.8000000000000003, '|LIVE NOW| Ride wit me again http://t.co/B4lMBW5tXd') \n",
      "\n",
      "(11.353846153846156, 'Arizona man allegedly taught undercover FBI agents how to make bombs: reports https://t.co/pSn7bNEQdM') \n",
      "\n",
      "(2.0, '@RichOnOWN @VisitOceanside so cool. I was just on set. Big scene with Lady Mae .\\n #Greenleaf') \n",
      "\n"
     ]
    }
   ],
   "source": [
    "# loop through excerpts and computing Gunning Fog index\n",
    "gunning_fog_scores = []\n",
    "\n",
    "for excerpt in excerpts:\n",
    "    scores = Textatistic(excerpt).scores\n",
    "    gunning_fog = scores[\"gunningfog_score\"]\n",
    "    gunning_fog_scores.append(gunning_fog)\n",
    "    \n",
    "for excerpt in list(zip(gunning_fog_scores, excerpts)):\n",
    "    print(excerpt, \"\\n\")"
   ]
  },
  {
   "cell_type": "markdown",
   "metadata": {},
   "source": [
    "## _Text preprocessing, POS tagging and NER_"
   ]
  },
  {
   "cell_type": "code",
   "execution_count": 28,
   "metadata": {},
   "outputs": [
    {
     "name": "stdout",
     "output_type": "stream",
     "text": [
      "['@PolisForCO', 'I', 'can', 'assure', 'Mr.', 'Polis', 'that', 'National', 'Guard', 'troops', 'from', 'Colorado', 'have', 'served', 'in', 'Afghanistan', 'and', 'Iraq', '.']\n"
     ]
    }
   ],
   "source": [
    "import spacy\n",
    "\n",
    "# load the en_core_web_sm model\n",
    "nlp = spacy.load(\"en_core_web_sm\")\n",
    "\n",
    "# grab random Tweet\n",
    "rando = sample[\"full_text\"].sample(n=1, random_state=202).iloc[0]\n",
    "\n",
    "# create a Doc object\n",
    "doc = nlp(rando)\n",
    "\n",
    "# generate list of tokens\n",
    "tokens = [token.text for token in doc]\n",
    "print(tokens)"
   ]
  },
  {
   "cell_type": "code",
   "execution_count": 29,
   "metadata": {},
   "outputs": [
    {
     "name": "stdout",
     "output_type": "stream",
     "text": [
      "['@polisforco', '-PRON-', 'can', 'assure', 'Mr.', 'Polis', 'that', 'National', 'Guard', 'troop', 'from', 'Colorado', 'have', 'serve', 'in', 'Afghanistan', 'and', 'Iraq', '.']\n"
     ]
    }
   ],
   "source": [
    "# generate list of lemmas\n",
    "lemmas = [token.lemma_ for token in doc]\n",
    "print(lemmas)"
   ]
  },
  {
   "cell_type": "code",
   "execution_count": 30,
   "metadata": {},
   "outputs": [
    {
     "name": "stdout",
     "output_type": "stream",
     "text": [
      "@polisforco -PRON- can assure Mr. Polis that National Guard troop from Colorado have serve in Afghanistan and Iraq .\n"
     ]
    }
   ],
   "source": [
    "# convert lemmas into a string\n",
    "print(\" \".join(lemmas))"
   ]
  },
  {
   "cell_type": "markdown",
   "metadata": {},
   "source": [
    "## _Text Cleaning Techniques_\n",
    "\n",
    "- Unnecessary whitespaces and escape sequences\n",
    "- punctuations\n",
    "- special characters (numbers, emojis, etc.)\n",
    "- stopwords\n",
    "- `isalpha()` --> returns True if all characters of string are alphabetical\n",
    "    - not nuanced"
   ]
  },
  {
   "cell_type": "code",
   "execution_count": 31,
   "metadata": {},
   "outputs": [
    {
     "data": {
      "text/plain": [
       "True"
      ]
     },
     "execution_count": 31,
     "metadata": {},
     "output_type": "execute_result"
    }
   ],
   "source": [
    "\"dog\".isalpha()"
   ]
  },
  {
   "cell_type": "code",
   "execution_count": 32,
   "metadata": {},
   "outputs": [
    {
     "data": {
      "text/plain": [
       "False"
      ]
     },
     "execution_count": 32,
     "metadata": {},
     "output_type": "execute_result"
    }
   ],
   "source": [
    "\"3dog\".isalpha()"
   ]
  },
  {
   "cell_type": "code",
   "execution_count": 33,
   "metadata": {},
   "outputs": [],
   "source": [
    "import nltk\n",
    "\n",
    "# access Donald Trump's inauguration speech from 2017\n",
    "path = nltk.data.find(\"corpora/inaugural/2017-Trump.txt\")\n",
    "raw = open(path, 'r').read()"
   ]
  },
  {
   "cell_type": "code",
   "execution_count": 34,
   "metadata": {},
   "outputs": [
    {
     "name": "stdout",
     "output_type": "stream",
     "text": [
      "Chief Justice Roberts President Carter President Clinton President Bush President Obama fellow Americans people world thank citizen America join great national effort rebuild country restore promise people determine course America world year come face challenge confront hardship job year gather step carry orderly peaceful transfer power grateful President Obama First Lady Michelle Obama gracious aid transition magnificent thank today ceremony special meaning today merely transfer power administration party transfer power Washington DC people long small group Nation capital reap reward Government people bear cost Washington flourish people share wealth politician prosper job leave factory close establishment protect citizen country victory victory triumph triumph celebrate Nation capital little celebrate struggle family land change start right right moment moment belong belong gather today watch America day celebration United States America country truly matter party control Government Government control people January remember day people ruler nation forget man woman country forget longer listen come million historic movement like world center movement crucial conviction nation exist serve citizen Americans want great school child safe neighborhood family good job reasonable demand righteous people righteous public citizen different reality exist mother child trap poverty inner city rust factory scatter like tombstone landscape Nation education system flush cash leave young beautiful student deprive knowledge crime gang drug steal life rob country unrealized potential american carnage stop right stop right nation pain pain dream dream success success share heart home glorious destiny oath office today oath allegiance Americans decade enrich foreign industry expense american industry subsidize army country allow sad depletion military defend nation border refuse defend spent trillion trillion dollar overseas America infrastructure fall disrepair decay country rich wealth strength confidence country dissipate horizon factory shutter leave shore thought million million american worker leave wealth middle class rip home redistribute world past look future assemble today issue new decree hear city foreign capital hall power day forward new vision govern land day forward America America decision trade taxis immigration foreign affair benefit american worker american family protect border ravage country product steal company destroy job protection lead great prosperity strength fight breath body let America start win win like bring job bring border bring wealth bring dream build new road highway bridge airport tunnel railway wonderful nation people welfare work rebuild country american hand american labor follow simple rule buy american hire american seek friendship good nation world understanding right nation interest seek impose way life let shine example shine follow reinforce old alliance form new unite civilized world radical islamic terrorism eradicate completely face Earth bedrock politic total allegiance United States America loyalty country rediscover loyalty open heart patriotism room prejudice Bible tell good pleasant God people live unity speak mind openly debate disagreement honestly pursue solidarity America united America totally unstoppable fear protect protect protect great man woman military law enforcement importantly protect God finally think big dream big America understand nation live long strive longer accept politician talk action constantly complain time talk arrive hour action allow tell challenge match heart fight spirit America fail country thrive prosper stand birth new millennium ready unlock mystery space free Earth misery disease harness energy industry technology tomorrow new national pride stir soul lift sight heal division time remember old wisdom soldier forget black Brown White bleed red blood patriot enjoy glorious freedom salute great american flag child bear urban sprawl Detroit windswept plain Nebraska look night sky fill heart dream infuse breath life almighty Creator Americans city near far small large mountain mountain ocean ocean hear word ignore voice hope dream define american destiny courage goodness love forever guide way America strong America wealthy America proud America safe yes America great thank God bless God bless America thank God bless America\n"
     ]
    }
   ],
   "source": [
    "stopwords = spacy.lang.en.stop_words.STOP_WORDS\n",
    "\n",
    "# create Doc object\n",
    "doc = nlp(raw)\n",
    "\n",
    "# generate lemmatized tokens\n",
    "lemmas = [token.lemma_ for token in doc]\n",
    "\n",
    "# remove stopwords and non-alphabetic tokens\n",
    "a_lemmas = [lemma for lemma in lemmas if lemma.isalpha() and lemma not in stopwords]\n",
    "\n",
    "# print string after text cleaning\n",
    "print(\" \".join(a_lemmas))"
   ]
  },
  {
   "cell_type": "code",
   "execution_count": 35,
   "metadata": {},
   "outputs": [],
   "source": [
    "def preprocess(text):\n",
    "    \"\"\"\n",
    "    Function to preprocess text.\n",
    "    \"\"\"\n",
    "    # create Doc object\n",
    "    doc = nlp(text, disable=[\"ner\", \"parser\"])\n",
    "    # generate lemmas\n",
    "    lemmas = [token.lemma_ for token in doc]\n",
    "    # remove stopwords and non-alphabetic characters\n",
    "    a_lemmas = [lemma for lemma in lemmas if lemma.isalpha() and lemma not in stopwords]\n",
    "    \n",
    "    return \" \".join(a_lemmas)"
   ]
  },
  {
   "cell_type": "code",
   "execution_count": 36,
   "metadata": {},
   "outputs": [
    {
     "name": "stdout",
     "output_type": "stream",
     "text": [
      "old polar bear Klondike die age environment\n",
      "politic Trump win Hawaii GOP caucus\n",
      "true story\n",
      "expect kickass sadly happen XD\n",
      "belive\n",
      "memorial night G\n",
      "Jogging workout sampe malam\n",
      "People ask positive time answer simple positive mindset bring positive result want result let gooooooooo people\n",
      "local official react El Paso Children Hospital filing bankruptcy protection news\n",
      "gossip gossip like cycle end\n"
     ]
    }
   ],
   "source": [
    "# apply the above to the first 10 observations in our sample data\n",
    "for text in list(sample[\"full_text\"][:10].apply(preprocess)):\n",
    "    print(text)"
   ]
  },
  {
   "cell_type": "markdown",
   "metadata": {},
   "source": [
    "## _Part-of-speech (POS) tagging_\n",
    "\n",
    "- word-sense disambiguation\n",
    "- helps identifying why the word is being used\n",
    "- sentiment analysis\n",
    "- question answering\n",
    "- has applications in fake news\n",
    "- assign every word/token its corresponding part of speech"
   ]
  },
  {
   "cell_type": "code",
   "execution_count": 39,
   "metadata": {},
   "outputs": [],
   "source": [
    "# store entire sample column into a variable\n",
    "twitter_text = sample[\"full_text\"]"
   ]
  },
  {
   "cell_type": "code",
   "execution_count": 41,
   "metadata": {},
   "outputs": [
    {
     "name": "stdout",
     "output_type": "stream",
     "text": [
      "[('Oldest', 'ADJ'), ('U.S.', 'PROPN'), ('polar', 'ADJ'), ('bear', 'NOUN'), (\"'\", 'PUNCT'), ('Klondike', 'PROPN'), (\"'\", 'PUNCT'), ('dies', 'VERB'), ('at', 'ADP'), ('age', 'NOUN'), ('34', 'NUM'), (' ', 'SPACE'), ('#', 'NOUN'), ('environment', 'NOUN')]\n"
     ]
    }
   ],
   "source": [
    "# create a doc object of first tweet\n",
    "doc = nlp(twitter_text[0])\n",
    "\n",
    "# generate tokens and pos tags\n",
    "pos = [(token.text, token.pos_) for token in doc]\n",
    "print(pos)"
   ]
  },
  {
   "cell_type": "code",
   "execution_count": 44,
   "metadata": {},
   "outputs": [],
   "source": [
    "def proper_nouns(text, model=nlp):\n",
    "    \"\"\"\n",
    "    Function that returns number of proper nouns.\n",
    "    \"\"\"\n",
    "    doc = model(text)\n",
    "    # generate list of POS tags\n",
    "    pos = [token.pos_ for token in doc]\n",
    "    \n",
    "    # return number of proper nouns\n",
    "    return pos.count(\"PROPN\")"
   ]
  },
  {
   "cell_type": "code",
   "execution_count": 45,
   "metadata": {},
   "outputs": [
    {
     "name": "stdout",
     "output_type": "stream",
     "text": [
      "2\n"
     ]
    }
   ],
   "source": [
    "# call above function on first Twitter text observation\n",
    "print(proper_nouns(twitter_text[0]))"
   ]
  },
  {
   "cell_type": "code",
   "execution_count": 46,
   "metadata": {},
   "outputs": [],
   "source": [
    "def nouns(text, model=nlp):\n",
    "    \"\"\"\n",
    "    Function that returns the number of other nouns.\n",
    "    \"\"\"\n",
    "    # create doc object\n",
    "    doc = model(text)\n",
    "    # generate list of POS tags\n",
    "    pos = [token.pos_ for token in doc]\n",
    "    \n",
    "    # return number of other nouns\n",
    "    return pos.count(\"NOUN\")"
   ]
  },
  {
   "cell_type": "code",
   "execution_count": 47,
   "metadata": {},
   "outputs": [
    {
     "name": "stdout",
     "output_type": "stream",
     "text": [
      "4\n"
     ]
    }
   ],
   "source": [
    "# call above function on first Twitter text observation\n",
    "print(nouns(twitter_text[0]))"
   ]
  },
  {
   "cell_type": "code",
   "execution_count": 60,
   "metadata": {},
   "outputs": [],
   "source": [
    "# create data frame of twitter text series (with labels)\n",
    "textdf = sample[[\"full_text\", \"label_real\"]].sample(frac=0.10, random_state=5)"
   ]
  },
  {
   "cell_type": "code",
   "execution_count": 61,
   "metadata": {},
   "outputs": [
    {
     "data": {
      "text/plain": [
       "16888"
      ]
     },
     "execution_count": 61,
     "metadata": {},
     "output_type": "execute_result"
    }
   ],
   "source": [
    "len(textdf)"
   ]
  },
  {
   "cell_type": "code",
   "execution_count": 63,
   "metadata": {},
   "outputs": [
    {
     "name": "stdout",
     "output_type": "stream",
     "text": [
      "CPU times: user 1min 56s, sys: 380 ms, total: 1min 56s\n",
      "Wall time: 1min 57s\n"
     ]
    }
   ],
   "source": [
    "%%time\n",
    "\n",
    "# create a new column that returns number of propernouns from text\n",
    "textdf[\"num_propn\"] = textdf[\"full_text\"].apply(proper_nouns)"
   ]
  },
  {
   "cell_type": "code",
   "execution_count": 64,
   "metadata": {},
   "outputs": [
    {
     "name": "stdout",
     "output_type": "stream",
     "text": [
      "CPU times: user 1min 56s, sys: 341 ms, total: 1min 56s\n",
      "Wall time: 1min 57s\n"
     ]
    }
   ],
   "source": [
    "%%time\n",
    "\n",
    "# create a new column that returns number of nouns from text\n",
    "textdf[\"num_noun\"] = textdf[\"full_text\"].apply(nouns)"
   ]
  },
  {
   "cell_type": "code",
   "execution_count": 66,
   "metadata": {},
   "outputs": [
    {
     "name": "stdout",
     "output_type": "stream",
     "text": [
      "Mean no. of proper nouns in real and fake tweets are 3.24 and 2.36 respectively\n",
      "Mean no. of other nouns in real and fake tweets are 4.21 and 3.06 respectively\n"
     ]
    }
   ],
   "source": [
    "# compute mean number of proper nouns\n",
    "real_propn = textdf[textdf[\"label_real\"] == 1][\"num_propn\"].mean()\n",
    "fake_propn = textdf[textdf[\"label_real\"] == 0][\"num_propn\"].mean()\n",
    "\n",
    "# compute mean number of nouns \n",
    "real_noun = textdf[textdf[\"label_real\"] == 1][\"num_noun\"].mean()\n",
    "fake_noun = textdf[textdf[\"label_real\"] == 0][\"num_noun\"].mean()\n",
    "\n",
    "# Print results\n",
    "print(\"Mean no. of proper nouns in real and fake tweets are %.2f and %.2f respectively\"%(real_propn, fake_propn))\n",
    "print(\"Mean no. of other nouns in real and fake tweets are %.2f and %.2f respectively\"%(real_noun, fake_noun))"
   ]
  },
  {
   "cell_type": "markdown",
   "metadata": {},
   "source": [
    "### _Named entity recognition_\n",
    "\n",
    "- efficient search algorithms\n",
    "- question answering\n",
    "- identifying and classifying named entities into predefined categories\n",
    "- categories include person, organization, country, etc."
   ]
  },
  {
   "cell_type": "code",
   "execution_count": 68,
   "metadata": {},
   "outputs": [
    {
     "name": "stdout",
     "output_type": "stream",
     "text": [
      "[('U.S.', 'GPE'), ('Klondike', 'WORK_OF_ART'), ('age 34', 'DATE')]\n"
     ]
    }
   ],
   "source": [
    "# data for quick example of NER\n",
    "doc = nlp(twitter_text[0])\n",
    "\n",
    "# generate named entities\n",
    "ne = [(ent.text, ent.label_) for ent in doc.ents]\n",
    "print(ne)"
   ]
  },
  {
   "cell_type": "code",
   "execution_count": 69,
   "metadata": {},
   "outputs": [
    {
     "name": "stdout",
     "output_type": "stream",
     "text": [
      "Sundar Pichai PERSON\n",
      "Google ORG\n",
      "Mountain View GPE\n"
     ]
    }
   ],
   "source": [
    "# Create a Doc instance \n",
    "text = 'Sundar Pichai is the CEO of Google. Its headquarters is in Mountain View.'\n",
    "doc = nlp(text)\n",
    "\n",
    "# Print all named entities and their labels\n",
    "for ent in doc.ents:\n",
    "    print(ent.text, ent.label_)"
   ]
  },
  {
   "cell_type": "code",
   "execution_count": 71,
   "metadata": {},
   "outputs": [],
   "source": [
    "def find_persons(text):\n",
    "    \"\"\"\n",
    "    Function that finds people in a given text.\n",
    "    \"\"\"\n",
    "    doc = nlp(text)\n",
    "    # identify the persons\n",
    "    persons = [ent.text for ent in doc.ents if ent.label_ == \"PERSON\"]\n",
    "    return persons"
   ]
  },
  {
   "cell_type": "code",
   "execution_count": 72,
   "metadata": {},
   "outputs": [
    {
     "name": "stdout",
     "output_type": "stream",
     "text": [
      "['Justice Roberts', 'Carter', 'Clinton', 'Bush', 'Obama', 'Michelle Obama', 'Bible', 'Creator', 'God']\n"
     ]
    }
   ],
   "source": [
    "print(find_persons(raw))"
   ]
  },
  {
   "cell_type": "markdown",
   "metadata": {},
   "source": [
    "### _Building a bag of words model_\n",
    "\n",
    "- extract word tokens\n",
    "- compute frequency of word tokens\n",
    "- construct a word vector out of these frequencies and vocabulary of corpus"
   ]
  },
  {
   "cell_type": "code",
   "execution_count": 75,
   "metadata": {},
   "outputs": [],
   "source": [
    "# reset index of textdf\n",
    "textdf.reset_index(drop=True, inplace=True)"
   ]
  },
  {
   "cell_type": "code",
   "execution_count": 78,
   "metadata": {},
   "outputs": [
    {
     "name": "stdout",
     "output_type": "stream",
     "text": [
      "(16888, 39718)\n"
     ]
    }
   ],
   "source": [
    "# import CountVectorizer\n",
    "from sklearn.feature_extraction.text import CountVectorizer\n",
    "\n",
    "# create CountVectorizer object\n",
    "vectorizer = CountVectorizer()\n",
    "\n",
    "# generate matrix of word vectors\n",
    "bow_matrix = vectorizer.fit_transform(textdf[\"full_text\"])\n",
    "\n",
    "# print shape of bag-of-words matrix\n",
    "print(bow_matrix.shape)"
   ]
  },
  {
   "cell_type": "code",
   "execution_count": 81,
   "metadata": {},
   "outputs": [
    {
     "data": {
      "text/html": [
       "<div>\n",
       "<style scoped>\n",
       "    .dataframe tbody tr th:only-of-type {\n",
       "        vertical-align: middle;\n",
       "    }\n",
       "\n",
       "    .dataframe tbody tr th {\n",
       "        vertical-align: top;\n",
       "    }\n",
       "\n",
       "    .dataframe thead th {\n",
       "        text-align: right;\n",
       "    }\n",
       "</style>\n",
       "<table border=\"1\" class=\"dataframe\">\n",
       "  <thead>\n",
       "    <tr style=\"text-align: right;\">\n",
       "      <th></th>\n",
       "      <th>00</th>\n",
       "      <th>000</th>\n",
       "      <th>000th</th>\n",
       "      <th>00qkfi5bhx</th>\n",
       "      <th>00quo5zvog</th>\n",
       "      <th>00y1sse2wp</th>\n",
       "      <th>01</th>\n",
       "      <th>0123456789</th>\n",
       "      <th>01dsic9v6c</th>\n",
       "      <th>01khwvpguu</th>\n",
       "    </tr>\n",
       "  </thead>\n",
       "  <tbody>\n",
       "    <tr>\n",
       "      <td>0</td>\n",
       "      <td>0</td>\n",
       "      <td>0</td>\n",
       "      <td>0</td>\n",
       "      <td>0</td>\n",
       "      <td>0</td>\n",
       "      <td>0</td>\n",
       "      <td>0</td>\n",
       "      <td>0</td>\n",
       "      <td>0</td>\n",
       "      <td>0</td>\n",
       "    </tr>\n",
       "    <tr>\n",
       "      <td>1</td>\n",
       "      <td>0</td>\n",
       "      <td>0</td>\n",
       "      <td>0</td>\n",
       "      <td>0</td>\n",
       "      <td>0</td>\n",
       "      <td>0</td>\n",
       "      <td>0</td>\n",
       "      <td>0</td>\n",
       "      <td>0</td>\n",
       "      <td>0</td>\n",
       "    </tr>\n",
       "    <tr>\n",
       "      <td>2</td>\n",
       "      <td>0</td>\n",
       "      <td>0</td>\n",
       "      <td>0</td>\n",
       "      <td>0</td>\n",
       "      <td>0</td>\n",
       "      <td>0</td>\n",
       "      <td>0</td>\n",
       "      <td>0</td>\n",
       "      <td>0</td>\n",
       "      <td>0</td>\n",
       "    </tr>\n",
       "    <tr>\n",
       "      <td>3</td>\n",
       "      <td>0</td>\n",
       "      <td>0</td>\n",
       "      <td>0</td>\n",
       "      <td>0</td>\n",
       "      <td>0</td>\n",
       "      <td>0</td>\n",
       "      <td>0</td>\n",
       "      <td>0</td>\n",
       "      <td>0</td>\n",
       "      <td>0</td>\n",
       "    </tr>\n",
       "    <tr>\n",
       "      <td>4</td>\n",
       "      <td>0</td>\n",
       "      <td>0</td>\n",
       "      <td>0</td>\n",
       "      <td>0</td>\n",
       "      <td>0</td>\n",
       "      <td>0</td>\n",
       "      <td>0</td>\n",
       "      <td>0</td>\n",
       "      <td>0</td>\n",
       "      <td>0</td>\n",
       "    </tr>\n",
       "  </tbody>\n",
       "</table>\n",
       "</div>"
      ],
      "text/plain": [
       "   00  000  000th  00qkfi5bhx  00quo5zvog  00y1sse2wp  01  0123456789  \\\n",
       "0   0    0      0           0           0           0   0           0   \n",
       "1   0    0      0           0           0           0   0           0   \n",
       "2   0    0      0           0           0           0   0           0   \n",
       "3   0    0      0           0           0           0   0           0   \n",
       "4   0    0      0           0           0           0   0           0   \n",
       "\n",
       "   01dsic9v6c  01khwvpguu  \n",
       "0           0           0  \n",
       "1           0           0  \n",
       "2           0           0  \n",
       "3           0           0  \n",
       "4           0           0  "
      ]
     },
     "execution_count": 81,
     "metadata": {},
     "output_type": "execute_result"
    }
   ],
   "source": [
    "# convert bow_matrix into a DataFrame\n",
    "bow_df = pd.DataFrame(bow_matrix.toarray())\n",
    "\n",
    "# map the column names to vocabulary\n",
    "bow_df.columns = vectorizer.get_feature_names()\n",
    "\n",
    "# print first few row of first few columns\n",
    "bow_df.iloc[:5, :10]"
   ]
  },
  {
   "cell_type": "markdown",
   "metadata": {},
   "source": [
    "### _Building a BOW Naive Bayes Classifier_\n",
    "\n",
    "**Steps**\n",
    "1. Text preprocessing\n",
    "2. Building a bag-of-words model (i.e., representation)\n",
    "3. Machine Learning"
   ]
  },
  {
   "cell_type": "code",
   "execution_count": 83,
   "metadata": {},
   "outputs": [
    {
     "name": "stdout",
     "output_type": "stream",
     "text": [
      "(13510, 33676) (3378, 33676)\n"
     ]
    }
   ],
   "source": [
    "# import CountVectorizer\n",
    "from sklearn.feature_extraction.text import CountVectorizer\n",
    "from sklearn.model_selection import train_test_split\n",
    "\n",
    "# split data\n",
    "X_train, X_test, y_train, y_test = train_test_split(\n",
    "    textdf[\"full_text\"],\n",
    "    textdf[\"label_real\"],\n",
    "    test_size=0.2,\n",
    "    random_state=5\n",
    ")\n",
    "\n",
    "# create a CountVectorizer object\n",
    "vectorizer = CountVectorizer(lowercase=True, stop_words=\"english\")\n",
    "\n",
    "# fit and transform X_train\n",
    "X_train_bow = vectorizer.fit_transform(X_train)\n",
    "\n",
    "# Transform X_test\n",
    "X_test_bow = vectorizer.transform(X_test)\n",
    "\n",
    "# print shape of X_train and X_test bows\n",
    "print(X_train_bow.shape, X_test_bow.shape)"
   ]
  },
  {
   "cell_type": "code",
   "execution_count": 84,
   "metadata": {},
   "outputs": [
    {
     "name": "stdout",
     "output_type": "stream",
     "text": [
      "The accuracy of the classifier on the test set is 0.801\n"
     ]
    }
   ],
   "source": [
    "from sklearn.naive_bayes import MultinomialNB\n",
    "\n",
    "# create MultinomialNB object\n",
    "clf = MultinomialNB()\n",
    "\n",
    "# fit the classifier\n",
    "clf.fit(X_train_bow, y_train)\n",
    "\n",
    "# measure accuracy on test set\n",
    "accuracy = clf.score(X_test_bow, y_test)\n",
    "print(\"The accuracy of the classifier on the test set is %.3f\" % accuracy)"
   ]
  },
  {
   "cell_type": "code",
   "execution_count": 85,
   "metadata": {},
   "outputs": [
    {
     "name": "stdout",
     "output_type": "stream",
     "text": [
      "The text was generated by a 0 account\n"
     ]
    }
   ],
   "source": [
    "# Predict whether the below text would come from a fake/real account\n",
    "review = \"Putin and Trump ROCK!\"\n",
    "prediction = clf.predict(vectorizer.transform([review]))[0]\n",
    "print(\"The text was generated by a %i account\" % (prediction))"
   ]
  },
  {
   "cell_type": "markdown",
   "metadata": {},
   "source": [
    "### _Building n-gram models_\n",
    "\n",
    "- shortcoming of bag of words --> context is lost\n",
    "- n-grams --> contiguous sequence of _n_ elements (or words in a given document)\n",
    "    - can capture more context\n",
    "    - used in sentence completion, spelling correction, machine translation correction\n",
    "    - curse of dimensionality\n",
    "    - higher order n-grams are rare --> best when _n_ is small"
   ]
  },
  {
   "cell_type": "code",
   "execution_count": 90,
   "metadata": {},
   "outputs": [
    {
     "name": "stdout",
     "output_type": "stream",
     "text": [
      "ng1, ng2 and ng3 have 39718, 200425 and 418578 features respectively\n"
     ]
    }
   ],
   "source": [
    "# generates unigrams\n",
    "unigrams = CountVectorizer(ngram_range=(1,1))\n",
    "ng1 = unigrams.fit_transform(textdf[\"full_text\"])\n",
    "\n",
    "# generate up to bigrams\n",
    "bigrams = CountVectorizer(ngram_range=(1,2))\n",
    "ng2 = bigrams.fit_transform(textdf[\"full_text\"])\n",
    "\n",
    "# generates unigrams, bigrams and trigrams\n",
    "ngrams = CountVectorizer(ngram_range=(1,3))\n",
    "ng3 = ngrams.fit_transform(textdf[\"full_text\"])\n",
    "\n",
    "# Print the number of features for each model\n",
    "print(\"ng1, ng2 and ng3 have %i, %i and %i features respectively\" % (ng1.shape[1], ng2.shape[1], ng3.shape[1]))"
   ]
  },
  {
   "cell_type": "code",
   "execution_count": 99,
   "metadata": {},
   "outputs": [
    {
     "name": "stdout",
     "output_type": "stream",
     "text": [
      "(13510, 33676) (3378, 33676)\n"
     ]
    }
   ],
   "source": [
    "# create a CountVectorizer object\n",
    "vectorizer = CountVectorizer(lowercase=False, stop_words=\"english\", ngram_range=(1,2))\n",
    "\n",
    "# fit and transform X_train\n",
    "X_train_ng = vectorizer.fit_transform(X_train)\n",
    "\n",
    "# Transform X_test\n",
    "X_test_ng = vectorizer.transform(X_test)\n",
    "\n",
    "# print shape of X_train and X_test bows\n",
    "print(X_train_bow.shape, X_test_bow.shape)"
   ]
  },
  {
   "cell_type": "code",
   "execution_count": 100,
   "metadata": {},
   "outputs": [
    {
     "name": "stdout",
     "output_type": "stream",
     "text": [
      "The accuracy of the classifier on the test set is 0.809\n"
     ]
    }
   ],
   "source": [
    "# define an instance of MultinomialNB\n",
    "clf_ng = MultinomialNB()\n",
    "\n",
    "# fit the classifier\n",
    "clf_ng.fit(X_train_ng, y_train)\n",
    "\n",
    "# measure the accuracy\n",
    "accuracy = clf_ng.score(X_test_ng, y_test)\n",
    "print(\"The accuracy of the classifier on the test set is %.3f\" % accuracy)"
   ]
  },
  {
   "cell_type": "code",
   "execution_count": 101,
   "metadata": {},
   "outputs": [
    {
     "name": "stdout",
     "output_type": "stream",
     "text": [
      "The sentiment predicted by the classifier is 1\n"
     ]
    }
   ],
   "source": [
    "# Predict if the following tweet is from a real or fake account\n",
    "tweet = \"The movie was not good. The plot had several holes and the acting lacked panache.\"\n",
    "prediction = clf_ng.predict(vectorizer.transform([tweet]))[0]\n",
    "print(\"The sentiment predicted by the classifier is %i\" % (prediction))"
   ]
  },
  {
   "cell_type": "code",
   "execution_count": 105,
   "metadata": {},
   "outputs": [
    {
     "name": "stdout",
     "output_type": "stream",
     "text": [
      "The program took 0.347 seconds to complete. The accuracy on the test set is 0.80. The ngram \n",
      "representation had 28149 features.\n"
     ]
    }
   ],
   "source": [
    "# comparing performance of n-gram models\n",
    "import time\n",
    "\n",
    "start_time = time.time()\n",
    "\n",
    "# split data into train and test sets\n",
    "train_X, test_X, train_y, test_y = train_test_split(\n",
    "    textdf[\"full_text\"],\n",
    "    textdf[\"label_real\"],\n",
    "    test_size=0.5,\n",
    "    stratify=textdf[\"label_real\"],\n",
    "    random_state=5\n",
    ")\n",
    "\n",
    "# generate ngrams\n",
    "vectorizer = CountVectorizer(lowercase=False, stop_words=\"english\", ngram_range=(1,1))\n",
    "train_X = vectorizer.fit_transform(train_X)\n",
    "test_X = vectorizer.transform(test_X)\n",
    "\n",
    "# fit classifier\n",
    "clf = MultinomialNB()\n",
    "clf.fit(train_X, train_y)\n",
    "\n",
    "# Print accuracy, time and number of dimensions\n",
    "print(\"\"\"The program took %.3f seconds to complete. The accuracy on the test set is %.2f. The ngram \n",
    "representation had %i features.\"\"\" % (time.time() - start_time, clf.score(test_X, test_y), train_X.shape[1]))"
   ]
  },
  {
   "cell_type": "code",
   "execution_count": 106,
   "metadata": {},
   "outputs": [
    {
     "name": "stdout",
     "output_type": "stream",
     "text": [
      "The program took 1.039 seconds to complete. The accuracy on the test set is 0.79. The ngram \n",
      "representation had 177967 features.\n"
     ]
    }
   ],
   "source": [
    "# same as above but with ngrams up to 3\n",
    "# comparing performance of n-gram models\n",
    "import time\n",
    "\n",
    "start_time = time.time()\n",
    "\n",
    "# split data into train and test sets\n",
    "train_X, test_X, train_y, test_y = train_test_split(\n",
    "    textdf[\"full_text\"],\n",
    "    textdf[\"label_real\"],\n",
    "    test_size=0.5,\n",
    "    stratify=textdf[\"label_real\"],\n",
    "    random_state=5\n",
    ")\n",
    "\n",
    "# generate ngrams\n",
    "vectorizer = CountVectorizer(lowercase=False, stop_words=\"english\", ngram_range=(1,3))\n",
    "train_X = vectorizer.fit_transform(train_X)\n",
    "test_X = vectorizer.transform(test_X)\n",
    "\n",
    "# fit classifier\n",
    "clf = MultinomialNB()\n",
    "clf.fit(train_X, train_y)\n",
    "\n",
    "# Print accuracy, time and number of dimensions\n",
    "print(\"\"\"The program took %.3f seconds to complete. The accuracy on the test set is %.2f. The ngram \n",
    "representation had %i features.\"\"\" % (time.time() - start_time, clf.score(test_X, test_y), train_X.shape[1]))"
   ]
  },
  {
   "cell_type": "code",
   "execution_count": null,
   "metadata": {},
   "outputs": [],
   "source": []
  }
 ],
 "metadata": {
  "kernelspec": {
   "display_name": "Python 3",
   "language": "python",
   "name": "python3"
  },
  "language_info": {
   "codemirror_mode": {
    "name": "ipython",
    "version": 3
   },
   "file_extension": ".py",
   "mimetype": "text/x-python",
   "name": "python",
   "nbconvert_exporter": "python",
   "pygments_lexer": "ipython3",
   "version": "3.7.4"
  }
 },
 "nbformat": 4,
 "nbformat_minor": 4
}
