{
 "cells": [
  {
   "cell_type": "markdown",
   "metadata": {},
   "source": [
    "# _IRA Tweets: Data Wrangling_"
   ]
  },
  {
   "cell_type": "code",
   "execution_count": 5,
   "metadata": {},
   "outputs": [],
   "source": [
    "import pandas as pd\n",
    "pd.set_option(\"display.max_columns\", None)\n",
    "\n",
    "dtype = {\n",
    "    \"tweetid\": str\n",
    "}\n",
    "\n",
    "cols_interest = [\n",
    "    \"tweetid\",\n",
    "    \"user_screen_name\",\n",
    "    \"tweet_time\",\n",
    "    \"tweet_language\",\n",
    "    \"tweet_client_name\",\n",
    "    \"retweet_count\",\n",
    "    \"like_count\",\n",
    "    \"tweet_text\"\n",
    "]\n",
    "\n",
    "# creater object for iteration with chunksize of 50,000 observations\n",
    "chunks = pd.read_csv(\n",
    "    \"tr-data/ira_tweets_csv_hashed.csv\",\n",
    "    usecols=cols_interest,\n",
    "    chunksize=50000,\n",
    "    dtype=dtype,\n",
    "    low_memory=False)"
   ]
  },
  {
   "cell_type": "code",
   "execution_count": 6,
   "metadata": {},
   "outputs": [
    {
     "name": "stderr",
     "output_type": "stream",
     "text": [
      "176it [02:00,  1.46it/s]\n"
     ]
    }
   ],
   "source": [
    "from tqdm import tqdm\n",
    "\n",
    "# empty list to store chunks\n",
    "chunk_list = []\n",
    "\n",
    "# iterate through chunks, appending to list\n",
    "for chunk in tqdm(chunks):\n",
    "    chunk_list.append(chunk)\n",
    "    \n",
    "# concat list into dataframe\n",
    "df = pd.concat(chunk_list)"
   ]
  },
  {
   "cell_type": "code",
   "execution_count": 7,
   "metadata": {},
   "outputs": [
    {
     "name": "stdout",
     "output_type": "stream",
     "text": [
      "<class 'pandas.core.frame.DataFrame'>\n",
      "RangeIndex: 8768633 entries, 0 to 8768632\n",
      "Data columns (total 8 columns):\n",
      "tweetid              object\n",
      "user_screen_name     object\n",
      "tweet_language       object\n",
      "tweet_text           object\n",
      "tweet_time           object\n",
      "tweet_client_name    object\n",
      "like_count           float64\n",
      "retweet_count        float64\n",
      "dtypes: float64(2), object(6)\n",
      "memory usage: 535.2+ MB\n"
     ]
    }
   ],
   "source": [
    "df.info()"
   ]
  },
  {
   "cell_type": "markdown",
   "metadata": {},
   "source": [
    "## _Check languages_"
   ]
  },
  {
   "cell_type": "code",
   "execution_count": 8,
   "metadata": {},
   "outputs": [],
   "source": [
    "# rearrange columns\n",
    "df = df[cols_interest]"
   ]
  },
  {
   "cell_type": "code",
   "execution_count": 11,
   "metadata": {},
   "outputs": [
    {
     "data": {
      "text/plain": [
       "ru     4853185\n",
       "en     2997181\n",
       "und     229392\n",
       "de       98460\n",
       "uk       82237\n",
       "bg       54690\n",
       "ar       37241\n",
       "it       20136\n",
       "fr       12241\n",
       "es       11922\n",
       "in        9523\n",
       "sr        8045\n",
       "tl        6618\n",
       "ht        6170\n",
       "et        5847\n",
       "tr        3832\n",
       "sk        3343\n",
       "nl        3151\n",
       "da        2987\n",
       "ro        2980\n",
       "pt        2698\n",
       "ja        2653\n",
       "cy        2591\n",
       "sl        2307\n",
       "pl        1804\n",
       "sv        1759\n",
       "fi        1611\n",
       "no        1500\n",
       "lt        1340\n",
       "cs        1037\n",
       "bs         615\n",
       "lv         505\n",
       "hu         499\n",
       "id         466\n",
       "hi         307\n",
       "hr         297\n",
       "ko         288\n",
       "vi         283\n",
       "is         268\n",
       "eu         223\n",
       "zh          56\n",
       "iw          56\n",
       "th          40\n",
       "fa          37\n",
       "el          35\n",
       "hy          23\n",
       "ur          17\n",
       "ne           7\n",
       "si           5\n",
       "ta           4\n",
       "bn           3\n",
       "km           3\n",
       "ml           2\n",
       "mr           2\n",
       "he           2\n",
       "ug           1\n",
       "iu           1\n",
       "ps           1\n",
       "Name: tweet_language, dtype: int64"
      ]
     },
     "execution_count": 11,
     "metadata": {},
     "output_type": "execute_result"
    }
   ],
   "source": [
    "# see value counts in tweet_language column\n",
    "df[\"tweet_language\"].value_counts()"
   ]
  },
  {
   "cell_type": "code",
   "execution_count": 12,
   "metadata": {},
   "outputs": [],
   "source": [
    "# retrieve only observations in English (i.e. en)\n",
    "english = df[df[\"tweet_language\"] == \"en\"]"
   ]
  },
  {
   "cell_type": "code",
   "execution_count": 16,
   "metadata": {},
   "outputs": [],
   "source": [
    "# reset index of English-only dataframe\n",
    "english = english.reset_index(drop=True)"
   ]
  },
  {
   "cell_type": "markdown",
   "metadata": {},
   "source": [
    "## _Investigate `retweet_count`_"
   ]
  },
  {
   "cell_type": "code",
   "execution_count": 17,
   "metadata": {},
   "outputs": [
    {
     "data": {
      "text/plain": [
       "2310"
      ]
     },
     "execution_count": 17,
     "metadata": {},
     "output_type": "execute_result"
    }
   ],
   "source": [
    "# see how many missing values there are in retweet_count column\n",
    "english[\"retweet_count\"].isna().sum()"
   ]
  },
  {
   "cell_type": "code",
   "execution_count": 18,
   "metadata": {},
   "outputs": [
    {
     "data": {
      "text/html": [
       "<div>\n",
       "<style scoped>\n",
       "    .dataframe tbody tr th:only-of-type {\n",
       "        vertical-align: middle;\n",
       "    }\n",
       "\n",
       "    .dataframe tbody tr th {\n",
       "        vertical-align: top;\n",
       "    }\n",
       "\n",
       "    .dataframe thead th {\n",
       "        text-align: right;\n",
       "    }\n",
       "</style>\n",
       "<table border=\"1\" class=\"dataframe\">\n",
       "  <thead>\n",
       "    <tr style=\"text-align: right;\">\n",
       "      <th></th>\n",
       "      <th>tweetid</th>\n",
       "      <th>user_screen_name</th>\n",
       "      <th>tweet_time</th>\n",
       "      <th>tweet_language</th>\n",
       "      <th>tweet_client_name</th>\n",
       "      <th>retweet_count</th>\n",
       "      <th>like_count</th>\n",
       "      <th>tweet_text</th>\n",
       "    </tr>\n",
       "  </thead>\n",
       "  <tbody>\n",
       "    <tr>\n",
       "      <td>151</td>\n",
       "      <td>886061215251693569</td>\n",
       "      <td>a95a911dd6ae864c48ed062cdbe75e5c28dbe0cf57c6db...</td>\n",
       "      <td>2017-07-15 03:13</td>\n",
       "      <td>en</td>\n",
       "      <td>Twitter for Android</td>\n",
       "      <td>NaN</td>\n",
       "      <td>NaN</td>\n",
       "      <td>RT @W_C_Patriot: A strong man can handle a str...</td>\n",
       "    </tr>\n",
       "    <tr>\n",
       "      <td>1063</td>\n",
       "      <td>783688055697707009</td>\n",
       "      <td>b61d47c22efd69b47675c296d5c54e2675da8977504225...</td>\n",
       "      <td>2016-10-05 15:19</td>\n",
       "      <td>en</td>\n",
       "      <td>Twitter Web Client</td>\n",
       "      <td>NaN</td>\n",
       "      <td>NaN</td>\n",
       "      <td>RT @TheZenGardner: Raw oysters? Yes, please.  ...</td>\n",
       "    </tr>\n",
       "    <tr>\n",
       "      <td>5550</td>\n",
       "      <td>884606889232744448</td>\n",
       "      <td>a95a911dd6ae864c48ed062cdbe75e5c28dbe0cf57c6db...</td>\n",
       "      <td>2017-07-11 02:54</td>\n",
       "      <td>en</td>\n",
       "      <td>Twitter for Android</td>\n",
       "      <td>NaN</td>\n",
       "      <td>NaN</td>\n",
       "      <td>RT @Cernovich: Instead of covering ANTIFA viol...</td>\n",
       "    </tr>\n",
       "  </tbody>\n",
       "</table>\n",
       "</div>"
      ],
      "text/plain": [
       "                 tweetid                                   user_screen_name  \\\n",
       "151   886061215251693569  a95a911dd6ae864c48ed062cdbe75e5c28dbe0cf57c6db...   \n",
       "1063  783688055697707009  b61d47c22efd69b47675c296d5c54e2675da8977504225...   \n",
       "5550  884606889232744448  a95a911dd6ae864c48ed062cdbe75e5c28dbe0cf57c6db...   \n",
       "\n",
       "            tweet_time tweet_language    tweet_client_name  retweet_count  \\\n",
       "151   2017-07-15 03:13             en  Twitter for Android            NaN   \n",
       "1063  2016-10-05 15:19             en   Twitter Web Client            NaN   \n",
       "5550  2017-07-11 02:54             en  Twitter for Android            NaN   \n",
       "\n",
       "      like_count                                         tweet_text  \n",
       "151          NaN  RT @W_C_Patriot: A strong man can handle a str...  \n",
       "1063         NaN  RT @TheZenGardner: Raw oysters? Yes, please.  ...  \n",
       "5550         NaN  RT @Cernovich: Instead of covering ANTIFA viol...  "
      ]
     },
     "execution_count": 18,
     "metadata": {},
     "output_type": "execute_result"
    }
   ],
   "source": [
    "english[english[\"retweet_count\"].isna()][:3]"
   ]
  },
  {
   "cell_type": "code",
   "execution_count": 19,
   "metadata": {},
   "outputs": [
    {
     "data": {
      "text/html": [
       "<div>\n",
       "<style scoped>\n",
       "    .dataframe tbody tr th:only-of-type {\n",
       "        vertical-align: middle;\n",
       "    }\n",
       "\n",
       "    .dataframe tbody tr th {\n",
       "        vertical-align: top;\n",
       "    }\n",
       "\n",
       "    .dataframe thead th {\n",
       "        text-align: right;\n",
       "    }\n",
       "</style>\n",
       "<table border=\"1\" class=\"dataframe\">\n",
       "  <thead>\n",
       "    <tr style=\"text-align: right;\">\n",
       "      <th></th>\n",
       "      <th>tweetid</th>\n",
       "      <th>user_screen_name</th>\n",
       "      <th>tweet_time</th>\n",
       "      <th>tweet_language</th>\n",
       "      <th>tweet_client_name</th>\n",
       "      <th>retweet_count</th>\n",
       "      <th>like_count</th>\n",
       "      <th>tweet_text</th>\n",
       "    </tr>\n",
       "  </thead>\n",
       "  <tbody>\n",
       "    <tr>\n",
       "      <td>2991950</td>\n",
       "      <td>829369918567092224</td>\n",
       "      <td>aacff3990c798063b89807b9e0f7bebf225930adaca5a7...</td>\n",
       "      <td>2017-02-08 16:42</td>\n",
       "      <td>en</td>\n",
       "      <td>Twitter Web Client</td>\n",
       "      <td>NaN</td>\n",
       "      <td>NaN</td>\n",
       "      <td>RT @facebookie: #ValentinesDayIn3Words Hallmar...</td>\n",
       "    </tr>\n",
       "    <tr>\n",
       "      <td>2995329</td>\n",
       "      <td>931584081652879361</td>\n",
       "      <td>a95a911dd6ae864c48ed062cdbe75e5c28dbe0cf57c6db...</td>\n",
       "      <td>2017-11-17 18:05</td>\n",
       "      <td>en</td>\n",
       "      <td>Twitter for Android</td>\n",
       "      <td>NaN</td>\n",
       "      <td>NaN</td>\n",
       "      <td>RT @Cernovich: Democrats are the real sexists.</td>\n",
       "    </tr>\n",
       "    <tr>\n",
       "      <td>2996354</td>\n",
       "      <td>673891173627367425</td>\n",
       "      <td>GiselleEvns</td>\n",
       "      <td>2015-12-07 15:45</td>\n",
       "      <td>en</td>\n",
       "      <td>Twitter Web Client</td>\n",
       "      <td>NaN</td>\n",
       "      <td>NaN</td>\n",
       "      <td>RT @demonwheels666: #RejectedChristmasDecorati...</td>\n",
       "    </tr>\n",
       "  </tbody>\n",
       "</table>\n",
       "</div>"
      ],
      "text/plain": [
       "                    tweetid  \\\n",
       "2991950  829369918567092224   \n",
       "2995329  931584081652879361   \n",
       "2996354  673891173627367425   \n",
       "\n",
       "                                          user_screen_name        tweet_time  \\\n",
       "2991950  aacff3990c798063b89807b9e0f7bebf225930adaca5a7...  2017-02-08 16:42   \n",
       "2995329  a95a911dd6ae864c48ed062cdbe75e5c28dbe0cf57c6db...  2017-11-17 18:05   \n",
       "2996354                                        GiselleEvns  2015-12-07 15:45   \n",
       "\n",
       "        tweet_language    tweet_client_name  retweet_count  like_count  \\\n",
       "2991950             en   Twitter Web Client            NaN         NaN   \n",
       "2995329             en  Twitter for Android            NaN         NaN   \n",
       "2996354             en   Twitter Web Client            NaN         NaN   \n",
       "\n",
       "                                                tweet_text  \n",
       "2991950  RT @facebookie: #ValentinesDayIn3Words Hallmar...  \n",
       "2995329     RT @Cernovich: Democrats are the real sexists.  \n",
       "2996354  RT @demonwheels666: #RejectedChristmasDecorati...  "
      ]
     },
     "execution_count": 19,
     "metadata": {},
     "output_type": "execute_result"
    }
   ],
   "source": [
    "english[english[\"retweet_count\"].isna()][-3:]"
   ]
  },
  {
   "cell_type": "code",
   "execution_count": 24,
   "metadata": {},
   "outputs": [
    {
     "data": {
      "text/plain": [
       "0.0     2572170\n",
       "1.0      176527\n",
       "2.0       65334\n",
       "3.0       31715\n",
       "4.0       17891\n",
       "5.0       12273\n",
       "6.0        9036\n",
       "7.0        6915\n",
       "8.0        4812\n",
       "9.0        4047\n",
       "10.0       3426\n",
       "11.0       3199\n",
       "12.0       2893\n",
       "13.0       2620\n",
       "14.0       2402\n",
       "NaN        2310\n",
       "15.0       2174\n",
       "Name: retweet_count, dtype: int64"
      ]
     },
     "execution_count": 24,
     "metadata": {},
     "output_type": "execute_result"
    }
   ],
   "source": [
    "english[\"retweet_count\"].value_counts(dropna=False)[:15]"
   ]
  },
  {
   "cell_type": "code",
   "execution_count": 25,
   "metadata": {},
   "outputs": [],
   "source": [
    "# replace NaNs in retweet_count column with 0\n",
    "english[\"retweet_count\"] = english[\"retweet_count\"].fillna(0)"
   ]
  },
  {
   "cell_type": "code",
   "execution_count": 26,
   "metadata": {},
   "outputs": [
    {
     "data": {
      "text/plain": [
       "0.0     2574480\n",
       "1.0      176527\n",
       "2.0       65334\n",
       "3.0       31715\n",
       "4.0       17891\n",
       "5.0       12273\n",
       "6.0        9036\n",
       "7.0        6915\n",
       "8.0        4812\n",
       "9.0        4047\n",
       "10.0       3426\n",
       "11.0       3199\n",
       "12.0       2893\n",
       "13.0       2620\n",
       "14.0       2402\n",
       "15.0       2174\n",
       "Name: retweet_count, dtype: int64"
      ]
     },
     "execution_count": 26,
     "metadata": {},
     "output_type": "execute_result"
    }
   ],
   "source": [
    "# confirm that it worked\n",
    "english[\"retweet_count\"].value_counts(dropna=False)[:15]"
   ]
  },
  {
   "cell_type": "code",
   "execution_count": 27,
   "metadata": {},
   "outputs": [],
   "source": [
    "# convert retweet_count to int type\n",
    "english[\"retweet_count\"] = english[\"retweet_count\"].astype(int)"
   ]
  },
  {
   "cell_type": "markdown",
   "metadata": {},
   "source": [
    "## _Investigate `like_count`_"
   ]
  },
  {
   "cell_type": "code",
   "execution_count": 29,
   "metadata": {},
   "outputs": [
    {
     "data": {
      "text/plain": [
       "2310"
      ]
     },
     "execution_count": 29,
     "metadata": {},
     "output_type": "execute_result"
    }
   ],
   "source": [
    "# see how many missing values there are in retweet_count column\n",
    "english[\"like_count\"].isna().sum()"
   ]
  },
  {
   "cell_type": "code",
   "execution_count": 30,
   "metadata": {},
   "outputs": [
    {
     "data": {
      "text/html": [
       "<div>\n",
       "<style scoped>\n",
       "    .dataframe tbody tr th:only-of-type {\n",
       "        vertical-align: middle;\n",
       "    }\n",
       "\n",
       "    .dataframe tbody tr th {\n",
       "        vertical-align: top;\n",
       "    }\n",
       "\n",
       "    .dataframe thead th {\n",
       "        text-align: right;\n",
       "    }\n",
       "</style>\n",
       "<table border=\"1\" class=\"dataframe\">\n",
       "  <thead>\n",
       "    <tr style=\"text-align: right;\">\n",
       "      <th></th>\n",
       "      <th>tweetid</th>\n",
       "      <th>user_screen_name</th>\n",
       "      <th>tweet_time</th>\n",
       "      <th>tweet_language</th>\n",
       "      <th>tweet_client_name</th>\n",
       "      <th>retweet_count</th>\n",
       "      <th>like_count</th>\n",
       "      <th>tweet_text</th>\n",
       "    </tr>\n",
       "  </thead>\n",
       "  <tbody>\n",
       "    <tr>\n",
       "      <td>151</td>\n",
       "      <td>886061215251693569</td>\n",
       "      <td>a95a911dd6ae864c48ed062cdbe75e5c28dbe0cf57c6db...</td>\n",
       "      <td>2017-07-15 03:13</td>\n",
       "      <td>en</td>\n",
       "      <td>Twitter for Android</td>\n",
       "      <td>0</td>\n",
       "      <td>NaN</td>\n",
       "      <td>RT @W_C_Patriot: A strong man can handle a str...</td>\n",
       "    </tr>\n",
       "    <tr>\n",
       "      <td>1063</td>\n",
       "      <td>783688055697707009</td>\n",
       "      <td>b61d47c22efd69b47675c296d5c54e2675da8977504225...</td>\n",
       "      <td>2016-10-05 15:19</td>\n",
       "      <td>en</td>\n",
       "      <td>Twitter Web Client</td>\n",
       "      <td>0</td>\n",
       "      <td>NaN</td>\n",
       "      <td>RT @TheZenGardner: Raw oysters? Yes, please.  ...</td>\n",
       "    </tr>\n",
       "    <tr>\n",
       "      <td>5550</td>\n",
       "      <td>884606889232744448</td>\n",
       "      <td>a95a911dd6ae864c48ed062cdbe75e5c28dbe0cf57c6db...</td>\n",
       "      <td>2017-07-11 02:54</td>\n",
       "      <td>en</td>\n",
       "      <td>Twitter for Android</td>\n",
       "      <td>0</td>\n",
       "      <td>NaN</td>\n",
       "      <td>RT @Cernovich: Instead of covering ANTIFA viol...</td>\n",
       "    </tr>\n",
       "  </tbody>\n",
       "</table>\n",
       "</div>"
      ],
      "text/plain": [
       "                 tweetid                                   user_screen_name  \\\n",
       "151   886061215251693569  a95a911dd6ae864c48ed062cdbe75e5c28dbe0cf57c6db...   \n",
       "1063  783688055697707009  b61d47c22efd69b47675c296d5c54e2675da8977504225...   \n",
       "5550  884606889232744448  a95a911dd6ae864c48ed062cdbe75e5c28dbe0cf57c6db...   \n",
       "\n",
       "            tweet_time tweet_language    tweet_client_name  retweet_count  \\\n",
       "151   2017-07-15 03:13             en  Twitter for Android              0   \n",
       "1063  2016-10-05 15:19             en   Twitter Web Client              0   \n",
       "5550  2017-07-11 02:54             en  Twitter for Android              0   \n",
       "\n",
       "      like_count                                         tweet_text  \n",
       "151          NaN  RT @W_C_Patriot: A strong man can handle a str...  \n",
       "1063         NaN  RT @TheZenGardner: Raw oysters? Yes, please.  ...  \n",
       "5550         NaN  RT @Cernovich: Instead of covering ANTIFA viol...  "
      ]
     },
     "execution_count": 30,
     "metadata": {},
     "output_type": "execute_result"
    }
   ],
   "source": [
    "# check out first three observations with NaNs in like_count\n",
    "english[english[\"like_count\"].isna()][:3]"
   ]
  },
  {
   "cell_type": "code",
   "execution_count": 31,
   "metadata": {},
   "outputs": [
    {
     "data": {
      "text/html": [
       "<div>\n",
       "<style scoped>\n",
       "    .dataframe tbody tr th:only-of-type {\n",
       "        vertical-align: middle;\n",
       "    }\n",
       "\n",
       "    .dataframe tbody tr th {\n",
       "        vertical-align: top;\n",
       "    }\n",
       "\n",
       "    .dataframe thead th {\n",
       "        text-align: right;\n",
       "    }\n",
       "</style>\n",
       "<table border=\"1\" class=\"dataframe\">\n",
       "  <thead>\n",
       "    <tr style=\"text-align: right;\">\n",
       "      <th></th>\n",
       "      <th>tweetid</th>\n",
       "      <th>user_screen_name</th>\n",
       "      <th>tweet_time</th>\n",
       "      <th>tweet_language</th>\n",
       "      <th>tweet_client_name</th>\n",
       "      <th>retweet_count</th>\n",
       "      <th>like_count</th>\n",
       "      <th>tweet_text</th>\n",
       "    </tr>\n",
       "  </thead>\n",
       "  <tbody>\n",
       "    <tr>\n",
       "      <td>2991950</td>\n",
       "      <td>829369918567092224</td>\n",
       "      <td>aacff3990c798063b89807b9e0f7bebf225930adaca5a7...</td>\n",
       "      <td>2017-02-08 16:42</td>\n",
       "      <td>en</td>\n",
       "      <td>Twitter Web Client</td>\n",
       "      <td>0</td>\n",
       "      <td>NaN</td>\n",
       "      <td>RT @facebookie: #ValentinesDayIn3Words Hallmar...</td>\n",
       "    </tr>\n",
       "    <tr>\n",
       "      <td>2995329</td>\n",
       "      <td>931584081652879361</td>\n",
       "      <td>a95a911dd6ae864c48ed062cdbe75e5c28dbe0cf57c6db...</td>\n",
       "      <td>2017-11-17 18:05</td>\n",
       "      <td>en</td>\n",
       "      <td>Twitter for Android</td>\n",
       "      <td>0</td>\n",
       "      <td>NaN</td>\n",
       "      <td>RT @Cernovich: Democrats are the real sexists.</td>\n",
       "    </tr>\n",
       "    <tr>\n",
       "      <td>2996354</td>\n",
       "      <td>673891173627367425</td>\n",
       "      <td>GiselleEvns</td>\n",
       "      <td>2015-12-07 15:45</td>\n",
       "      <td>en</td>\n",
       "      <td>Twitter Web Client</td>\n",
       "      <td>0</td>\n",
       "      <td>NaN</td>\n",
       "      <td>RT @demonwheels666: #RejectedChristmasDecorati...</td>\n",
       "    </tr>\n",
       "  </tbody>\n",
       "</table>\n",
       "</div>"
      ],
      "text/plain": [
       "                    tweetid  \\\n",
       "2991950  829369918567092224   \n",
       "2995329  931584081652879361   \n",
       "2996354  673891173627367425   \n",
       "\n",
       "                                          user_screen_name        tweet_time  \\\n",
       "2991950  aacff3990c798063b89807b9e0f7bebf225930adaca5a7...  2017-02-08 16:42   \n",
       "2995329  a95a911dd6ae864c48ed062cdbe75e5c28dbe0cf57c6db...  2017-11-17 18:05   \n",
       "2996354                                        GiselleEvns  2015-12-07 15:45   \n",
       "\n",
       "        tweet_language    tweet_client_name  retweet_count  like_count  \\\n",
       "2991950             en   Twitter Web Client              0         NaN   \n",
       "2995329             en  Twitter for Android              0         NaN   \n",
       "2996354             en   Twitter Web Client              0         NaN   \n",
       "\n",
       "                                                tweet_text  \n",
       "2991950  RT @facebookie: #ValentinesDayIn3Words Hallmar...  \n",
       "2995329     RT @Cernovich: Democrats are the real sexists.  \n",
       "2996354  RT @demonwheels666: #RejectedChristmasDecorati...  "
      ]
     },
     "execution_count": 31,
     "metadata": {},
     "output_type": "execute_result"
    }
   ],
   "source": [
    "# check out last three observations with NaNs in like_count\n",
    "english[english[\"like_count\"].isna()][-3:]"
   ]
  },
  {
   "cell_type": "code",
   "execution_count": 34,
   "metadata": {},
   "outputs": [
    {
     "data": {
      "text/plain": [
       "0.0     2569876\n",
       "1.0      200943\n",
       "2.0       61404\n",
       "3.0       25726\n",
       "4.0       14506\n",
       "5.0        9715\n",
       "6.0        7142\n",
       "7.0        5441\n",
       "8.0        4707\n",
       "9.0        3837\n",
       "10.0       3360\n",
       "11.0       2922\n",
       "12.0       2662\n",
       "13.0       2330\n",
       "NaN        2310\n",
       "14.0       2102\n",
       "15.0       1956\n",
       "Name: like_count, dtype: int64"
      ]
     },
     "execution_count": 34,
     "metadata": {},
     "output_type": "execute_result"
    }
   ],
   "source": [
    "# check out value counts for like_count column\n",
    "english[\"like_count\"].value_counts(dropna=False)[:15]"
   ]
  },
  {
   "cell_type": "code",
   "execution_count": 35,
   "metadata": {},
   "outputs": [],
   "source": [
    "# fill NaNs in like_count column with 0\n",
    "english[\"like_count\"] = english[\"like_count\"].fillna(0)\n",
    "\n",
    "# convert column to int type\n",
    "english[\"like_count\"] = english[\"like_count\"].astype(int)"
   ]
  },
  {
   "cell_type": "code",
   "execution_count": 36,
   "metadata": {},
   "outputs": [
    {
     "data": {
      "text/plain": [
       "0     2572186\n",
       "1      200943\n",
       "2       61404\n",
       "3       25726\n",
       "4       14506\n",
       "5        9715\n",
       "6        7142\n",
       "7        5441\n",
       "8        4707\n",
       "9        3837\n",
       "10       3360\n",
       "11       2922\n",
       "12       2662\n",
       "13       2330\n",
       "14       2102\n",
       "Name: like_count, dtype: int64"
      ]
     },
     "execution_count": 36,
     "metadata": {},
     "output_type": "execute_result"
    }
   ],
   "source": [
    "# check out value counts for like_count column\n",
    "english[\"like_count\"].value_counts(dropna=False)[:15]"
   ]
  },
  {
   "cell_type": "code",
   "execution_count": 37,
   "metadata": {},
   "outputs": [
    {
     "data": {
      "text/plain": [
       "tweetid                0\n",
       "user_screen_name       0\n",
       "tweet_time             0\n",
       "tweet_language         0\n",
       "tweet_client_name    224\n",
       "retweet_count          0\n",
       "like_count             0\n",
       "tweet_text             0\n",
       "dtype: int64"
      ]
     },
     "execution_count": 37,
     "metadata": {},
     "output_type": "execute_result"
    }
   ],
   "source": [
    "# check all columns for missing values\n",
    "english.isna().sum()"
   ]
  },
  {
   "cell_type": "markdown",
   "metadata": {},
   "source": [
    "## _Investigate `tweet_client_name` column & address missing values_"
   ]
  },
  {
   "cell_type": "code",
   "execution_count": 39,
   "metadata": {},
   "outputs": [
    {
     "data": {
      "text/html": [
       "<div>\n",
       "<style scoped>\n",
       "    .dataframe tbody tr th:only-of-type {\n",
       "        vertical-align: middle;\n",
       "    }\n",
       "\n",
       "    .dataframe tbody tr th {\n",
       "        vertical-align: top;\n",
       "    }\n",
       "\n",
       "    .dataframe thead th {\n",
       "        text-align: right;\n",
       "    }\n",
       "</style>\n",
       "<table border=\"1\" class=\"dataframe\">\n",
       "  <thead>\n",
       "    <tr style=\"text-align: right;\">\n",
       "      <th></th>\n",
       "      <th>tweetid</th>\n",
       "      <th>user_screen_name</th>\n",
       "      <th>tweet_time</th>\n",
       "      <th>tweet_language</th>\n",
       "      <th>tweet_client_name</th>\n",
       "      <th>retweet_count</th>\n",
       "      <th>like_count</th>\n",
       "      <th>tweet_text</th>\n",
       "    </tr>\n",
       "  </thead>\n",
       "  <tbody>\n",
       "    <tr>\n",
       "      <td>38331</td>\n",
       "      <td>378110495888134144</td>\n",
       "      <td>c6fdb5b31b765db7e3378b1e23b86ea2b0eb3c03e8db56...</td>\n",
       "      <td>2013-09-12 10:59</td>\n",
       "      <td>en</td>\n",
       "      <td>NaN</td>\n",
       "      <td>0</td>\n",
       "      <td>0</td>\n",
       "      <td>RT @RobertoBella01: It's a beautiful day !!! :...</td>\n",
       "    </tr>\n",
       "    <tr>\n",
       "      <td>49777</td>\n",
       "      <td>351307531605381120</td>\n",
       "      <td>c6fdb5b31b765db7e3378b1e23b86ea2b0eb3c03e8db56...</td>\n",
       "      <td>2013-06-30 11:53</td>\n",
       "      <td>en</td>\n",
       "      <td>NaN</td>\n",
       "      <td>0</td>\n",
       "      <td>0</td>\n",
       "      <td>RT @MomsenG: @c6fdb5b31b765db7e3378b1e23b86ea2...</td>\n",
       "    </tr>\n",
       "    <tr>\n",
       "      <td>76365</td>\n",
       "      <td>366871831950536705</td>\n",
       "      <td>c6fdb5b31b765db7e3378b1e23b86ea2b0eb3c03e8db56...</td>\n",
       "      <td>2013-08-12 10:40</td>\n",
       "      <td>en</td>\n",
       "      <td>NaN</td>\n",
       "      <td>0</td>\n",
       "      <td>0</td>\n",
       "      <td>RT @Bellarosa_Fan: We love you! http://t.co/7m...</td>\n",
       "    </tr>\n",
       "  </tbody>\n",
       "</table>\n",
       "</div>"
      ],
      "text/plain": [
       "                  tweetid                                   user_screen_name  \\\n",
       "38331  378110495888134144  c6fdb5b31b765db7e3378b1e23b86ea2b0eb3c03e8db56...   \n",
       "49777  351307531605381120  c6fdb5b31b765db7e3378b1e23b86ea2b0eb3c03e8db56...   \n",
       "76365  366871831950536705  c6fdb5b31b765db7e3378b1e23b86ea2b0eb3c03e8db56...   \n",
       "\n",
       "             tweet_time tweet_language tweet_client_name  retweet_count  \\\n",
       "38331  2013-09-12 10:59             en               NaN              0   \n",
       "49777  2013-06-30 11:53             en               NaN              0   \n",
       "76365  2013-08-12 10:40             en               NaN              0   \n",
       "\n",
       "       like_count                                         tweet_text  \n",
       "38331           0  RT @RobertoBella01: It's a beautiful day !!! :...  \n",
       "49777           0  RT @MomsenG: @c6fdb5b31b765db7e3378b1e23b86ea2...  \n",
       "76365           0  RT @Bellarosa_Fan: We love you! http://t.co/7m...  "
      ]
     },
     "execution_count": 39,
     "metadata": {},
     "output_type": "execute_result"
    }
   ],
   "source": [
    "english[english[\"tweet_client_name\"].isna()][:3]"
   ]
  },
  {
   "cell_type": "code",
   "execution_count": 40,
   "metadata": {},
   "outputs": [
    {
     "data": {
      "text/html": [
       "<div>\n",
       "<style scoped>\n",
       "    .dataframe tbody tr th:only-of-type {\n",
       "        vertical-align: middle;\n",
       "    }\n",
       "\n",
       "    .dataframe tbody tr th {\n",
       "        vertical-align: top;\n",
       "    }\n",
       "\n",
       "    .dataframe thead th {\n",
       "        text-align: right;\n",
       "    }\n",
       "</style>\n",
       "<table border=\"1\" class=\"dataframe\">\n",
       "  <thead>\n",
       "    <tr style=\"text-align: right;\">\n",
       "      <th></th>\n",
       "      <th>tweetid</th>\n",
       "      <th>user_screen_name</th>\n",
       "      <th>tweet_time</th>\n",
       "      <th>tweet_language</th>\n",
       "      <th>tweet_client_name</th>\n",
       "      <th>retweet_count</th>\n",
       "      <th>like_count</th>\n",
       "      <th>tweet_text</th>\n",
       "    </tr>\n",
       "  </thead>\n",
       "  <tbody>\n",
       "    <tr>\n",
       "      <td>2978388</td>\n",
       "      <td>358977873996034051</td>\n",
       "      <td>c6fdb5b31b765db7e3378b1e23b86ea2b0eb3c03e8db56...</td>\n",
       "      <td>2013-07-21 15:52</td>\n",
       "      <td>en</td>\n",
       "      <td>NaN</td>\n",
       "      <td>0</td>\n",
       "      <td>0</td>\n",
       "      <td>RT @Sandruschkaa: Over and over again http://t...</td>\n",
       "    </tr>\n",
       "    <tr>\n",
       "      <td>2988038</td>\n",
       "      <td>368774916373356544</td>\n",
       "      <td>c6fdb5b31b765db7e3378b1e23b86ea2b0eb3c03e8db56...</td>\n",
       "      <td>2013-08-17 16:42</td>\n",
       "      <td>en</td>\n",
       "      <td>NaN</td>\n",
       "      <td>0</td>\n",
       "      <td>0</td>\n",
       "      <td>RT @RobertoBella01: Love u all of you !  #foll...</td>\n",
       "    </tr>\n",
       "    <tr>\n",
       "      <td>2990029</td>\n",
       "      <td>347027076760608768</td>\n",
       "      <td>8e0f9e0d48b59943194b3bed56e1b910c1ef89adfe59e3...</td>\n",
       "      <td>2013-06-18 16:24</td>\n",
       "      <td>en</td>\n",
       "      <td>NaN</td>\n",
       "      <td>0</td>\n",
       "      <td>0</td>\n",
       "      <td>RT @idyduven: is moving to their own private i...</td>\n",
       "    </tr>\n",
       "  </tbody>\n",
       "</table>\n",
       "</div>"
      ],
      "text/plain": [
       "                    tweetid  \\\n",
       "2978388  358977873996034051   \n",
       "2988038  368774916373356544   \n",
       "2990029  347027076760608768   \n",
       "\n",
       "                                          user_screen_name        tweet_time  \\\n",
       "2978388  c6fdb5b31b765db7e3378b1e23b86ea2b0eb3c03e8db56...  2013-07-21 15:52   \n",
       "2988038  c6fdb5b31b765db7e3378b1e23b86ea2b0eb3c03e8db56...  2013-08-17 16:42   \n",
       "2990029  8e0f9e0d48b59943194b3bed56e1b910c1ef89adfe59e3...  2013-06-18 16:24   \n",
       "\n",
       "        tweet_language tweet_client_name  retweet_count  like_count  \\\n",
       "2978388             en               NaN              0           0   \n",
       "2988038             en               NaN              0           0   \n",
       "2990029             en               NaN              0           0   \n",
       "\n",
       "                                                tweet_text  \n",
       "2978388  RT @Sandruschkaa: Over and over again http://t...  \n",
       "2988038  RT @RobertoBella01: Love u all of you !  #foll...  \n",
       "2990029  RT @idyduven: is moving to their own private i...  "
      ]
     },
     "execution_count": 40,
     "metadata": {},
     "output_type": "execute_result"
    }
   ],
   "source": [
    "english[english[\"tweet_client_name\"].isna()][-3:]"
   ]
  },
  {
   "cell_type": "code",
   "execution_count": 43,
   "metadata": {},
   "outputs": [],
   "source": [
    "# fill in missing values with unknown string\n",
    "english[\"tweet_client_name\"] = english[\"tweet_client_name\"].fillna(\"unknown\")"
   ]
  },
  {
   "cell_type": "code",
   "execution_count": 50,
   "metadata": {},
   "outputs": [
    {
     "data": {
      "text/plain": [
       "224"
      ]
     },
     "execution_count": 50,
     "metadata": {},
     "output_type": "execute_result"
    }
   ],
   "source": [
    "# check value counts for client column\n",
    "len(english[english[\"tweet_client_name\"] == \"unknown\"])"
   ]
  },
  {
   "cell_type": "code",
   "execution_count": 51,
   "metadata": {},
   "outputs": [
    {
     "data": {
      "text/plain": [
       "tweetid              0\n",
       "user_screen_name     0\n",
       "tweet_time           0\n",
       "tweet_language       0\n",
       "tweet_client_name    0\n",
       "retweet_count        0\n",
       "like_count           0\n",
       "tweet_text           0\n",
       "dtype: int64"
      ]
     },
     "execution_count": 51,
     "metadata": {},
     "output_type": "execute_result"
    }
   ],
   "source": [
    "# check all columns for missing values\n",
    "english.isna().sum()"
   ]
  },
  {
   "cell_type": "markdown",
   "metadata": {},
   "source": [
    "## _Check for Retweets_"
   ]
  },
  {
   "cell_type": "code",
   "execution_count": 53,
   "metadata": {},
   "outputs": [
    {
     "data": {
      "text/plain": [
       "1090542"
      ]
     },
     "execution_count": 53,
     "metadata": {},
     "output_type": "execute_result"
    }
   ],
   "source": [
    "# see how many observations start with RT @ (indicating that it is a retweet)\n",
    "english[\"tweet_text\"].str.startswith(\"RT @\").sum()"
   ]
  },
  {
   "cell_type": "code",
   "execution_count": 54,
   "metadata": {},
   "outputs": [
    {
     "data": {
      "text/plain": [
       "1091134"
      ]
     },
     "execution_count": 54,
     "metadata": {},
     "output_type": "execute_result"
    }
   ],
   "source": [
    "# see how many observations contain RT @ (indicating either retweet or quote tweet)\n",
    "english[\"tweet_text\"].str.contains(\"RT @\").sum()"
   ]
  },
  {
   "cell_type": "code",
   "execution_count": 55,
   "metadata": {},
   "outputs": [
    {
     "data": {
      "text/plain": [
       "592"
      ]
     },
     "execution_count": 55,
     "metadata": {},
     "output_type": "execute_result"
    }
   ],
   "source": [
    "english[\"tweet_text\"].str.contains(\"RT @\").sum() - english[\"tweet_text\"].str.startswith(\"RT @\").sum()"
   ]
  },
  {
   "cell_type": "code",
   "execution_count": 56,
   "metadata": {},
   "outputs": [],
   "source": [
    "# create subset that is only English and doesn't have retweets\n",
    "eng_noretweet = english[~english[\"tweet_text\"].str.startswith(\"RT @\")]"
   ]
  },
  {
   "cell_type": "code",
   "execution_count": 57,
   "metadata": {},
   "outputs": [
    {
     "name": "stdout",
     "output_type": "stream",
     "text": [
      "<class 'pandas.core.frame.DataFrame'>\n",
      "Int64Index: 1906639 entries, 0 to 2997180\n",
      "Data columns (total 8 columns):\n",
      "tweetid              object\n",
      "user_screen_name     object\n",
      "tweet_time           object\n",
      "tweet_language       object\n",
      "tweet_client_name    object\n",
      "retweet_count        int64\n",
      "like_count           int64\n",
      "tweet_text           object\n",
      "dtypes: int64(2), object(6)\n",
      "memory usage: 130.9+ MB\n"
     ]
    }
   ],
   "source": [
    "# get info on subset we just created\n",
    "eng_noretweet.info()"
   ]
  },
  {
   "cell_type": "code",
   "execution_count": 58,
   "metadata": {},
   "outputs": [],
   "source": [
    "# reset the index\n",
    "eng_noretweet = eng_noretweet.reset_index(drop=True)"
   ]
  },
  {
   "cell_type": "code",
   "execution_count": 59,
   "metadata": {},
   "outputs": [
    {
     "name": "stdout",
     "output_type": "stream",
     "text": [
      "<class 'pandas.core.frame.DataFrame'>\n",
      "RangeIndex: 1906639 entries, 0 to 1906638\n",
      "Data columns (total 8 columns):\n",
      "tweetid              object\n",
      "user_screen_name     object\n",
      "tweet_time           object\n",
      "tweet_language       object\n",
      "tweet_client_name    object\n",
      "retweet_count        int64\n",
      "like_count           int64\n",
      "tweet_text           object\n",
      "dtypes: int64(2), object(6)\n",
      "memory usage: 116.4+ MB\n"
     ]
    }
   ],
   "source": [
    "eng_noretweet.info()"
   ]
  },
  {
   "cell_type": "markdown",
   "metadata": {},
   "source": [
    "## _See how many unique values are in each column_"
   ]
  },
  {
   "cell_type": "code",
   "execution_count": 63,
   "metadata": {},
   "outputs": [
    {
     "name": "stdout",
     "output_type": "stream",
     "text": [
      "tweetid unique values --> 1906639\n",
      "user_screen_name unique values --> 2536\n",
      "tweet_time unique values --> 810888\n",
      "tweet_language unique values --> 1\n",
      "tweet_client_name unique values --> 117\n",
      "retweet_count unique values --> 3103\n",
      "like_count unique values --> 3554\n",
      "tweet_text unique values --> 1448005\n"
     ]
    }
   ],
   "source": [
    "for col in list(eng_noretweet.columns):\n",
    "    print(f\"{col} unique values -->\", len(eng_noretweet[col].unique()))"
   ]
  },
  {
   "cell_type": "markdown",
   "metadata": {},
   "source": [
    "## _Clean up text_"
   ]
  },
  {
   "cell_type": "code",
   "execution_count": 64,
   "metadata": {},
   "outputs": [],
   "source": [
    "import re\n",
    "\n",
    "def text_clean(text):\n",
    "    \"\"\"\n",
    "    Function for cleaning Tweet text.\n",
    "    \"\"\"\n",
    "    # eliminate newline characters\n",
    "    text = text.strip(\"\\n\\n\")\n",
    "    text = text.strip(\"\\n\")\n",
    "    # delete links and any alphanumeric character and the underscore, strips whitespace\n",
    "    text = re.sub(r\"http\\S+|[^\\w\\s]\", \"\", text).strip(\" \")\n",
    "    # replaces any non-alphanumeric character with blank space\n",
    "    text = re.sub(\"\\W\", \" \", text)\n",
    "    # removes any extra whitespace\n",
    "    text = re.sub(\"\\s+\", \" \", text)\n",
    "    return text"
   ]
  },
  {
   "cell_type": "code",
   "execution_count": 75,
   "metadata": {},
   "outputs": [],
   "source": [
    "# pick out 5 random observation from data\n",
    "five = eng_noretweet.sample(n=5, random_state=1)"
   ]
  },
  {
   "cell_type": "code",
   "execution_count": 76,
   "metadata": {},
   "outputs": [
    {
     "data": {
      "text/html": [
       "<div>\n",
       "<style scoped>\n",
       "    .dataframe tbody tr th:only-of-type {\n",
       "        vertical-align: middle;\n",
       "    }\n",
       "\n",
       "    .dataframe tbody tr th {\n",
       "        vertical-align: top;\n",
       "    }\n",
       "\n",
       "    .dataframe thead th {\n",
       "        text-align: right;\n",
       "    }\n",
       "</style>\n",
       "<table border=\"1\" class=\"dataframe\">\n",
       "  <thead>\n",
       "    <tr style=\"text-align: right;\">\n",
       "      <th></th>\n",
       "      <th>tweetid</th>\n",
       "      <th>user_screen_name</th>\n",
       "      <th>tweet_time</th>\n",
       "      <th>tweet_language</th>\n",
       "      <th>tweet_client_name</th>\n",
       "      <th>retweet_count</th>\n",
       "      <th>like_count</th>\n",
       "      <th>tweet_text</th>\n",
       "    </tr>\n",
       "  </thead>\n",
       "  <tbody>\n",
       "    <tr>\n",
       "      <td>1699076</td>\n",
       "      <td>591646222735245312</td>\n",
       "      <td>c414f359478dd67d4b86a8f80d1ce208325a42a2489304...</td>\n",
       "      <td>2015-04-24 16:53</td>\n",
       "      <td>en</td>\n",
       "      <td>Twitter Web Client</td>\n",
       "      <td>0</td>\n",
       "      <td>0</td>\n",
       "      <td>I`M ON THE HIGHWAY TO HELL! http://t.co/P0XnQI...</td>\n",
       "    </tr>\n",
       "    <tr>\n",
       "      <td>1048904</td>\n",
       "      <td>772757830411563012</td>\n",
       "      <td>9e4bae21f00d13160fea0fc876fbff777c2400832ae049...</td>\n",
       "      <td>2016-09-05 11:26</td>\n",
       "      <td>en</td>\n",
       "      <td>Twitter Web Client</td>\n",
       "      <td>0</td>\n",
       "      <td>0</td>\n",
       "      <td>#GameShowHostPickUpLines For a consolation pri...</td>\n",
       "    </tr>\n",
       "    <tr>\n",
       "      <td>572336</td>\n",
       "      <td>505994910034841600</td>\n",
       "      <td>c59c83796e1eff713d2dd97dd1b5967b22d513f79f7edb...</td>\n",
       "      <td>2014-08-31 08:26</td>\n",
       "      <td>en</td>\n",
       "      <td>vavilonX</td>\n",
       "      <td>0</td>\n",
       "      <td>0</td>\n",
       "      <td>@06dd583d55075eb926897ef48a2415afc1776718c86b6...</td>\n",
       "    </tr>\n",
       "    <tr>\n",
       "      <td>734039</td>\n",
       "      <td>758054735509270530</td>\n",
       "      <td>a95a911dd6ae864c48ed062cdbe75e5c28dbe0cf57c6db...</td>\n",
       "      <td>2016-07-26 21:41</td>\n",
       "      <td>en</td>\n",
       "      <td>Twitter for Android</td>\n",
       "      <td>0</td>\n",
       "      <td>0</td>\n",
       "      <td>Especially @KatyPerry who is terrible. https:/...</td>\n",
       "    </tr>\n",
       "    <tr>\n",
       "      <td>761810</td>\n",
       "      <td>500541983421919232</td>\n",
       "      <td>8b41afdc536a9ad49d30b9c2a845c479239259e7266653...</td>\n",
       "      <td>2014-08-16 07:18</td>\n",
       "      <td>en</td>\n",
       "      <td>vavilonX</td>\n",
       "      <td>0</td>\n",
       "      <td>0</td>\n",
       "      <td>@17554dad557498db58086f7df493af38e4cb4e8a124b6...</td>\n",
       "    </tr>\n",
       "  </tbody>\n",
       "</table>\n",
       "</div>"
      ],
      "text/plain": [
       "                    tweetid  \\\n",
       "1699076  591646222735245312   \n",
       "1048904  772757830411563012   \n",
       "572336   505994910034841600   \n",
       "734039   758054735509270530   \n",
       "761810   500541983421919232   \n",
       "\n",
       "                                          user_screen_name        tweet_time  \\\n",
       "1699076  c414f359478dd67d4b86a8f80d1ce208325a42a2489304...  2015-04-24 16:53   \n",
       "1048904  9e4bae21f00d13160fea0fc876fbff777c2400832ae049...  2016-09-05 11:26   \n",
       "572336   c59c83796e1eff713d2dd97dd1b5967b22d513f79f7edb...  2014-08-31 08:26   \n",
       "734039   a95a911dd6ae864c48ed062cdbe75e5c28dbe0cf57c6db...  2016-07-26 21:41   \n",
       "761810   8b41afdc536a9ad49d30b9c2a845c479239259e7266653...  2014-08-16 07:18   \n",
       "\n",
       "        tweet_language    tweet_client_name  retweet_count  like_count  \\\n",
       "1699076             en   Twitter Web Client              0           0   \n",
       "1048904             en   Twitter Web Client              0           0   \n",
       "572336              en             vavilonX              0           0   \n",
       "734039              en  Twitter for Android              0           0   \n",
       "761810              en             vavilonX              0           0   \n",
       "\n",
       "                                                tweet_text  \n",
       "1699076  I`M ON THE HIGHWAY TO HELL! http://t.co/P0XnQI...  \n",
       "1048904  #GameShowHostPickUpLines For a consolation pri...  \n",
       "572336   @06dd583d55075eb926897ef48a2415afc1776718c86b6...  \n",
       "734039   Especially @KatyPerry who is terrible. https:/...  \n",
       "761810   @17554dad557498db58086f7df493af38e4cb4e8a124b6...  "
      ]
     },
     "execution_count": 76,
     "metadata": {},
     "output_type": "execute_result"
    }
   ],
   "source": [
    "# inspect sample observation\n",
    "five"
   ]
  },
  {
   "cell_type": "code",
   "execution_count": 77,
   "metadata": {},
   "outputs": [
    {
     "data": {
      "text/plain": [
       "'I`M ON THE HIGHWAY TO HELL! http://t.co/P0XnQIIopv'"
      ]
     },
     "execution_count": 77,
     "metadata": {},
     "output_type": "execute_result"
    }
   ],
   "source": [
    "# print out text\n",
    "five.loc[1699076, \"tweet_text\"]"
   ]
  },
  {
   "cell_type": "code",
   "execution_count": 78,
   "metadata": {},
   "outputs": [
    {
     "data": {
      "text/plain": [
       "'IM ON THE HIGHWAY TO HELL'"
      ]
     },
     "execution_count": 78,
     "metadata": {},
     "output_type": "execute_result"
    }
   ],
   "source": [
    "text_clean(five[\"tweet_text\"][1699076])"
   ]
  },
  {
   "cell_type": "code",
   "execution_count": 80,
   "metadata": {},
   "outputs": [],
   "source": [
    "# generate new clean text column\n",
    "five[\"clean_text\"] = five[\"tweet_text\"].apply(lambda x: text_clean(x))"
   ]
  },
  {
   "cell_type": "code",
   "execution_count": 84,
   "metadata": {},
   "outputs": [
    {
     "data": {
      "text/plain": [
       "Int64Index([1699076, 1048904, 572336, 734039, 761810], dtype='int64')"
      ]
     },
     "execution_count": 84,
     "metadata": {},
     "output_type": "execute_result"
    }
   ],
   "source": [
    "five.index"
   ]
  },
  {
   "cell_type": "code",
   "execution_count": 86,
   "metadata": {},
   "outputs": [
    {
     "data": {
      "text/html": [
       "<div>\n",
       "<style scoped>\n",
       "    .dataframe tbody tr th:only-of-type {\n",
       "        vertical-align: middle;\n",
       "    }\n",
       "\n",
       "    .dataframe tbody tr th {\n",
       "        vertical-align: top;\n",
       "    }\n",
       "\n",
       "    .dataframe thead th {\n",
       "        text-align: right;\n",
       "    }\n",
       "</style>\n",
       "<table border=\"1\" class=\"dataframe\">\n",
       "  <thead>\n",
       "    <tr style=\"text-align: right;\">\n",
       "      <th></th>\n",
       "      <th>tweet_text</th>\n",
       "      <th>clean_text</th>\n",
       "    </tr>\n",
       "  </thead>\n",
       "  <tbody>\n",
       "    <tr>\n",
       "      <td>1699076</td>\n",
       "      <td>I`M ON THE HIGHWAY TO HELL! http://t.co/P0XnQI...</td>\n",
       "      <td>IM ON THE HIGHWAY TO HELL</td>\n",
       "    </tr>\n",
       "    <tr>\n",
       "      <td>1048904</td>\n",
       "      <td>#GameShowHostPickUpLines For a consolation pri...</td>\n",
       "      <td>GameShowHostPickUpLines For a consolation priz...</td>\n",
       "    </tr>\n",
       "    <tr>\n",
       "      <td>572336</td>\n",
       "      <td>@06dd583d55075eb926897ef48a2415afc1776718c86b6...</td>\n",
       "      <td>06dd583d55075eb926897ef48a2415afc1776718c86b6a...</td>\n",
       "    </tr>\n",
       "    <tr>\n",
       "      <td>734039</td>\n",
       "      <td>Especially @KatyPerry who is terrible. https:/...</td>\n",
       "      <td>Especially KatyPerry who is terrible</td>\n",
       "    </tr>\n",
       "    <tr>\n",
       "      <td>761810</td>\n",
       "      <td>@17554dad557498db58086f7df493af38e4cb4e8a124b6...</td>\n",
       "      <td>17554dad557498db58086f7df493af38e4cb4e8a124b60...</td>\n",
       "    </tr>\n",
       "  </tbody>\n",
       "</table>\n",
       "</div>"
      ],
      "text/plain": [
       "                                                tweet_text  \\\n",
       "1699076  I`M ON THE HIGHWAY TO HELL! http://t.co/P0XnQI...   \n",
       "1048904  #GameShowHostPickUpLines For a consolation pri...   \n",
       "572336   @06dd583d55075eb926897ef48a2415afc1776718c86b6...   \n",
       "734039   Especially @KatyPerry who is terrible. https:/...   \n",
       "761810   @17554dad557498db58086f7df493af38e4cb4e8a124b6...   \n",
       "\n",
       "                                                clean_text  \n",
       "1699076                          IM ON THE HIGHWAY TO HELL  \n",
       "1048904  GameShowHostPickUpLines For a consolation priz...  \n",
       "572336   06dd583d55075eb926897ef48a2415afc1776718c86b6a...  \n",
       "734039                Especially KatyPerry who is terrible  \n",
       "761810   17554dad557498db58086f7df493af38e4cb4e8a124b60...  "
      ]
     },
     "execution_count": 86,
     "metadata": {},
     "output_type": "execute_result"
    }
   ],
   "source": [
    "# compare \n",
    "five.loc[list(five.index), [\"tweet_text\", \"clean_text\"]]"
   ]
  },
  {
   "cell_type": "code",
   "execution_count": 88,
   "metadata": {},
   "outputs": [
    {
     "name": "stdout",
     "output_type": "stream",
     "text": [
      "I`M ON THE HIGHWAY TO HELL! http://t.co/P0XnQIIopv \n",
      "\n",
      "IM ON THE HIGHWAY TO HELL \n",
      " ------------------------------\n",
      "#GameShowHostPickUpLines For a consolation prize you've won a weekend at casa de la me. \n",
      "\n",
      "GameShowHostPickUpLines For a consolation prize youve won a weekend at casa de la me \n",
      " ------------------------------\n",
      "@06dd583d55075eb926897ef48a2415afc1776718c86b6ac5482e086a0e6d75d2 Your brain needs some assistance \n",
      "\n",
      "06dd583d55075eb926897ef48a2415afc1776718c86b6ac5482e086a0e6d75d2 Your brain needs some assistance \n",
      " ------------------------------\n",
      "Especially @KatyPerry who is terrible. https://t.co/GfMoSuY7ce \n",
      "\n",
      "Especially KatyPerry who is terrible \n",
      " ------------------------------\n",
      "@17554dad557498db58086f7df493af38e4cb4e8a124b606f3c1f1cba59b76894 If only it weren't true. \n",
      "\n",
      "17554dad557498db58086f7df493af38e4cb4e8a124b606f3c1f1cba59b76894 If only it werent true \n",
      " ------------------------------\n"
     ]
    }
   ],
   "source": [
    "for i, row in five.iterrows():\n",
    "    print(row[\"tweet_text\"], \"\\n\")\n",
    "    print(row[\"clean_text\"], \"\\n\", \"-\"*30)"
   ]
  },
  {
   "cell_type": "markdown",
   "metadata": {},
   "source": [
    "## _Clean `tweet_text` column for entire data set_"
   ]
  },
  {
   "cell_type": "code",
   "execution_count": 89,
   "metadata": {},
   "outputs": [
    {
     "name": "stdout",
     "output_type": "stream",
     "text": [
      "CPU times: user 25.3 s, sys: 1.19 s, total: 26.5 s\n",
      "Wall time: 26.6 s\n"
     ]
    }
   ],
   "source": [
    "%%time\n",
    "\n",
    "# generate new clean text column\n",
    "eng_noretweet[\"clean_text\"] = eng_noretweet[\"tweet_text\"].apply(lambda x: text_clean(x))"
   ]
  },
  {
   "cell_type": "code",
   "execution_count": 90,
   "metadata": {},
   "outputs": [
    {
     "name": "stdout",
     "output_type": "stream",
     "text": [
      "<class 'pandas.core.frame.DataFrame'>\n",
      "RangeIndex: 1906639 entries, 0 to 1906638\n",
      "Data columns (total 9 columns):\n",
      "tweetid              object\n",
      "user_screen_name     object\n",
      "tweet_time           object\n",
      "tweet_language       object\n",
      "tweet_client_name    object\n",
      "retweet_count        int64\n",
      "like_count           int64\n",
      "tweet_text           object\n",
      "clean_text           object\n",
      "dtypes: int64(2), object(7)\n",
      "memory usage: 130.9+ MB\n"
     ]
    }
   ],
   "source": [
    "# check out df\n",
    "eng_noretweet.info()"
   ]
  },
  {
   "cell_type": "markdown",
   "metadata": {},
   "source": [
    "## _Rename columns_"
   ]
  },
  {
   "cell_type": "code",
   "execution_count": 91,
   "metadata": {},
   "outputs": [],
   "source": [
    "# list of new column names (which are the same ones for Verified data sets)\n",
    "new_col_names = [\n",
    "    \"id_str\",\n",
    "    \"screen_name\",\n",
    "    \"created_at\",\n",
    "    \"lang\",\n",
    "    \"source\",\n",
    "    \"retweet_count\",\n",
    "    \"favorite_count\",\n",
    "    \"full_text\",\n",
    "    \"clean_text\"\n",
    "]\n",
    "\n",
    "# assign new column names\n",
    "eng_noretweet.columns = new_col_names"
   ]
  },
  {
   "cell_type": "code",
   "execution_count": 92,
   "metadata": {},
   "outputs": [
    {
     "name": "stdout",
     "output_type": "stream",
     "text": [
      "<class 'pandas.core.frame.DataFrame'>\n",
      "RangeIndex: 1906639 entries, 0 to 1906638\n",
      "Data columns (total 9 columns):\n",
      "id_str            object\n",
      "screen_name       object\n",
      "created_at        object\n",
      "lang              object\n",
      "source            object\n",
      "retweet_count     int64\n",
      "favorite_count    int64\n",
      "full_text         object\n",
      "clean_text        object\n",
      "dtypes: int64(2), object(7)\n",
      "memory usage: 130.9+ MB\n"
     ]
    }
   ],
   "source": [
    "eng_noretweet.info()"
   ]
  },
  {
   "cell_type": "markdown",
   "metadata": {},
   "source": [
    "## _Add Label column_"
   ]
  },
  {
   "cell_type": "code",
   "execution_count": 93,
   "metadata": {},
   "outputs": [],
   "source": [
    "# create new label column (indicating it is from a fake account)\n",
    "eng_noretweet[\"label\"] = \"fake\""
   ]
  },
  {
   "cell_type": "code",
   "execution_count": 94,
   "metadata": {},
   "outputs": [
    {
     "name": "stdout",
     "output_type": "stream",
     "text": [
      "<class 'pandas.core.frame.DataFrame'>\n",
      "RangeIndex: 1906639 entries, 0 to 1906638\n",
      "Data columns (total 10 columns):\n",
      "id_str            object\n",
      "screen_name       object\n",
      "created_at        object\n",
      "lang              object\n",
      "source            object\n",
      "retweet_count     int64\n",
      "favorite_count    int64\n",
      "full_text         object\n",
      "clean_text        object\n",
      "label             object\n",
      "dtypes: int64(2), object(8)\n",
      "memory usage: 145.5+ MB\n"
     ]
    }
   ],
   "source": [
    "eng_noretweet.info()"
   ]
  },
  {
   "cell_type": "markdown",
   "metadata": {},
   "source": [
    "## _Shuffle/Split Data into Train & Test sets_"
   ]
  },
  {
   "cell_type": "code",
   "execution_count": 95,
   "metadata": {},
   "outputs": [],
   "source": [
    "from sklearn.model_selection import train_test_split"
   ]
  },
  {
   "cell_type": "code",
   "execution_count": 96,
   "metadata": {},
   "outputs": [],
   "source": [
    "train, test = train_test_split(eng_noretweet, test_size=0.2, random_state=1, shuffle=True)"
   ]
  },
  {
   "cell_type": "code",
   "execution_count": 97,
   "metadata": {},
   "outputs": [
    {
     "data": {
      "text/plain": [
       "(1525311, 381328)"
      ]
     },
     "execution_count": 97,
     "metadata": {},
     "output_type": "execute_result"
    }
   ],
   "source": [
    "len(train), len(test)"
   ]
  },
  {
   "cell_type": "code",
   "execution_count": 98,
   "metadata": {},
   "outputs": [
    {
     "data": {
      "text/html": [
       "<div>\n",
       "<style scoped>\n",
       "    .dataframe tbody tr th:only-of-type {\n",
       "        vertical-align: middle;\n",
       "    }\n",
       "\n",
       "    .dataframe tbody tr th {\n",
       "        vertical-align: top;\n",
       "    }\n",
       "\n",
       "    .dataframe thead th {\n",
       "        text-align: right;\n",
       "    }\n",
       "</style>\n",
       "<table border=\"1\" class=\"dataframe\">\n",
       "  <thead>\n",
       "    <tr style=\"text-align: right;\">\n",
       "      <th></th>\n",
       "      <th>id_str</th>\n",
       "      <th>screen_name</th>\n",
       "      <th>created_at</th>\n",
       "      <th>lang</th>\n",
       "      <th>source</th>\n",
       "      <th>retweet_count</th>\n",
       "      <th>favorite_count</th>\n",
       "      <th>full_text</th>\n",
       "      <th>clean_text</th>\n",
       "      <th>label</th>\n",
       "    </tr>\n",
       "  </thead>\n",
       "  <tbody>\n",
       "    <tr>\n",
       "      <td>0</td>\n",
       "      <td>536854020430639105</td>\n",
       "      <td>b0e81e4e718dfebdcd4c8601f251963b8859b155d59ad6...</td>\n",
       "      <td>2014-11-24 12:09</td>\n",
       "      <td>en</td>\n",
       "      <td>Twitter Web Client</td>\n",
       "      <td>0</td>\n",
       "      <td>0</td>\n",
       "      <td>turn down the love songs that you hear 'cause ...</td>\n",
       "      <td>turn down the love songs that you hear cause y...</td>\n",
       "      <td>fake</td>\n",
       "    </tr>\n",
       "    <tr>\n",
       "      <td>1</td>\n",
       "      <td>596351085058478080</td>\n",
       "      <td>KansasDailyNews</td>\n",
       "      <td>2015-05-07 16:29</td>\n",
       "      <td>en</td>\n",
       "      <td>twitterfeed</td>\n",
       "      <td>0</td>\n",
       "      <td>0</td>\n",
       "      <td>Pop-up storms possible this afternoon  #local</td>\n",
       "      <td>Popup storms possible this afternoon local</td>\n",
       "      <td>fake</td>\n",
       "    </tr>\n",
       "    <tr>\n",
       "      <td>2</td>\n",
       "      <td>687859001699139585</td>\n",
       "      <td>b4bc6c5b9477e02b21ade00847c3d6f2dc04acb0987cbb...</td>\n",
       "      <td>2016-01-15 04:49</td>\n",
       "      <td>en</td>\n",
       "      <td>Twitter Web Client</td>\n",
       "      <td>0</td>\n",
       "      <td>0</td>\n",
       "      <td>Too bored? Watch GOP debate tonight! You'll la...</td>\n",
       "      <td>Too bored Watch GOP debate tonight Youll laugh...</td>\n",
       "      <td>fake</td>\n",
       "    </tr>\n",
       "    <tr>\n",
       "      <td>3</td>\n",
       "      <td>898360700086747136</td>\n",
       "      <td>306fa811b7752ad7737c5acd42395e999e5a8fb72a3a83...</td>\n",
       "      <td>2017-08-18 01:47</td>\n",
       "      <td>en</td>\n",
       "      <td>IFTTT</td>\n",
       "      <td>0</td>\n",
       "      <td>0</td>\n",
       "      <td>Man-made global warming is still a myth even t...</td>\n",
       "      <td>Manmade global warming is still a myth even th...</td>\n",
       "      <td>fake</td>\n",
       "    </tr>\n",
       "    <tr>\n",
       "      <td>4</td>\n",
       "      <td>530379847747383296</td>\n",
       "      <td>138c356cde5939060f3491ce10e756cadb57274aba02e9...</td>\n",
       "      <td>2014-11-06 15:23</td>\n",
       "      <td>en</td>\n",
       "      <td>Twitter Web Client</td>\n",
       "      <td>0</td>\n",
       "      <td>0</td>\n",
       "      <td>here we are now, entertain us</td>\n",
       "      <td>here we are now entertain us</td>\n",
       "      <td>fake</td>\n",
       "    </tr>\n",
       "  </tbody>\n",
       "</table>\n",
       "</div>"
      ],
      "text/plain": [
       "               id_str                                        screen_name  \\\n",
       "0  536854020430639105  b0e81e4e718dfebdcd4c8601f251963b8859b155d59ad6...   \n",
       "1  596351085058478080                                    KansasDailyNews   \n",
       "2  687859001699139585  b4bc6c5b9477e02b21ade00847c3d6f2dc04acb0987cbb...   \n",
       "3  898360700086747136  306fa811b7752ad7737c5acd42395e999e5a8fb72a3a83...   \n",
       "4  530379847747383296  138c356cde5939060f3491ce10e756cadb57274aba02e9...   \n",
       "\n",
       "         created_at lang              source  retweet_count  favorite_count  \\\n",
       "0  2014-11-24 12:09   en  Twitter Web Client              0               0   \n",
       "1  2015-05-07 16:29   en         twitterfeed              0               0   \n",
       "2  2016-01-15 04:49   en  Twitter Web Client              0               0   \n",
       "3  2017-08-18 01:47   en               IFTTT              0               0   \n",
       "4  2014-11-06 15:23   en  Twitter Web Client              0               0   \n",
       "\n",
       "                                           full_text  \\\n",
       "0  turn down the love songs that you hear 'cause ...   \n",
       "1      Pop-up storms possible this afternoon  #local   \n",
       "2  Too bored? Watch GOP debate tonight! You'll la...   \n",
       "3  Man-made global warming is still a myth even t...   \n",
       "4                      here we are now, entertain us   \n",
       "\n",
       "                                          clean_text label  \n",
       "0  turn down the love songs that you hear cause y...  fake  \n",
       "1         Popup storms possible this afternoon local  fake  \n",
       "2  Too bored Watch GOP debate tonight Youll laugh...  fake  \n",
       "3  Manmade global warming is still a myth even th...  fake  \n",
       "4                       here we are now entertain us  fake  "
      ]
     },
     "execution_count": 98,
     "metadata": {},
     "output_type": "execute_result"
    }
   ],
   "source": [
    "train = train.reset_index(drop=True)\n",
    "train[:5]"
   ]
  },
  {
   "cell_type": "code",
   "execution_count": 100,
   "metadata": {},
   "outputs": [
    {
     "name": "stdout",
     "output_type": "stream",
     "text": [
      "<class 'pandas.core.frame.DataFrame'>\n",
      "RangeIndex: 1525311 entries, 0 to 1525310\n",
      "Data columns (total 10 columns):\n",
      "id_str            1525311 non-null object\n",
      "screen_name       1525311 non-null object\n",
      "created_at        1525311 non-null object\n",
      "lang              1525311 non-null object\n",
      "source            1525311 non-null object\n",
      "retweet_count     1525311 non-null int64\n",
      "favorite_count    1525311 non-null int64\n",
      "full_text         1525311 non-null object\n",
      "clean_text        1525311 non-null object\n",
      "label             1525311 non-null object\n",
      "dtypes: int64(2), object(8)\n",
      "memory usage: 116.4+ MB\n"
     ]
    }
   ],
   "source": [
    "train.info()"
   ]
  },
  {
   "cell_type": "code",
   "execution_count": 99,
   "metadata": {},
   "outputs": [
    {
     "data": {
      "text/html": [
       "<div>\n",
       "<style scoped>\n",
       "    .dataframe tbody tr th:only-of-type {\n",
       "        vertical-align: middle;\n",
       "    }\n",
       "\n",
       "    .dataframe tbody tr th {\n",
       "        vertical-align: top;\n",
       "    }\n",
       "\n",
       "    .dataframe thead th {\n",
       "        text-align: right;\n",
       "    }\n",
       "</style>\n",
       "<table border=\"1\" class=\"dataframe\">\n",
       "  <thead>\n",
       "    <tr style=\"text-align: right;\">\n",
       "      <th></th>\n",
       "      <th>id_str</th>\n",
       "      <th>screen_name</th>\n",
       "      <th>created_at</th>\n",
       "      <th>lang</th>\n",
       "      <th>source</th>\n",
       "      <th>retweet_count</th>\n",
       "      <th>favorite_count</th>\n",
       "      <th>full_text</th>\n",
       "      <th>clean_text</th>\n",
       "      <th>label</th>\n",
       "    </tr>\n",
       "  </thead>\n",
       "  <tbody>\n",
       "    <tr>\n",
       "      <td>0</td>\n",
       "      <td>591646222735245312</td>\n",
       "      <td>c414f359478dd67d4b86a8f80d1ce208325a42a2489304...</td>\n",
       "      <td>2015-04-24 16:53</td>\n",
       "      <td>en</td>\n",
       "      <td>Twitter Web Client</td>\n",
       "      <td>0</td>\n",
       "      <td>0</td>\n",
       "      <td>I`M ON THE HIGHWAY TO HELL! http://t.co/P0XnQI...</td>\n",
       "      <td>IM ON THE HIGHWAY TO HELL</td>\n",
       "      <td>fake</td>\n",
       "    </tr>\n",
       "    <tr>\n",
       "      <td>1</td>\n",
       "      <td>772757830411563012</td>\n",
       "      <td>9e4bae21f00d13160fea0fc876fbff777c2400832ae049...</td>\n",
       "      <td>2016-09-05 11:26</td>\n",
       "      <td>en</td>\n",
       "      <td>Twitter Web Client</td>\n",
       "      <td>0</td>\n",
       "      <td>0</td>\n",
       "      <td>#GameShowHostPickUpLines For a consolation pri...</td>\n",
       "      <td>GameShowHostPickUpLines For a consolation priz...</td>\n",
       "      <td>fake</td>\n",
       "    </tr>\n",
       "    <tr>\n",
       "      <td>2</td>\n",
       "      <td>505994910034841600</td>\n",
       "      <td>c59c83796e1eff713d2dd97dd1b5967b22d513f79f7edb...</td>\n",
       "      <td>2014-08-31 08:26</td>\n",
       "      <td>en</td>\n",
       "      <td>vavilonX</td>\n",
       "      <td>0</td>\n",
       "      <td>0</td>\n",
       "      <td>@06dd583d55075eb926897ef48a2415afc1776718c86b6...</td>\n",
       "      <td>06dd583d55075eb926897ef48a2415afc1776718c86b6a...</td>\n",
       "      <td>fake</td>\n",
       "    </tr>\n",
       "    <tr>\n",
       "      <td>3</td>\n",
       "      <td>758054735509270530</td>\n",
       "      <td>a95a911dd6ae864c48ed062cdbe75e5c28dbe0cf57c6db...</td>\n",
       "      <td>2016-07-26 21:41</td>\n",
       "      <td>en</td>\n",
       "      <td>Twitter for Android</td>\n",
       "      <td>0</td>\n",
       "      <td>0</td>\n",
       "      <td>Especially @KatyPerry who is terrible. https:/...</td>\n",
       "      <td>Especially KatyPerry who is terrible</td>\n",
       "      <td>fake</td>\n",
       "    </tr>\n",
       "    <tr>\n",
       "      <td>4</td>\n",
       "      <td>500541983421919232</td>\n",
       "      <td>8b41afdc536a9ad49d30b9c2a845c479239259e7266653...</td>\n",
       "      <td>2014-08-16 07:18</td>\n",
       "      <td>en</td>\n",
       "      <td>vavilonX</td>\n",
       "      <td>0</td>\n",
       "      <td>0</td>\n",
       "      <td>@17554dad557498db58086f7df493af38e4cb4e8a124b6...</td>\n",
       "      <td>17554dad557498db58086f7df493af38e4cb4e8a124b60...</td>\n",
       "      <td>fake</td>\n",
       "    </tr>\n",
       "  </tbody>\n",
       "</table>\n",
       "</div>"
      ],
      "text/plain": [
       "               id_str                                        screen_name  \\\n",
       "0  591646222735245312  c414f359478dd67d4b86a8f80d1ce208325a42a2489304...   \n",
       "1  772757830411563012  9e4bae21f00d13160fea0fc876fbff777c2400832ae049...   \n",
       "2  505994910034841600  c59c83796e1eff713d2dd97dd1b5967b22d513f79f7edb...   \n",
       "3  758054735509270530  a95a911dd6ae864c48ed062cdbe75e5c28dbe0cf57c6db...   \n",
       "4  500541983421919232  8b41afdc536a9ad49d30b9c2a845c479239259e7266653...   \n",
       "\n",
       "         created_at lang               source  retweet_count  favorite_count  \\\n",
       "0  2015-04-24 16:53   en   Twitter Web Client              0               0   \n",
       "1  2016-09-05 11:26   en   Twitter Web Client              0               0   \n",
       "2  2014-08-31 08:26   en             vavilonX              0               0   \n",
       "3  2016-07-26 21:41   en  Twitter for Android              0               0   \n",
       "4  2014-08-16 07:18   en             vavilonX              0               0   \n",
       "\n",
       "                                           full_text  \\\n",
       "0  I`M ON THE HIGHWAY TO HELL! http://t.co/P0XnQI...   \n",
       "1  #GameShowHostPickUpLines For a consolation pri...   \n",
       "2  @06dd583d55075eb926897ef48a2415afc1776718c86b6...   \n",
       "3  Especially @KatyPerry who is terrible. https:/...   \n",
       "4  @17554dad557498db58086f7df493af38e4cb4e8a124b6...   \n",
       "\n",
       "                                          clean_text label  \n",
       "0                          IM ON THE HIGHWAY TO HELL  fake  \n",
       "1  GameShowHostPickUpLines For a consolation priz...  fake  \n",
       "2  06dd583d55075eb926897ef48a2415afc1776718c86b6a...  fake  \n",
       "3               Especially KatyPerry who is terrible  fake  \n",
       "4  17554dad557498db58086f7df493af38e4cb4e8a124b60...  fake  "
      ]
     },
     "execution_count": 99,
     "metadata": {},
     "output_type": "execute_result"
    }
   ],
   "source": [
    "test = test.reset_index(drop=True)\n",
    "test[:5]"
   ]
  },
  {
   "cell_type": "code",
   "execution_count": 101,
   "metadata": {},
   "outputs": [
    {
     "name": "stdout",
     "output_type": "stream",
     "text": [
      "<class 'pandas.core.frame.DataFrame'>\n",
      "RangeIndex: 381328 entries, 0 to 381327\n",
      "Data columns (total 10 columns):\n",
      "id_str            381328 non-null object\n",
      "screen_name       381328 non-null object\n",
      "created_at        381328 non-null object\n",
      "lang              381328 non-null object\n",
      "source            381328 non-null object\n",
      "retweet_count     381328 non-null int64\n",
      "favorite_count    381328 non-null int64\n",
      "full_text         381328 non-null object\n",
      "clean_text        381328 non-null object\n",
      "label             381328 non-null object\n",
      "dtypes: int64(2), object(8)\n",
      "memory usage: 29.1+ MB\n"
     ]
    }
   ],
   "source": [
    "test.info()"
   ]
  },
  {
   "cell_type": "markdown",
   "metadata": {},
   "source": [
    "## _Create JSONs of train and test data_"
   ]
  },
  {
   "cell_type": "code",
   "execution_count": 102,
   "metadata": {},
   "outputs": [],
   "source": [
    "train.to_json(\"ira_train.json\", orient=\"split\")"
   ]
  },
  {
   "cell_type": "code",
   "execution_count": 103,
   "metadata": {},
   "outputs": [],
   "source": [
    "test.to_json(\"ira_test.json\", orient=\"split\")"
   ]
  }
 ],
 "metadata": {
  "kernelspec": {
   "display_name": "Python 3",
   "language": "python",
   "name": "python3"
  },
  "language_info": {
   "codemirror_mode": {
    "name": "ipython",
    "version": 3
   },
   "file_extension": ".py",
   "mimetype": "text/x-python",
   "name": "python",
   "nbconvert_exporter": "python",
   "pygments_lexer": "ipython3",
   "version": "3.7.4"
  }
 },
 "nbformat": 4,
 "nbformat_minor": 4
}
