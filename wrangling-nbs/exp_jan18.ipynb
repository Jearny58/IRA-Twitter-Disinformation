{
 "cells": [
  {
   "cell_type": "code",
   "execution_count": 1,
   "metadata": {},
   "outputs": [],
   "source": [
    "%reload_ext autoreload\n",
    "%autoreload 2\n",
    "%matplotlib inline\n",
    "%config InlineBackend.figure_format = 'retina'"
   ]
  },
  {
   "cell_type": "code",
   "execution_count": 2,
   "metadata": {},
   "outputs": [],
   "source": [
    "# import libraries\n",
    "import pandas as pd\n",
    "pd.options.display.max_columns = None\n",
    "import numpy as np\n",
    "import random\n",
    "import os\n",
    "\n",
    "# Matplotlib\n",
    "import matplotlib as mpl\n",
    "import matplotlib.pyplot as plt\n",
    "import seaborn as sns\n",
    "plt.style.use('fivethirtyeight')"
   ]
  },
  {
   "cell_type": "markdown",
   "metadata": {},
   "source": [
    "## _Load in Data_"
   ]
  },
  {
   "cell_type": "code",
   "execution_count": 3,
   "metadata": {},
   "outputs": [
    {
     "data": {
      "text/plain": [
       "'/Users/jai/Documents/Private-projects/Russian-Disinformation'"
      ]
     },
     "execution_count": 3,
     "metadata": {},
     "output_type": "execute_result"
    }
   ],
   "source": [
    "os.getcwd()"
   ]
  },
  {
   "cell_type": "code",
   "execution_count": 4,
   "metadata": {},
   "outputs": [],
   "source": [
    "#!pip install --upgrade pandas"
   ]
  },
  {
   "cell_type": "code",
   "execution_count": 5,
   "metadata": {},
   "outputs": [],
   "source": [
    "combined = (pd.read_json(\"json-data/combined_json_2020_01_17.json\", orient=\"split\")\n",
    "            .sample(n=50000, random_state=5).reset_index(drop=True))"
   ]
  },
  {
   "cell_type": "code",
   "execution_count": 6,
   "metadata": {},
   "outputs": [],
   "source": [
    "#files = [\"json-data/ira_test.json\", \"json-data/ira_train.json\"]\n",
    "ira = (pd.read_json(\"json-data/ira_test.json\", orient=\"split\", lines=False)\n",
    "       .sample(n=50000, random_state=5).reset_index(drop=True))"
   ]
  },
  {
   "cell_type": "code",
   "execution_count": 7,
   "metadata": {},
   "outputs": [
    {
     "name": "stdout",
     "output_type": "stream",
     "text": [
      "<class 'pandas.core.frame.DataFrame'>\n",
      "RangeIndex: 50000 entries, 0 to 49999\n",
      "Data columns (total 9 columns):\n",
      "id_str            50000 non-null object\n",
      "screen_name       49996 non-null object\n",
      "created_at        49996 non-null datetime64[ns]\n",
      "lang              49996 non-null object\n",
      "source            49984 non-null object\n",
      "retweet_count     49996 non-null float64\n",
      "favorite_count    49996 non-null float64\n",
      "is_retweet        49996 non-null float64\n",
      "full_text         49996 non-null object\n",
      "dtypes: datetime64[ns](1), float64(3), object(5)\n",
      "memory usage: 3.4+ MB\n"
     ]
    }
   ],
   "source": [
    "combined.info()"
   ]
  },
  {
   "cell_type": "code",
   "execution_count": 11,
   "metadata": {},
   "outputs": [
    {
     "data": {
      "text/html": [
       "<div>\n",
       "<style scoped>\n",
       "    .dataframe tbody tr th:only-of-type {\n",
       "        vertical-align: middle;\n",
       "    }\n",
       "\n",
       "    .dataframe tbody tr th {\n",
       "        vertical-align: top;\n",
       "    }\n",
       "\n",
       "    .dataframe thead th {\n",
       "        text-align: right;\n",
       "    }\n",
       "</style>\n",
       "<table border=\"1\" class=\"dataframe\">\n",
       "  <thead>\n",
       "    <tr style=\"text-align: right;\">\n",
       "      <th></th>\n",
       "      <th>id_str</th>\n",
       "      <th>screen_name</th>\n",
       "      <th>created_at</th>\n",
       "      <th>lang</th>\n",
       "      <th>source</th>\n",
       "      <th>retweet_count</th>\n",
       "      <th>favorite_count</th>\n",
       "      <th>is_retweet</th>\n",
       "      <th>full_text</th>\n",
       "    </tr>\n",
       "  </thead>\n",
       "  <tbody>\n",
       "    <tr>\n",
       "      <th>0</th>\n",
       "      <td>1131621359161765888</td>\n",
       "      <td>BetoORourke</td>\n",
       "      <td>2019-05-23 18:02:11</td>\n",
       "      <td>en</td>\n",
       "      <td>Twitter for iPhone</td>\n",
       "      <td>124.0</td>\n",
       "      <td>688.0</td>\n",
       "      <td>0.0</td>\n",
       "      <td>Really looking forward to being back in Iowa! ...</td>\n",
       "    </tr>\n",
       "    <tr>\n",
       "      <th>1</th>\n",
       "      <td>1204604013255299073</td>\n",
       "      <td>NPR</td>\n",
       "      <td>2019-12-11 03:29:11</td>\n",
       "      <td>en</td>\n",
       "      <td>SocialFlow</td>\n",
       "      <td>89.0</td>\n",
       "      <td>310.0</td>\n",
       "      <td>0.0</td>\n",
       "      <td>A new production from the Alvin Ailey American...</td>\n",
       "    </tr>\n",
       "    <tr>\n",
       "      <th>2</th>\n",
       "      <td>1205342072523427841</td>\n",
       "      <td>SportsCenter</td>\n",
       "      <td>2019-12-13 04:21:58</td>\n",
       "      <td>en</td>\n",
       "      <td>Spredfast app</td>\n",
       "      <td>1419.0</td>\n",
       "      <td>7618.0</td>\n",
       "      <td>0.0</td>\n",
       "      <td>Lamar Jackson is the 1st player in NFL history...</td>\n",
       "    </tr>\n",
       "    <tr>\n",
       "      <th>3</th>\n",
       "      <td>1208913863258689538</td>\n",
       "      <td>Reuters</td>\n",
       "      <td>2019-12-23 00:55:00</td>\n",
       "      <td>en</td>\n",
       "      <td>Twitter Media Studio</td>\n",
       "      <td>17.0</td>\n",
       "      <td>28.0</td>\n",
       "      <td>0.0</td>\n",
       "      <td>Boeing’s Starliner astronaut spacecraft comple...</td>\n",
       "    </tr>\n",
       "    <tr>\n",
       "      <th>4</th>\n",
       "      <td>1124466998149361665</td>\n",
       "      <td>JLo</td>\n",
       "      <td>2019-05-04 00:13:18</td>\n",
       "      <td>en</td>\n",
       "      <td>Twitter for iPhone</td>\n",
       "      <td>170.0</td>\n",
       "      <td>1332.0</td>\n",
       "      <td>0.0</td>\n",
       "      <td>Yessss! Sing along with me!!! 🎶 🎤 🖤 #Medicine ...</td>\n",
       "    </tr>\n",
       "    <tr>\n",
       "      <th>...</th>\n",
       "      <td>...</td>\n",
       "      <td>...</td>\n",
       "      <td>...</td>\n",
       "      <td>...</td>\n",
       "      <td>...</td>\n",
       "      <td>...</td>\n",
       "      <td>...</td>\n",
       "      <td>...</td>\n",
       "      <td>...</td>\n",
       "    </tr>\n",
       "    <tr>\n",
       "      <th>49995</th>\n",
       "      <td>914559202600742913</td>\n",
       "      <td>MagicJohnson</td>\n",
       "      <td>2017-10-01 18:34:40</td>\n",
       "      <td>en</td>\n",
       "      <td>TweetDeck</td>\n",
       "      <td>49.0</td>\n",
       "      <td>478.0</td>\n",
       "      <td>0.0</td>\n",
       "      <td>Thank you @LakerNation for filling the arena i...</td>\n",
       "    </tr>\n",
       "    <tr>\n",
       "      <th>49996</th>\n",
       "      <td>1199828441215971328</td>\n",
       "      <td>espn</td>\n",
       "      <td>2019-11-27 23:12:46</td>\n",
       "      <td>en</td>\n",
       "      <td>Spredfast app</td>\n",
       "      <td>412.0</td>\n",
       "      <td>3578.0</td>\n",
       "      <td>0.0</td>\n",
       "      <td>There is no love lost for Kyrie Irving in Bost...</td>\n",
       "    </tr>\n",
       "    <tr>\n",
       "      <th>49997</th>\n",
       "      <td>806316819288100864</td>\n",
       "      <td>aliciakeys</td>\n",
       "      <td>2016-12-07 01:58:05</td>\n",
       "      <td>und</td>\n",
       "      <td>Twitter Web Client</td>\n",
       "      <td>67.0</td>\n",
       "      <td>0.0</td>\n",
       "      <td>1.0</td>\n",
       "      <td>RT @Fisher1963: #VoiceSaveChristian</td>\n",
       "    </tr>\n",
       "    <tr>\n",
       "      <th>49998</th>\n",
       "      <td>1170111370643177472</td>\n",
       "      <td>HamillHimself</td>\n",
       "      <td>2019-09-06 23:07:45</td>\n",
       "      <td>en</td>\n",
       "      <td>Twitter Web App</td>\n",
       "      <td>7.0</td>\n",
       "      <td>176.0</td>\n",
       "      <td>0.0</td>\n",
       "      <td>@The_Autism_Dad I didn't just like your post, ...</td>\n",
       "    </tr>\n",
       "    <tr>\n",
       "      <th>49999</th>\n",
       "      <td>1176130880013815809</td>\n",
       "      <td>LindseyGrahamSC</td>\n",
       "      <td>2019-09-23 13:47:07</td>\n",
       "      <td>en</td>\n",
       "      <td>TweetDeck</td>\n",
       "      <td>352.0</td>\n",
       "      <td>1366.0</td>\n",
       "      <td>0.0</td>\n",
       "      <td>ICYMI:\\n\\nSpoke with @MariaBartiromo yesterday...</td>\n",
       "    </tr>\n",
       "  </tbody>\n",
       "</table>\n",
       "<p>49996 rows × 9 columns</p>\n",
       "</div>"
      ],
      "text/plain": [
       "                    id_str      screen_name          created_at lang  \\\n",
       "0      1131621359161765888      BetoORourke 2019-05-23 18:02:11   en   \n",
       "1      1204604013255299073              NPR 2019-12-11 03:29:11   en   \n",
       "2      1205342072523427841     SportsCenter 2019-12-13 04:21:58   en   \n",
       "3      1208913863258689538          Reuters 2019-12-23 00:55:00   en   \n",
       "4      1124466998149361665              JLo 2019-05-04 00:13:18   en   \n",
       "...                    ...              ...                 ...  ...   \n",
       "49995   914559202600742913     MagicJohnson 2017-10-01 18:34:40   en   \n",
       "49996  1199828441215971328             espn 2019-11-27 23:12:46   en   \n",
       "49997   806316819288100864       aliciakeys 2016-12-07 01:58:05  und   \n",
       "49998  1170111370643177472    HamillHimself 2019-09-06 23:07:45   en   \n",
       "49999  1176130880013815809  LindseyGrahamSC 2019-09-23 13:47:07   en   \n",
       "\n",
       "                     source  retweet_count  favorite_count  is_retweet  \\\n",
       "0        Twitter for iPhone          124.0           688.0         0.0   \n",
       "1                SocialFlow           89.0           310.0         0.0   \n",
       "2             Spredfast app         1419.0          7618.0         0.0   \n",
       "3      Twitter Media Studio           17.0            28.0         0.0   \n",
       "4        Twitter for iPhone          170.0          1332.0         0.0   \n",
       "...                     ...            ...             ...         ...   \n",
       "49995             TweetDeck           49.0           478.0         0.0   \n",
       "49996         Spredfast app          412.0          3578.0         0.0   \n",
       "49997    Twitter Web Client           67.0             0.0         1.0   \n",
       "49998       Twitter Web App            7.0           176.0         0.0   \n",
       "49999             TweetDeck          352.0          1366.0         0.0   \n",
       "\n",
       "                                               full_text  \n",
       "0      Really looking forward to being back in Iowa! ...  \n",
       "1      A new production from the Alvin Ailey American...  \n",
       "2      Lamar Jackson is the 1st player in NFL history...  \n",
       "3      Boeing’s Starliner astronaut spacecraft comple...  \n",
       "4      Yessss! Sing along with me!!! 🎶 🎤 🖤 #Medicine ...  \n",
       "...                                                  ...  \n",
       "49995  Thank you @LakerNation for filling the arena i...  \n",
       "49996  There is no love lost for Kyrie Irving in Bost...  \n",
       "49997                RT @Fisher1963: #VoiceSaveChristian  \n",
       "49998  @The_Autism_Dad I didn't just like your post, ...  \n",
       "49999  ICYMI:\\n\\nSpoke with @MariaBartiromo yesterday...  \n",
       "\n",
       "[49996 rows x 9 columns]"
      ]
     },
     "execution_count": 11,
     "metadata": {},
     "output_type": "execute_result"
    }
   ],
   "source": [
    "combined[~combined[\"full_text\"].isna()]"
   ]
  },
  {
   "cell_type": "code",
   "execution_count": null,
   "metadata": {},
   "outputs": [],
   "source": []
  }
 ],
 "metadata": {
  "kernelspec": {
   "display_name": "Python 3",
   "language": "python",
   "name": "python3"
  },
  "language_info": {
   "codemirror_mode": {
    "name": "ipython",
    "version": 3
   },
   "file_extension": ".py",
   "mimetype": "text/x-python",
   "name": "python",
   "nbconvert_exporter": "python",
   "pygments_lexer": "ipython3",
   "version": "3.7.5"
  }
 },
 "nbformat": 4,
 "nbformat_minor": 4
}
