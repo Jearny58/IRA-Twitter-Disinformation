{
 "cells": [
  {
   "cell_type": "markdown",
   "metadata": {
    "colab_type": "text",
    "id": "i0q2WhFPH7Sj"
   },
   "source": [
    "# _Initial DL Model Exploration: Dec. 31, 2019_"
   ]
  },
  {
   "cell_type": "code",
   "execution_count": null,
   "metadata": {
    "colab": {},
    "colab_type": "code",
    "id": "mSu63tOBgVlj"
   },
   "outputs": [],
   "source": [
    "# update pytorch and fastai to latest versions\n",
    "!pip install torch -U\n",
    "!pip install torchvision -U\n",
    "!pip install fastai -U "
   ]
  },
  {
   "cell_type": "code",
   "execution_count": null,
   "metadata": {
    "colab": {},
    "colab_type": "code",
    "id": "GGj8wadMHxzO"
   },
   "outputs": [],
   "source": [
    "%reload_ext autoreload\n",
    "%autoreload 2\n",
    "%matplotlib inline\n",
    "%config InlineBackend.figure_format = 'retina'"
   ]
  },
  {
   "cell_type": "code",
   "execution_count": null,
   "metadata": {
    "colab": {},
    "colab_type": "code",
    "id": "jvTCnSGwJmco"
   },
   "outputs": [],
   "source": [
    "# import deep learning libraries\n",
    "from fastai.text import *\n",
    "import torch\n",
    "import fastai\n",
    "from fastai import *"
   ]
  },
  {
   "cell_type": "code",
   "execution_count": null,
   "metadata": {
    "colab": {},
    "colab_type": "code",
    "id": "O_ooMcAQIBwr"
   },
   "outputs": [],
   "source": [
    "# import libraries\n",
    "import pandas as pd\n",
    "pd.options.display.max_columns = None\n",
    "import numpy as np\n",
    "import random\n",
    "import os\n",
    "\n",
    "# Matplotlib\n",
    "import matplotlib as mpl\n",
    "import matplotlib.pyplot as plt\n",
    "import seaborn as sns\n",
    "plt.style.use('fivethirtyeight')"
   ]
  },
  {
   "cell_type": "code",
   "execution_count": 7,
   "metadata": {
    "colab": {
     "base_uri": "https://localhost:8080/",
     "height": 35
    },
    "colab_type": "code",
    "id": "V-ACynT9IK-c",
    "outputId": "807d1b9f-9462-4d98-bc45-fcfb917c9e0b"
   },
   "outputs": [
    {
     "name": "stdout",
     "output_type": "stream",
     "text": [
      "Mounted at /content/gdrive\n"
     ]
    }
   ],
   "source": [
    "# mount your google drive so you can save to it\n",
    "from google.colab import drive\n",
    "drive.mount('/content/gdrive', force_remount=True)"
   ]
  },
  {
   "cell_type": "markdown",
   "metadata": {
    "colab_type": "text",
    "id": "gm1l04nsIeIu"
   },
   "source": [
    "## _Set-up Directory_"
   ]
  },
  {
   "cell_type": "code",
   "execution_count": 8,
   "metadata": {
    "colab": {
     "base_uri": "https://localhost:8080/",
     "height": 35
    },
    "colab_type": "code",
    "id": "BDmVAdMRINMI",
    "outputId": "7bdf9261-82a7-4a9b-8328-6556e41e46d8"
   },
   "outputs": [
    {
     "data": {
      "text/plain": [
       "'/content'"
      ]
     },
     "execution_count": 8,
     "metadata": {
      "tags": []
     },
     "output_type": "execute_result"
    }
   ],
   "source": [
    "# current directory\n",
    "os.getcwd()"
   ]
  },
  {
   "cell_type": "code",
   "execution_count": null,
   "metadata": {
    "colab": {},
    "colab_type": "code",
    "id": "w2FzqasZIiDN"
   },
   "outputs": [],
   "source": [
    "# change to appropriate directory for this project\n",
    "os.chdir('/content/gdrive/My Drive/projects/Russian-Disinformation')"
   ]
  },
  {
   "cell_type": "code",
   "execution_count": 10,
   "metadata": {
    "colab": {
     "base_uri": "https://localhost:8080/",
     "height": 35
    },
    "colab_type": "code",
    "id": "m-SMYi3uZTvC",
    "outputId": "fe7f51d6-da68-49cf-8645-4042eb720380"
   },
   "outputs": [
    {
     "name": "stdout",
     "output_type": "stream",
     "text": [
      "Current directory: /content/gdrive/My Drive/projects/Russian-Disinformation\n"
     ]
    }
   ],
   "source": [
    "# ensure directory has been updated\n",
    "print('Current directory: {}'.format(os.getcwd()))"
   ]
  },
  {
   "cell_type": "code",
   "execution_count": 11,
   "metadata": {
    "colab": {
     "base_uri": "https://localhost:8080/",
     "height": 35
    },
    "colab_type": "code",
    "id": "Gcxxxi6-ggJd",
    "outputId": "db5b24b3-59fd-4783-d032-8836974a30e2"
   },
   "outputs": [
    {
     "data": {
      "text/plain": [
       "'/content/gdrive/My Drive/projects/Russian-Disinformation'"
      ]
     },
     "execution_count": 11,
     "metadata": {
      "tags": []
     },
     "output_type": "execute_result"
    }
   ],
   "source": [
    "current_directory = os.getcwd()\n",
    "current_directory"
   ]
  },
  {
   "cell_type": "code",
   "execution_count": null,
   "metadata": {
    "colab": {},
    "colab_type": "code",
    "id": "s8AukOxVIueK"
   },
   "outputs": [],
   "source": [
    "# set up FASTAI home variable to download data to appropriate directory\n",
    "os.environ['FASTAI_HOME'] = current_directory\n",
    "#os.environ[\"TORCH_HOME\"] = current_directory"
   ]
  },
  {
   "cell_type": "code",
   "execution_count": 13,
   "metadata": {
    "colab": {
     "base_uri": "https://localhost:8080/",
     "height": 35
    },
    "colab_type": "code",
    "id": "117qQ5hZgo9D",
    "outputId": "d5009a59-45ca-4f8a-d164-e214430ec8f6"
   },
   "outputs": [
    {
     "data": {
      "text/plain": [
       "'/content/gdrive/My Drive/projects/Russian-Disinformation'"
      ]
     },
     "execution_count": 13,
     "metadata": {
      "tags": []
     },
     "output_type": "execute_result"
    }
   ],
   "source": [
    "os.environ.get('FASTAI_HOME')"
   ]
  },
  {
   "cell_type": "code",
   "execution_count": 14,
   "metadata": {
    "colab": {
     "base_uri": "https://localhost:8080/",
     "height": 86
    },
    "colab_type": "code",
    "id": "_xa9IidMIn2p",
    "outputId": "87e1007e-3a3a-4b32-85a1-2cc367ce508e"
   },
   "outputs": [
    {
     "data": {
      "text/plain": [
       "[PosixPath('/content/gdrive/My Drive/projects/Russian-Disinformation/verified_train.json'),\n",
       " PosixPath('/content/gdrive/My Drive/projects/Russian-Disinformation/ml_sample20.json'),\n",
       " PosixPath('/content/gdrive/My Drive/projects/Russian-Disinformation/ira_train.json'),\n",
       " PosixPath('/content/gdrive/My Drive/projects/Russian-Disinformation/config.yml')]"
      ]
     },
     "execution_count": 14,
     "metadata": {
      "tags": []
     },
     "output_type": "execute_result"
    }
   ],
   "source": [
    "from pathlib import Path\n",
    "\n",
    "# store currect directory for easier access\n",
    "current_directory = os.getcwd()\n",
    "path = Path(current_directory)\n",
    "path.ls()"
   ]
  },
  {
   "cell_type": "markdown",
   "metadata": {
    "colab_type": "text",
    "id": "P0HQHgnJI1Us"
   },
   "source": [
    "## _Load in Data_"
   ]
  },
  {
   "cell_type": "code",
   "execution_count": null,
   "metadata": {
    "colab": {},
    "colab_type": "code",
    "id": "DLK9A0X0Iw4c"
   },
   "outputs": [],
   "source": [
    "# load in ML sample data\n",
    "df = pd.read_json(\"ml_sample20.json\", orient=\"split\")"
   ]
  },
  {
   "cell_type": "code",
   "execution_count": 16,
   "metadata": {
    "colab": {
     "base_uri": "https://localhost:8080/",
     "height": 546
    },
    "colab_type": "code",
    "id": "xAcH2K2pI-xC",
    "outputId": "d670fcff-8efe-4026-e795-041755b9bc0c"
   },
   "outputs": [
    {
     "data": {
      "text/html": [
       "<div>\n",
       "<style scoped>\n",
       "    .dataframe tbody tr th:only-of-type {\n",
       "        vertical-align: middle;\n",
       "    }\n",
       "\n",
       "    .dataframe tbody tr th {\n",
       "        vertical-align: top;\n",
       "    }\n",
       "\n",
       "    .dataframe thead th {\n",
       "        text-align: right;\n",
       "    }\n",
       "</style>\n",
       "<table border=\"1\" class=\"dataframe\">\n",
       "  <thead>\n",
       "    <tr style=\"text-align: right;\">\n",
       "      <th></th>\n",
       "      <th>id_str</th>\n",
       "      <th>screen_name</th>\n",
       "      <th>created_at</th>\n",
       "      <th>lang</th>\n",
       "      <th>source</th>\n",
       "      <th>retweet_count</th>\n",
       "      <th>favorite_count</th>\n",
       "      <th>full_text</th>\n",
       "      <th>clean_text</th>\n",
       "      <th>label</th>\n",
       "    </tr>\n",
       "  </thead>\n",
       "  <tbody>\n",
       "    <tr>\n",
       "      <th>0</th>\n",
       "      <td>561424233624915968</td>\n",
       "      <td>DailyLosAngeles</td>\n",
       "      <td>2015-01-31 07:22:00</td>\n",
       "      <td>en</td>\n",
       "      <td>twitterfeed</td>\n",
       "      <td>0</td>\n",
       "      <td>0</td>\n",
       "      <td>San Francisco police detain 2 in dismembered b...</td>\n",
       "      <td>San Francisco police detain 2 in dismembered b...</td>\n",
       "      <td>fake</td>\n",
       "    </tr>\n",
       "    <tr>\n",
       "      <th>1</th>\n",
       "      <td>1159709950018539520</td>\n",
       "      <td>MeekMill</td>\n",
       "      <td>2019-08-09 06:16:13</td>\n",
       "      <td>en</td>\n",
       "      <td>Twitter for iPhone</td>\n",
       "      <td>4</td>\n",
       "      <td>25</td>\n",
       "      <td>@PrimeVideo then call it a night!! https://t.c...</td>\n",
       "      <td>PrimeVideo then call it a night</td>\n",
       "      <td>real</td>\n",
       "    </tr>\n",
       "    <tr>\n",
       "      <th>2</th>\n",
       "      <td>68709491461464064</td>\n",
       "      <td>ActuallyNPH</td>\n",
       "      <td>2011-05-12 16:09:53</td>\n",
       "      <td>en</td>\n",
       "      <td>Twitter Web Client</td>\n",
       "      <td>99</td>\n",
       "      <td>18</td>\n",
       "      <td>NYers: I'm trying to find a simple, furnished ...</td>\n",
       "      <td>NYers Im trying to find a simple furnished sub...</td>\n",
       "      <td>real</td>\n",
       "    </tr>\n",
       "    <tr>\n",
       "      <th>3</th>\n",
       "      <td>560767739833241600</td>\n",
       "      <td>363c7ee353649189abbdd829bc73b38dae50070b48c5fa...</td>\n",
       "      <td>2015-01-29 11:53:00</td>\n",
       "      <td>en</td>\n",
       "      <td>Twitter Web Client</td>\n",
       "      <td>0</td>\n",
       "      <td>0</td>\n",
       "      <td>Intention is not a thought in your mind, it is...</td>\n",
       "      <td>Intention is not a thought in your mind it is ...</td>\n",
       "      <td>fake</td>\n",
       "    </tr>\n",
       "    <tr>\n",
       "      <th>4</th>\n",
       "      <td>841727127808434176</td>\n",
       "      <td>a95a911dd6ae864c48ed062cdbe75e5c28dbe0cf57c6db...</td>\n",
       "      <td>2017-03-14 19:06:00</td>\n",
       "      <td>en</td>\n",
       "      <td>Twitter Web Client</td>\n",
       "      <td>1</td>\n",
       "      <td>0</td>\n",
       "      <td>Trump has NOTHING to do with Russia. https://t...</td>\n",
       "      <td>Trump has NOTHING to do with Russia</td>\n",
       "      <td>fake</td>\n",
       "    </tr>\n",
       "  </tbody>\n",
       "</table>\n",
       "</div>"
      ],
      "text/plain": [
       "                id_str                                        screen_name  \\\n",
       "0   561424233624915968                                    DailyLosAngeles   \n",
       "1  1159709950018539520                                           MeekMill   \n",
       "2    68709491461464064                                        ActuallyNPH   \n",
       "3   560767739833241600  363c7ee353649189abbdd829bc73b38dae50070b48c5fa...   \n",
       "4   841727127808434176  a95a911dd6ae864c48ed062cdbe75e5c28dbe0cf57c6db...   \n",
       "\n",
       "           created_at lang              source  retweet_count  favorite_count  \\\n",
       "0 2015-01-31 07:22:00   en         twitterfeed              0               0   \n",
       "1 2019-08-09 06:16:13   en  Twitter for iPhone              4              25   \n",
       "2 2011-05-12 16:09:53   en  Twitter Web Client             99              18   \n",
       "3 2015-01-29 11:53:00   en  Twitter Web Client              0               0   \n",
       "4 2017-03-14 19:06:00   en  Twitter Web Client              1               0   \n",
       "\n",
       "                                           full_text  \\\n",
       "0  San Francisco police detain 2 in dismembered b...   \n",
       "1  @PrimeVideo then call it a night!! https://t.c...   \n",
       "2  NYers: I'm trying to find a simple, furnished ...   \n",
       "3  Intention is not a thought in your mind, it is...   \n",
       "4  Trump has NOTHING to do with Russia. https://t...   \n",
       "\n",
       "                                          clean_text label  \n",
       "0  San Francisco police detain 2 in dismembered b...  fake  \n",
       "1                    PrimeVideo then call it a night  real  \n",
       "2  NYers Im trying to find a simple furnished sub...  real  \n",
       "3  Intention is not a thought in your mind it is ...  fake  \n",
       "4                Trump has NOTHING to do with Russia  fake  "
      ]
     },
     "execution_count": 16,
     "metadata": {
      "tags": []
     },
     "output_type": "execute_result"
    }
   ],
   "source": [
    "# see first few rows\n",
    "df[:5]"
   ]
  },
  {
   "cell_type": "code",
   "execution_count": 17,
   "metadata": {
    "colab": {
     "base_uri": "https://localhost:8080/",
     "height": 276
    },
    "colab_type": "code",
    "id": "MGtIQyJoMspD",
    "outputId": "5c74ef62-b0c2-4a44-efd9-155c859f7fd4"
   },
   "outputs": [
    {
     "name": "stdout",
     "output_type": "stream",
     "text": [
      "<class 'pandas.core.frame.DataFrame'>\n",
      "Int64Index: 337766 entries, 0 to 337765\n",
      "Data columns (total 10 columns):\n",
      "id_str            337766 non-null int64\n",
      "screen_name       337766 non-null object\n",
      "created_at        337766 non-null datetime64[ns]\n",
      "lang              337766 non-null object\n",
      "source            337766 non-null object\n",
      "retweet_count     337766 non-null int64\n",
      "favorite_count    337766 non-null int64\n",
      "full_text         337766 non-null object\n",
      "clean_text        337766 non-null object\n",
      "label             337766 non-null object\n",
      "dtypes: datetime64[ns](1), int64(3), object(6)\n",
      "memory usage: 28.3+ MB\n"
     ]
    }
   ],
   "source": [
    "df.info()"
   ]
  },
  {
   "cell_type": "code",
   "execution_count": null,
   "metadata": {
    "colab": {},
    "colab_type": "code",
    "id": "sVGFPJ_mNPYj"
   },
   "outputs": [],
   "source": [
    "import numpy as np\n",
    "from numpy.random import choice\n",
    "\n",
    "# set seed\n",
    "np.random.seed(1)\n",
    "\n",
    "# create new column indicating if it is part of validation set or not\n",
    "df[\"valid\"] = pd.Series(choice([True, False], size=len(df), p=[0.7, 0.3]))"
   ]
  },
  {
   "cell_type": "code",
   "execution_count": 19,
   "metadata": {
    "colab": {
     "base_uri": "https://localhost:8080/",
     "height": 69
    },
    "colab_type": "code",
    "id": "jI7cUN6JN9tB",
    "outputId": "d717c69c-4448-4466-c0d9-3f1b7084d3a4"
   },
   "outputs": [
    {
     "data": {
      "text/plain": [
       "True     0.699807\n",
       "False    0.300193\n",
       "Name: valid, dtype: float64"
      ]
     },
     "execution_count": 19,
     "metadata": {
      "tags": []
     },
     "output_type": "execute_result"
    }
   ],
   "source": [
    "df[\"valid\"].value_counts(normalize=True)"
   ]
  },
  {
   "cell_type": "code",
   "execution_count": null,
   "metadata": {
    "colab": {},
    "colab_type": "code",
    "id": "xF5Gma_BPGY6"
   },
   "outputs": [],
   "source": [
    "# create copy of DF with relevant info\n",
    "df = df[[\"full_text\", \"label\", \"valid\"]].copy()"
   ]
  },
  {
   "cell_type": "code",
   "execution_count": 21,
   "metadata": {
    "colab": {
     "base_uri": "https://localhost:8080/",
     "height": 155
    },
    "colab_type": "code",
    "id": "J3OkAqglRMOH",
    "outputId": "9002d2c6-28d2-46a8-9ece-fc371508ddf9"
   },
   "outputs": [
    {
     "name": "stdout",
     "output_type": "stream",
     "text": [
      "<class 'pandas.core.frame.DataFrame'>\n",
      "Int64Index: 337766 entries, 0 to 337765\n",
      "Data columns (total 3 columns):\n",
      "full_text    337766 non-null object\n",
      "label        337766 non-null object\n",
      "valid        337766 non-null bool\n",
      "dtypes: bool(1), object(2)\n",
      "memory usage: 8.1+ MB\n"
     ]
    }
   ],
   "source": [
    "df.info()"
   ]
  },
  {
   "cell_type": "markdown",
   "metadata": {
    "colab_type": "text",
    "id": "4yzTK_oMQ3Go"
   },
   "source": [
    "## _Creating the TextLMDataBunch_"
   ]
  },
  {
   "cell_type": "code",
   "execution_count": 22,
   "metadata": {
    "colab": {
     "base_uri": "https://localhost:8080/",
     "height": 17
    },
    "colab_type": "code",
    "id": "Qej4LZ4eRRH6",
    "outputId": "67d8250b-5e8e-4908-edc2-dd71147edc31"
   },
   "outputs": [
    {
     "data": {
      "text/html": [],
      "text/plain": [
       "<IPython.core.display.HTML object>"
      ]
     },
     "metadata": {
      "tags": []
     },
     "output_type": "display_data"
    },
    {
     "data": {
      "text/html": [],
      "text/plain": [
       "<IPython.core.display.HTML object>"
      ]
     },
     "metadata": {
      "tags": []
     },
     "output_type": "display_data"
    }
   ],
   "source": [
    "# create data object with data block API\n",
    "data_lm = (TextList.from_df(\n",
    "    df=df,\n",
    "    path=path,\n",
    "    cols=\"full_text\")\n",
    ".split_by_rand_pct(0.1, seed=1)\n",
    ".label_for_lm()\n",
    ".databunch(bs=48, num_workers=1)\n",
    ")"
   ]
  },
  {
   "cell_type": "code",
   "execution_count": 23,
   "metadata": {
    "colab": {
     "base_uri": "https://localhost:8080/",
     "height": 371
    },
    "colab_type": "code",
    "id": "t0Yx5_BlSrNC",
    "outputId": "d3118843-b6ef-4004-eb7f-67778c9585a0"
   },
   "outputs": [
    {
     "data": {
      "text/html": [
       "<table border=\"1\" class=\"dataframe\">\n",
       "  <thead>\n",
       "    <tr style=\"text-align: right;\">\n",
       "      <th>idx</th>\n",
       "      <th>text</th>\n",
       "    </tr>\n",
       "  </thead>\n",
       "  <tbody>\n",
       "    <tr>\n",
       "      <td>0</td>\n",
       "      <td>is not a thought in your mind , it is the power you employ to create your world . xxmaj it is xxmaj intention that manifests your choices . xxup -jcw xxbos xxmaj trump has xxup nothing to do with xxmaj russia . https : / / t.co / xxunk xxbos xxmaj man records passenger on xxup metro bus harassing elderly woman # news xxbos xxmaj golf : xxmaj palmer</td>\n",
       "    </tr>\n",
       "    <tr>\n",
       "      <td>1</td>\n",
       "      <td>xxup u.s. lawmaker voted xxbos xxmaj yes https : / / t.co / xxunk xxbos xxmaj tillerson used email alias at xxmaj exxon to talk climate : xxmaj new xxmaj york attorney general https : / / t.co / xxunk xxbos xxmaj la comunidad internacional debe tener claro que el xxunk cualquier tipo de xxunk a xxmaj maduro o el estar xxunk sobre la grave crisis que xxunk # xxmaj</td>\n",
       "    </tr>\n",
       "    <tr>\n",
       "      <td>2</td>\n",
       "      <td>the xxmaj lake xxmaj district 's xxmaj dove xxmaj xxunk offers an unforgettable overnight stay http : / / t.co / xxunk # xxmaj foke xxbos xxmaj monroeville xxmaj mall introduces new youth policy # local xxbos \" xxmaj you should n't feel like you ca n't make mistakes at this point . \" — xxmaj president xxmaj obama to xxmaj noah mcqueen http : / / t.co / xxunk</td>\n",
       "    </tr>\n",
       "    <tr>\n",
       "      <td>3</td>\n",
       "      <td>men for sex . https : / / t.co / xxunk xxbos xxup sdf forces capture and dismantle thousands of bombs and ieds in # xxmaj manbij https : / / t.co / xxunk g xxbos @bojangles1977 what ’s good tho i want more xxbos @38540d3111e61e3815faf16d4230b2fca6116c55c3ac4cb899a1257c49db9c84 no doubt xxbos xxmaj midshipmen create ' xxmaj xxunk xxmaj funk ' video # xxmaj maryland xxbos “ xxmaj the xxmaj james xxup w.</td>\n",
       "    </tr>\n",
       "    <tr>\n",
       "      <td>4</td>\n",
       "      <td>/ / t.co / xxunk xxbos xxmaj creator of covert xxmaj planned xxmaj parenthood videos in the spotlight # xxmaj texas xxbos lebron arrives to watch xxmaj bronny and xxmaj sierra xxmaj canyon play against his alma mater , xxmaj st. xxmaj vincent - xxmaj st . xxmaj mary . \\n \\n  xxmaj watch live now 🍿 https : / / t.co / xxunk https : / / t.co</td>\n",
       "    </tr>\n",
       "  </tbody>\n",
       "</table>"
      ],
      "text/plain": [
       "<IPython.core.display.HTML object>"
      ]
     },
     "metadata": {
      "tags": []
     },
     "output_type": "display_data"
    }
   ],
   "source": [
    "# see what a batch looks like\n",
    "data_lm.show_batch()"
   ]
  },
  {
   "cell_type": "code",
   "execution_count": null,
   "metadata": {
    "colab": {},
    "colab_type": "code",
    "id": "nJBsQcjoSrJp"
   },
   "outputs": [],
   "source": [
    "# save databunch for next time\n",
    "data_lm.save(\"models/lm_databunch\")"
   ]
  },
  {
   "cell_type": "markdown",
   "metadata": {
    "colab_type": "text",
    "id": "1xsGyH54S6pI"
   },
   "source": [
    "## _Loading Saved Data, and Creating the Language Model_"
   ]
  },
  {
   "cell_type": "code",
   "execution_count": null,
   "metadata": {
    "colab": {},
    "colab_type": "code",
    "id": "ANWTkgWWSrGI"
   },
   "outputs": [],
   "source": [
    "data_lm = load_data(path/\"models\", \"lm_databunch\", bs=48)"
   ]
  },
  {
   "cell_type": "code",
   "execution_count": null,
   "metadata": {
    "colab": {},
    "colab_type": "code",
    "id": "hETXchcFSrDF"
   },
   "outputs": [],
   "source": [
    "learn_lm = language_model_learner(data_lm, AWD_LSTM, drop_mult=0.3)"
   ]
  },
  {
   "cell_type": "code",
   "execution_count": null,
   "metadata": {
    "colab": {},
    "colab_type": "code",
    "id": "59zeL7ZRYmf3"
   },
   "outputs": [],
   "source": [
    "wiki_itos = pickle.load(open(path/\"models/wt103-fwd/itos_wt103.pkl\", \"rb\"))"
   ]
  },
  {
   "cell_type": "code",
   "execution_count": null,
   "metadata": {
    "colab": {},
    "colab_type": "code",
    "id": "XBQq_azbnRPJ"
   },
   "outputs": [],
   "source": [
    "# load vocabulary of language model\n",
    "vocab = data_lm.vocab"
   ]
  },
  {
   "cell_type": "code",
   "execution_count": 35,
   "metadata": {
    "colab": {
     "base_uri": "https://localhost:8080/",
     "height": 35
    },
    "colab_type": "code",
    "id": "xOEPuCLUnRLV",
    "outputId": "200ff39d-c816-4ffe-dd72-aa1334d43e37"
   },
   "outputs": [
    {
     "data": {
      "text/plain": [
       "39210"
      ]
     },
     "execution_count": 35,
     "metadata": {
      "tags": []
     },
     "output_type": "execute_result"
    }
   ],
   "source": [
    "vocab.stoi[\"stingray\"]"
   ]
  },
  {
   "cell_type": "code",
   "execution_count": 36,
   "metadata": {
    "colab": {
     "base_uri": "https://localhost:8080/",
     "height": 35
    },
    "colab_type": "code",
    "id": "JAGfSEmtnRH2",
    "outputId": "9d1ea295-bd5f-4aac-9a98-5f388812a9cf"
   },
   "outputs": [
    {
     "data": {
      "text/plain": [
       "'stingray'"
      ]
     },
     "execution_count": 36,
     "metadata": {
      "tags": []
     },
     "output_type": "execute_result"
    }
   ],
   "source": [
    "vocab.itos[vocab.stoi['stingray']]"
   ]
  },
  {
   "cell_type": "code",
   "execution_count": 37,
   "metadata": {
    "colab": {
     "base_uri": "https://localhost:8080/",
     "height": 35
    },
    "colab_type": "code",
    "id": "gLGq7Bi7nRE6",
    "outputId": "9df0ffcc-3bf3-4c1d-852c-77a6bd9e0234"
   },
   "outputs": [
    {
     "data": {
      "text/plain": [
       "'xxunk'"
      ]
     },
     "execution_count": 37,
     "metadata": {
      "tags": []
     },
     "output_type": "execute_result"
    }
   ],
   "source": [
    "vocab.itos[vocab.stoi['mobula']]"
   ]
  },
  {
   "cell_type": "code",
   "execution_count": null,
   "metadata": {
    "colab": {},
    "colab_type": "code",
    "id": "Xmx895hUnRB6"
   },
   "outputs": [],
   "source": [
    "awd = learn_lm.model[0]"
   ]
  },
  {
   "cell_type": "code",
   "execution_count": null,
   "metadata": {
    "colab": {},
    "colab_type": "code",
    "id": "YBDxmWhbnQ-Q"
   },
   "outputs": [],
   "source": [
    "from scipy.spatial.distance import cosine as dist"
   ]
  },
  {
   "cell_type": "code",
   "execution_count": 40,
   "metadata": {
    "colab": {
     "base_uri": "https://localhost:8080/",
     "height": 35
    },
    "colab_type": "code",
    "id": "wYKqeTdZKmF5",
    "outputId": "21e4eb0d-3bf3-44c5-ae61-0f536793ff72"
   },
   "outputs": [
    {
     "data": {
      "text/plain": [
       "torch.Size([47424, 400])"
      ]
     },
     "execution_count": 40,
     "metadata": {
      "tags": []
     },
     "output_type": "execute_result"
    }
   ],
   "source": [
    "enc = learn_lm.model[0].encoder\n",
    "enc.weight.size()"
   ]
  },
  {
   "cell_type": "markdown",
   "metadata": {
    "colab_type": "text",
    "id": "MARTyGN5nwry"
   },
   "source": [
    "## _Training the Model_"
   ]
  },
  {
   "cell_type": "code",
   "execution_count": 43,
   "metadata": {
    "colab": {
     "base_uri": "https://localhost:8080/",
     "height": 396
    },
    "colab_type": "code",
    "id": "OM5HsZplnwH1",
    "outputId": "68b7add2-870e-4209-b689-5b552a04f77f"
   },
   "outputs": [
    {
     "data": {
      "text/html": [
       "\n",
       "    <div>\n",
       "        <style>\n",
       "            /* Turns off some styling */\n",
       "            progress {\n",
       "                /* gets rid of default border in Firefox and Opera. */\n",
       "                border: none;\n",
       "                /* Needs to be in here for Safari polyfill so background images work as expected. */\n",
       "                background-size: auto;\n",
       "            }\n",
       "            .progress-bar-interrupted, .progress-bar-interrupted::-webkit-progress-bar {\n",
       "                background: #F44336;\n",
       "            }\n",
       "        </style>\n",
       "      <progress value='0' class='' max='1', style='width:300px; height:20px; vertical-align: middle;'></progress>\n",
       "      0.00% [0/1 00:00<00:00]\n",
       "    </div>\n",
       "    \n",
       "<table border=\"1\" class=\"dataframe\">\n",
       "  <thead>\n",
       "    <tr style=\"text-align: left;\">\n",
       "      <th>epoch</th>\n",
       "      <th>train_loss</th>\n",
       "      <th>valid_loss</th>\n",
       "      <th>accuracy</th>\n",
       "      <th>time</th>\n",
       "    </tr>\n",
       "  </thead>\n",
       "  <tbody>\n",
       "  </tbody>\n",
       "</table><p>\n",
       "\n",
       "    <div>\n",
       "        <style>\n",
       "            /* Turns off some styling */\n",
       "            progress {\n",
       "                /* gets rid of default border in Firefox and Opera. */\n",
       "                border: none;\n",
       "                /* Needs to be in here for Safari polyfill so background images work as expected. */\n",
       "                background-size: auto;\n",
       "            }\n",
       "            .progress-bar-interrupted, .progress-bar-interrupted::-webkit-progress-bar {\n",
       "                background: #F44336;\n",
       "            }\n",
       "        </style>\n",
       "      <progress value='99' class='' max='2462', style='width:300px; height:20px; vertical-align: middle;'></progress>\n",
       "      4.02% [99/2462 00:14<05:55 10.3917]\n",
       "    </div>\n",
       "    "
      ],
      "text/plain": [
       "<IPython.core.display.HTML object>"
      ]
     },
     "metadata": {
      "tags": []
     },
     "output_type": "display_data"
    },
    {
     "name": "stdout",
     "output_type": "stream",
     "text": [
      "LR Finder is complete, type {learner_name}.recorder.plot() to see the graph.\n"
     ]
    },
    {
     "data": {
      "image/png": "[encoded data removed]",
      "text/plain": [
       "<Figure size 432x288 with 1 Axes>"
      ]
     },
     "metadata": {
      "image/png": {
       "height": 285,
       "width": 436
      },
      "tags": []
     },
     "output_type": "display_data"
    }
   ],
   "source": [
    "learn_lm.lr_find()\n",
    "learn_lm.recorder.plot(skip_end=10)"
   ]
  },
  {
   "cell_type": "code",
   "execution_count": null,
   "metadata": {
    "colab": {},
    "colab_type": "code",
    "id": "wH7XF-feQSah"
   },
   "outputs": [],
   "source": [
    "lr = 1e-2"
   ]
  },
  {
   "cell_type": "code",
   "execution_count": null,
   "metadata": {
    "colab": {},
    "colab_type": "code",
    "id": "2Msu2pEGoTlu"
   },
   "outputs": [],
   "source": [
    "learn_lm.to_fp16();"
   ]
  },
  {
   "cell_type": "code",
   "execution_count": 47,
   "metadata": {
    "colab": {
     "base_uri": "https://localhost:8080/",
     "height": 78
    },
    "colab_type": "code",
    "id": "MJlaihjSogeU",
    "outputId": "62a12202-42bb-4543-e738-e08ed7ceb127"
   },
   "outputs": [
    {
     "data": {
      "text/html": [
       "<table border=\"1\" class=\"dataframe\">\n",
       "  <thead>\n",
       "    <tr style=\"text-align: left;\">\n",
       "      <th>epoch</th>\n",
       "      <th>train_loss</th>\n",
       "      <th>valid_loss</th>\n",
       "      <th>accuracy</th>\n",
       "      <th>time</th>\n",
       "    </tr>\n",
       "  </thead>\n",
       "  <tbody>\n",
       "    <tr>\n",
       "      <td>0</td>\n",
       "      <td>4.051777</td>\n",
       "      <td>3.844542</td>\n",
       "      <td>0.387903</td>\n",
       "      <td>06:21</td>\n",
       "    </tr>\n",
       "  </tbody>\n",
       "</table>"
      ],
      "text/plain": [
       "<IPython.core.display.HTML object>"
      ]
     },
     "metadata": {
      "tags": []
     },
     "output_type": "display_data"
    }
   ],
   "source": [
    "learn_lm.fit_one_cycle(1, lr*10, moms=(0.8,0.7))"
   ]
  },
  {
   "cell_type": "code",
   "execution_count": null,
   "metadata": {
    "colab": {},
    "colab_type": "code",
    "id": "-HcyICsEokoz"
   },
   "outputs": [],
   "source": [
    "learn_lm.save(\"fit_1\");"
   ]
  },
  {
   "cell_type": "code",
   "execution_count": null,
   "metadata": {
    "colab": {},
    "colab_type": "code",
    "id": "czRCJiBEqQqC"
   },
   "outputs": [],
   "source": [
    "learn_lm.load(\"fit_1\");"
   ]
  },
  {
   "cell_type": "markdown",
   "metadata": {
    "colab_type": "text",
    "id": "4llNw-CPqf9j"
   },
   "source": [
    "## _Unfreeze and Fine-Tune_"
   ]
  },
  {
   "cell_type": "code",
   "execution_count": null,
   "metadata": {
    "colab": {},
    "colab_type": "code",
    "id": "CM1h0_v2qdTB"
   },
   "outputs": [],
   "source": [
    "learn_lm.unfreeze()"
   ]
  },
  {
   "cell_type": "code",
   "execution_count": 53,
   "metadata": {
    "colab": {
     "base_uri": "https://localhost:8080/",
     "height": 348
    },
    "colab_type": "code",
    "id": "5yZKrU5Gqkoi",
    "outputId": "f62d1d6d-d5ab-46c3-e9b1-24bdc7fa9162"
   },
   "outputs": [
    {
     "data": {
      "text/html": [
       "<table border=\"1\" class=\"dataframe\">\n",
       "  <thead>\n",
       "    <tr style=\"text-align: left;\">\n",
       "      <th>epoch</th>\n",
       "      <th>train_loss</th>\n",
       "      <th>valid_loss</th>\n",
       "      <th>accuracy</th>\n",
       "      <th>time</th>\n",
       "    </tr>\n",
       "  </thead>\n",
       "  <tbody>\n",
       "    <tr>\n",
       "      <td>0</td>\n",
       "      <td>3.490181</td>\n",
       "      <td>3.429500</td>\n",
       "      <td>0.430497</td>\n",
       "      <td>07:17</td>\n",
       "    </tr>\n",
       "    <tr>\n",
       "      <td>1</td>\n",
       "      <td>3.515878</td>\n",
       "      <td>3.440743</td>\n",
       "      <td>0.428371</td>\n",
       "      <td>07:16</td>\n",
       "    </tr>\n",
       "    <tr>\n",
       "      <td>2</td>\n",
       "      <td>3.477211</td>\n",
       "      <td>3.395124</td>\n",
       "      <td>0.433380</td>\n",
       "      <td>07:16</td>\n",
       "    </tr>\n",
       "    <tr>\n",
       "      <td>3</td>\n",
       "      <td>3.377501</td>\n",
       "      <td>3.312061</td>\n",
       "      <td>0.443051</td>\n",
       "      <td>07:16</td>\n",
       "    </tr>\n",
       "    <tr>\n",
       "      <td>4</td>\n",
       "      <td>3.293699</td>\n",
       "      <td>3.234850</td>\n",
       "      <td>0.451220</td>\n",
       "      <td>07:16</td>\n",
       "    </tr>\n",
       "    <tr>\n",
       "      <td>5</td>\n",
       "      <td>3.157233</td>\n",
       "      <td>3.152229</td>\n",
       "      <td>0.461087</td>\n",
       "      <td>07:16</td>\n",
       "    </tr>\n",
       "    <tr>\n",
       "      <td>6</td>\n",
       "      <td>3.025581</td>\n",
       "      <td>3.073155</td>\n",
       "      <td>0.471943</td>\n",
       "      <td>07:16</td>\n",
       "    </tr>\n",
       "    <tr>\n",
       "      <td>7</td>\n",
       "      <td>2.861168</td>\n",
       "      <td>3.011769</td>\n",
       "      <td>0.481317</td>\n",
       "      <td>07:16</td>\n",
       "    </tr>\n",
       "    <tr>\n",
       "      <td>8</td>\n",
       "      <td>2.722441</td>\n",
       "      <td>2.987064</td>\n",
       "      <td>0.486680</td>\n",
       "      <td>07:17</td>\n",
       "    </tr>\n",
       "    <tr>\n",
       "      <td>9</td>\n",
       "      <td>2.589486</td>\n",
       "      <td>2.991396</td>\n",
       "      <td>0.487331</td>\n",
       "      <td>07:17</td>\n",
       "    </tr>\n",
       "  </tbody>\n",
       "</table>"
      ],
      "text/plain": [
       "<IPython.core.display.HTML object>"
      ]
     },
     "metadata": {
      "tags": []
     },
     "output_type": "display_data"
    }
   ],
   "source": [
    "learn_lm.fit_one_cycle(10, lr, moms=(0.8,0.7))"
   ]
  },
  {
   "cell_type": "code",
   "execution_count": null,
   "metadata": {
    "colab": {},
    "colab_type": "code",
    "id": "NbzgY3aZqnkG"
   },
   "outputs": [],
   "source": [
    "learn_lm.save(\"fine_tuned\")"
   ]
  },
  {
   "cell_type": "code",
   "execution_count": null,
   "metadata": {
    "colab": {},
    "colab_type": "code",
    "id": "kqcVwpP578te"
   },
   "outputs": [],
   "source": [
    "learn_lm.save_encoder(\"fine_tuned_enc\")"
   ]
  },
  {
   "cell_type": "markdown",
   "metadata": {
    "colab_type": "text",
    "id": "gXQlft4L8Bk-"
   },
   "source": [
    "## _Loading our saved weights_"
   ]
  },
  {
   "cell_type": "code",
   "execution_count": null,
   "metadata": {
    "colab": {},
    "colab_type": "code",
    "id": "lJbqu0g58A_e"
   },
   "outputs": [],
   "source": [
    "learn_lm.load(\"fine_tuned\");"
   ]
  },
  {
   "cell_type": "markdown",
   "metadata": {
    "colab_type": "text",
    "id": "mLPFbtwe8MZt"
   },
   "source": [
    "## _Classifier_"
   ]
  },
  {
   "cell_type": "code",
   "execution_count": 57,
   "metadata": {
    "colab": {
     "base_uri": "https://localhost:8080/",
     "height": 35
    },
    "colab_type": "code",
    "id": "oEOwi6ne8moR",
    "outputId": "856aa824-5b71-4d2b-fdc7-d02fd3c6b1a2"
   },
   "outputs": [
    {
     "data": {
      "text/plain": [
       "Index(['full_text', 'label', 'valid'], dtype='object')"
      ]
     },
     "execution_count": 57,
     "metadata": {
      "tags": []
     },
     "output_type": "execute_result"
    }
   ],
   "source": [
    "df.columns"
   ]
  },
  {
   "cell_type": "code",
   "execution_count": 74,
   "metadata": {
    "colab": {
     "base_uri": "https://localhost:8080/",
     "height": 17
    },
    "colab_type": "code",
    "id": "sIYjY4vN8GHU",
    "outputId": "4e193887-17bd-4595-d6c8-5d94e6b1b79a"
   },
   "outputs": [
    {
     "data": {
      "text/html": [],
      "text/plain": [
       "<IPython.core.display.HTML object>"
      ]
     },
     "metadata": {
      "tags": []
     },
     "output_type": "display_data"
    },
    {
     "data": {
      "text/html": [],
      "text/plain": [
       "<IPython.core.display.HTML object>"
      ]
     },
     "metadata": {
      "tags": []
     },
     "output_type": "display_data"
    }
   ],
   "source": [
    "# create data object with data block API\n",
    "data_clas = (TextList.from_df(\n",
    "    df=df,\n",
    "    path=path,\n",
    "    vocab=data_lm.vocab,\n",
    "    cols=\"full_text\")\n",
    ".split_by_rand_pct(0.3, seed=1)\n",
    ".label_from_df(cols=\"label\")\n",
    ".databunch(bs=48, num_workers=1)\n",
    ")"
   ]
  },
  {
   "cell_type": "code",
   "execution_count": 75,
   "metadata": {
    "colab": {
     "base_uri": "https://localhost:8080/",
     "height": 331
    },
    "colab_type": "code",
    "id": "Rzoebu65BTCe",
    "outputId": "d4bbd5e5-763e-4182-8ccc-808084400b86"
   },
   "outputs": [
    {
     "data": {
      "text/plain": [
       "TextClasDataBunch;\n",
       "\n",
       "Train: LabelList (236437 items)\n",
       "x: TextList\n",
       "xxbos xxmaj san xxmaj francisco police detain 2 in dismembered body case # crime,xxbos nyers : i 'm trying to find a simple , xxunk xxunk for our nanny in the xxmaj upper xxmaj west xxmaj side - ish area for a month or so . xxmaj any leads ?,xxbos xxmaj intention is not a thought in your mind , it is the power you employ to create your world . xxmaj it is xxmaj intention that manifests your choices . xxup -jcw,xxbos xxmaj man records passenger on xxup metro bus harassing elderly woman # news,xxbos xxmaj golf : xxmaj palmer lauded by greats of the sport at memorial service # sports\n",
       "y: CategoryList\n",
       "fake,real,fake,fake,fake\n",
       "Path: /content/gdrive/My Drive/projects/Russian-Disinformation;\n",
       "\n",
       "Valid: LabelList (101329 items)\n",
       "x: TextList\n",
       "xxbos xxmaj that 's why i pick and choose , i do n't get shit confused,xxbos # news xxmaj protest over xxmaj chicago teen ’s shooting ties up retail district,xxbos 🎧 xxmaj listen : xxmaj federal officials are considering a move that could stop xxmaj facebook from further integrating the apps it owns . xxmaj in today 's episode of xxmaj the xxmaj journal podcast , xxunk explains what that would mean for the company . https : / / t.co / xxunk,xxbos xxmaj osprey is set in a small crater in xxmaj bennu ’s equatorial region . xxmaj there are several possible sampling regions . xxmaj the diversity of rock types hints that the xxunk within the site may be diverse . xxmaj osprey has the strongest xxunk ( visible light ) signature of carbon - rich material . https : / / t.co / xxunk,xxbos xxmaj tropical xxmaj storm xxmaj grace forms in the xxmaj atlantic , 7th named storm of season # news\n",
       "y: CategoryList\n",
       "fake,fake,real,real,fake\n",
       "Path: /content/gdrive/My Drive/projects/Russian-Disinformation;\n",
       "\n",
       "Test: None"
      ]
     },
     "execution_count": 75,
     "metadata": {
      "tags": []
     },
     "output_type": "execute_result"
    }
   ],
   "source": [
    "data_clas"
   ]
  },
  {
   "cell_type": "code",
   "execution_count": null,
   "metadata": {
    "colab": {},
    "colab_type": "code",
    "id": "LH1SKws_8w_z"
   },
   "outputs": [],
   "source": [
    "data_clas.save(\"ru_twitter_sample_class\")"
   ]
  },
  {
   "cell_type": "code",
   "execution_count": null,
   "metadata": {
    "colab": {},
    "colab_type": "code",
    "id": "1mpPU5b-9jUC"
   },
   "outputs": [],
   "source": [
    "data_clas = load_data(path, \"ru_twitter_sample_class\", bs=48);"
   ]
  },
  {
   "cell_type": "code",
   "execution_count": 78,
   "metadata": {
    "colab": {
     "base_uri": "https://localhost:8080/",
     "height": 302
    },
    "colab_type": "code",
    "id": "W6rDdvjL9uf1",
    "outputId": "b07256db-9f02-47a3-8404-82d71d4e63d7"
   },
   "outputs": [
    {
     "data": {
      "text/html": [
       "<table border=\"1\" class=\"dataframe\">\n",
       "  <thead>\n",
       "    <tr style=\"text-align: right;\">\n",
       "      <th>text</th>\n",
       "      <th>target</th>\n",
       "    </tr>\n",
       "  </thead>\n",
       "  <tbody>\n",
       "    <tr>\n",
       "      <td>xxbos xxrep 5 🌠 🇺 🇸 🇺 🇸 🇺 🇸 🇺 🇸 🇺 🇸 🇺 🇸 🇺 🇸 \\n  xxrep 5 🌠 ⚾ ️ ⚾ ️ ⚾ ️ ⚾ ️ ⚾ ️ ⚾ ️ ⚾ ️ \\n  xxrep 5 🌠 🇺 🇸 🇺 🇸 🇺 🇸 🇺 🇸 🇺 🇸 🇺 🇸 🇺 🇸 \\n  xxrep 5 🌠 ⚾ ️ ⚾ ️ ⚾ ️ ⚾ ️ ⚾</td>\n",
       "      <td>real</td>\n",
       "    </tr>\n",
       "    <tr>\n",
       "      <td>xxbos “ xxmaj the first threat is , ‘ xxmaj if you do n’t do it , i ’m going to post on social media , ’ ” said xxmaj matt xxmaj wright , a special agent with the xxmaj department of xxmaj homeland xxmaj security . “ ‘ xxmaj and by the way , i ’ve got a list of your family members and i ’m going to send</td>\n",
       "      <td>real</td>\n",
       "    </tr>\n",
       "    <tr>\n",
       "      <td>xxbos xxmaj here are the 10 candidates in tonight 's # demdebate : \\n \\n  🗣 ️ xxmaj joe xxmaj biden \\n  🗣 ️ xxmaj cory xxmaj booker \\n  🗣 ️ xxmaj pete xxmaj buttigieg \\n  🗣 ️ xxmaj tulsi xxmaj gabbard \\n  🗣 ️ xxmaj kamala xxmaj harris \\n  🗣 ️ xxmaj amy xxmaj klobuchar \\n  🗣 ️ xxmaj bernie xxmaj sanders</td>\n",
       "      <td>real</td>\n",
       "    </tr>\n",
       "    <tr>\n",
       "      <td>xxbos xxmaj rep. xxmaj dean : “ xxmaj some have suggested that   our actions , this historic call   for impeachment , are based in   dislike , or even hatred , of a   single man . xxmaj they are not .   xxmaj this is not about punishment or   hate .   xxmaj it is about love .   xxmaj it is about love of this</td>\n",
       "      <td>real</td>\n",
       "    </tr>\n",
       "    <tr>\n",
       "      <td>xxbos xxmaj actor xxmaj kevin xxmaj costner , the star of \" xxmaj field of xxmaj dreams \" and \" xxmaj dances xxmaj with xxmaj wolves , \" will endorse xxmaj south xxmaj bend , xxmaj indiana , xxmaj mayor xxmaj pete xxmaj buttigieg this weekend , the campaign announced . xxmaj the two - time xxmaj academy xxmaj award winner will introduce xxmaj buttigieg in xxmaj iowa . https</td>\n",
       "      <td>real</td>\n",
       "    </tr>\n",
       "  </tbody>\n",
       "</table>"
      ],
      "text/plain": [
       "<IPython.core.display.HTML object>"
      ]
     },
     "metadata": {
      "tags": []
     },
     "output_type": "display_data"
    }
   ],
   "source": [
    "data_clas.show_batch()"
   ]
  },
  {
   "cell_type": "code",
   "execution_count": 79,
   "metadata": {
    "colab": {
     "base_uri": "https://localhost:8080/",
     "height": 331
    },
    "colab_type": "code",
    "id": "L0ELoaWh96C1",
    "outputId": "f8f9a3b7-570e-4e33-8b70-42a6d7998482"
   },
   "outputs": [
    {
     "data": {
      "text/plain": [
       "TextClasDataBunch;\n",
       "\n",
       "Train: LabelList (236437 items)\n",
       "x: TextList\n",
       "xxbos xxmaj san xxmaj francisco police detain 2 in dismembered body case # crime,xxbos nyers : i 'm trying to find a simple , xxunk xxunk for our nanny in the xxmaj upper xxmaj west xxmaj side - ish area for a month or so . xxmaj any leads ?,xxbos xxmaj intention is not a thought in your mind , it is the power you employ to create your world . xxmaj it is xxmaj intention that manifests your choices . xxup -jcw,xxbos xxmaj man records passenger on xxup metro bus harassing elderly woman # news,xxbos xxmaj golf : xxmaj palmer lauded by greats of the sport at memorial service # sports\n",
       "y: CategoryList\n",
       "fake,real,fake,fake,fake\n",
       "Path: /content/gdrive/My Drive/projects/Russian-Disinformation;\n",
       "\n",
       "Valid: LabelList (101329 items)\n",
       "x: TextList\n",
       "xxbos xxmaj that 's why i pick and choose , i do n't get shit confused,xxbos # news xxmaj protest over xxmaj chicago teen ’s shooting ties up retail district,xxbos 🎧 xxmaj listen : xxmaj federal officials are considering a move that could stop xxmaj facebook from further integrating the apps it owns . xxmaj in today 's episode of xxmaj the xxmaj journal podcast , xxunk explains what that would mean for the company . https : / / t.co / xxunk,xxbos xxmaj osprey is set in a small crater in xxmaj bennu ’s equatorial region . xxmaj there are several possible sampling regions . xxmaj the diversity of rock types hints that the xxunk within the site may be diverse . xxmaj osprey has the strongest xxunk ( visible light ) signature of carbon - rich material . https : / / t.co / xxunk,xxbos xxmaj tropical xxmaj storm xxmaj grace forms in the xxmaj atlantic , 7th named storm of season # news\n",
       "y: CategoryList\n",
       "fake,fake,real,real,fake\n",
       "Path: /content/gdrive/My Drive/projects/Russian-Disinformation;\n",
       "\n",
       "Test: None"
      ]
     },
     "execution_count": 79,
     "metadata": {
      "tags": []
     },
     "output_type": "execute_result"
    }
   ],
   "source": [
    "data_clas"
   ]
  },
  {
   "cell_type": "code",
   "execution_count": null,
   "metadata": {
    "colab": {},
    "colab_type": "code",
    "id": "F4XRUE0K9-xY"
   },
   "outputs": [],
   "source": [
    "learn_c = text_classifier_learner(data_clas, AWD_LSTM, drop_mult=0.3)"
   ]
  },
  {
   "cell_type": "code",
   "execution_count": null,
   "metadata": {
    "colab": {},
    "colab_type": "code",
    "id": "zU4JP31v-Ibx"
   },
   "outputs": [],
   "source": [
    "learn_c.to_fp16();"
   ]
  },
  {
   "cell_type": "code",
   "execution_count": null,
   "metadata": {
    "colab": {},
    "colab_type": "code",
    "id": "jKLILI6g-LGp"
   },
   "outputs": [],
   "source": [
    "learn_c.load_encoder(\"models/fine_tuned_enc\");"
   ]
  },
  {
   "cell_type": "code",
   "execution_count": null,
   "metadata": {
    "colab": {},
    "colab_type": "code",
    "id": "_UNQLKfn-Qf4"
   },
   "outputs": [],
   "source": [
    "learn_c.freeze()"
   ]
  },
  {
   "cell_type": "code",
   "execution_count": 84,
   "metadata": {
    "colab": {
     "base_uri": "https://localhost:8080/",
     "height": 398
    },
    "colab_type": "code",
    "id": "rTs95N81-WjI",
    "outputId": "3126b8c7-a26e-49a0-8b3a-c9a907e4ec8a"
   },
   "outputs": [
    {
     "data": {
      "text/html": [
       "\n",
       "    <div>\n",
       "        <style>\n",
       "            /* Turns off some styling */\n",
       "            progress {\n",
       "                /* gets rid of default border in Firefox and Opera. */\n",
       "                border: none;\n",
       "                /* Needs to be in here for Safari polyfill so background images work as expected. */\n",
       "                background-size: auto;\n",
       "            }\n",
       "            .progress-bar-interrupted, .progress-bar-interrupted::-webkit-progress-bar {\n",
       "                background: #F44336;\n",
       "            }\n",
       "        </style>\n",
       "      <progress value='0' class='' max='1', style='width:300px; height:20px; vertical-align: middle;'></progress>\n",
       "      0.00% [0/1 00:00<00:00]\n",
       "    </div>\n",
       "    \n",
       "<table border=\"1\" class=\"dataframe\">\n",
       "  <thead>\n",
       "    <tr style=\"text-align: left;\">\n",
       "      <th>epoch</th>\n",
       "      <th>train_loss</th>\n",
       "      <th>valid_loss</th>\n",
       "      <th>accuracy</th>\n",
       "      <th>time</th>\n",
       "    </tr>\n",
       "  </thead>\n",
       "  <tbody>\n",
       "  </tbody>\n",
       "</table><p>\n",
       "\n",
       "    <div>\n",
       "        <style>\n",
       "            /* Turns off some styling */\n",
       "            progress {\n",
       "                /* gets rid of default border in Firefox and Opera. */\n",
       "                border: none;\n",
       "                /* Needs to be in here for Safari polyfill so background images work as expected. */\n",
       "                background-size: auto;\n",
       "            }\n",
       "            .progress-bar-interrupted, .progress-bar-interrupted::-webkit-progress-bar {\n",
       "                background: #F44336;\n",
       "            }\n",
       "        </style>\n",
       "      <progress value='91' class='' max='4925', style='width:300px; height:20px; vertical-align: middle;'></progress>\n",
       "      1.85% [91/4925 00:07<06:52 1.7378]\n",
       "    </div>\n",
       "    "
      ],
      "text/plain": [
       "<IPython.core.display.HTML object>"
      ]
     },
     "metadata": {
      "tags": []
     },
     "output_type": "display_data"
    },
    {
     "name": "stdout",
     "output_type": "stream",
     "text": [
      "LR Finder is complete, type {learner_name}.recorder.plot() to see the graph.\n"
     ]
    },
    {
     "data": {
      "image/png": "[encoded data removed]",
      "text/plain": [
       "<Figure size 432x288 with 1 Axes>"
      ]
     },
     "metadata": {
      "image/png": {
       "height": 287,
       "width": 458
      },
      "tags": []
     },
     "output_type": "display_data"
    }
   ],
   "source": [
    "learn_c.lr_find()\n",
    "learn_c.recorder.plot()"
   ]
  },
  {
   "cell_type": "code",
   "execution_count": null,
   "metadata": {
    "colab": {},
    "colab_type": "code",
    "id": "1KM32SxB-jz1"
   },
   "outputs": [],
   "source": [
    "lr = 1e-3"
   ]
  },
  {
   "cell_type": "code",
   "execution_count": 86,
   "metadata": {
    "colab": {
     "base_uri": "https://localhost:8080/",
     "height": 78
    },
    "colab_type": "code",
    "id": "xfsJU-al-Zp8",
    "outputId": "2aa79b30-c8eb-46f9-b3b9-94988ba94946"
   },
   "outputs": [
    {
     "data": {
      "text/html": [
       "<table border=\"1\" class=\"dataframe\">\n",
       "  <thead>\n",
       "    <tr style=\"text-align: left;\">\n",
       "      <th>epoch</th>\n",
       "      <th>train_loss</th>\n",
       "      <th>valid_loss</th>\n",
       "      <th>accuracy</th>\n",
       "      <th>time</th>\n",
       "    </tr>\n",
       "  </thead>\n",
       "  <tbody>\n",
       "    <tr>\n",
       "      <td>0</td>\n",
       "      <td>0.264911</td>\n",
       "      <td>0.162431</td>\n",
       "      <td>0.939524</td>\n",
       "      <td>02:05</td>\n",
       "    </tr>\n",
       "  </tbody>\n",
       "</table>"
      ],
      "text/plain": [
       "<IPython.core.display.HTML object>"
      ]
     },
     "metadata": {
      "tags": []
     },
     "output_type": "display_data"
    }
   ],
   "source": [
    "learn_c.fit_one_cycle(1, lr, moms=(0.8,0.7))"
   ]
  },
  {
   "cell_type": "code",
   "execution_count": null,
   "metadata": {
    "colab": {},
    "colab_type": "code",
    "id": "m78BTmeO-utr"
   },
   "outputs": [],
   "source": [
    "learn_c.save(\"first_ru_clas\")"
   ]
  },
  {
   "cell_type": "code",
   "execution_count": null,
   "metadata": {
    "colab": {},
    "colab_type": "code",
    "id": "0G2hRBFzCZyU"
   },
   "outputs": [],
   "source": [
    "learn_c.load(\"first_ru_clas\");"
   ]
  },
  {
   "cell_type": "code",
   "execution_count": 89,
   "metadata": {
    "colab": {
     "base_uri": "https://localhost:8080/",
     "height": 78
    },
    "colab_type": "code",
    "id": "1yTCyyYfCd5W",
    "outputId": "8e012057-467d-40e2-85b5-fbd4d772fa6b"
   },
   "outputs": [
    {
     "data": {
      "text/html": [
       "<table border=\"1\" class=\"dataframe\">\n",
       "  <thead>\n",
       "    <tr style=\"text-align: left;\">\n",
       "      <th>epoch</th>\n",
       "      <th>train_loss</th>\n",
       "      <th>valid_loss</th>\n",
       "      <th>accuracy</th>\n",
       "      <th>time</th>\n",
       "    </tr>\n",
       "  </thead>\n",
       "  <tbody>\n",
       "    <tr>\n",
       "      <td>0</td>\n",
       "      <td>0.156783</td>\n",
       "      <td>0.123924</td>\n",
       "      <td>0.952886</td>\n",
       "      <td>02:40</td>\n",
       "    </tr>\n",
       "  </tbody>\n",
       "</table>"
      ],
      "text/plain": [
       "<IPython.core.display.HTML object>"
      ]
     },
     "metadata": {
      "tags": []
     },
     "output_type": "display_data"
    }
   ],
   "source": [
    "learn_c.freeze_to(-2)\n",
    "learn_c.fit_one_cycle(1, slice(1e-2/(2.6**4), 1e-2), moms=(0.8, 0.7))"
   ]
  },
  {
   "cell_type": "code",
   "execution_count": null,
   "metadata": {
    "colab": {},
    "colab_type": "code",
    "id": "geSs8weWCsz3"
   },
   "outputs": [],
   "source": [
    "learn_c.save(\"second_ru_clas\");"
   ]
  },
  {
   "cell_type": "code",
   "execution_count": null,
   "metadata": {
    "colab": {},
    "colab_type": "code",
    "id": "kGS85YLfDcqk"
   },
   "outputs": [],
   "source": [
    "learn_c.load(\"second_ru_clas\");"
   ]
  },
  {
   "cell_type": "code",
   "execution_count": 92,
   "metadata": {
    "colab": {
     "base_uri": "https://localhost:8080/",
     "height": 108
    },
    "colab_type": "code",
    "id": "UsvsHFY1DgeB",
    "outputId": "a604e34e-5de0-4980-c9e5-062061c3f47f"
   },
   "outputs": [
    {
     "data": {
      "text/html": [
       "<table border=\"1\" class=\"dataframe\">\n",
       "  <thead>\n",
       "    <tr style=\"text-align: left;\">\n",
       "      <th>epoch</th>\n",
       "      <th>train_loss</th>\n",
       "      <th>valid_loss</th>\n",
       "      <th>accuracy</th>\n",
       "      <th>time</th>\n",
       "    </tr>\n",
       "  </thead>\n",
       "  <tbody>\n",
       "    <tr>\n",
       "      <td>0</td>\n",
       "      <td>0.140594</td>\n",
       "      <td>0.122699</td>\n",
       "      <td>0.951653</td>\n",
       "      <td>03:36</td>\n",
       "    </tr>\n",
       "    <tr>\n",
       "      <td>1</td>\n",
       "      <td>0.135032</td>\n",
       "      <td>0.112554</td>\n",
       "      <td>0.956834</td>\n",
       "      <td>03:32</td>\n",
       "    </tr>\n",
       "  </tbody>\n",
       "</table>"
      ],
      "text/plain": [
       "<IPython.core.display.HTML object>"
      ]
     },
     "metadata": {
      "tags": []
     },
     "output_type": "display_data"
    }
   ],
   "source": [
    "learn_c.freeze_to(-3)\n",
    "learn_c.fit_one_cycle(2, slice(1e-3/(2.6**4), 1e-3), moms=(0.8, 0.7))"
   ]
  },
  {
   "cell_type": "code",
   "execution_count": null,
   "metadata": {
    "colab": {},
    "colab_type": "code",
    "id": "r8JF0Gf0Dsw1"
   },
   "outputs": [],
   "source": [
    "learn_c.save(\"third_ru_clas\");"
   ]
  },
  {
   "cell_type": "code",
   "execution_count": null,
   "metadata": {
    "colab": {},
    "colab_type": "code",
    "id": "E5eWG3iEF8ms"
   },
   "outputs": [],
   "source": [
    "learn_c.load(\"third_ru_clas\");"
   ]
  },
  {
   "cell_type": "code",
   "execution_count": 95,
   "metadata": {
    "colab": {
     "base_uri": "https://localhost:8080/",
     "height": 108
    },
    "colab_type": "code",
    "id": "3ww4Cni6F_Pc",
    "outputId": "032aec1f-8b17-45ed-a38d-73a2dfaffab1"
   },
   "outputs": [
    {
     "data": {
      "text/html": [
       "<table border=\"1\" class=\"dataframe\">\n",
       "  <thead>\n",
       "    <tr style=\"text-align: left;\">\n",
       "      <th>epoch</th>\n",
       "      <th>train_loss</th>\n",
       "      <th>valid_loss</th>\n",
       "      <th>accuracy</th>\n",
       "      <th>time</th>\n",
       "    </tr>\n",
       "  </thead>\n",
       "  <tbody>\n",
       "    <tr>\n",
       "      <td>0</td>\n",
       "      <td>0.119768</td>\n",
       "      <td>0.110984</td>\n",
       "      <td>0.957376</td>\n",
       "      <td>05:07</td>\n",
       "    </tr>\n",
       "    <tr>\n",
       "      <td>1</td>\n",
       "      <td>0.124963</td>\n",
       "      <td>0.105616</td>\n",
       "      <td>0.959548</td>\n",
       "      <td>05:15</td>\n",
       "    </tr>\n",
       "  </tbody>\n",
       "</table>"
      ],
      "text/plain": [
       "<IPython.core.display.HTML object>"
      ]
     },
     "metadata": {
      "tags": []
     },
     "output_type": "display_data"
    }
   ],
   "source": [
    "learn_c.unfreeze()\n",
    "learn_c.fit_one_cycle(2, slice(1e-3/(2.6**4), 1e-3), moms=(0.8,0.7))"
   ]
  },
  {
   "cell_type": "code",
   "execution_count": null,
   "metadata": {
    "colab": {},
    "colab_type": "code",
    "id": "7gSbyjPHLNPz"
   },
   "outputs": [],
   "source": [
    "learn_c.save(\"fin_ru_clas\")"
   ]
  },
  {
   "cell_type": "markdown",
   "metadata": {
    "colab_type": "text",
    "id": "VzkcmXUWJHoi"
   },
   "source": [
    "## _Create Test Set_"
   ]
  },
  {
   "cell_type": "code",
   "execution_count": null,
   "metadata": {
    "colab": {},
    "colab_type": "code",
    "id": "9SXMMHxqGQFK"
   },
   "outputs": [],
   "source": [
    "# load in test data for IRA and Verified Users\n",
    "ira = pd.read_json(\"json_data/ira_test.json\", orient=\"split\")\n",
    "verified = pd.read_json(\"json_data/verified_test.json\", orient=\"split\")"
   ]
  },
  {
   "cell_type": "code",
   "execution_count": 97,
   "metadata": {
    "colab": {
     "base_uri": "https://localhost:8080/",
     "height": 276
    },
    "colab_type": "code",
    "id": "jlrYdjj9J6qr",
    "outputId": "f2a47aaf-b9b1-4c96-fd2d-c90da41189da"
   },
   "outputs": [
    {
     "name": "stdout",
     "output_type": "stream",
     "text": [
      "<class 'pandas.core.frame.DataFrame'>\n",
      "Int64Index: 381328 entries, 0 to 381327\n",
      "Data columns (total 10 columns):\n",
      "id_str            381328 non-null int64\n",
      "screen_name       381328 non-null object\n",
      "created_at        381328 non-null datetime64[ns]\n",
      "lang              381328 non-null object\n",
      "source            381328 non-null object\n",
      "retweet_count     381328 non-null int64\n",
      "favorite_count    381328 non-null int64\n",
      "full_text         381328 non-null object\n",
      "clean_text        381328 non-null object\n",
      "label             381328 non-null object\n",
      "dtypes: datetime64[ns](1), int64(3), object(6)\n",
      "memory usage: 32.0+ MB\n"
     ]
    }
   ],
   "source": [
    "ira.info()"
   ]
  },
  {
   "cell_type": "code",
   "execution_count": 98,
   "metadata": {
    "colab": {
     "base_uri": "https://localhost:8080/",
     "height": 276
    },
    "colab_type": "code",
    "id": "WjpqG6YnKEWZ",
    "outputId": "cc3662fe-d567-4124-d29f-91684e156c8b"
   },
   "outputs": [
    {
     "name": "stdout",
     "output_type": "stream",
     "text": [
      "<class 'pandas.core.frame.DataFrame'>\n",
      "Int64Index: 42221 entries, 0 to 42220\n",
      "Data columns (total 10 columns):\n",
      "id_str            42221 non-null int64\n",
      "screen_name       42221 non-null object\n",
      "created_at        42221 non-null datetime64[ns]\n",
      "lang              42221 non-null object\n",
      "source            42221 non-null object\n",
      "retweet_count     42221 non-null int64\n",
      "favorite_count    42221 non-null int64\n",
      "full_text         42221 non-null object\n",
      "clean_text        42221 non-null object\n",
      "label             42221 non-null object\n",
      "dtypes: datetime64[ns](1), int64(3), object(6)\n",
      "memory usage: 3.5+ MB\n"
     ]
    }
   ],
   "source": [
    "verified.info()"
   ]
  },
  {
   "cell_type": "code",
   "execution_count": null,
   "metadata": {
    "colab": {},
    "colab_type": "code",
    "id": "cTqrtyCiKHGL"
   },
   "outputs": [],
   "source": [
    "# generate samples for both IRA and Verified\n",
    "ira_sample = ira.sample(n=500, random_state=1)\n",
    "verif_sample = verified.sample(n=500, random_state=1)"
   ]
  },
  {
   "cell_type": "code",
   "execution_count": 107,
   "metadata": {
    "colab": {
     "base_uri": "https://localhost:8080/",
     "height": 276
    },
    "colab_type": "code",
    "id": "uniUJJCpKcOJ",
    "outputId": "8cee1af4-1f14-4457-9efa-2d5e09018c39"
   },
   "outputs": [
    {
     "name": "stdout",
     "output_type": "stream",
     "text": [
      "<class 'pandas.core.frame.DataFrame'>\n",
      "Int64Index: 1000 entries, 25179 to 10893\n",
      "Data columns (total 10 columns):\n",
      "id_str            1000 non-null int64\n",
      "screen_name       1000 non-null object\n",
      "created_at        1000 non-null datetime64[ns]\n",
      "lang              1000 non-null object\n",
      "source            1000 non-null object\n",
      "retweet_count     1000 non-null int64\n",
      "favorite_count    1000 non-null int64\n",
      "full_text         1000 non-null object\n",
      "clean_text        1000 non-null object\n",
      "label             1000 non-null object\n",
      "dtypes: datetime64[ns](1), int64(3), object(6)\n",
      "memory usage: 85.9+ KB\n"
     ]
    }
   ],
   "source": [
    "combined = pd.concat([ira_sample, verif_sample])\n",
    "combined.info()"
   ]
  },
  {
   "cell_type": "code",
   "execution_count": null,
   "metadata": {
    "colab": {},
    "colab_type": "code",
    "id": "SMlBeKt_Kk3L"
   },
   "outputs": [],
   "source": [
    "# extract two columns of interest\n",
    "test = combined[[\"full_text\", \"label\"]].copy()"
   ]
  },
  {
   "cell_type": "code",
   "execution_count": null,
   "metadata": {
    "colab": {},
    "colab_type": "code",
    "id": "mBVHKLDRLBFO"
   },
   "outputs": [],
   "source": [
    "# shuffle data set\n",
    "test = test.copy().sample(frac=1, random_state=1)"
   ]
  },
  {
   "cell_type": "code",
   "execution_count": null,
   "metadata": {
    "colab": {},
    "colab_type": "code",
    "id": "UW7REkYAKsgN"
   },
   "outputs": [],
   "source": [
    "test.reset_index(drop=True, inplace=True)"
   ]
  },
  {
   "cell_type": "code",
   "execution_count": 111,
   "metadata": {
    "colab": {
     "base_uri": "https://localhost:8080/",
     "height": 198
    },
    "colab_type": "code",
    "id": "lSKotthuK4gB",
    "outputId": "ce38dc36-51b8-4786-846d-e5ef926a5d0a"
   },
   "outputs": [
    {
     "data": {
      "text/html": [
       "<div>\n",
       "<style scoped>\n",
       "    .dataframe tbody tr th:only-of-type {\n",
       "        vertical-align: middle;\n",
       "    }\n",
       "\n",
       "    .dataframe tbody tr th {\n",
       "        vertical-align: top;\n",
       "    }\n",
       "\n",
       "    .dataframe thead th {\n",
       "        text-align: right;\n",
       "    }\n",
       "</style>\n",
       "<table border=\"1\" class=\"dataframe\">\n",
       "  <thead>\n",
       "    <tr style=\"text-align: right;\">\n",
       "      <th></th>\n",
       "      <th>full_text</th>\n",
       "      <th>label</th>\n",
       "    </tr>\n",
       "  </thead>\n",
       "  <tbody>\n",
       "    <tr>\n",
       "      <th>0</th>\n",
       "      <td>The United States needs to end the internation...</td>\n",
       "      <td>real</td>\n",
       "    </tr>\n",
       "    <tr>\n",
       "      <th>1</th>\n",
       "      <td>John Dingell was a good man who served the sta...</td>\n",
       "      <td>real</td>\n",
       "    </tr>\n",
       "    <tr>\n",
       "      <th>2</th>\n",
       "      <td>Catch up on the best new dining spots http://t...</td>\n",
       "      <td>fake</td>\n",
       "    </tr>\n",
       "    <tr>\n",
       "      <th>3</th>\n",
       "      <td>Indian army battles deadly flooding to rescue ...</td>\n",
       "      <td>fake</td>\n",
       "    </tr>\n",
       "    <tr>\n",
       "      <th>4</th>\n",
       "      <td>Motorcyclist Killed In Crash On Interstate 880...</td>\n",
       "      <td>fake</td>\n",
       "    </tr>\n",
       "  </tbody>\n",
       "</table>\n",
       "</div>"
      ],
      "text/plain": [
       "                                           full_text label\n",
       "0  The United States needs to end the internation...  real\n",
       "1  John Dingell was a good man who served the sta...  real\n",
       "2  Catch up on the best new dining spots http://t...  fake\n",
       "3  Indian army battles deadly flooding to rescue ...  fake\n",
       "4  Motorcyclist Killed In Crash On Interstate 880...  fake"
      ]
     },
     "execution_count": 111,
     "metadata": {
      "tags": []
     },
     "output_type": "execute_result"
    }
   ],
   "source": [
    "test[:5]"
   ]
  },
  {
   "cell_type": "code",
   "execution_count": 124,
   "metadata": {
    "colab": {
     "base_uri": "https://localhost:8080/",
     "height": 35
    },
    "colab_type": "code",
    "id": "Z425PPz3O_tt",
    "outputId": "546d728d-9ae8-41a3-c825-88051336b3f0"
   },
   "outputs": [
    {
     "data": {
      "text/plain": [
       "['fake', 'real']"
      ]
     },
     "execution_count": 124,
     "metadata": {
      "tags": []
     },
     "output_type": "execute_result"
    }
   ],
   "source": [
    "learn_c.data.classes"
   ]
  },
  {
   "cell_type": "code",
   "execution_count": 131,
   "metadata": {
    "colab": {
     "base_uri": "https://localhost:8080/",
     "height": 35
    },
    "colab_type": "code",
    "id": "zBRrmfBgK5SV",
    "outputId": "f5886266-d327-4bcb-bdf7-c2d9e405ccb2"
   },
   "outputs": [
    {
     "data": {
      "text/plain": [
       "(Category real, tensor(1), tensor([2.6634e-04, 9.9973e-01]))"
      ]
     },
     "execution_count": 131,
     "metadata": {
      "tags": []
     },
     "output_type": "execute_result"
    }
   ],
   "source": [
    "# predict on first observation\n",
    "predict1 = learn_c.predict(test[\"full_text\"][0])\n",
    "predict1"
   ]
  },
  {
   "cell_type": "code",
   "execution_count": 132,
   "metadata": {
    "colab": {
     "base_uri": "https://localhost:8080/",
     "height": 35
    },
    "colab_type": "code",
    "id": "py1_j6kPOUpn",
    "outputId": "9852b072-6c90-4600-b5bf-3f27dbacdfae"
   },
   "outputs": [
    {
     "data": {
      "text/plain": [
       "(Category fake, tensor(0), tensor([0.9978, 0.0022]))"
      ]
     },
     "execution_count": 132,
     "metadata": {
      "tags": []
     },
     "output_type": "execute_result"
    }
   ],
   "source": [
    "# predict on third observation\n",
    "predict3 = learn_c.predict(test[\"full_text\"][3])\n",
    "predict3"
   ]
  },
  {
   "cell_type": "code",
   "execution_count": null,
   "metadata": {
    "colab": {},
    "colab_type": "code",
    "id": "ElrNCWEBQFEa"
   },
   "outputs": [],
   "source": [
    "# try to get predictions by applying predict to test DF\n",
    "test_predictions = test[\"full_text\"].apply(learn_c.predict)"
   ]
  },
  {
   "cell_type": "code",
   "execution_count": 139,
   "metadata": {
    "colab": {
     "base_uri": "https://localhost:8080/",
     "height": 198
    },
    "colab_type": "code",
    "id": "knEDzKxgQE-u",
    "outputId": "4b874185-a14f-48eb-9eef-a1c6c799ff7b"
   },
   "outputs": [
    {
     "data": {
      "text/html": [
       "<div>\n",
       "<style scoped>\n",
       "    .dataframe tbody tr th:only-of-type {\n",
       "        vertical-align: middle;\n",
       "    }\n",
       "\n",
       "    .dataframe tbody tr th {\n",
       "        vertical-align: top;\n",
       "    }\n",
       "\n",
       "    .dataframe thead th {\n",
       "        text-align: right;\n",
       "    }\n",
       "</style>\n",
       "<table border=\"1\" class=\"dataframe\">\n",
       "  <thead>\n",
       "    <tr style=\"text-align: right;\">\n",
       "      <th></th>\n",
       "      <th>full_text</th>\n",
       "      <th>label</th>\n",
       "      <th>test_predictions</th>\n",
       "    </tr>\n",
       "  </thead>\n",
       "  <tbody>\n",
       "    <tr>\n",
       "      <th>0</th>\n",
       "      <td>The United States needs to end the internation...</td>\n",
       "      <td>real</td>\n",
       "      <td>(real, tensor(1), [tensor(0.0003), tensor(0.99...</td>\n",
       "    </tr>\n",
       "    <tr>\n",
       "      <th>1</th>\n",
       "      <td>John Dingell was a good man who served the sta...</td>\n",
       "      <td>real</td>\n",
       "      <td>(real, tensor(1), [tensor(4.5170e-26), tensor(...</td>\n",
       "    </tr>\n",
       "    <tr>\n",
       "      <th>2</th>\n",
       "      <td>Catch up on the best new dining spots http://t...</td>\n",
       "      <td>fake</td>\n",
       "      <td>(fake, tensor(0), [tensor(0.9930), tensor(0.00...</td>\n",
       "    </tr>\n",
       "    <tr>\n",
       "      <th>3</th>\n",
       "      <td>Indian army battles deadly flooding to rescue ...</td>\n",
       "      <td>fake</td>\n",
       "      <td>(fake, tensor(0), [tensor(0.9978), tensor(0.00...</td>\n",
       "    </tr>\n",
       "    <tr>\n",
       "      <th>4</th>\n",
       "      <td>Motorcyclist Killed In Crash On Interstate 880...</td>\n",
       "      <td>fake</td>\n",
       "      <td>(fake, tensor(0), [tensor(0.9996), tensor(0.00...</td>\n",
       "    </tr>\n",
       "  </tbody>\n",
       "</table>\n",
       "</div>"
      ],
      "text/plain": [
       "                                           full_text label  \\\n",
       "0  The United States needs to end the internation...  real   \n",
       "1  John Dingell was a good man who served the sta...  real   \n",
       "2  Catch up on the best new dining spots http://t...  fake   \n",
       "3  Indian army battles deadly flooding to rescue ...  fake   \n",
       "4  Motorcyclist Killed In Crash On Interstate 880...  fake   \n",
       "\n",
       "                                    test_predictions  \n",
       "0  (real, tensor(1), [tensor(0.0003), tensor(0.99...  \n",
       "1  (real, tensor(1), [tensor(4.5170e-26), tensor(...  \n",
       "2  (fake, tensor(0), [tensor(0.9930), tensor(0.00...  \n",
       "3  (fake, tensor(0), [tensor(0.9978), tensor(0.00...  \n",
       "4  (fake, tensor(0), [tensor(0.9996), tensor(0.00...  "
      ]
     },
     "execution_count": 139,
     "metadata": {
      "tags": []
     },
     "output_type": "execute_result"
    }
   ],
   "source": [
    "test[\"test_predictions\"] = pd.Series(test_predictions)\n",
    "test[:5]"
   ]
  },
  {
   "cell_type": "code",
   "execution_count": 148,
   "metadata": {
    "colab": {
     "base_uri": "https://localhost:8080/",
     "height": 190
    },
    "colab_type": "code",
    "id": "nBrSRPRzRmSV",
    "outputId": "fadb670b-eb0a-4563-9b39-9f4197c506dc"
   },
   "outputs": [
    {
     "data": {
      "text/plain": [
       "['real',\n",
       " 'real',\n",
       " 'fake',\n",
       " 'fake',\n",
       " 'fake',\n",
       " 'real',\n",
       " 'fake',\n",
       " 'real',\n",
       " 'fake',\n",
       " 'fake']"
      ]
     },
     "execution_count": 148,
     "metadata": {
      "tags": []
     },
     "output_type": "execute_result"
    }
   ],
   "source": [
    "[str(pred[0]) for pred in test_predictions[:10]]"
   ]
  },
  {
   "cell_type": "code",
   "execution_count": null,
   "metadata": {
    "colab": {},
    "colab_type": "code",
    "id": "y-KzFegyQE3d"
   },
   "outputs": [],
   "source": [
    "test[\"test_labels\"] = pd.Series([str(pred[0]) for pred in test[\"test_predictions\"]])"
   ]
  },
  {
   "cell_type": "code",
   "execution_count": null,
   "metadata": {
    "colab": {},
    "colab_type": "code",
    "id": "5bZ-JCkoS1rF"
   },
   "outputs": [],
   "source": [
    "# convert label and test_labels columns to categorical types\n",
    "test[\"label\"] = test[\"label\"].astype(\"category\")\n",
    "test[\"test_labels\"] = test[\"test_labels\"].astype(\"category\")"
   ]
  },
  {
   "cell_type": "code",
   "execution_count": 152,
   "metadata": {
    "colab": {
     "base_uri": "https://localhost:8080/",
     "height": 35
    },
    "colab_type": "code",
    "id": "SwEIY5pVS1od",
    "outputId": "e7a9542d-6105-4229-aa0f-33cd179fcf82"
   },
   "outputs": [
    {
     "data": {
      "text/plain": [
       "0.964"
      ]
     },
     "execution_count": 152,
     "metadata": {
      "tags": []
     },
     "output_type": "execute_result"
    }
   ],
   "source": [
    "(test[\"label\"] == test[\"test_labels\"]).mean()"
   ]
  },
  {
   "cell_type": "code",
   "execution_count": 164,
   "metadata": {
    "colab": {
     "base_uri": "https://localhost:8080/",
     "height": 35
    },
    "colab_type": "code",
    "id": "bBFoYZqOUpvI",
    "outputId": "cc5da374-64d9-402c-846d-e9f542d4bae1"
   },
   "outputs": [
    {
     "name": "stdout",
     "output_type": "stream",
     "text": [
      "The F1 score for the test set: 0.964\n"
     ]
    }
   ],
   "source": [
    "from sklearn.metrics import f1_score\n",
    "\n",
    "print(\"The F1 score for the test set: {}\".format(f1_score(\n",
    "    y_true=test[\"label\"], y_pred=test[\"test_labels\"], pos_label=\"fake\")))"
   ]
  },
  {
   "cell_type": "code",
   "execution_count": 165,
   "metadata": {
    "colab": {
     "base_uri": "https://localhost:8080/",
     "height": 52
    },
    "colab_type": "code",
    "id": "lfj0zHiXV3zH",
    "outputId": "bb085116-db82-4bf5-a34b-8efbafb68733"
   },
   "outputs": [
    {
     "data": {
      "text/plain": [
       "[real, fake]\n",
       "Categories (2, object): [real, fake]"
      ]
     },
     "execution_count": 165,
     "metadata": {
      "tags": []
     },
     "output_type": "execute_result"
    }
   ],
   "source": [
    "test[\"test_labels\"].unique()"
   ]
  },
  {
   "cell_type": "code",
   "execution_count": 167,
   "metadata": {
    "colab": {
     "base_uri": "https://localhost:8080/",
     "height": 311
    },
    "colab_type": "code",
    "id": "EJUG2f5cVf_g",
    "outputId": "4d3511cf-8a57-4eae-ae8e-c5b091cfbaee"
   },
   "outputs": [
    {
     "data": {
      "text/plain": [
       "{'accuracy': 0.964,\n",
       " 'fake': {'f1-score': 0.964,\n",
       "  'precision': 0.964,\n",
       "  'recall': 0.964,\n",
       "  'support': 500},\n",
       " 'macro avg': {'f1-score': 0.964,\n",
       "  'precision': 0.964,\n",
       "  'recall': 0.964,\n",
       "  'support': 1000},\n",
       " 'real': {'f1-score': 0.964,\n",
       "  'precision': 0.964,\n",
       "  'recall': 0.964,\n",
       "  'support': 500},\n",
       " 'weighted avg': {'f1-score': 0.964,\n",
       "  'precision': 0.964,\n",
       "  'recall': 0.964,\n",
       "  'support': 1000}}"
      ]
     },
     "execution_count": 167,
     "metadata": {
      "tags": []
     },
     "output_type": "execute_result"
    }
   ],
   "source": [
    "from sklearn.metrics import classification_report\n",
    "\n",
    "classification_report(y_true=test[\"label\"], y_pred=test[\"test_labels\"], labels=[\"real\", \"fake\"], output_dict=True)"
   ]
  },
  {
   "cell_type": "code",
   "execution_count": 170,
   "metadata": {
    "colab": {
     "base_uri": "https://localhost:8080/",
     "height": 52
    },
    "colab_type": "code",
    "id": "lEbMfJMPUNlZ",
    "outputId": "53203582-8102-4024-b64d-7b8fc53e5043"
   },
   "outputs": [
    {
     "data": {
      "text/plain": [
       "array([[482,  18],\n",
       "       [ 18, 482]])"
      ]
     },
     "execution_count": 170,
     "metadata": {
      "tags": []
     },
     "output_type": "execute_result"
    }
   ],
   "source": [
    "from sklearn.metrics import confusion_matrix\n",
    "\n",
    "confusion_matrix(y_true=test[\"label\"], y_pred=test[\"test_labels\"])"
   ]
  },
  {
   "cell_type": "code",
   "execution_count": 160,
   "metadata": {
    "colab": {
     "base_uri": "https://localhost:8080/",
     "height": 309
    },
    "colab_type": "code",
    "id": "jok15WgPUNhd",
    "outputId": "b5e69c26-e4db-455d-d6f7-db443f826b3a"
   },
   "outputs": [
    {
     "data": {
      "image/png": "[encoded data removed]",
      "text/plain": [
       "<Figure size 432x288 with 1 Axes>"
      ]
     },
     "metadata": {
      "image/png": {
       "height": 292,
       "width": 271
      },
      "tags": []
     },
     "output_type": "display_data"
    }
   ],
   "source": [
    "interp.plot_confusion_matrix()"
   ]
  },
  {
   "cell_type": "code",
   "execution_count": null,
   "metadata": {
    "colab": {},
    "colab_type": "code",
    "id": "OYzTOfHjUNZm"
   },
   "outputs": [],
   "source": []
  },
  {
   "cell_type": "code",
   "execution_count": null,
   "metadata": {
    "colab": {},
    "colab_type": "code",
    "id": "qLU9q7QmTckq"
   },
   "outputs": [],
   "source": [
    "# check out observations that were incorrect\n",
    "incorrect = test[test[\"label\"] != test[\"test_labels\"]]"
   ]
  },
  {
   "cell_type": "code",
   "execution_count": null,
   "metadata": {
    "colab": {},
    "colab_type": "code",
    "id": "L4ATDCBbTgeO"
   },
   "outputs": [],
   "source": []
  }
 ],
 "metadata": {
  "accelerator": "GPU",
  "colab": {
   "name": "fastai_text_clas_dec31.ipynb",
   "provenance": []
  },
  "kernelspec": {
   "display_name": "Python 3",
   "language": "python",
   "name": "python3"
  },
  "language_info": {
   "codemirror_mode": {
    "name": "ipython",
    "version": 3
   },
   "file_extension": ".py",
   "mimetype": "text/x-python",
   "name": "python",
   "nbconvert_exporter": "python",
   "pygments_lexer": "ipython3",
   "version": "3.7.4"
  }
 },
 "nbformat": 4,
 "nbformat_minor": 4
}
