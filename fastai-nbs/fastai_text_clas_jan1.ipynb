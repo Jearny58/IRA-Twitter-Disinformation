{
  "nbformat": 4,
  "nbformat_minor": 0,
  "metadata": {
    "colab": {
      "name": "fastai_text_clas_jan1.ipynb",
      "provenance": [],
      "collapsed_sections": []
    },
    "kernelspec": {
      "name": "python3",
      "display_name": "Python 3"
    },
    "accelerator": "GPU"
  },
  "cells": [
    {
      "cell_type": "markdown",
      "metadata": {
        "id": "p96SZ9Fghz7w",
        "colab_type": "text"
      },
      "source": [
        "# _DL Model Exploration: Jan. 1, 2020_\n",
        "\n",
        "- Primary objective --> develop language model with entire data set\n",
        "- **Useful Links**\n",
        "    - [Splitting data set into training and test sets using Pandas DataFrames methods](https://pythonhealthcare.org/2018/12/22/112-splitting-data-set-into-training-and-test-sets-using-pandas-dataframes-methods/)"
      ]
    },
    {
      "cell_type": "code",
      "metadata": {
        "id": "Z4hSd4Fihv2v",
        "colab_type": "code",
        "colab": {}
      },
      "source": [
        "%reload_ext autoreload\n",
        "%autoreload 2\n",
        "%matplotlib inline\n",
        "%config InlineBackend.figure_format = 'retina'"
      ],
      "execution_count": 0,
      "outputs": []
    },
    {
      "cell_type": "code",
      "metadata": {
        "id": "F27gmnzoh8BE",
        "colab_type": "code",
        "colab": {}
      },
      "source": [
        "# import deep learning libraries\n",
        "from fastai.text import *\n",
        "import torch\n",
        "import fastai\n",
        "from fastai import *"
      ],
      "execution_count": 0,
      "outputs": []
    },
    {
      "cell_type": "code",
      "metadata": {
        "id": "3Qxvm0Boh_D_",
        "colab_type": "code",
        "colab": {}
      },
      "source": [
        "# import libraries\n",
        "import pandas as pd\n",
        "pd.options.display.max_columns = None\n",
        "import numpy as np\n",
        "import random\n",
        "import os\n",
        "\n",
        "# Matplotlib\n",
        "import matplotlib as mpl\n",
        "import matplotlib.pyplot as plt\n",
        "import seaborn as sns\n",
        "plt.style.use('fivethirtyeight')"
      ],
      "execution_count": 0,
      "outputs": []
    },
    {
      "cell_type": "markdown",
      "metadata": {
        "id": "JJjDKJmDiCEU",
        "colab_type": "text"
      },
      "source": [
        "## _Set-up Directory_"
      ]
    },
    {
      "cell_type": "code",
      "metadata": {
        "id": "D7ddWD_SiTPf",
        "colab_type": "code",
        "colab": {
          "base_uri": "https://localhost:8080/",
          "height": 35
        },
        "outputId": "88a24f32-bf82-4f89-dd21-25296ee770a1"
      },
      "source": [
        "# mount your google drive so you can save to it\n",
        "from google.colab import drive\n",
        "drive.mount('/content/gdrive', force_remount=True)"
      ],
      "execution_count": 4,
      "outputs": [
        {
          "output_type": "stream",
          "text": [
            "Mounted at /content/gdrive\n"
          ],
          "name": "stdout"
        }
      ]
    },
    {
      "cell_type": "code",
      "metadata": {
        "id": "7b7wu52ZiBaS",
        "colab_type": "code",
        "colab": {
          "base_uri": "https://localhost:8080/",
          "height": 52
        },
        "outputId": "5911d53d-3ab2-464d-eec1-3346c6b2ea17"
      },
      "source": [
        "# current directory\n",
        "print('Current directory: {}'.format(os.getcwd()))\n",
        "\n",
        "# change to appropriate directory for this project\n",
        "os.chdir('/content/gdrive/My Drive/projects/Russian-Disinformation')\n",
        "\n",
        "# ensure directory has been updated\n",
        "print('Updated directory to: {}'.format(os.getcwd()))"
      ],
      "execution_count": 5,
      "outputs": [
        {
          "output_type": "stream",
          "text": [
            "Current directory: /content\n",
            "Updated directory to: /content/gdrive/My Drive/projects/Russian-Disinformation\n"
          ],
          "name": "stdout"
        }
      ]
    },
    {
      "cell_type": "code",
      "metadata": {
        "id": "OUAJ_gRriiZ1",
        "colab_type": "code",
        "colab": {}
      },
      "source": [
        "# store location of current directory\n",
        "current_directory = os.getcwd()\n",
        "\n",
        "# set up FASTAI home variable to download data to appropriate directory\n",
        "os.environ['FASTAI_HOME'] = current_directory"
      ],
      "execution_count": 0,
      "outputs": []
    },
    {
      "cell_type": "code",
      "metadata": {
        "id": "oaQXCluhiq8s",
        "colab_type": "code",
        "colab": {
          "base_uri": "https://localhost:8080/",
          "height": 35
        },
        "outputId": "11fbbfa2-83c3-4ab7-ed70-6a7bdd76a8e2"
      },
      "source": [
        "from pathlib import Path\n",
        "\n",
        "# store currect directory as  easier access\n",
        "path = Path.cwd()\n",
        "path"
      ],
      "execution_count": 7,
      "outputs": [
        {
          "output_type": "execute_result",
          "data": {
            "text/plain": [
              "PosixPath('/content/gdrive/My Drive/projects/Russian-Disinformation')"
            ]
          },
          "metadata": {
            "tags": []
          },
          "execution_count": 7
        }
      ]
    },
    {
      "cell_type": "markdown",
      "metadata": {
        "id": "R38GJdfei6_-",
        "colab_type": "text"
      },
      "source": [
        "## _Load in ALL Data_"
      ]
    },
    {
      "cell_type": "code",
      "metadata": {
        "id": "Ie9sKK7IizT8",
        "colab_type": "code",
        "colab": {}
      },
      "source": [
        "ira = pd.read_json(path/\"json_data/ira_train.json\", orient=\"split\")\n",
        "verif = pd.read_json(path/\"json_data/no_retweets.json\", orient=\"split\")"
      ],
      "execution_count": 0,
      "outputs": []
    },
    {
      "cell_type": "code",
      "metadata": {
        "id": "z_wdc-psjDc0",
        "colab_type": "code",
        "colab": {
          "base_uri": "https://localhost:8080/",
          "height": 276
        },
        "outputId": "76ea482a-e474-4cbe-ddb2-941f2d34a2a5"
      },
      "source": [
        "ira.info()"
      ],
      "execution_count": 9,
      "outputs": [
        {
          "output_type": "stream",
          "text": [
            "<class 'pandas.core.frame.DataFrame'>\n",
            "Int64Index: 1525311 entries, 0 to 1525310\n",
            "Data columns (total 10 columns):\n",
            "id_str            1525311 non-null int64\n",
            "screen_name       1525311 non-null object\n",
            "created_at        1525311 non-null datetime64[ns]\n",
            "lang              1525311 non-null object\n",
            "source            1525311 non-null object\n",
            "retweet_count     1525311 non-null int64\n",
            "favorite_count    1525311 non-null int64\n",
            "full_text         1525311 non-null object\n",
            "clean_text        1525311 non-null object\n",
            "label             1525311 non-null object\n",
            "dtypes: datetime64[ns](1), int64(3), object(6)\n",
            "memory usage: 128.0+ MB\n"
          ],
          "name": "stdout"
        }
      ]
    },
    {
      "cell_type": "code",
      "metadata": {
        "id": "Mre0YckFmSi4",
        "colab_type": "code",
        "colab": {}
      },
      "source": [
        "# create label column (because this JSON does not have it)\n",
        "verif[\"label\"] = \"real\""
      ],
      "execution_count": 0,
      "outputs": []
    },
    {
      "cell_type": "code",
      "metadata": {
        "id": "PyJJTH_4mVYn",
        "colab_type": "code",
        "colab": {
          "base_uri": "https://localhost:8080/",
          "height": 259
        },
        "outputId": "32695dd3-a054-4f1e-fc43-cbff6252f577"
      },
      "source": [
        "verif.info()"
      ],
      "execution_count": 11,
      "outputs": [
        {
          "output_type": "stream",
          "text": [
            "<class 'pandas.core.frame.DataFrame'>\n",
            "Int64Index: 211104 entries, 0 to 211103\n",
            "Data columns (total 9 columns):\n",
            "id_str            211104 non-null int64\n",
            "screen_name       211104 non-null object\n",
            "created_at        211104 non-null datetime64[ns]\n",
            "lang              211104 non-null object\n",
            "source            211104 non-null object\n",
            "retweet_count     211104 non-null int64\n",
            "favorite_count    211104 non-null int64\n",
            "full_text         211104 non-null object\n",
            "label             211104 non-null object\n",
            "dtypes: datetime64[ns](1), int64(3), object(5)\n",
            "memory usage: 16.1+ MB\n"
          ],
          "name": "stdout"
        }
      ]
    },
    {
      "cell_type": "code",
      "metadata": {
        "id": "vnGScy_lmXjI",
        "colab_type": "code",
        "colab": {}
      },
      "source": [
        "# extract relevant columns for DL\n",
        "ira = ira[[\"full_text\", \"label\"]].copy()\n",
        "verif = verif[[\"full_text\", \"label\"]].copy()"
      ],
      "execution_count": 0,
      "outputs": []
    },
    {
      "cell_type": "code",
      "metadata": {
        "id": "7Ck2GvUKmgBQ",
        "colab_type": "code",
        "colab": {}
      },
      "source": [
        "# grab sample same size as verif df\n",
        "ira_sample = ira.sample(n=len(verif), random_state=1)"
      ],
      "execution_count": 0,
      "outputs": []
    },
    {
      "cell_type": "code",
      "metadata": {
        "id": "XRJJ6XYYmqIf",
        "colab_type": "code",
        "colab": {}
      },
      "source": [
        "# combine the ira_sample and verif dfs\n",
        "combined = pd.concat([verif, ira_sample])\n",
        "\n",
        "# suffle the rows (to mix up fake/real observations)\n",
        "df = combined.sample(frac=1, random_state=1).reset_index(drop=True)\n",
        "\n",
        "# change the label column to category type\n",
        "df[\"label\"] = df[\"label\"].astype(\"category\")"
      ],
      "execution_count": 0,
      "outputs": []
    },
    {
      "cell_type": "code",
      "metadata": {
        "id": "4hXg-hNwm9D-",
        "colab_type": "code",
        "colab": {
          "base_uri": "https://localhost:8080/",
          "height": 198
        },
        "outputId": "e79e1866-9da4-4ed8-815c-104c89fcb101"
      },
      "source": [
        "# see the first few rows of df\n",
        "df[:5]"
      ],
      "execution_count": 15,
      "outputs": [
        {
          "output_type": "execute_result",
          "data": {
            "text/html": [
              "<div>\n",
              "<style scoped>\n",
              "    .dataframe tbody tr th:only-of-type {\n",
              "        vertical-align: middle;\n",
              "    }\n",
              "\n",
              "    .dataframe tbody tr th {\n",
              "        vertical-align: top;\n",
              "    }\n",
              "\n",
              "    .dataframe thead th {\n",
              "        text-align: right;\n",
              "    }\n",
              "</style>\n",
              "<table border=\"1\" class=\"dataframe\">\n",
              "  <thead>\n",
              "    <tr style=\"text-align: right;\">\n",
              "      <th></th>\n",
              "      <th>full_text</th>\n",
              "      <th>label</th>\n",
              "    </tr>\n",
              "  </thead>\n",
              "  <tbody>\n",
              "    <tr>\n",
              "      <th>0</th>\n",
              "      <td>@alesiavsworld pretty</td>\n",
              "      <td>fake</td>\n",
              "    </tr>\n",
              "    <tr>\n",
              "      <th>1</th>\n",
              "      <td>.@SenatorSessions has a strong record when it ...</td>\n",
              "      <td>real</td>\n",
              "    </tr>\n",
              "    <tr>\n",
              "      <th>2</th>\n",
              "      <td>New Jersey's top court sides with Christie on ...</td>\n",
              "      <td>fake</td>\n",
              "    </tr>\n",
              "    <tr>\n",
              "      <th>3</th>\n",
              "      <td>California storm brings mostly light rains, mi...</td>\n",
              "      <td>fake</td>\n",
              "    </tr>\n",
              "    <tr>\n",
              "      <th>4</th>\n",
              "      <td>Life is the bitch, and death is her sister</td>\n",
              "      <td>fake</td>\n",
              "    </tr>\n",
              "  </tbody>\n",
              "</table>\n",
              "</div>"
            ],
            "text/plain": [
              "                                           full_text label\n",
              "0                              @alesiavsworld pretty  fake\n",
              "1  .@SenatorSessions has a strong record when it ...  real\n",
              "2  New Jersey's top court sides with Christie on ...  fake\n",
              "3  California storm brings mostly light rains, mi...  fake\n",
              "4         Life is the bitch, and death is her sister  fake"
            ]
          },
          "metadata": {
            "tags": []
          },
          "execution_count": 15
        }
      ]
    },
    {
      "cell_type": "code",
      "metadata": {
        "id": "7g7kwv75m_6p",
        "colab_type": "code",
        "colab": {
          "base_uri": "https://localhost:8080/",
          "height": 138
        },
        "outputId": "aa97d228-3aa5-47cb-a1d7-b05f7cb0e1ed"
      },
      "source": [
        "# check out info\n",
        "df.info()"
      ],
      "execution_count": 16,
      "outputs": [
        {
          "output_type": "stream",
          "text": [
            "<class 'pandas.core.frame.DataFrame'>\n",
            "RangeIndex: 422208 entries, 0 to 422207\n",
            "Data columns (total 2 columns):\n",
            "full_text    422208 non-null object\n",
            "label        422208 non-null category\n",
            "dtypes: category(1), object(1)\n",
            "memory usage: 3.6+ MB\n"
          ],
          "name": "stdout"
        }
      ]
    },
    {
      "cell_type": "code",
      "metadata": {
        "id": "7tWr0eZjnDIT",
        "colab_type": "code",
        "colab": {
          "base_uri": "https://localhost:8080/",
          "height": 17
        },
        "outputId": "47730c1f-50e2-452a-dd74-45c5da991674"
      },
      "source": [
        "data_lm = (TextList.from_df(\n",
        "    df=df,\n",
        "    path=path,\n",
        "    cols=\"full_text\")\n",
        "           .split_by_rand_pct(0.1, seed=1)\n",
        "          .label_for_lm()\n",
        "          .databunch(bs=48, num_workers=1)\n",
        "          )"
      ],
      "execution_count": 17,
      "outputs": [
        {
          "output_type": "display_data",
          "data": {
            "text/html": [
              ""
            ],
            "text/plain": [
              "<IPython.core.display.HTML object>"
            ]
          },
          "metadata": {
            "tags": []
          }
        },
        {
          "output_type": "display_data",
          "data": {
            "text/html": [
              ""
            ],
            "text/plain": [
              "<IPython.core.display.HTML object>"
            ]
          },
          "metadata": {
            "tags": []
          }
        }
      ]
    },
    {
      "cell_type": "code",
      "metadata": {
        "id": "WPHlbnL8nHc1",
        "colab_type": "code",
        "colab": {
          "base_uri": "https://localhost:8080/",
          "height": 354
        },
        "outputId": "6c9eda4e-01c8-4972-a3b1-67fe448ca702"
      },
      "source": [
        "# see what a batch looks like\n",
        "data_lm.show_batch()"
      ],
      "execution_count": 18,
      "outputs": [
        {
          "output_type": "display_data",
          "data": {
            "text/html": [
              "<table border=\"1\" class=\"dataframe\">\n",
              "  <thead>\n",
              "    <tr style=\"text-align: right;\">\n",
              "      <th>idx</th>\n",
              "      <th>text</th>\n",
              "    </tr>\n",
              "  </thead>\n",
              "  <tbody>\n",
              "    <tr>\n",
              "      <td>0</td>\n",
              "      <td>is her sister xxbos xxmaj louisiana governor ' bought peace ' by paying off xxup kkk in 1960s , xxup fbi records show # politics xxbos xxmaj my statement on the passing of former xxmaj congressman xxmaj john xxmaj dingell : https : / / t.co / xxunk xxbos xxmaj perv xxunk woman inside her xxmaj west xxmaj village home : police # newyork xxbos xxup video : xxmaj thieves</td>\n",
              "    </tr>\n",
              "    <tr>\n",
              "      <td>1</td>\n",
              "      <td>. xxmaj food might come second . xxmaj from the archive https : / / t.co / xxunk xxbos xxup isis invades xxmaj texas ! # texasjihad xxbos xxunk got xxup bounce 🐰 \\n \\n  xxmaj he set the new max vert record for the xxmaj blue xxmaj devils 😈 \\n \\n  ( via @dukembb ) \\n  https : / / t.co / xxunk xxbos # sanjose</td>\n",
              "    </tr>\n",
              "    <tr>\n",
              "      <td>2</td>\n",
              "      <td>xxbos xxmaj nice meeting with xxmaj mark xxmaj zuckerberg of @facebook in the xxmaj oval xxmaj office today . https : / / t.co / xxunk https : / / t.co / xxunk xxbos xxmaj got ta see me change xxbos xxmaj play suspended between marathon men xxmaj cilic and xxmaj isner # sports xxbos xxmaj wireless mice leave billions at risk of computer hack : cyber security firm #</td>\n",
              "    </tr>\n",
              "    <tr>\n",
              "      <td>3</td>\n",
              "      <td>to xxmaj miley ’s show xxbos xxup lsu , xxmaj florida xxmaj state , xxmaj auburn stand out in mcdonogh 35 xxup dt xxmaj stephon xxmaj taylor 's top 10 # news xxbos xxup @drag0tta xxmaj lol u follow me xxrep 5 . 😂 😂 😅 xxbos xxmaj economies in southern xxmaj africa are reeling from a second historic drought in three years , leaving 45 million people facing water</td>\n",
              "    </tr>\n",
              "    <tr>\n",
              "      <td>4</td>\n",
              "      <td>trump invited — indeed , demanded — foreign involvement in our upcoming election , he struck at the very heart of what makes this a republic to which we pledge allegiance . \" https : / / t.co / 5pgb8igzpr https : / / t.co / xxunk xxbos xxmaj five prisoners scheduled to face federal executions by mid - xxmaj january . https : / / t.co / xxunk xxbos</td>\n",
              "    </tr>\n",
              "  </tbody>\n",
              "</table>"
            ],
            "text/plain": [
              "<IPython.core.display.HTML object>"
            ]
          },
          "metadata": {
            "tags": []
          }
        }
      ]
    },
    {
      "cell_type": "code",
      "metadata": {
        "id": "qyy5gwIln81X",
        "colab_type": "code",
        "colab": {}
      },
      "source": [
        "# save databunch for next time\n",
        "data_lm.save(\"models/fulldata_lm_databunch\")"
      ],
      "execution_count": 0,
      "outputs": []
    },
    {
      "cell_type": "markdown",
      "metadata": {
        "id": "JZ7pNYHboHOu",
        "colab_type": "text"
      },
      "source": [
        "## _Loading Saved Data, & Creating the Language Model_"
      ]
    },
    {
      "cell_type": "code",
      "metadata": {
        "id": "zZl2akJfoGRj",
        "colab_type": "code",
        "colab": {}
      },
      "source": [
        "data_lm = load_data(path/\"models\", \"lm_databunch\", bs=48)"
      ],
      "execution_count": 0,
      "outputs": []
    },
    {
      "cell_type": "code",
      "metadata": {
        "id": "_bxb_QqSoP-F",
        "colab_type": "code",
        "colab": {
          "base_uri": "https://localhost:8080/",
          "height": 35
        },
        "outputId": "4a4be4d9-ee31-44d5-9cd4-5c85deb1f24d"
      },
      "source": [
        "learn_lm = language_model_learner(data_lm, AWD_LSTM, drop_mult=0.3)"
      ],
      "execution_count": 21,
      "outputs": [
        {
          "output_type": "stream",
          "text": [
            "Downloading https://s3.amazonaws.com/fast-ai-modelzoo/wt103-fwd\n"
          ],
          "name": "stdout"
        },
        {
          "output_type": "display_data",
          "data": {
            "text/html": [
              ""
            ],
            "text/plain": [
              "<IPython.core.display.HTML object>"
            ]
          },
          "metadata": {
            "tags": []
          }
        }
      ]
    },
    {
      "cell_type": "code",
      "metadata": {
        "id": "nvhsveLkoVA-",
        "colab_type": "code",
        "colab": {
          "base_uri": "https://localhost:8080/",
          "height": 35
        },
        "outputId": "244955a8-d785-4187-e81b-242609d2dd9b"
      },
      "source": [
        "awd = learn_lm.model[0]\n",
        "enc = learn_lm.model[0].encoder\n",
        "enc.weight.size()"
      ],
      "execution_count": 22,
      "outputs": [
        {
          "output_type": "execute_result",
          "data": {
            "text/plain": [
              "torch.Size([47424, 400])"
            ]
          },
          "metadata": {
            "tags": []
          },
          "execution_count": 22
        }
      ]
    },
    {
      "cell_type": "markdown",
      "metadata": {
        "id": "YWgHqyTwofWT",
        "colab_type": "text"
      },
      "source": [
        "## _Training the Model_"
      ]
    },
    {
      "cell_type": "code",
      "metadata": {
        "id": "3B-gMWRIodVm",
        "colab_type": "code",
        "colab": {
          "base_uri": "https://localhost:8080/",
          "height": 319
        },
        "outputId": "8bb9d0cf-1602-4384-9f2c-d71c974f9caf"
      },
      "source": [
        "learn_lm.lr_find()\n",
        "learn_lm.recorder.plot(skip_end=10)"
      ],
      "execution_count": 23,
      "outputs": [
        {
          "output_type": "display_data",
          "data": {
            "text/html": [
              ""
            ],
            "text/plain": [
              "<IPython.core.display.HTML object>"
            ]
          },
          "metadata": {
            "tags": []
          }
        },
        {
          "output_type": "stream",
          "text": [
            "LR Finder is complete, type {learner_name}.recorder.plot() to see the graph.\n"
          ],
          "name": "stdout"
        },
        {
          "output_type": "display_data",
          "data": {
            "image/png": "[encoded data removed]",
            "text/plain": [
              "<Figure size 432x288 with 1 Axes>"
            ]
          },
          "metadata": {
            "tags": [],
            "image/png": {
              "width": 436,
              "height": 285
            }
          }
        }
      ]
    },
    {
      "cell_type": "code",
      "metadata": {
        "id": "d_HQ9pVcokrT",
        "colab_type": "code",
        "colab": {}
      },
      "source": [
        "# set learning rate\n",
        "lr = 1e-2"
      ],
      "execution_count": 0,
      "outputs": []
    },
    {
      "cell_type": "code",
      "metadata": {
        "id": "x83lPEx0ouFu",
        "colab_type": "code",
        "colab": {}
      },
      "source": [
        "# switch to mixed precision\n",
        "learn_lm.to_fp16();"
      ],
      "execution_count": 0,
      "outputs": []
    },
    {
      "cell_type": "code",
      "metadata": {
        "id": "i7usw-ZSo6Nd",
        "colab_type": "code",
        "colab": {
          "base_uri": "https://localhost:8080/",
          "height": 78
        },
        "outputId": "758a1e44-0176-4eee-977f-04618f75904f"
      },
      "source": [
        "learn_lm.fit_one_cycle(1, lr*10, moms=(0.8, 0.7))"
      ],
      "execution_count": 26,
      "outputs": [
        {
          "output_type": "display_data",
          "data": {
            "text/html": [
              "<table border=\"1\" class=\"dataframe\">\n",
              "  <thead>\n",
              "    <tr style=\"text-align: left;\">\n",
              "      <th>epoch</th>\n",
              "      <th>train_loss</th>\n",
              "      <th>valid_loss</th>\n",
              "      <th>accuracy</th>\n",
              "      <th>time</th>\n",
              "    </tr>\n",
              "  </thead>\n",
              "  <tbody>\n",
              "    <tr>\n",
              "      <td>0</td>\n",
              "      <td>4.065705</td>\n",
              "      <td>3.843275</td>\n",
              "      <td>0.387829</td>\n",
              "      <td>06:22</td>\n",
              "    </tr>\n",
              "  </tbody>\n",
              "</table>"
            ],
            "text/plain": [
              "<IPython.core.display.HTML object>"
            ]
          },
          "metadata": {
            "tags": []
          }
        }
      ]
    },
    {
      "cell_type": "code",
      "metadata": {
        "id": "7_2S5zAJo-6k",
        "colab_type": "code",
        "colab": {}
      },
      "source": [
        "learn_lm.save(\"fulldata_fit1\");"
      ],
      "execution_count": 0,
      "outputs": []
    },
    {
      "cell_type": "code",
      "metadata": {
        "id": "O-LmswERq-a0",
        "colab_type": "code",
        "colab": {}
      },
      "source": [
        "learn_lm.load(\"fulldata_fit1\");"
      ],
      "execution_count": 0,
      "outputs": []
    },
    {
      "cell_type": "markdown",
      "metadata": {
        "id": "oteHkDrcrCHp",
        "colab_type": "text"
      },
      "source": [
        "## _Unfreeze and Fine-Tune_"
      ]
    },
    {
      "cell_type": "code",
      "metadata": {
        "id": "IkofANQurBB1",
        "colab_type": "code",
        "colab": {}
      },
      "source": [
        "learn_lm.unfreeze()"
      ],
      "execution_count": 0,
      "outputs": []
    },
    {
      "cell_type": "code",
      "metadata": {
        "id": "AEWUJ0AMrGAi",
        "colab_type": "code",
        "colab": {
          "base_uri": "https://localhost:8080/",
          "height": 348
        },
        "outputId": "2d01d93f-a0a2-4ab3-9f51-a20a67d096cf"
      },
      "source": [
        "learn_lm.fit_one_cycle(10, lr, moms=(0.8, 0.7))"
      ],
      "execution_count": 30,
      "outputs": [
        {
          "output_type": "display_data",
          "data": {
            "text/html": [
              "<table border=\"1\" class=\"dataframe\">\n",
              "  <thead>\n",
              "    <tr style=\"text-align: left;\">\n",
              "      <th>epoch</th>\n",
              "      <th>train_loss</th>\n",
              "      <th>valid_loss</th>\n",
              "      <th>accuracy</th>\n",
              "      <th>time</th>\n",
              "    </tr>\n",
              "  </thead>\n",
              "  <tbody>\n",
              "    <tr>\n",
              "      <td>0</td>\n",
              "      <td>3.504520</td>\n",
              "      <td>3.444875</td>\n",
              "      <td>0.428634</td>\n",
              "      <td>07:19</td>\n",
              "    </tr>\n",
              "    <tr>\n",
              "      <td>1</td>\n",
              "      <td>3.518165</td>\n",
              "      <td>3.439454</td>\n",
              "      <td>0.428920</td>\n",
              "      <td>07:18</td>\n",
              "    </tr>\n",
              "    <tr>\n",
              "      <td>2</td>\n",
              "      <td>3.471184</td>\n",
              "      <td>3.393681</td>\n",
              "      <td>0.433999</td>\n",
              "      <td>07:18</td>\n",
              "    </tr>\n",
              "    <tr>\n",
              "      <td>3</td>\n",
              "      <td>3.377995</td>\n",
              "      <td>3.315425</td>\n",
              "      <td>0.441862</td>\n",
              "      <td>07:18</td>\n",
              "    </tr>\n",
              "    <tr>\n",
              "      <td>4</td>\n",
              "      <td>3.270677</td>\n",
              "      <td>3.234275</td>\n",
              "      <td>0.451647</td>\n",
              "      <td>07:19</td>\n",
              "    </tr>\n",
              "    <tr>\n",
              "      <td>5</td>\n",
              "      <td>3.157329</td>\n",
              "      <td>3.153951</td>\n",
              "      <td>0.461114</td>\n",
              "      <td>07:19</td>\n",
              "    </tr>\n",
              "    <tr>\n",
              "      <td>6</td>\n",
              "      <td>3.011765</td>\n",
              "      <td>3.074659</td>\n",
              "      <td>0.471356</td>\n",
              "      <td>07:19</td>\n",
              "    </tr>\n",
              "    <tr>\n",
              "      <td>7</td>\n",
              "      <td>2.861548</td>\n",
              "      <td>3.012747</td>\n",
              "      <td>0.481212</td>\n",
              "      <td>07:18</td>\n",
              "    </tr>\n",
              "    <tr>\n",
              "      <td>8</td>\n",
              "      <td>2.695584</td>\n",
              "      <td>2.988557</td>\n",
              "      <td>0.486536</td>\n",
              "      <td>07:19</td>\n",
              "    </tr>\n",
              "    <tr>\n",
              "      <td>9</td>\n",
              "      <td>2.598506</td>\n",
              "      <td>2.992473</td>\n",
              "      <td>0.487110</td>\n",
              "      <td>07:19</td>\n",
              "    </tr>\n",
              "  </tbody>\n",
              "</table>"
            ],
            "text/plain": [
              "<IPython.core.display.HTML object>"
            ]
          },
          "metadata": {
            "tags": []
          }
        }
      ]
    },
    {
      "cell_type": "code",
      "metadata": {
        "id": "vH9z6bxCrK7A",
        "colab_type": "code",
        "colab": {}
      },
      "source": [
        "learn_lm.save(\"fulldata_fine_tuned\")"
      ],
      "execution_count": 0,
      "outputs": []
    },
    {
      "cell_type": "code",
      "metadata": {
        "id": "v895wEHG8JcO",
        "colab_type": "code",
        "colab": {}
      },
      "source": [
        "learn_lm.save_encoder(\"fulldata_fine_tuned_enc\")"
      ],
      "execution_count": 0,
      "outputs": []
    },
    {
      "cell_type": "code",
      "metadata": {
        "id": "la_LXTmF8RVz",
        "colab_type": "code",
        "colab": {}
      },
      "source": [
        "learn_lm.load(\"fulldata_fine_tuned\");"
      ],
      "execution_count": 0,
      "outputs": []
    },
    {
      "cell_type": "markdown",
      "metadata": {
        "id": "Arc3iDAFAbZa",
        "colab_type": "text"
      },
      "source": [
        "## _Create Training Set for Classifier_"
      ]
    },
    {
      "cell_type": "code",
      "metadata": {
        "id": "0AK2g2KiAe_z",
        "colab_type": "code",
        "colab": {}
      },
      "source": [
        "# create training set\n",
        "train = df.sample(frac=0.8, random_state=1)\n",
        "\n",
        "# create test set by dropping all index values associated with training sets\n",
        "test = df.drop(train.index)"
      ],
      "execution_count": 0,
      "outputs": []
    },
    {
      "cell_type": "code",
      "metadata": {
        "id": "_CmpO_r0DLtu",
        "colab_type": "code",
        "colab": {
          "base_uri": "https://localhost:8080/",
          "height": 138
        },
        "outputId": "118d55c5-156c-4db2-b388-ddcbfdd6e276"
      },
      "source": [
        "train.info()"
      ],
      "execution_count": 57,
      "outputs": [
        {
          "output_type": "stream",
          "text": [
            "<class 'pandas.core.frame.DataFrame'>\n",
            "Int64Index: 337766 entries, 350281 to 351585\n",
            "Data columns (total 2 columns):\n",
            "full_text    337766 non-null object\n",
            "label        337766 non-null category\n",
            "dtypes: category(1), object(1)\n",
            "memory usage: 5.5+ MB\n"
          ],
          "name": "stdout"
        }
      ]
    },
    {
      "cell_type": "code",
      "metadata": {
        "id": "olxirP5EDPDV",
        "colab_type": "code",
        "colab": {
          "base_uri": "https://localhost:8080/",
          "height": 138
        },
        "outputId": "011ed95e-d315-410c-f585-3c4be998de86"
      },
      "source": [
        "test.info()"
      ],
      "execution_count": 58,
      "outputs": [
        {
          "output_type": "stream",
          "text": [
            "<class 'pandas.core.frame.DataFrame'>\n",
            "Int64Index: 84442 entries, 0 to 422203\n",
            "Data columns (total 2 columns):\n",
            "full_text    84442 non-null object\n",
            "label        84442 non-null category\n",
            "dtypes: category(1), object(1)\n",
            "memory usage: 1.4+ MB\n"
          ],
          "name": "stdout"
        }
      ]
    },
    {
      "cell_type": "code",
      "metadata": {
        "id": "jY-GnsQQDO_7",
        "colab_type": "code",
        "colab": {}
      },
      "source": [
        "# reset the indexes for both train and test dfs\n",
        "train.reset_index(drop=True, inplace=True)\n",
        "test.reset_index(drop=True, inplace=True)"
      ],
      "execution_count": 0,
      "outputs": []
    },
    {
      "cell_type": "markdown",
      "metadata": {
        "id": "FzlX9BMK8WXB",
        "colab_type": "text"
      },
      "source": [
        "## _Classifier_"
      ]
    },
    {
      "cell_type": "code",
      "metadata": {
        "id": "wnXBsTrr8VkV",
        "colab_type": "code",
        "colab": {
          "base_uri": "https://localhost:8080/",
          "height": 35
        },
        "outputId": "76167b03-0e87-4e4b-a7c1-579c758f7177"
      },
      "source": [
        "train.columns"
      ],
      "execution_count": 60,
      "outputs": [
        {
          "output_type": "execute_result",
          "data": {
            "text/plain": [
              "Index(['full_text', 'label'], dtype='object')"
            ]
          },
          "metadata": {
            "tags": []
          },
          "execution_count": 60
        }
      ]
    },
    {
      "cell_type": "code",
      "metadata": {
        "id": "XG9Lorx38Ypk",
        "colab_type": "code",
        "colab": {
          "base_uri": "https://localhost:8080/",
          "height": 17
        },
        "outputId": "bd77a30f-1624-4853-951d-a3bee79ad5db"
      },
      "source": [
        "# create data object with data block API\n",
        "data_clas = (TextList.from_df(\n",
        "    df=train, # input training data\n",
        "    path=path,\n",
        "    vocab=data_lm.vocab, # load in learned vocab\n",
        "    cols=\"full_text\")\n",
        ".split_by_rand_pct(0.3, seed=1)\n",
        ".label_from_df(cols=\"label\")\n",
        ".databunch(bs=48, num_workers=1)\n",
        ")"
      ],
      "execution_count": 61,
      "outputs": [
        {
          "output_type": "display_data",
          "data": {
            "text/html": [
              ""
            ],
            "text/plain": [
              "<IPython.core.display.HTML object>"
            ]
          },
          "metadata": {
            "tags": []
          }
        },
        {
          "output_type": "display_data",
          "data": {
            "text/html": [
              ""
            ],
            "text/plain": [
              "<IPython.core.display.HTML object>"
            ]
          },
          "metadata": {
            "tags": []
          }
        }
      ]
    },
    {
      "cell_type": "code",
      "metadata": {
        "id": "WqqMgIzMD4lv",
        "colab_type": "code",
        "colab": {
          "base_uri": "https://localhost:8080/",
          "height": 400
        },
        "outputId": "3e6040eb-b52f-48a8-f80e-ff53c5ac2d35"
      },
      "source": [
        "# check out training classifier\n",
        "data_clas"
      ],
      "execution_count": 62,
      "outputs": [
        {
          "output_type": "execute_result",
          "data": {
            "text/plain": [
              "TextClasDataBunch;\n",
              "\n",
              "Train: LabelList (236437 items)\n",
              "x: TextList\n",
              "xxbos xxmaj all these news about xxmaj ukranian nuclear experiments are awful ! will you laugh now ? # xxmaj fukushima2015,xxbos https : / / t.co / xxunk https : / / t.co / xxunk,xxbos xxmaj that being said , i have a new favorite word and obsession : \n",
              " \n",
              "  ipad \n",
              " \n",
              "  ( drool ... ),xxbos xxmaj review of xxmaj capitals ' goal ignites discussion on value of coaches ' challenges # hockey,xxbos xxmaj it 's just different xxrep 4 . xxmaj the connection that i have with my fans while i 'm on that stage is unbelievable xxrep 4 . xxmaj thank you so much xxmaj irvine xxmaj ca ... xxmaj last night was epic xxrep 4 ! # irresponsibletour … https : / / t.co / xxunk\n",
              "y: CategoryList\n",
              "fake,real,real,fake,real\n",
              "Path: /content/gdrive/My Drive/projects/Russian-Disinformation;\n",
              "\n",
              "Valid: LabelList (101329 items)\n",
              "x: TextList\n",
              "xxbos a judge ’s finding of possible misconduct is likely to delay a federal execution planned for xxmaj monday https : / / t.co / xxunk,xxbos xxmaj reports : xxmaj oilers to hire mclellan as next coach # sports,xxbos xxmaj looks like xxmaj pres xxmaj xi is taking the traditional “ long view ” abt the trade negotiations counting on a xxmaj trump defeat in 2020 and having a more pliable xxmaj democrat to bargain with . xxmaj my advice to xxmaj xi fr a lowly xxmaj senator is xxmaj chinese stalling will reelect xxmaj trump,xxbos xxmaj san xxmaj francisco protesters call for change after xxmaj comey firing https : / / t.co / xxunk https : / / t.co / xxunk,xxbos xxunk ku xxunk xxmaj joshua xxunk xxmaj ashley xxunk xxmaj jay xxunk xxmaj riverside xxunk xxmaj xxunk http : / / t.co / xxunk\n",
              "y: CategoryList\n",
              "real,fake,real,fake,fake\n",
              "Path: /content/gdrive/My Drive/projects/Russian-Disinformation;\n",
              "\n",
              "Test: None"
            ]
          },
          "metadata": {
            "tags": []
          },
          "execution_count": 62
        }
      ]
    },
    {
      "cell_type": "code",
      "metadata": {
        "id": "5IPnm9c6El3m",
        "colab_type": "code",
        "colab": {}
      },
      "source": [
        "data_clas.save(\"rusdis_tweet_full_class\")"
      ],
      "execution_count": 0,
      "outputs": []
    },
    {
      "cell_type": "code",
      "metadata": {
        "id": "vNoFDGnlEx7q",
        "colab_type": "code",
        "colab": {}
      },
      "source": [
        "data_clas = load_data(path, \"rusdis_tweet_full_class\", bs=48);"
      ],
      "execution_count": 0,
      "outputs": []
    },
    {
      "cell_type": "code",
      "metadata": {
        "id": "STKAgPbkE8Xp",
        "colab_type": "code",
        "colab": {
          "base_uri": "https://localhost:8080/",
          "height": 319
        },
        "outputId": "82046393-6598-47dd-f389-203264816d58"
      },
      "source": [
        "data_clas.show_batch()"
      ],
      "execution_count": 65,
      "outputs": [
        {
          "output_type": "display_data",
          "data": {
            "text/html": [
              "<table border=\"1\" class=\"dataframe\">\n",
              "  <thead>\n",
              "    <tr style=\"text-align: right;\">\n",
              "      <th>text</th>\n",
              "      <th>target</th>\n",
              "    </tr>\n",
              "  </thead>\n",
              "  <tbody>\n",
              "    <tr>\n",
              "      <td>xxbos xxmaj big day ! \\n \\n  xxmaj we ’re rolling out our next major project : a xxmaj just xxmaj society . \\n \\n  xxmaj it ’s a xxunk suite : \\n \\n  1 . xxmaj recognizing xxmaj poverty xxmaj act \\n  2 . xxmaj place to xxmaj prosper xxmaj act \\n  3 . xxmaj mercy in xxmaj re - xxmaj entry xxmaj act</td>\n",
              "      <td>real</td>\n",
              "    </tr>\n",
              "    <tr>\n",
              "      <td>xxbos xxmaj cocktails for the xxmaj revolution : \\n \\n  - xxmaj world w / o a # greennewdeal : a xxmaj bitter xxmaj dark n ’ xxmaj stormy \\n  - xxmaj clean transport : an xxmaj aviation , but hold the crème de xxunk \\n  - xxmaj bridges , xxmaj not xxmaj walls : a xxmaj xxunk xxmaj greyhound \\n  - xxmaj paid xxmaj parental</td>\n",
              "      <td>real</td>\n",
              "    </tr>\n",
              "    <tr>\n",
              "      <td>xxbos xxmaj the latest xxmaj xxunk xxup gop conspiracy theory is that there ’s a secret “ guy who made me ” + that my male chief is “ actually ” in charge ( 🙄 ) \\n \\n  xxmaj they got one thing right . xxmaj there is a guy who made me . \\n \\n  xxmaj my father . \\n \\n  xxmaj and my xxmaj papa</td>\n",
              "      <td>real</td>\n",
              "    </tr>\n",
              "    <tr>\n",
              "      <td>xxbos xxmaj dem . xxmaj rep. xxmaj jim xxmaj clyburn quotes xxmaj thomas xxmaj paine : \" xxmaj tyranny , like hell , is not easily conquered . \" \\n \\n  \" xxmaj today we have a president who seems to believe he is a king , \" xxmaj clyburn continues . \" xxmaj paine warned us that so unlimited of power can belong only to xxmaj god .</td>\n",
              "      <td>real</td>\n",
              "    </tr>\n",
              "    <tr>\n",
              "      <td>xxbos xxmaj just had a vision that was clear as day xxrep 4 . i m about to have one of the biggest years of my career . xxmaj mark my words people xxrep 4 . at the age 40 i feel like i 'm just getting started xxrep 4 ! i 'm about to power up &amp; &amp; take things to a all new level xxrep 5 ! xxmaj</td>\n",
              "      <td>real</td>\n",
              "    </tr>\n",
              "  </tbody>\n",
              "</table>"
            ],
            "text/plain": [
              "<IPython.core.display.HTML object>"
            ]
          },
          "metadata": {
            "tags": []
          }
        }
      ]
    },
    {
      "cell_type": "code",
      "metadata": {
        "id": "1z24XrW2E_qw",
        "colab_type": "code",
        "colab": {
          "base_uri": "https://localhost:8080/",
          "height": 400
        },
        "outputId": "a3e6fa82-29d1-4bc9-bdf8-1454d76c08e3"
      },
      "source": [
        "data_clas"
      ],
      "execution_count": 66,
      "outputs": [
        {
          "output_type": "execute_result",
          "data": {
            "text/plain": [
              "TextClasDataBunch;\n",
              "\n",
              "Train: LabelList (236437 items)\n",
              "x: TextList\n",
              "xxbos xxmaj all these news about xxmaj ukranian nuclear experiments are awful ! will you laugh now ? # xxmaj fukushima2015,xxbos https : / / t.co / xxunk https : / / t.co / xxunk,xxbos xxmaj that being said , i have a new favorite word and obsession : \n",
              " \n",
              "  ipad \n",
              " \n",
              "  ( drool ... ),xxbos xxmaj review of xxmaj capitals ' goal ignites discussion on value of coaches ' challenges # hockey,xxbos xxmaj it 's just different xxrep 4 . xxmaj the connection that i have with my fans while i 'm on that stage is unbelievable xxrep 4 . xxmaj thank you so much xxmaj irvine xxmaj ca ... xxmaj last night was epic xxrep 4 ! # irresponsibletour … https : / / t.co / xxunk\n",
              "y: CategoryList\n",
              "fake,real,real,fake,real\n",
              "Path: /content/gdrive/My Drive/projects/Russian-Disinformation;\n",
              "\n",
              "Valid: LabelList (101329 items)\n",
              "x: TextList\n",
              "xxbos a judge ’s finding of possible misconduct is likely to delay a federal execution planned for xxmaj monday https : / / t.co / xxunk,xxbos xxmaj reports : xxmaj oilers to hire mclellan as next coach # sports,xxbos xxmaj looks like xxmaj pres xxmaj xi is taking the traditional “ long view ” abt the trade negotiations counting on a xxmaj trump defeat in 2020 and having a more pliable xxmaj democrat to bargain with . xxmaj my advice to xxmaj xi fr a lowly xxmaj senator is xxmaj chinese stalling will reelect xxmaj trump,xxbos xxmaj san xxmaj francisco protesters call for change after xxmaj comey firing https : / / t.co / xxunk https : / / t.co / xxunk,xxbos xxunk ku xxunk xxmaj joshua xxunk xxmaj ashley xxunk xxmaj jay xxunk xxmaj riverside xxunk xxmaj xxunk http : / / t.co / xxunk\n",
              "y: CategoryList\n",
              "real,fake,real,fake,fake\n",
              "Path: /content/gdrive/My Drive/projects/Russian-Disinformation;\n",
              "\n",
              "Test: None"
            ]
          },
          "metadata": {
            "tags": []
          },
          "execution_count": 66
        }
      ]
    },
    {
      "cell_type": "code",
      "metadata": {
        "id": "hT_BdothFDAg",
        "colab_type": "code",
        "colab": {}
      },
      "source": [
        "# create text classifier\n",
        "learn_c = text_classifier_learner(data_clas, AWD_LSTM, drop_mult=0.3)"
      ],
      "execution_count": 0,
      "outputs": []
    },
    {
      "cell_type": "code",
      "metadata": {
        "id": "su4ehJDIFOSo",
        "colab_type": "code",
        "colab": {}
      },
      "source": [
        "learn_c.to_fp16();"
      ],
      "execution_count": 0,
      "outputs": []
    },
    {
      "cell_type": "code",
      "metadata": {
        "id": "fU2bID4VFQXi",
        "colab_type": "code",
        "colab": {}
      },
      "source": [
        "learn_c.load_encoder(\"models/fulldata_fine_tuned_enc\");"
      ],
      "execution_count": 0,
      "outputs": []
    },
    {
      "cell_type": "code",
      "metadata": {
        "id": "nEIwzl8hFZEP",
        "colab_type": "code",
        "colab": {}
      },
      "source": [
        "learn_c.freeze()"
      ],
      "execution_count": 0,
      "outputs": []
    },
    {
      "cell_type": "code",
      "metadata": {
        "id": "10670X7HFbKi",
        "colab_type": "code",
        "colab": {
          "base_uri": "https://localhost:8080/",
          "height": 319
        },
        "outputId": "6041e590-6929-46f7-af5b-3941d3e82a37"
      },
      "source": [
        "learn_c.lr_find()\n",
        "learn_c.recorder.plot()"
      ],
      "execution_count": 71,
      "outputs": [
        {
          "output_type": "display_data",
          "data": {
            "text/html": [
              ""
            ],
            "text/plain": [
              "<IPython.core.display.HTML object>"
            ]
          },
          "metadata": {
            "tags": []
          }
        },
        {
          "output_type": "stream",
          "text": [
            "LR Finder is complete, type {learner_name}.recorder.plot() to see the graph.\n"
          ],
          "name": "stdout"
        },
        {
          "output_type": "display_data",
          "data": {
            "image/png": "[encoded data removed]",
            "text/plain": [
              "<Figure size 432x288 with 1 Axes>"
            ]
          },
          "metadata": {
            "tags": [],
            "image/png": {
              "width": 454,
              "height": 285
            }
          }
        }
      ]
    },
    {
      "cell_type": "code",
      "metadata": {
        "id": "Ac0_sEZdFezn",
        "colab_type": "code",
        "colab": {}
      },
      "source": [
        "lr = 1e-3"
      ],
      "execution_count": 0,
      "outputs": []
    },
    {
      "cell_type": "code",
      "metadata": {
        "id": "ZLedmEATFk8g",
        "colab_type": "code",
        "colab": {
          "base_uri": "https://localhost:8080/",
          "height": 78
        },
        "outputId": "eb0d4f14-41e7-4faa-e4a5-694393384391"
      },
      "source": [
        "learn_c.fit_one_cycle(1, lr, moms=(0.8,0.7))"
      ],
      "execution_count": 73,
      "outputs": [
        {
          "output_type": "display_data",
          "data": {
            "text/html": [
              "<table border=\"1\" class=\"dataframe\">\n",
              "  <thead>\n",
              "    <tr style=\"text-align: left;\">\n",
              "      <th>epoch</th>\n",
              "      <th>train_loss</th>\n",
              "      <th>valid_loss</th>\n",
              "      <th>accuracy</th>\n",
              "      <th>time</th>\n",
              "    </tr>\n",
              "  </thead>\n",
              "  <tbody>\n",
              "    <tr>\n",
              "      <td>0</td>\n",
              "      <td>0.262060</td>\n",
              "      <td>0.160353</td>\n",
              "      <td>0.938774</td>\n",
              "      <td>02:06</td>\n",
              "    </tr>\n",
              "  </tbody>\n",
              "</table>"
            ],
            "text/plain": [
              "<IPython.core.display.HTML object>"
            ]
          },
          "metadata": {
            "tags": []
          }
        }
      ]
    },
    {
      "cell_type": "code",
      "metadata": {
        "id": "vCix07wMFpkh",
        "colab_type": "code",
        "colab": {}
      },
      "source": [
        "# save weights from first round of training\n",
        "learn_c.save(\"fulldata_first_rudis_clas\")"
      ],
      "execution_count": 0,
      "outputs": []
    },
    {
      "cell_type": "code",
      "metadata": {
        "id": "eNNUeIR7JR7K",
        "colab_type": "code",
        "colab": {}
      },
      "source": [
        "# load previous weights\n",
        "learn_c.load(\"fulldata_first_rudis_clas\");"
      ],
      "execution_count": 0,
      "outputs": []
    },
    {
      "cell_type": "code",
      "metadata": {
        "id": "LjN9-TcSJeHg",
        "colab_type": "code",
        "colab": {
          "base_uri": "https://localhost:8080/",
          "height": 78
        },
        "outputId": "e80b8819-5339-46ba-bff1-0e9229a943b7"
      },
      "source": [
        "# second round of training\n",
        "learn_c.freeze_to(-2)\n",
        "learn_c.fit_one_cycle(1, slice(1e-2/(2.6**4), 1e-2), moms=(0.8,0.7))"
      ],
      "execution_count": 77,
      "outputs": [
        {
          "output_type": "display_data",
          "data": {
            "text/html": [
              "<table border=\"1\" class=\"dataframe\">\n",
              "  <thead>\n",
              "    <tr style=\"text-align: left;\">\n",
              "      <th>epoch</th>\n",
              "      <th>train_loss</th>\n",
              "      <th>valid_loss</th>\n",
              "      <th>accuracy</th>\n",
              "      <th>time</th>\n",
              "    </tr>\n",
              "  </thead>\n",
              "  <tbody>\n",
              "    <tr>\n",
              "      <td>0</td>\n",
              "      <td>0.162322</td>\n",
              "      <td>0.118671</td>\n",
              "      <td>0.953419</td>\n",
              "      <td>02:43</td>\n",
              "    </tr>\n",
              "  </tbody>\n",
              "</table>"
            ],
            "text/plain": [
              "<IPython.core.display.HTML object>"
            ]
          },
          "metadata": {
            "tags": []
          }
        }
      ]
    },
    {
      "cell_type": "code",
      "metadata": {
        "id": "DeyXIkjBJz1_",
        "colab_type": "code",
        "colab": {}
      },
      "source": [
        "learn_c.save(\"fulldata_second_rudis_clas\");"
      ],
      "execution_count": 0,
      "outputs": []
    },
    {
      "cell_type": "code",
      "metadata": {
        "id": "p_fW56FXKUs9",
        "colab_type": "code",
        "colab": {}
      },
      "source": [
        "learn_c.load(\"fulldata_second_rudis_clas\");"
      ],
      "execution_count": 0,
      "outputs": []
    },
    {
      "cell_type": "code",
      "metadata": {
        "id": "-HxB1PDrKUpC",
        "colab_type": "code",
        "colab": {
          "base_uri": "https://localhost:8080/",
          "height": 108
        },
        "outputId": "f7fa5814-0253-45c8-e8be-c09ea79de437"
      },
      "source": [
        "# third round of training\n",
        "learn_c.freeze_to(-3)\n",
        "learn_c.fit_one_cycle(2, slice(1e-3/(2.6**4), 1e-3), moms=(0.8, 0.7))"
      ],
      "execution_count": 86,
      "outputs": [
        {
          "output_type": "display_data",
          "data": {
            "text/html": [
              "<table border=\"1\" class=\"dataframe\">\n",
              "  <thead>\n",
              "    <tr style=\"text-align: left;\">\n",
              "      <th>epoch</th>\n",
              "      <th>train_loss</th>\n",
              "      <th>valid_loss</th>\n",
              "      <th>accuracy</th>\n",
              "      <th>time</th>\n",
              "    </tr>\n",
              "  </thead>\n",
              "  <tbody>\n",
              "    <tr>\n",
              "      <td>0</td>\n",
              "      <td>0.140109</td>\n",
              "      <td>0.109819</td>\n",
              "      <td>0.957061</td>\n",
              "      <td>03:55</td>\n",
              "    </tr>\n",
              "    <tr>\n",
              "      <td>1</td>\n",
              "      <td>0.129417</td>\n",
              "      <td>0.112024</td>\n",
              "      <td>0.955541</td>\n",
              "      <td>03:55</td>\n",
              "    </tr>\n",
              "  </tbody>\n",
              "</table>"
            ],
            "text/plain": [
              "<IPython.core.display.HTML object>"
            ]
          },
          "metadata": {
            "tags": []
          }
        }
      ]
    },
    {
      "cell_type": "code",
      "metadata": {
        "id": "wvZGzlm9KUmo",
        "colab_type": "code",
        "colab": {}
      },
      "source": [
        "learn_c.save(\"fulldata_third_rudis_clas\");"
      ],
      "execution_count": 0,
      "outputs": []
    },
    {
      "cell_type": "code",
      "metadata": {
        "id": "Eeyi6Ac5KUiw",
        "colab_type": "code",
        "colab": {}
      },
      "source": [
        "learn_c.load(\"fulldata_third_rudis_clas\");"
      ],
      "execution_count": 0,
      "outputs": []
    },
    {
      "cell_type": "code",
      "metadata": {
        "id": "V1SPB8ZNKUdl",
        "colab_type": "code",
        "colab": {
          "base_uri": "https://localhost:8080/",
          "height": 138
        },
        "outputId": "8adcc713-0f9f-4ed1-f7b4-00a2c9f5ec0e"
      },
      "source": [
        "learn_c.unfreeze()\n",
        "learn_c.fit_one_cycle(3, slice(1e-3/(2.6**4), 1e-3), moms=(0.8, 0.7))"
      ],
      "execution_count": 89,
      "outputs": [
        {
          "output_type": "display_data",
          "data": {
            "text/html": [
              "<table border=\"1\" class=\"dataframe\">\n",
              "  <thead>\n",
              "    <tr style=\"text-align: left;\">\n",
              "      <th>epoch</th>\n",
              "      <th>train_loss</th>\n",
              "      <th>valid_loss</th>\n",
              "      <th>accuracy</th>\n",
              "      <th>time</th>\n",
              "    </tr>\n",
              "  </thead>\n",
              "  <tbody>\n",
              "    <tr>\n",
              "      <td>0</td>\n",
              "      <td>0.133367</td>\n",
              "      <td>0.103949</td>\n",
              "      <td>0.959133</td>\n",
              "      <td>05:13</td>\n",
              "    </tr>\n",
              "    <tr>\n",
              "      <td>1</td>\n",
              "      <td>0.138304</td>\n",
              "      <td>0.099885</td>\n",
              "      <td>0.960485</td>\n",
              "      <td>05:20</td>\n",
              "    </tr>\n",
              "    <tr>\n",
              "      <td>2</td>\n",
              "      <td>0.105587</td>\n",
              "      <td>0.101518</td>\n",
              "      <td>0.959597</td>\n",
              "      <td>04:58</td>\n",
              "    </tr>\n",
              "  </tbody>\n",
              "</table>"
            ],
            "text/plain": [
              "<IPython.core.display.HTML object>"
            ]
          },
          "metadata": {
            "tags": []
          }
        }
      ]
    },
    {
      "cell_type": "code",
      "metadata": {
        "id": "DT4Kr6osMUTI",
        "colab_type": "code",
        "colab": {}
      },
      "source": [
        "learn_c.save(\"fulldata_fourth_rudis_clas\");"
      ],
      "execution_count": 0,
      "outputs": []
    },
    {
      "cell_type": "code",
      "metadata": {
        "id": "OmTvzGm5VdFB",
        "colab_type": "code",
        "colab": {}
      },
      "source": [
        "learn_c.load(\"fulldata_fourth_rudis_clas\");"
      ],
      "execution_count": 0,
      "outputs": []
    },
    {
      "cell_type": "code",
      "metadata": {
        "id": "GdgrmH09Vkoo",
        "colab_type": "code",
        "colab": {
          "base_uri": "https://localhost:8080/",
          "height": 78
        },
        "outputId": "4dee235a-05ba-454b-b2e8-85376f7caa97"
      },
      "source": [
        "learn_c.fit_one_cycle(1, slice(1e-3/(2.6**4), 1e-3), moms=(0.8, 0.7))"
      ],
      "execution_count": 93,
      "outputs": [
        {
          "output_type": "display_data",
          "data": {
            "text/html": [
              "<table border=\"1\" class=\"dataframe\">\n",
              "  <thead>\n",
              "    <tr style=\"text-align: left;\">\n",
              "      <th>epoch</th>\n",
              "      <th>train_loss</th>\n",
              "      <th>valid_loss</th>\n",
              "      <th>accuracy</th>\n",
              "      <th>time</th>\n",
              "    </tr>\n",
              "  </thead>\n",
              "  <tbody>\n",
              "    <tr>\n",
              "      <td>0</td>\n",
              "      <td>0.112969</td>\n",
              "      <td>0.101653</td>\n",
              "      <td>0.961423</td>\n",
              "      <td>05:28</td>\n",
              "    </tr>\n",
              "  </tbody>\n",
              "</table>"
            ],
            "text/plain": [
              "<IPython.core.display.HTML object>"
            ]
          },
          "metadata": {
            "tags": []
          }
        }
      ]
    },
    {
      "cell_type": "code",
      "metadata": {
        "id": "IEV8R85CVnc0",
        "colab_type": "code",
        "colab": {
          "base_uri": "https://localhost:8080/",
          "height": 78
        },
        "outputId": "eecd9140-da72-48dc-fd85-b6ccc479f338"
      },
      "source": [
        "learn_c.fit_one_cycle(1, slice(1e-3/(2.6**4), 1e-3), moms=(0.8, 0.7))"
      ],
      "execution_count": 94,
      "outputs": [
        {
          "output_type": "display_data",
          "data": {
            "text/html": [
              "<table border=\"1\" class=\"dataframe\">\n",
              "  <thead>\n",
              "    <tr style=\"text-align: left;\">\n",
              "      <th>epoch</th>\n",
              "      <th>train_loss</th>\n",
              "      <th>valid_loss</th>\n",
              "      <th>accuracy</th>\n",
              "      <th>time</th>\n",
              "    </tr>\n",
              "  </thead>\n",
              "  <tbody>\n",
              "    <tr>\n",
              "      <td>0</td>\n",
              "      <td>0.100067</td>\n",
              "      <td>0.096861</td>\n",
              "      <td>0.962015</td>\n",
              "      <td>05:05</td>\n",
              "    </tr>\n",
              "  </tbody>\n",
              "</table>"
            ],
            "text/plain": [
              "<IPython.core.display.HTML object>"
            ]
          },
          "metadata": {
            "tags": []
          }
        }
      ]
    },
    {
      "cell_type": "code",
      "metadata": {
        "id": "W2IvbGrsW952",
        "colab_type": "code",
        "colab": {
          "base_uri": "https://localhost:8080/",
          "height": 78
        },
        "outputId": "7b127027-4232-44e2-df44-8a962b670cff"
      },
      "source": [
        "learn_c.fit_one_cycle(1, slice(1e-3/(2.6**4), 1e-3), moms=(0.8, 0.7))"
      ],
      "execution_count": 95,
      "outputs": [
        {
          "output_type": "display_data",
          "data": {
            "text/html": [
              "<table border=\"1\" class=\"dataframe\">\n",
              "  <thead>\n",
              "    <tr style=\"text-align: left;\">\n",
              "      <th>epoch</th>\n",
              "      <th>train_loss</th>\n",
              "      <th>valid_loss</th>\n",
              "      <th>accuracy</th>\n",
              "      <th>time</th>\n",
              "    </tr>\n",
              "  </thead>\n",
              "  <tbody>\n",
              "    <tr>\n",
              "      <td>0</td>\n",
              "      <td>0.088385</td>\n",
              "      <td>0.096093</td>\n",
              "      <td>0.962271</td>\n",
              "      <td>05:21</td>\n",
              "    </tr>\n",
              "  </tbody>\n",
              "</table>"
            ],
            "text/plain": [
              "<IPython.core.display.HTML object>"
            ]
          },
          "metadata": {
            "tags": []
          }
        }
      ]
    },
    {
      "cell_type": "code",
      "metadata": {
        "id": "HbKtFl5ndTyB",
        "colab_type": "code",
        "colab": {}
      },
      "source": [
        "learn_c.save(\"fulldata_final_rudis_clas\")"
      ],
      "execution_count": 0,
      "outputs": []
    },
    {
      "cell_type": "markdown",
      "metadata": {
        "id": "NrvHL95KexER",
        "colab_type": "text"
      },
      "source": [
        "## _Create Test Set_"
      ]
    },
    {
      "cell_type": "code",
      "metadata": {
        "id": "b2HKntyqeu9u",
        "colab_type": "code",
        "colab": {}
      },
      "source": [
        "# load in test data for IRA and Verified Users\n",
        "ira_test = pd.read_json(\"json_data/ira_test.json\", orient=\"split\")\n",
        "verif_test = pd.read_json(\"json_data/verified_test.json\", orient=\"split\")"
      ],
      "execution_count": 0,
      "outputs": []
    },
    {
      "cell_type": "code",
      "metadata": {
        "id": "q5xxNMpUgRJU",
        "colab_type": "code",
        "colab": {}
      },
      "source": [
        "# generate samples from both IRA and Verified test sets\n",
        "ira_samp = ira_test.sample(n=400, random_state=1)\n",
        "verif_samp = verif_test.sample(n=600, random_state=1)"
      ],
      "execution_count": 0,
      "outputs": []
    },
    {
      "cell_type": "code",
      "metadata": {
        "id": "e-gXvNUygflx",
        "colab_type": "code",
        "colab": {}
      },
      "source": [
        "combined = pd.concat([ira_samp, verif_samp])[[\"full_text\", \"label\"]].sample(frac=1, random_state=1).reset_index(drop=True)"
      ],
      "execution_count": 0,
      "outputs": []
    },
    {
      "cell_type": "code",
      "metadata": {
        "id": "orzFL6K5gtYT",
        "colab_type": "code",
        "colab": {
          "base_uri": "https://localhost:8080/",
          "height": 198
        },
        "outputId": "041803e7-59b0-4107-aa56-f1d89c27cf65"
      },
      "source": [
        "combined[:5]"
      ],
      "execution_count": 102,
      "outputs": [
        {
          "output_type": "execute_result",
          "data": {
            "text/html": [
              "<div>\n",
              "<style scoped>\n",
              "    .dataframe tbody tr th:only-of-type {\n",
              "        vertical-align: middle;\n",
              "    }\n",
              "\n",
              "    .dataframe tbody tr th {\n",
              "        vertical-align: top;\n",
              "    }\n",
              "\n",
              "    .dataframe thead th {\n",
              "        text-align: right;\n",
              "    }\n",
              "</style>\n",
              "<table border=\"1\" class=\"dataframe\">\n",
              "  <thead>\n",
              "    <tr style=\"text-align: right;\">\n",
              "      <th></th>\n",
              "      <th>full_text</th>\n",
              "      <th>label</th>\n",
              "    </tr>\n",
              "  </thead>\n",
              "  <tbody>\n",
              "    <tr>\n",
              "      <th>0</th>\n",
              "      <td>That’s the 3rd straight Sunday in a row I’ve c...</td>\n",
              "      <td>real</td>\n",
              "    </tr>\n",
              "    <tr>\n",
              "      <th>1</th>\n",
              "      <td>\"Did I look like Lamar, with that juke?\"\\n\\n@P...</td>\n",
              "      <td>real</td>\n",
              "    </tr>\n",
              "    <tr>\n",
              "      <th>2</th>\n",
              "      <td>The Pensacola shooting has put a spotlight on ...</td>\n",
              "      <td>real</td>\n",
              "    </tr>\n",
              "    <tr>\n",
              "      <th>3</th>\n",
              "      <td>Indian army battles deadly flooding to rescue ...</td>\n",
              "      <td>fake</td>\n",
              "    </tr>\n",
              "    <tr>\n",
              "      <th>4</th>\n",
              "      <td>Motorcyclist Killed In Crash On Interstate 880...</td>\n",
              "      <td>fake</td>\n",
              "    </tr>\n",
              "  </tbody>\n",
              "</table>\n",
              "</div>"
            ],
            "text/plain": [
              "                                           full_text label\n",
              "0  That’s the 3rd straight Sunday in a row I’ve c...  real\n",
              "1  \"Did I look like Lamar, with that juke?\"\\n\\n@P...  real\n",
              "2  The Pensacola shooting has put a spotlight on ...  real\n",
              "3  Indian army battles deadly flooding to rescue ...  fake\n",
              "4  Motorcyclist Killed In Crash On Interstate 880...  fake"
            ]
          },
          "metadata": {
            "tags": []
          },
          "execution_count": 102
        }
      ]
    },
    {
      "cell_type": "code",
      "metadata": {
        "id": "77ZtjFQigtVO",
        "colab_type": "code",
        "colab": {
          "base_uri": "https://localhost:8080/",
          "height": 35
        },
        "outputId": "e825e1de-b1c5-4373-e8e6-0bd715cfba8e"
      },
      "source": [
        "learn_c.data.classes"
      ],
      "execution_count": 103,
      "outputs": [
        {
          "output_type": "execute_result",
          "data": {
            "text/plain": [
              "['fake', 'real']"
            ]
          },
          "metadata": {
            "tags": []
          },
          "execution_count": 103
        }
      ]
    },
    {
      "cell_type": "code",
      "metadata": {
        "id": "G_FHOWhngtSh",
        "colab_type": "code",
        "colab": {
          "base_uri": "https://localhost:8080/",
          "height": 35
        },
        "outputId": "3f5b33b5-f1d5-47fc-8c37-00543dbef8f5"
      },
      "source": [
        "# predict on first observation\n",
        "str(learn_c.predict(combined[\"full_text\"][0])[0])"
      ],
      "execution_count": 108,
      "outputs": [
        {
          "output_type": "execute_result",
          "data": {
            "text/plain": [
              "'real'"
            ]
          },
          "metadata": {
            "tags": []
          },
          "execution_count": 108
        }
      ]
    },
    {
      "cell_type": "code",
      "metadata": {
        "id": "oOCcSijYgtP5",
        "colab_type": "code",
        "colab": {}
      },
      "source": [
        "# get predictions by applying predict to combine\n",
        "combined[\"test_predict\"] = combined[\"full_text\"].apply(lambda x: str(learn_c.predict(x)[0]))"
      ],
      "execution_count": 0,
      "outputs": []
    },
    {
      "cell_type": "code",
      "metadata": {
        "id": "96Di5ZGlgtMf",
        "colab_type": "code",
        "colab": {}
      },
      "source": [
        "# convert the above to categorical type\n",
        "combined[\"test_predict\"] = combined[\"test_predict\"].astype(\"category\")\n",
        "combined[\"label\"] = combined[\"label\"].astype(\"category\")"
      ],
      "execution_count": 0,
      "outputs": []
    },
    {
      "cell_type": "code",
      "metadata": {
        "id": "odcTbvRhia0P",
        "colab_type": "code",
        "colab": {
          "base_uri": "https://localhost:8080/",
          "height": 198
        },
        "outputId": "f7b3be66-e347-40ef-cc05-2f8f3fb889fc"
      },
      "source": [
        "combined[:5]"
      ],
      "execution_count": 117,
      "outputs": [
        {
          "output_type": "execute_result",
          "data": {
            "text/html": [
              "<div>\n",
              "<style scoped>\n",
              "    .dataframe tbody tr th:only-of-type {\n",
              "        vertical-align: middle;\n",
              "    }\n",
              "\n",
              "    .dataframe tbody tr th {\n",
              "        vertical-align: top;\n",
              "    }\n",
              "\n",
              "    .dataframe thead th {\n",
              "        text-align: right;\n",
              "    }\n",
              "</style>\n",
              "<table border=\"1\" class=\"dataframe\">\n",
              "  <thead>\n",
              "    <tr style=\"text-align: right;\">\n",
              "      <th></th>\n",
              "      <th>full_text</th>\n",
              "      <th>label</th>\n",
              "      <th>test_predict</th>\n",
              "    </tr>\n",
              "  </thead>\n",
              "  <tbody>\n",
              "    <tr>\n",
              "      <th>0</th>\n",
              "      <td>That’s the 3rd straight Sunday in a row I’ve c...</td>\n",
              "      <td>real</td>\n",
              "      <td>real</td>\n",
              "    </tr>\n",
              "    <tr>\n",
              "      <th>1</th>\n",
              "      <td>\"Did I look like Lamar, with that juke?\"\\n\\n@P...</td>\n",
              "      <td>real</td>\n",
              "      <td>real</td>\n",
              "    </tr>\n",
              "    <tr>\n",
              "      <th>2</th>\n",
              "      <td>The Pensacola shooting has put a spotlight on ...</td>\n",
              "      <td>real</td>\n",
              "      <td>real</td>\n",
              "    </tr>\n",
              "    <tr>\n",
              "      <th>3</th>\n",
              "      <td>Indian army battles deadly flooding to rescue ...</td>\n",
              "      <td>fake</td>\n",
              "      <td>fake</td>\n",
              "    </tr>\n",
              "    <tr>\n",
              "      <th>4</th>\n",
              "      <td>Motorcyclist Killed In Crash On Interstate 880...</td>\n",
              "      <td>fake</td>\n",
              "      <td>fake</td>\n",
              "    </tr>\n",
              "  </tbody>\n",
              "</table>\n",
              "</div>"
            ],
            "text/plain": [
              "                                           full_text label test_predict\n",
              "0  That’s the 3rd straight Sunday in a row I’ve c...  real         real\n",
              "1  \"Did I look like Lamar, with that juke?\"\\n\\n@P...  real         real\n",
              "2  The Pensacola shooting has put a spotlight on ...  real         real\n",
              "3  Indian army battles deadly flooding to rescue ...  fake         fake\n",
              "4  Motorcyclist Killed In Crash On Interstate 880...  fake         fake"
            ]
          },
          "metadata": {
            "tags": []
          },
          "execution_count": 117
        }
      ]
    },
    {
      "cell_type": "code",
      "metadata": {
        "id": "TwNE7NmujJvn",
        "colab_type": "code",
        "colab": {
          "base_uri": "https://localhost:8080/",
          "height": 155
        },
        "outputId": "2a3ccf2d-f316-4495-aff7-6dea8b7ef23a"
      },
      "source": [
        "combined.info()"
      ],
      "execution_count": 118,
      "outputs": [
        {
          "output_type": "stream",
          "text": [
            "<class 'pandas.core.frame.DataFrame'>\n",
            "RangeIndex: 1000 entries, 0 to 999\n",
            "Data columns (total 3 columns):\n",
            "full_text       1000 non-null object\n",
            "label           1000 non-null category\n",
            "test_predict    1000 non-null category\n",
            "dtypes: category(2), object(1)\n",
            "memory usage: 10.1+ KB\n"
          ],
          "name": "stdout"
        }
      ]
    },
    {
      "cell_type": "code",
      "metadata": {
        "id": "APVsLZzXiavw",
        "colab_type": "code",
        "colab": {
          "base_uri": "https://localhost:8080/",
          "height": 35
        },
        "outputId": "8def4e4b-16dc-446a-9c1b-5fc0eaff52e9"
      },
      "source": [
        "import numpy as np\n",
        "from sklearn.metrics import f1_score\n",
        "\n",
        "np.mean(combined[\"label\"] == combined[\"test_predict\"]), f1_score(combined[\"label\"], combined[\"test_predict\"], pos_label=\"fake\")"
      ],
      "execution_count": 121,
      "outputs": [
        {
          "output_type": "execute_result",
          "data": {
            "text/plain": [
              "(0.974, 0.9678217821782178)"
            ]
          },
          "metadata": {
            "tags": []
          },
          "execution_count": 121
        }
      ]
    },
    {
      "cell_type": "code",
      "metadata": {
        "id": "M_nLNex0tzju",
        "colab_type": "code",
        "colab": {
          "base_uri": "https://localhost:8080/",
          "height": 35
        },
        "outputId": "bc7cd0e6-4a54-47f6-9689-bc6a05a2a161"
      },
      "source": [
        "from tqdm import tqdm\n",
        "from time import sleep\n",
        "\n",
        "for i in tqdm(range(10)):\n",
        "    sleep(1)\n",
        "    pass"
      ],
      "execution_count": 133,
      "outputs": [
        {
          "output_type": "stream",
          "text": [
            "100%|██████████| 10/10 [00:10<00:00,  1.00s/it]\n"
          ],
          "name": "stderr"
        }
      ]
    },
    {
      "cell_type": "code",
      "metadata": {
        "id": "HfXIAHm9jb9o",
        "colab_type": "code",
        "colab": {}
      },
      "source": [
        "def test_performance(ira_data, verif_data):\n",
        "    '''\n",
        "    Test text classifier N times and returns average F1 score.\n",
        "    '''\n",
        "    f1_dict = {}\n",
        "    for n in tqdm([400, 300, 200, 100, 50]):\n",
        "        f1_scores = []\n",
        "        for state in tqdm([1, 5, 10, 15, 20]):\n",
        "            # generate samples from both IRA and Verified test sets\n",
        "            ira_samp = ira_test.sample(n=n, random_state=state)\n",
        "            verif_samp = verif_test.sample(n=1000-n, random_state=state)\n",
        "            # combine samples\n",
        "            combined = (pd.concat([ira_samp, verif_samp])[[\"full_text\", \"label\"]]\n",
        "                        .sample(frac=1, random_state=1)\n",
        "                        .reset_index(drop=True))\n",
        "            # change label to categorical type\n",
        "            combined[\"label\"] = combined[\"label\"].astype(\"category\")\n",
        "            # get predictions by applying predict to combine\n",
        "            predictions = pd.Series(combined[\"full_text\"].apply(lambda x: str(learn_c.predict(x)[0])), dtype=\"category\")\n",
        "            # append F1 score to list\n",
        "            f1_scores.append(f1_score(combined[\"label\"], predictions, pos_label=\"fake\"))\n",
        "        # insert F1 Scores for assigned n\n",
        "        f1_dict[str(n)] = f1_scores\n",
        "    # return list of f1 scores\n",
        "    return f1_dict"
      ],
      "execution_count": 0,
      "outputs": []
    },
    {
      "cell_type": "code",
      "metadata": {
        "id": "mKuD9y59jb56",
        "colab_type": "code",
        "colab": {
          "base_uri": "https://localhost:8080/",
          "height": 674
        },
        "outputId": "43e7ffe7-e00a-4400-86f3-152cb31c5a82"
      },
      "source": [
        "%%time\n",
        "\n",
        "f1_scores = test_performance(ira_test, verif_test)"
      ],
      "execution_count": 135,
      "outputs": [
        {
          "output_type": "stream",
          "text": [
            "  0%|          | 0/5 [00:00<?, ?it/s]\n",
            "  0%|          | 0/5 [00:00<?, ?it/s]\u001b[A\n",
            " 20%|██        | 1/5 [00:50<03:21, 50.27s/it]\u001b[A\n",
            " 40%|████      | 2/5 [01:39<02:30, 50.10s/it]\u001b[A\n",
            " 60%|██████    | 3/5 [02:29<01:40, 50.05s/it]\u001b[A\n",
            " 80%|████████  | 4/5 [03:19<00:49, 49.93s/it]\u001b[A\n",
            "100%|██████████| 5/5 [04:09<00:00, 49.83s/it]\u001b[A\n",
            " 20%|██        | 1/5 [04:09<16:36, 249.18s/it]\n",
            "  0%|          | 0/5 [00:00<?, ?it/s]\u001b[A\n",
            " 20%|██        | 1/5 [00:49<03:19, 49.91s/it]\u001b[A\n",
            " 40%|████      | 2/5 [01:39<02:29, 49.95s/it]\u001b[A\n",
            " 60%|██████    | 3/5 [02:29<01:39, 49.91s/it]\u001b[A\n",
            " 80%|████████  | 4/5 [03:19<00:49, 49.91s/it]\u001b[A\n",
            "100%|██████████| 5/5 [04:09<00:00, 49.90s/it]\u001b[A\n",
            " 40%|████      | 2/5 [08:18<12:27, 249.30s/it]\n",
            "  0%|          | 0/5 [00:00<?, ?it/s]\u001b[A\n",
            " 20%|██        | 1/5 [00:50<03:21, 50.42s/it]\u001b[A\n",
            " 40%|████      | 2/5 [01:40<02:31, 50.42s/it]\u001b[A\n",
            " 60%|██████    | 3/5 [02:31<01:40, 50.42s/it]\u001b[A\n",
            " 80%|████████  | 4/5 [03:21<00:50, 50.36s/it]\u001b[A\n",
            "100%|██████████| 5/5 [04:11<00:00, 50.34s/it]\u001b[A\n",
            " 60%|██████    | 3/5 [12:30<08:20, 250.04s/it]\n",
            "  0%|          | 0/5 [00:00<?, ?it/s]\u001b[A\n",
            " 20%|██        | 1/5 [00:50<03:21, 50.37s/it]\u001b[A\n",
            " 40%|████      | 2/5 [01:40<02:31, 50.38s/it]\u001b[A\n",
            " 60%|██████    | 3/5 [02:30<01:40, 50.32s/it]\u001b[A\n",
            " 80%|████████  | 4/5 [03:21<00:50, 50.42s/it]\u001b[A\n",
            "100%|██████████| 5/5 [04:11<00:00, 50.38s/it]\u001b[A\n",
            " 80%|████████  | 4/5 [16:42<04:10, 250.59s/it]\n",
            "  0%|          | 0/5 [00:00<?, ?it/s]\u001b[A\n",
            " 20%|██        | 1/5 [00:50<03:20, 50.20s/it]\u001b[A\n",
            " 40%|████      | 2/5 [01:40<02:30, 50.27s/it]\u001b[A\n",
            " 60%|██████    | 3/5 [02:31<01:40, 50.35s/it]\u001b[A\n",
            " 80%|████████  | 4/5 [03:21<00:50, 50.31s/it]\u001b[A\n",
            "100%|██████████| 5/5 [04:11<00:00, 50.33s/it]\u001b[A\n",
            "100%|██████████| 5/5 [20:54<00:00, 250.94s/it]"
          ],
          "name": "stderr"
        },
        {
          "output_type": "stream",
          "text": [
            "CPU times: user 20min 36s, sys: 16.2 s, total: 20min 53s\n",
            "Wall time: 20min 54s\n"
          ],
          "name": "stdout"
        },
        {
          "output_type": "stream",
          "text": [
            "\n"
          ],
          "name": "stderr"
        }
      ]
    },
    {
      "cell_type": "code",
      "metadata": {
        "id": "zTvNMeWYtRE2",
        "colab_type": "code",
        "colab": {
          "base_uri": "https://localhost:8080/",
          "height": 449
        },
        "outputId": "f2ba6191-f8b2-4ebe-de83-fcb29affec7e"
      },
      "source": [
        "f1_scores"
      ],
      "execution_count": 136,
      "outputs": [
        {
          "output_type": "execute_result",
          "data": {
            "text/plain": [
              "{'100': [0.8767123287671232,\n",
              "  0.8362068965517241,\n",
              "  0.8296943231441047,\n",
              "  0.8355555555555555,\n",
              "  0.8622222222222223],\n",
              " '200': [0.9352517985611511,\n",
              "  0.9030732860520094,\n",
              "  0.908235294117647,\n",
              "  0.9121140142517815,\n",
              "  0.9182692307692308],\n",
              " '300': [0.957516339869281,\n",
              "  0.9379084967320261,\n",
              "  0.9339774557165861,\n",
              "  0.9411764705882353,\n",
              "  0.9477124183006537],\n",
              " '400': [0.9678217821782178,\n",
              "  0.9565217391304348,\n",
              "  0.9509803921568627,\n",
              "  0.9542645241038319,\n",
              "  0.9614906832298138],\n",
              " '50': [0.7933884297520661,\n",
              "  0.7164179104477612,\n",
              "  0.7022900763358778,\n",
              "  0.7086614173228346,\n",
              "  0.7500000000000001]}"
            ]
          },
          "metadata": {
            "tags": []
          },
          "execution_count": 136
        }
      ]
    },
    {
      "cell_type": "code",
      "metadata": {
        "id": "8Ajn4YCxtQ_4",
        "colab_type": "code",
        "colab": {
          "base_uri": "https://localhost:8080/",
          "height": 104
        },
        "outputId": "0bd3cd93-c2af-43cb-98bf-34dba6c20bee"
      },
      "source": [
        "for key in f1_scores.keys():\n",
        "    print(f\"Mean F1 Score: {np.mean(f1_scores[key])} (+/- {np.std(f1_scores[key]) * 2})\")"
      ],
      "execution_count": 139,
      "outputs": [
        {
          "output_type": "stream",
          "text": [
            "Mean F1 Score: 0.9582158241598322 (+/- 0.011792652080620334)\n",
            "Mean F1 Score: 0.9436582362413566 (+/- 0.016526817118445076)\n",
            "Mean F1 Score: 0.915388724750364 (+/- 0.022206383679240625)\n",
            "Mean F1 Score: 0.848078265248146 (+/- 0.036394264301390936)\n",
            "Mean F1 Score: 0.7341515667717079 (+/- 0.06776172152405585)\n"
          ],
          "name": "stdout"
        }
      ]
    },
    {
      "cell_type": "code",
      "metadata": {
        "id": "jyH5Mb87fq6C",
        "colab_type": "code",
        "colab": {}
      },
      "source": [
        ""
      ],
      "execution_count": 0,
      "outputs": []
    }
  ]
}