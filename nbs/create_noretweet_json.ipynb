{
 "cells": [
  {
   "cell_type": "code",
   "execution_count": 8,
   "metadata": {},
   "outputs": [],
   "source": [
    "import pandas as pd\n",
    "pd.set_option(\"display.max_columns\", None)"
   ]
  },
  {
   "cell_type": "code",
   "execution_count": 15,
   "metadata": {},
   "outputs": [],
   "source": [
    "# load in data\n",
    "df = pd.read_json(\"all_tweets.json\", orient=\"split\")"
   ]
  },
  {
   "cell_type": "code",
   "execution_count": 16,
   "metadata": {},
   "outputs": [
    {
     "data": {
      "text/plain": [
       "id_str            0\n",
       "screen_name       0\n",
       "created_at        0\n",
       "lang              0\n",
       "source            0\n",
       "retweet_count     0\n",
       "favorite_count    0\n",
       "is_retweet        0\n",
       "full_text         0\n",
       "dtype: int64"
      ]
     },
     "execution_count": 16,
     "metadata": {},
     "output_type": "execute_result"
    }
   ],
   "source": [
    "df.isna().sum()"
   ]
  },
  {
   "cell_type": "code",
   "execution_count": 18,
   "metadata": {},
   "outputs": [
    {
     "name": "stdout",
     "output_type": "stream",
     "text": [
      "<class 'pandas.core.frame.DataFrame'>\n",
      "Int64Index: 264542 entries, 0 to 264541\n",
      "Data columns (total 9 columns):\n",
      "id_str            264542 non-null int64\n",
      "screen_name       264542 non-null object\n",
      "created_at        264542 non-null datetime64[ns]\n",
      "lang              264542 non-null object\n",
      "source            264542 non-null object\n",
      "retweet_count     264542 non-null int64\n",
      "favorite_count    264542 non-null int64\n",
      "is_retweet        264542 non-null bool\n",
      "full_text         264542 non-null object\n",
      "dtypes: bool(1), datetime64[ns](1), int64(3), object(4)\n",
      "memory usage: 18.4+ MB\n"
     ]
    }
   ],
   "source": [
    "df.info()"
   ]
  },
  {
   "cell_type": "code",
   "execution_count": 19,
   "metadata": {},
   "outputs": [],
   "source": [
    "# convert lang and source to category types\n",
    "df[\"lang\"] = df[\"lang\"].astype(\"category\")\n",
    "df[\"source\"] = df[\"source\"].astype(\"category\")"
   ]
  },
  {
   "cell_type": "code",
   "execution_count": 20,
   "metadata": {},
   "outputs": [
    {
     "name": "stdout",
     "output_type": "stream",
     "text": [
      "<class 'pandas.core.frame.DataFrame'>\n",
      "Int64Index: 264542 entries, 0 to 264541\n",
      "Data columns (total 9 columns):\n",
      "id_str            264542 non-null int64\n",
      "screen_name       264542 non-null object\n",
      "created_at        264542 non-null datetime64[ns]\n",
      "lang              264542 non-null category\n",
      "source            264542 non-null category\n",
      "retweet_count     264542 non-null int64\n",
      "favorite_count    264542 non-null int64\n",
      "is_retweet        264542 non-null bool\n",
      "full_text         264542 non-null object\n",
      "dtypes: bool(1), category(2), datetime64[ns](1), int64(3), object(2)\n",
      "memory usage: 15.1+ MB\n"
     ]
    }
   ],
   "source": [
    "df.info()"
   ]
  },
  {
   "cell_type": "code",
   "execution_count": 35,
   "metadata": {},
   "outputs": [],
   "source": [
    "contains_rt = list(df[df[\"full_text\"].str.contains(\"RT @\")].index)\n",
    "startswith_rt = list(df[df[\"full_text\"].str.startswith(\"RT @\")].index)"
   ]
  },
  {
   "cell_type": "code",
   "execution_count": 28,
   "metadata": {},
   "outputs": [
    {
     "data": {
      "text/plain": [
       "53438"
      ]
     },
     "execution_count": 28,
     "metadata": {},
     "output_type": "execute_result"
    }
   ],
   "source": [
    "len(df[df[\"is_retweet\"] == True])"
   ]
  },
  {
   "cell_type": "code",
   "execution_count": 38,
   "metadata": {},
   "outputs": [],
   "source": [
    "# retrieve list of indexs that contain RT @ but don't start with them\n",
    "contains_diff = list(set(contains_rt).difference(set(startswith_rt)))"
   ]
  },
  {
   "cell_type": "code",
   "execution_count": 47,
   "metadata": {},
   "outputs": [
    {
     "name": "stdout",
     "output_type": "stream",
     "text": [
      "Yup RT @TheCoffee13: @JHarden13 are you watching game 6?\n",
      "!!! RT @MarathonZO: Yo S/O @NipseyHussle showing love &amp; lacing me n @JHarden13 wit the Crenshaw gear..#TMC\n",
      "Lol i cant cook RT @iamjeannerivera: @JHarden13 Cook for her!\n",
      "We might shoot to the A this weekend!! RT @BlindFolksFilms: @PRIVALEDGE @JHarden13  Gotta Link up with yahll Soon Fam\n",
      "Lol I did RT @FSDomino: @Edelman11 dude, did you just see Chara laugh in Smiths face?\n",
      "Thank you! RT @arrbes7822: @JHarden13 you're soooo happy &amp;cute  ih the  Google+exclusive http://t.co/nOx7ub6bCp\n",
      "Thanks bro! RT @DonteStallworth: @JHarden13 nice! Enjoy that one my dude.\n",
      "Most def! We all would. RT @Pradajames: @JHarden13 I bet she'd LOVE an NBA season.\n",
      "!!!!!!!! RT @lablab_conie_g: @JHarden13 Just give her your UNDYING LOVE! :D\n",
      "!! RT @Adam24Williams: @JHarden13 a paid cruise to somewhere nice.\n"
     ]
    }
   ],
   "source": [
    "for idx in contains_diff[:10]:\n",
    "    print(df.loc[idx][\"full_text\"])"
   ]
  },
  {
   "cell_type": "markdown",
   "metadata": {},
   "source": [
    "The discrepancy is due to quoted tweets, which are retweets but with the user's own text in response to the retweet. I feel alright dropping these to begin with since from the samples above, they're minimal in meaning (i.e., statements of agreement, thanks, etc. and not original Tweets). "
   ]
  },
  {
   "cell_type": "code",
   "execution_count": 59,
   "metadata": {},
   "outputs": [],
   "source": [
    "# create subset of data set that does not contain retweets/quoted tweets\n",
    "no_retweets = df[df[\"is_retweet\"] == False]"
   ]
  },
  {
   "cell_type": "code",
   "execution_count": 60,
   "metadata": {},
   "outputs": [],
   "source": [
    "# drop is_retweet column\n",
    "no_retweets.drop(columns=[\"is_retweet\"], axis=1, inplace=True)"
   ]
  },
  {
   "cell_type": "code",
   "execution_count": 61,
   "metadata": {},
   "outputs": [
    {
     "name": "stdout",
     "output_type": "stream",
     "text": [
      "<class 'pandas.core.frame.DataFrame'>\n",
      "Int64Index: 211104 entries, 0 to 264541\n",
      "Data columns (total 8 columns):\n",
      "id_str            211104 non-null int64\n",
      "screen_name       211104 non-null object\n",
      "created_at        211104 non-null datetime64[ns]\n",
      "lang              211104 non-null category\n",
      "source            211104 non-null category\n",
      "retweet_count     211104 non-null int64\n",
      "favorite_count    211104 non-null int64\n",
      "full_text         211104 non-null object\n",
      "dtypes: category(2), datetime64[ns](1), int64(3), object(2)\n",
      "memory usage: 11.9+ MB\n"
     ]
    }
   ],
   "source": [
    "no_retweets.info()"
   ]
  },
  {
   "cell_type": "code",
   "execution_count": 63,
   "metadata": {},
   "outputs": [
    {
     "data": {
      "text/plain": [
       "id_str            0\n",
       "screen_name       0\n",
       "created_at        0\n",
       "lang              0\n",
       "source            0\n",
       "retweet_count     0\n",
       "favorite_count    0\n",
       "full_text         0\n",
       "dtype: int64"
      ]
     },
     "execution_count": 63,
     "metadata": {},
     "output_type": "execute_result"
    }
   ],
   "source": [
    "no_retweets.isna().sum()"
   ]
  },
  {
   "cell_type": "code",
   "execution_count": 65,
   "metadata": {},
   "outputs": [],
   "source": [
    "# reset index\n",
    "no_retweets.reset_index(drop=True, inplace=True)"
   ]
  },
  {
   "cell_type": "code",
   "execution_count": 66,
   "metadata": {},
   "outputs": [
    {
     "name": "stdout",
     "output_type": "stream",
     "text": [
      "<class 'pandas.core.frame.DataFrame'>\n",
      "RangeIndex: 211104 entries, 0 to 211103\n",
      "Data columns (total 8 columns):\n",
      "id_str            211104 non-null int64\n",
      "screen_name       211104 non-null object\n",
      "created_at        211104 non-null datetime64[ns]\n",
      "lang              211104 non-null category\n",
      "source            211104 non-null category\n",
      "retweet_count     211104 non-null int64\n",
      "favorite_count    211104 non-null int64\n",
      "full_text         211104 non-null object\n",
      "dtypes: category(2), datetime64[ns](1), int64(3), object(2)\n",
      "memory usage: 10.3+ MB\n"
     ]
    }
   ],
   "source": [
    "no_retweets.info()"
   ]
  },
  {
   "cell_type": "code",
   "execution_count": 67,
   "metadata": {},
   "outputs": [],
   "source": [
    "no_retweets.to_json(\"no_retweets.json\", orient=\"split\")"
   ]
  },
  {
   "cell_type": "code",
   "execution_count": null,
   "metadata": {},
   "outputs": [],
   "source": []
  }
 ],
 "metadata": {
  "kernelspec": {
   "display_name": "Python 3",
   "language": "python",
   "name": "python3"
  },
  "language_info": {
   "codemirror_mode": {
    "name": "ipython",
    "version": 3
   },
   "file_extension": ".py",
   "mimetype": "text/x-python",
   "name": "python",
   "nbconvert_exporter": "python",
   "pygments_lexer": "ipython3",
   "version": "3.7.4"
  }
 },
 "nbformat": 4,
 "nbformat_minor": 4
}
