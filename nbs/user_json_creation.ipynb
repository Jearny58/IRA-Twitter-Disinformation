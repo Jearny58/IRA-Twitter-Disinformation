{
 "cells": [
  {
   "cell_type": "code",
   "execution_count": 1,
   "metadata": {},
   "outputs": [],
   "source": [
    "import pandas as pd\n",
    "pd.set_option(\"display.max_columns\", None)\n",
    "\n",
    "# load in data\n",
    "df = pd.read_json(\"all_tweets.json\", orient=\"split\")"
   ]
  },
  {
   "cell_type": "code",
   "execution_count": 2,
   "metadata": {},
   "outputs": [
    {
     "name": "stdout",
     "output_type": "stream",
     "text": [
      "<class 'pandas.core.frame.DataFrame'>\n",
      "Int64Index: 264542 entries, 0 to 264541\n",
      "Data columns (total 9 columns):\n",
      "id_str            264542 non-null int64\n",
      "screen_name       264542 non-null object\n",
      "created_at        264542 non-null datetime64[ns]\n",
      "lang              264542 non-null object\n",
      "source            264542 non-null object\n",
      "retweet_count     264542 non-null int64\n",
      "favorite_count    264542 non-null int64\n",
      "is_retweet        264542 non-null bool\n",
      "full_text         264542 non-null object\n",
      "dtypes: bool(1), datetime64[ns](1), int64(3), object(4)\n",
      "memory usage: 18.4+ MB\n"
     ]
    }
   ],
   "source": [
    "df.info()"
   ]
  },
  {
   "cell_type": "code",
   "execution_count": 3,
   "metadata": {},
   "outputs": [
    {
     "data": {
      "text/plain": [
       "86"
      ]
     },
     "execution_count": 3,
     "metadata": {},
     "output_type": "execute_result"
    }
   ],
   "source": [
    "# create a sorted list of unique screen names\n",
    "screen_names = sorted(list(df[\"screen_name\"].unique()))\n",
    "len(screen_names)"
   ]
  },
  {
   "cell_type": "code",
   "execution_count": 4,
   "metadata": {},
   "outputs": [],
   "source": [
    "from data_gather import load_env\n",
    "import tweepy"
   ]
  },
  {
   "cell_type": "code",
   "execution_count": 5,
   "metadata": {},
   "outputs": [],
   "source": [
    "# gather keys and tokens to access Twitter API\n",
    "key, secret_key, token, token_secret = load_env()"
   ]
  },
  {
   "cell_type": "code",
   "execution_count": 7,
   "metadata": {},
   "outputs": [
    {
     "name": "stdout",
     "output_type": "stream",
     "text": [
      "Credentials verified\n"
     ]
    }
   ],
   "source": [
    "# Tweepy authorization\n",
    "auth = tweepy.OAuthHandler(key, secret_key)\n",
    "    \n",
    "# set Tweepy access token's\n",
    "auth.set_access_token(token, token_secret)\n",
    "    \n",
    "# call Twitter API\n",
    "api = tweepy.API(auth_handler=auth, wait_on_rate_limit=True, wait_on_rate_limit_notify=True)\n",
    "try:\n",
    "    api.verify_credentials()\n",
    "    print(\"Credentials verified\")\n",
    "except:\n",
    "    print(\"Credentials unverified, check to see keys/tokens being used are correct.\")"
   ]
  },
  {
   "cell_type": "code",
   "execution_count": 9,
   "metadata": {},
   "outputs": [
    {
     "data": {
      "text/plain": [
       "dict_keys(['id', 'id_str', 'name', 'screen_name', 'location', 'profile_location', 'description', 'url', 'entities', 'protected', 'followers_count', 'friends_count', 'listed_count', 'created_at', 'favourites_count', 'utc_offset', 'time_zone', 'geo_enabled', 'verified', 'statuses_count', 'lang', 'status', 'contributors_enabled', 'is_translator', 'is_translation_enabled', 'profile_background_color', 'profile_background_image_url', 'profile_background_image_url_https', 'profile_background_tile', 'profile_image_url', 'profile_image_url_https', 'profile_banner_url', 'profile_link_color', 'profile_sidebar_border_color', 'profile_sidebar_fill_color', 'profile_text_color', 'profile_use_background_image', 'has_extended_profile', 'default_profile', 'default_profile_image', 'can_media_tag', 'followed_by', 'following', 'follow_request_sent', 'notifications', 'translator_type'])"
      ]
     },
     "execution_count": 9,
     "metadata": {},
     "output_type": "execute_result"
    }
   ],
   "source": [
    "# get list of keys for the information in each User-object\n",
    "api.get_user(\"earny_joe\")._json.keys()"
   ]
  },
  {
   "cell_type": "code",
   "execution_count": 10,
   "metadata": {},
   "outputs": [],
   "source": [
    "# keys we're interested in\n",
    "user_keys = [\n",
    "    \"name\",\n",
    "    \"id_str\",\n",
    "    \"location\",\n",
    "    \"created_at\",\n",
    "    \"statuses_count\",\n",
    "    \"followers_count\",\n",
    "    \"friends_count\",\n",
    "    \"description\"\n",
    "]"
   ]
  },
  {
   "cell_type": "code",
   "execution_count": 11,
   "metadata": {},
   "outputs": [
    {
     "name": "stderr",
     "output_type": "stream",
     "text": [
      "100%|██████████| 86/86 [00:16<00:00,  5.35it/s]"
     ]
    },
    {
     "name": "stdout",
     "output_type": "stream",
     "text": [
      "CPU times: user 1.35 s, sys: 107 ms, total: 1.45 s\n",
      "Wall time: 16.1 s\n"
     ]
    },
    {
     "name": "stderr",
     "output_type": "stream",
     "text": [
      "\n"
     ]
    }
   ],
   "source": [
    "%%time \n",
    "from tqdm import tqdm\n",
    "\n",
    "# loop through each user, and append JSON-object to list for each one\n",
    "user_list = []\n",
    "for name in tqdm(screen_names):\n",
    "    user_list.append(api.get_user(name)._json)"
   ]
  },
  {
   "cell_type": "code",
   "execution_count": 13,
   "metadata": {},
   "outputs": [],
   "source": [
    "# create dataframe from list generated above\n",
    "users = pd.DataFrame(user_list)[user_keys]"
   ]
  },
  {
   "cell_type": "code",
   "execution_count": 14,
   "metadata": {},
   "outputs": [
    {
     "data": {
      "text/html": [
       "<div>\n",
       "<style scoped>\n",
       "    .dataframe tbody tr th:only-of-type {\n",
       "        vertical-align: middle;\n",
       "    }\n",
       "\n",
       "    .dataframe tbody tr th {\n",
       "        vertical-align: top;\n",
       "    }\n",
       "\n",
       "    .dataframe thead th {\n",
       "        text-align: right;\n",
       "    }\n",
       "</style>\n",
       "<table border=\"1\" class=\"dataframe\">\n",
       "  <thead>\n",
       "    <tr style=\"text-align: right;\">\n",
       "      <th></th>\n",
       "      <th>name</th>\n",
       "      <th>id_str</th>\n",
       "      <th>location</th>\n",
       "      <th>created_at</th>\n",
       "      <th>statuses_count</th>\n",
       "      <th>followers_count</th>\n",
       "      <th>friends_count</th>\n",
       "      <th>description</th>\n",
       "    </tr>\n",
       "  </thead>\n",
       "  <tbody>\n",
       "    <tr>\n",
       "      <td>0</td>\n",
       "      <td>50cent</td>\n",
       "      <td>18222378</td>\n",
       "      <td>NYC</td>\n",
       "      <td>Thu Dec 18 19:18:49 +0000 2008</td>\n",
       "      <td>14941</td>\n",
       "      <td>11164421</td>\n",
       "      <td>5</td>\n",
       "      <td>It's the kid 50 Cent | G-Unit -- Official 'Get...</td>\n",
       "    </tr>\n",
       "    <tr>\n",
       "      <td>1</td>\n",
       "      <td>ABC News</td>\n",
       "      <td>28785486</td>\n",
       "      <td>New York City / Worldwide</td>\n",
       "      <td>Sat Apr 04 12:40:32 +0000 2009</td>\n",
       "      <td>280596</td>\n",
       "      <td>14745606</td>\n",
       "      <td>532</td>\n",
       "      <td>All the news and information you need to see, ...</td>\n",
       "    </tr>\n",
       "    <tr>\n",
       "      <td>2</td>\n",
       "      <td>Alexandria Ocasio-Cortez</td>\n",
       "      <td>138203134</td>\n",
       "      <td>Bronx + Queens, NYC</td>\n",
       "      <td>Wed Apr 28 22:38:40 +0000 2010</td>\n",
       "      <td>9532</td>\n",
       "      <td>6027471</td>\n",
       "      <td>1879</td>\n",
       "      <td>US Representative,NY-14 (BX &amp; Queens). In a mo...</td>\n",
       "    </tr>\n",
       "    <tr>\n",
       "      <td>3</td>\n",
       "      <td>The Associated Press</td>\n",
       "      <td>51241574</td>\n",
       "      <td>Global</td>\n",
       "      <td>Fri Jun 26 21:48:52 +0000 2009</td>\n",
       "      <td>256798</td>\n",
       "      <td>13639172</td>\n",
       "      <td>7088</td>\n",
       "      <td>News from The Associated Press, and a taste of...</td>\n",
       "    </tr>\n",
       "    <tr>\n",
       "      <td>4</td>\n",
       "      <td>Neil Patrick Harris</td>\n",
       "      <td>90420314</td>\n",
       "      <td>Manhattanland</td>\n",
       "      <td>Mon Nov 16 15:54:48 +0000 2009</td>\n",
       "      <td>3060</td>\n",
       "      <td>26857298</td>\n",
       "      <td>144</td>\n",
       "      <td>Husband, father, random sayer of stuff.</td>\n",
       "    </tr>\n",
       "  </tbody>\n",
       "</table>\n",
       "</div>"
      ],
      "text/plain": [
       "                       name     id_str                   location  \\\n",
       "0                    50cent   18222378                        NYC   \n",
       "1                  ABC News   28785486  New York City / Worldwide   \n",
       "2  Alexandria Ocasio-Cortez  138203134        Bronx + Queens, NYC   \n",
       "3      The Associated Press   51241574                     Global   \n",
       "4       Neil Patrick Harris   90420314              Manhattanland   \n",
       "\n",
       "                       created_at  statuses_count  followers_count  \\\n",
       "0  Thu Dec 18 19:18:49 +0000 2008           14941         11164421   \n",
       "1  Sat Apr 04 12:40:32 +0000 2009          280596         14745606   \n",
       "2  Wed Apr 28 22:38:40 +0000 2010            9532          6027471   \n",
       "3  Fri Jun 26 21:48:52 +0000 2009          256798         13639172   \n",
       "4  Mon Nov 16 15:54:48 +0000 2009            3060         26857298   \n",
       "\n",
       "   friends_count                                        description  \n",
       "0              5  It's the kid 50 Cent | G-Unit -- Official 'Get...  \n",
       "1            532  All the news and information you need to see, ...  \n",
       "2           1879  US Representative,NY-14 (BX & Queens). In a mo...  \n",
       "3           7088  News from The Associated Press, and a taste of...  \n",
       "4            144            Husband, father, random sayer of stuff.  "
      ]
     },
     "execution_count": 14,
     "metadata": {},
     "output_type": "execute_result"
    }
   ],
   "source": [
    "# check out first five rows\n",
    "users.head()"
   ]
  },
  {
   "cell_type": "code",
   "execution_count": 15,
   "metadata": {},
   "outputs": [
    {
     "data": {
      "text/html": [
       "<div>\n",
       "<style scoped>\n",
       "    .dataframe tbody tr th:only-of-type {\n",
       "        vertical-align: middle;\n",
       "    }\n",
       "\n",
       "    .dataframe tbody tr th {\n",
       "        vertical-align: top;\n",
       "    }\n",
       "\n",
       "    .dataframe thead th {\n",
       "        text-align: right;\n",
       "    }\n",
       "</style>\n",
       "<table border=\"1\" class=\"dataframe\">\n",
       "  <thead>\n",
       "    <tr style=\"text-align: right;\">\n",
       "      <th></th>\n",
       "      <th>name</th>\n",
       "      <th>id_str</th>\n",
       "      <th>location</th>\n",
       "      <th>created_at</th>\n",
       "      <th>statuses_count</th>\n",
       "      <th>followers_count</th>\n",
       "      <th>friends_count</th>\n",
       "      <th>description</th>\n",
       "    </tr>\n",
       "  </thead>\n",
       "  <tbody>\n",
       "  </tbody>\n",
       "</table>\n",
       "</div>"
      ],
      "text/plain": [
       "Empty DataFrame\n",
       "Columns: [name, id_str, location, created_at, statuses_count, followers_count, friends_count, description]\n",
       "Index: []"
      ]
     },
     "execution_count": 15,
     "metadata": {},
     "output_type": "execute_result"
    }
   ],
   "source": [
    "# see if there are any duplicated entries\n",
    "users[users.duplicated(subset=\"name\", keep=\"first\")]"
   ]
  },
  {
   "cell_type": "code",
   "execution_count": 17,
   "metadata": {},
   "outputs": [
    {
     "data": {
      "text/plain": [
       "True"
      ]
     },
     "execution_count": 17,
     "metadata": {},
     "output_type": "execute_result"
    }
   ],
   "source": [
    "# ensure that the number of unique names is equal to 86\n",
    "len(users[\"name\"].unique()) == 86"
   ]
  },
  {
   "cell_type": "code",
   "execution_count": 22,
   "metadata": {},
   "outputs": [
    {
     "name": "stdout",
     "output_type": "stream",
     "text": [
      "<class 'pandas.core.frame.DataFrame'>\n",
      "RangeIndex: 86 entries, 0 to 85\n",
      "Data columns (total 8 columns):\n",
      "name               86 non-null object\n",
      "id_str             86 non-null object\n",
      "location           86 non-null object\n",
      "created_at         86 non-null object\n",
      "statuses_count     86 non-null int64\n",
      "followers_count    86 non-null int64\n",
      "friends_count      86 non-null int64\n",
      "description        86 non-null object\n",
      "dtypes: int64(3), object(5)\n",
      "memory usage: 5.5+ KB\n"
     ]
    }
   ],
   "source": [
    "users.info()"
   ]
  },
  {
   "cell_type": "code",
   "execution_count": 23,
   "metadata": {},
   "outputs": [],
   "source": [
    "# set the index to the id_str for each user\n",
    "users.set_index(\"id_str\", inplace=True)"
   ]
  },
  {
   "cell_type": "code",
   "execution_count": 25,
   "metadata": {},
   "outputs": [],
   "source": [
    "users.to_json(\"user_info.json\", orient=\"split\")"
   ]
  },
  {
   "cell_type": "code",
   "execution_count": 27,
   "metadata": {},
   "outputs": [
    {
     "name": "stdout",
     "output_type": "stream",
     "text": [
      "<class 'pandas.core.frame.DataFrame'>\n",
      "Int64Index: 86 entries, 18222378 to 20322929\n",
      "Data columns (total 7 columns):\n",
      "name               86 non-null object\n",
      "location           86 non-null object\n",
      "created_at         86 non-null datetime64[ns, UTC]\n",
      "statuses_count     86 non-null int64\n",
      "followers_count    86 non-null int64\n",
      "friends_count      86 non-null int64\n",
      "description        86 non-null object\n",
      "dtypes: datetime64[ns, UTC](1), int64(3), object(3)\n",
      "memory usage: 5.4+ KB\n"
     ]
    }
   ],
   "source": [
    "pd.read_json(\"user_info.json\", orient=\"split\").info()"
   ]
  },
  {
   "cell_type": "code",
   "execution_count": null,
   "metadata": {},
   "outputs": [],
   "source": []
  }
 ],
 "metadata": {
  "kernelspec": {
   "display_name": "Python 3",
   "language": "python",
   "name": "python3"
  },
  "language_info": {
   "codemirror_mode": {
    "name": "ipython",
    "version": 3
   },
   "file_extension": ".py",
   "mimetype": "text/x-python",
   "name": "python",
   "nbconvert_exporter": "python",
   "pygments_lexer": "ipython3",
   "version": "3.7.4"
  }
 },
 "nbformat": 4,
 "nbformat_minor": 4
}
