{
 "cells": [
  {
   "cell_type": "markdown",
   "metadata": {},
   "source": [
    "# _Gathering Verified Users Tweets_"
   ]
  },
  {
   "cell_type": "code",
   "execution_count": 11,
   "metadata": {},
   "outputs": [],
   "source": [
    "import os\n",
    "import csv\n",
    "import pandas as pd\n",
    "import tweepy\n",
    "import time\n",
    "from tqdm import trange\n",
    "%reload_ext autoreload\n",
    "%autoreload 2\n",
    "%matplotlib inline"
   ]
  },
  {
   "cell_type": "code",
   "execution_count": 12,
   "metadata": {},
   "outputs": [
    {
     "name": "stderr",
     "output_type": "stream",
     "text": [
      "\n",
      "  0%|          | 0/10 [00:00<?, ?it/s]\u001b[A\n",
      " 10%|█         | 1/10 [00:02<00:18,  2.01s/it]\u001b[A\n",
      " 20%|██        | 2/10 [00:04<00:16,  2.01s/it]\u001b[A\n",
      " 30%|███       | 3/10 [00:06<00:14,  2.01s/it]\u001b[A\n",
      " 40%|████      | 4/10 [00:08<00:12,  2.01s/it]\u001b[A\n",
      " 50%|█████     | 5/10 [00:10<00:10,  2.01s/it]\u001b[A\n",
      " 60%|██████    | 6/10 [00:12<00:08,  2.00s/it]\u001b[A\n",
      " 70%|███████   | 7/10 [00:14<00:06,  2.00s/it]\u001b[A\n",
      " 80%|████████  | 8/10 [00:16<00:04,  2.00s/it]\u001b[A\n",
      " 90%|█████████ | 9/10 [00:18<00:02,  2.01s/it]\u001b[A\n",
      "100%|██████████| 10/10 [00:20<00:00,  2.01s/it]\u001b[A\n"
     ]
    }
   ],
   "source": [
    "for i in trange(10):\n",
    "    time.sleep(2)"
   ]
  },
  {
   "cell_type": "code",
   "execution_count": 14,
   "metadata": {},
   "outputs": [
    {
     "name": "stderr",
     "output_type": "stream",
     "text": [
      "\n",
      "  0%|          | 0/4 [00:00<?, ?it/s]\u001b[A\n",
      "Processing a:   0%|          | 0/4 [00:00<?, ?it/s]\u001b[A\n",
      "Processing a:  25%|██▌       | 1/4 [00:00<00:00,  3.89it/s]\u001b[A\n",
      "Processing b:  25%|██▌       | 1/4 [00:00<00:00,  3.89it/s]\u001b[A\n",
      "Processing b:  50%|█████     | 2/4 [00:00<00:00,  3.90it/s]\u001b[A\n",
      "Processing c:  50%|█████     | 2/4 [00:00<00:00,  3.90it/s]\u001b[A\n",
      "Processing c:  75%|███████▌  | 3/4 [00:00<00:00,  3.91it/s]\u001b[A\n",
      "Processing d:  75%|███████▌  | 3/4 [00:01<00:00,  3.91it/s]\u001b[A\n",
      "Processing d: 100%|██████████| 4/4 [00:01<00:00,  3.89it/s]\u001b[A\n"
     ]
    }
   ],
   "source": [
    "pbar = tqdm([\"a\", \"b\", \"c\", \"d\"])\n",
    "for char in pbar:\n",
    "    time.sleep(0.25)\n",
    "    pbar.set_description(\"Processing %s\" % char)"
   ]
  },
  {
   "cell_type": "code",
   "execution_count": 16,
   "metadata": {},
   "outputs": [
    {
     "name": "stderr",
     "output_type": "stream",
     "text": [
      "\n",
      "  0%|          | 0/100 [00:00<?, ?it/s]\u001b[A\n",
      " 10%|█         | 10/100 [00:01<00:09, 10.00it/s]\u001b[A\n",
      " 20%|██        | 20/100 [00:02<00:08,  9.98it/s]\u001b[A\n",
      " 30%|███       | 30/100 [00:03<00:07,  9.97it/s]\u001b[A\n",
      " 40%|████      | 40/100 [00:04<00:06,  9.96it/s]\u001b[A\n",
      " 50%|█████     | 50/100 [00:05<00:05,  9.97it/s]\u001b[A\n",
      " 60%|██████    | 60/100 [00:06<00:04,  9.97it/s]\u001b[A\n",
      " 70%|███████   | 70/100 [00:07<00:03,  9.96it/s]\u001b[A\n",
      " 80%|████████  | 80/100 [00:08<00:02,  9.97it/s]\u001b[A\n",
      " 90%|█████████ | 90/100 [00:09<00:01,  9.96it/s]\u001b[A\n",
      "100%|██████████| 100/100 [00:10<00:00,  9.96it/s]\u001b[A\n"
     ]
    }
   ],
   "source": [
    "with tqdm(total=100) as pbar:\n",
    "    for i in range(10):\n",
    "        time.sleep(1)\n",
    "        pbar.update(10)"
   ]
  },
  {
   "cell_type": "code",
   "execution_count": 3,
   "metadata": {},
   "outputs": [],
   "source": [
    "from pathlib import Path\n",
    "\n",
    "# establish path variable so CSV files are stored in correct location\n",
    "path = Path(os.getcwd())"
   ]
  },
  {
   "cell_type": "code",
   "execution_count": 4,
   "metadata": {},
   "outputs": [],
   "source": [
    "def load_env():\n",
    "    '''\n",
    "    Load in Twitter API keys & tokens via os environment variables.\n",
    "    '''\n",
    "    API_KEY = os.environ.get(\"API_KEY\")\n",
    "    API_SECRET_KEY = os.environ.get(\"API_SECRET_KEY\")\n",
    "    ACCESS_TOKEN = os.environ.get(\"ACCESS_TOKEN\")\n",
    "    ACCESS_TOKEN_SECRET = os.environ.get(\"ACCESS_TOKEN_SECRET\")\n",
    "    return API_KEY, API_SECRET_KEY, ACCESS_TOKEN, ACCESS_TOKEN_SECRET\n",
    "\n",
    "# load in environment variables to access Twitter API\n",
    "API_KEY, API_SECRET_KEY, ACCESS_TOKEN, ACCESS_TOKEN_SECRET = load_env()"
   ]
  },
  {
   "cell_type": "code",
   "execution_count": 5,
   "metadata": {},
   "outputs": [],
   "source": [
    "# functions to gather Tweets\n",
    "def is_retweet(tweet):\n",
    "    '''\n",
    "    Returns True/False if Tweet is a retweet.\n",
    "    '''\n",
    "    if \"RT @\" in tweet.full_text:\n",
    "        return True\n",
    "    else:\n",
    "        return False\n",
    "    \n",
    "def get_tweets(path, user):\n",
    "    '''\n",
    "    Function that gathers input user's Tweets and outputs them to a CSV file.\n",
    "    '''\n",
    "    # open new CSV file into data folder of current directory\n",
    "    csv_file = open(path/f\"data/{user}.csv\", \"a\")\n",
    "    # create CSV writer\n",
    "    csv_writer = csv.writer(csv_file)\n",
    "    \n",
    "    # write a single row with the headers of the columns\n",
    "    csv_writer.writerow(\n",
    "        [\n",
    "            \"id_str\",\n",
    "            \"screen_name\",\n",
    "            \"created_at\",\n",
    "            \"lang\",\n",
    "            \"source\",\n",
    "            \"retweet_count\",\n",
    "            \"favorite_count\",\n",
    "            \"is_retweet\",\n",
    "            \"full_text\"\n",
    "        ]\n",
    "    )\n",
    "    \n",
    "    # Tweepy authorization\n",
    "    auth = tweepy.OAuthHandler(API_KEY, API_SECRET_KEY)\n",
    "    \n",
    "    # set Tweepy access token's\n",
    "    auth.set_access_token(ACCESS_TOKEN, ACCESS_TOKEN_SECRET)\n",
    "    \n",
    "    # call Twitter API\n",
    "    api = tweepy.API(auth_handler=auth, wait_on_rate_limit=True, wait_on_rate_limit_notify=True)\n",
    "    \n",
    "    # get Tweets\n",
    "    while True:\n",
    "        try:\n",
    "            for tweet in tweepy.Cursor(api.user_timeline, screen_name=user, tweet_mode=\"extended\").items():\n",
    "                csv_writer.writerow(\n",
    "                    [\n",
    "                        tweet.id_str,\n",
    "                        tweet.user.screen_name,\n",
    "                        tweet.created_at,\n",
    "                        tweet.lang,\n",
    "                        tweet.source,\n",
    "                        tweet.retweet_count,\n",
    "                        tweet.favorite_count,\n",
    "                        is_retweet(tweet),\n",
    "                        tweet.full_text\n",
    "                    ]\n",
    "                )\n",
    "        except tweepy.TweepError as e:\n",
    "            print(e)\n",
    "            time.sleep(60*15)\n",
    "            continue\n",
    "            \n",
    "    # close csv file\n",
    "    csv_file.close()"
   ]
  },
  {
   "cell_type": "code",
   "execution_count": null,
   "metadata": {},
   "outputs": [],
   "source": []
  },
  {
   "cell_type": "code",
   "execution_count": 6,
   "metadata": {},
   "outputs": [],
   "source": [
    "def get_user(API_KEY, API_SECRET_KEY, ACCESS_TOKEN, ACCESS_TOKEN_SECRET):\n",
    "    '''\n",
    "    Gathers input for Twitter username, ensures that it is a valid account, and returns username as string.\n",
    "    '''\n",
    "    # Tweepy authorization\n",
    "    auth = tweepy.OAuthHandler(API_KEY, API_SECRET_KEY)\n",
    "    \n",
    "    # set Tweepy access token's\n",
    "    auth.set_access_token(ACCESS_TOKEN, ACCESS_TOKEN_SECRET)\n",
    "    \n",
    "    # call Twitter API\n",
    "    api = tweepy.API(auth_handler=auth, wait_on_rate_limit=True, wait_on_rate_limit_notify=True)\n",
    "    \n",
    "    # ask for input\n",
    "    while True:\n",
    "        user_input = str(input(\"Please enter username of Verified Twitter User: \"))\n",
    "        try:\n",
    "            if api.get_user(user_input):\n",
    "                return user_input\n",
    "        except:\n",
    "            print(\"Please enter valid username.\")"
   ]
  },
  {
   "cell_type": "code",
   "execution_count": 7,
   "metadata": {},
   "outputs": [
    {
     "ename": "TypeError",
     "evalue": "get_user() missing 4 required positional arguments: 'API_KEY', 'API_SECRET_KEY', 'ACCESS_TOKEN', and 'ACCESS_TOKEN_SECRET'",
     "output_type": "error",
     "traceback": [
      "\u001b[0;31m---------------------------------------------------------------------------\u001b[0m",
      "\u001b[0;31mTypeError\u001b[0m                                 Traceback (most recent call last)",
      "\u001b[0;32m<ipython-input-7-451339a35814>\u001b[0m in \u001b[0;36m<module>\u001b[0;34m\u001b[0m\n\u001b[0;32m----> 1\u001b[0;31m \u001b[0mget_user\u001b[0m\u001b[0;34m(\u001b[0m\u001b[0;34m)\u001b[0m\u001b[0;34m\u001b[0m\u001b[0;34m\u001b[0m\u001b[0m\n\u001b[0m",
      "\u001b[0;31mTypeError\u001b[0m: get_user() missing 4 required positional arguments: 'API_KEY', 'API_SECRET_KEY', 'ACCESS_TOKEN', and 'ACCESS_TOKEN_SECRET'"
     ]
    }
   ],
   "source": [
    "get_user()"
   ]
  },
  {
   "cell_type": "code",
   "execution_count": null,
   "metadata": {},
   "outputs": [],
   "source": []
  },
  {
   "cell_type": "markdown",
   "metadata": {},
   "source": [
    "## _Katy Perry: [@katyperry](https://twitter.com/katyperry?ref_src=twsrc%5Egoogle%7Ctwcamp%5Eserp%7Ctwgr%5Eauthor)_"
   ]
  },
  {
   "cell_type": "code",
   "execution_count": 7,
   "metadata": {},
   "outputs": [
    {
     "name": "stdout",
     "output_type": "stream",
     "text": [
      "CPU times: user 2.99 s, sys: 251 ms, total: 3.24 s\n",
      "Wall time: 41.7 s\n"
     ]
    }
   ],
   "source": [
    "%%time\n",
    "\n",
    "get_tweets(path=path, user=\"katyperry\")"
   ]
  },
  {
   "cell_type": "code",
   "execution_count": 9,
   "metadata": {},
   "outputs": [
    {
     "data": {
      "text/plain": [
       "3192"
      ]
     },
     "execution_count": 9,
     "metadata": {},
     "output_type": "execute_result"
    }
   ],
   "source": [
    "len(pd.read_csv(path/\"data/katyperry.csv\"))"
   ]
  },
  {
   "cell_type": "markdown",
   "metadata": {},
   "source": [
    "## _Snoop Dogg: [@SnoopDogg](https://twitter.com/SnoopDogg)_"
   ]
  },
  {
   "cell_type": "code",
   "execution_count": 10,
   "metadata": {},
   "outputs": [
    {
     "name": "stdout",
     "output_type": "stream",
     "text": [
      "CPU times: user 3.3 s, sys: 394 ms, total: 3.7 s\n",
      "Wall time: 47.1 s\n"
     ]
    }
   ],
   "source": [
    "%%time \n",
    "\n",
    "get_tweets(path=path, user=\"SnoopDogg\")"
   ]
  },
  {
   "cell_type": "code",
   "execution_count": 11,
   "metadata": {},
   "outputs": [
    {
     "data": {
      "text/plain": [
       "3213"
      ]
     },
     "execution_count": 11,
     "metadata": {},
     "output_type": "execute_result"
    }
   ],
   "source": [
    "len(pd.read_csv(path/\"data/SnoopDogg.csv\"))"
   ]
  },
  {
   "cell_type": "markdown",
   "metadata": {},
   "source": [
    "## _Bill Gates: @BillGates_"
   ]
  },
  {
   "cell_type": "code",
   "execution_count": 12,
   "metadata": {},
   "outputs": [
    {
     "name": "stdout",
     "output_type": "stream",
     "text": [
      "CPU times: user 3.1 s, sys: 228 ms, total: 3.33 s\n",
      "Wall time: 43 s\n"
     ]
    }
   ],
   "source": [
    "%%time \n",
    "\n",
    "get_tweets(path=path, user=\"BillGates\")"
   ]
  },
  {
   "cell_type": "code",
   "execution_count": 13,
   "metadata": {},
   "outputs": [
    {
     "data": {
      "text/plain": [
       "3235"
      ]
     },
     "execution_count": 13,
     "metadata": {},
     "output_type": "execute_result"
    }
   ],
   "source": [
    "len(pd.read_csv(path/\"data/BillGates.csv\"))"
   ]
  }
 ],
 "metadata": {
  "kernelspec": {
   "display_name": "Python 3",
   "language": "python",
   "name": "python3"
  },
  "language_info": {
   "codemirror_mode": {
    "name": "ipython",
    "version": 3
   },
   "file_extension": ".py",
   "mimetype": "text/x-python",
   "name": "python",
   "nbconvert_exporter": "python",
   "pygments_lexer": "ipython3",
   "version": "3.7.4"
  }
 },
 "nbformat": 4,
 "nbformat_minor": 4
}
