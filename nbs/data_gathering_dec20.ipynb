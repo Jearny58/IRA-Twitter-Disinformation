{
 "cells": [
  {
   "cell_type": "markdown",
   "metadata": {},
   "source": [
    "# _Gathering Verified Users Tweets_"
   ]
  },
  {
   "cell_type": "code",
   "execution_count": 1,
   "metadata": {},
   "outputs": [],
   "source": [
    "import os\n",
    "import csv\n",
    "import pandas as pd\n",
    "import tweepy\n",
    "%reload_ext autoreload\n",
    "%autoreload 2\n",
    "%matplotlib inline"
   ]
  },
  {
   "cell_type": "code",
   "execution_count": 3,
   "metadata": {},
   "outputs": [],
   "source": [
    "from pathlib import Path\n",
    "\n",
    "# establish path variable so CSV files are stored in correct location\n",
    "path = Path(os.getcwd())"
   ]
  },
  {
   "cell_type": "code",
   "execution_count": 4,
   "metadata": {},
   "outputs": [],
   "source": [
    "def load_env():\n",
    "    '''\n",
    "    Load in Twitter API keys & tokens via os environment variables.\n",
    "    '''\n",
    "    API_KEY = os.environ.get(\"API_KEY\")\n",
    "    API_SECRET_KEY = os.environ.get(\"API_SECRET_KEY\")\n",
    "    ACCESS_TOKEN = os.environ.get(\"ACCESS_TOKEN\")\n",
    "    ACCESS_TOKEN_SECRET = os.environ.get(\"ACCESS_TOKEN_SECRET\")\n",
    "    return API_KEY, API_SECRET_KEY, ACCESS_TOKEN, ACCESS_TOKEN_SECRET\n",
    "\n",
    "# load in environment variables to access Twitter API\n",
    "API_KEY, API_SECRET_KEY, ACCESS_TOKEN, ACCESS_TOKEN_SECRET = load_env()"
   ]
  },
  {
   "cell_type": "code",
   "execution_count": 5,
   "metadata": {},
   "outputs": [],
   "source": [
    "# functions to gather Tweets\n",
    "def is_retweet(tweet):\n",
    "    '''\n",
    "    Returns True/False if Tweet is a retweet.\n",
    "    '''\n",
    "    if \"RT @\" in tweet.full_text:\n",
    "        return True\n",
    "    else:\n",
    "        return False\n",
    "    \n",
    "def get_tweets(path, user):\n",
    "    '''\n",
    "    Function that gathers input user's Tweets and outputs them to a CSV file.\n",
    "    '''\n",
    "    # open new CSV file into data folder of current directory\n",
    "    csv_file = open(path/f\"data/{user}.csv\", \"a\")\n",
    "    # create CSV writer\n",
    "    csv_writer = csv.writer(csv_file)\n",
    "    \n",
    "    # write a single row with the headers of the columns\n",
    "    csv_writer.writerow(\n",
    "        [\n",
    "            \"id_str\",\n",
    "            \"screen_name\",\n",
    "            \"created_at\",\n",
    "            \"lang\",\n",
    "            \"source\",\n",
    "            \"retweet_count\",\n",
    "            \"favorite_count\",\n",
    "            \"is_retweet\",\n",
    "            \"full_text\"\n",
    "        ]\n",
    "    )\n",
    "    \n",
    "    # Tweepy authorization\n",
    "    auth = tweepy.OAuthHandler(API_KEY, API_SECRET_KEY)\n",
    "    \n",
    "    # set Tweepy access token's\n",
    "    auth.set_access_token(ACCESS_TOKEN, ACCESS_TOKEN_SECRET)\n",
    "    \n",
    "    # call Twitter API\n",
    "    api = tweepy.API(auth_handler=auth, wait_on_rate_limit=True, wait_on_rate_limit_notify=True)\n",
    "    \n",
    "    # get Tweets\n",
    "    for tweet in tweepy.Cursor(api.user_timeline, screen_name=user, tweet_mode=\"extended\").items():\n",
    "        csv_writer.writerow(\n",
    "            [\n",
    "                tweet.id_str,\n",
    "                tweet.user.screen_name,\n",
    "                tweet.created_at,\n",
    "                tweet.lang,\n",
    "                tweet.source,\n",
    "                tweet.retweet_count,\n",
    "                tweet.favorite_count,\n",
    "                is_retweet(tweet),\n",
    "                tweet.full_text\n",
    "            ]\n",
    "        )\n",
    "        \n",
    "    # close csv file\n",
    "    csv_file.close()"
   ]
  },
  {
   "cell_type": "code",
   "execution_count": null,
   "metadata": {},
   "outputs": [],
   "source": []
  },
  {
   "cell_type": "code",
   "execution_count": 20,
   "metadata": {},
   "outputs": [],
   "source": [
    "def get_user(API_KEY, API_SECRET_KEY, ACCESS_TOKEN, ACCESS_TOKEN_SECRET):\n",
    "    '''\n",
    "    Gathers input for Twitter username, ensures that it is a valid account, and returns username as string.\n",
    "    '''\n",
    "    # Tweepy authorization\n",
    "    auth = tweepy.OAuthHandler(API_KEY, API_SECRET_KEY)\n",
    "    \n",
    "    # set Tweepy access token's\n",
    "    auth.set_access_token(ACCESS_TOKEN, ACCESS_TOKEN_SECRET)\n",
    "    \n",
    "    # call Twitter API\n",
    "    api = tweepy.API(auth_handler=auth, wait_on_rate_limit=True, wait_on_rate_limit_notify=True)\n",
    "    \n",
    "    # ask for input\n",
    "    while True:\n",
    "        user_input = str(input(\"Please enter username of Verified Twitter User: \"))\n",
    "        try:\n",
    "            if api.get_user(user_input):\n",
    "                return user_input\n",
    "        except:\n",
    "            print(\"Please enter valid username.\")"
   ]
  },
  {
   "cell_type": "code",
   "execution_count": 19,
   "metadata": {},
   "outputs": [
    {
     "name": "stdin",
     "output_type": "stream",
     "text": [
      "Please enter username of Verified Twitter User:  1\n"
     ]
    },
    {
     "name": "stdout",
     "output_type": "stream",
     "text": [
      "Please enter valid username.\n"
     ]
    },
    {
     "name": "stdin",
     "output_type": "stream",
     "text": [
      "Please enter username of Verified Twitter User:  earny_joe\n"
     ]
    },
    {
     "data": {
      "text/plain": [
       "'earny_joe'"
      ]
     },
     "execution_count": 19,
     "metadata": {},
     "output_type": "execute_result"
    }
   ],
   "source": [
    "get_user()"
   ]
  },
  {
   "cell_type": "code",
   "execution_count": null,
   "metadata": {},
   "outputs": [],
   "source": []
  },
  {
   "cell_type": "markdown",
   "metadata": {},
   "source": [
    "## _Katy Perry: [@katyperry](https://twitter.com/katyperry?ref_src=twsrc%5Egoogle%7Ctwcamp%5Eserp%7Ctwgr%5Eauthor)_"
   ]
  },
  {
   "cell_type": "code",
   "execution_count": 7,
   "metadata": {},
   "outputs": [
    {
     "name": "stdout",
     "output_type": "stream",
     "text": [
      "CPU times: user 2.99 s, sys: 251 ms, total: 3.24 s\n",
      "Wall time: 41.7 s\n"
     ]
    }
   ],
   "source": [
    "%%time\n",
    "\n",
    "get_tweets(path=path, user=\"katyperry\")"
   ]
  },
  {
   "cell_type": "code",
   "execution_count": 9,
   "metadata": {},
   "outputs": [
    {
     "data": {
      "text/plain": [
       "3192"
      ]
     },
     "execution_count": 9,
     "metadata": {},
     "output_type": "execute_result"
    }
   ],
   "source": [
    "len(pd.read_csv(path/\"data/katyperry.csv\"))"
   ]
  },
  {
   "cell_type": "markdown",
   "metadata": {},
   "source": [
    "## _Snoop Dogg: [@SnoopDogg](https://twitter.com/SnoopDogg)_"
   ]
  },
  {
   "cell_type": "code",
   "execution_count": 10,
   "metadata": {},
   "outputs": [
    {
     "name": "stdout",
     "output_type": "stream",
     "text": [
      "CPU times: user 3.3 s, sys: 394 ms, total: 3.7 s\n",
      "Wall time: 47.1 s\n"
     ]
    }
   ],
   "source": [
    "%%time \n",
    "\n",
    "get_tweets(path=path, user=\"SnoopDogg\")"
   ]
  },
  {
   "cell_type": "code",
   "execution_count": 11,
   "metadata": {},
   "outputs": [
    {
     "data": {
      "text/plain": [
       "3213"
      ]
     },
     "execution_count": 11,
     "metadata": {},
     "output_type": "execute_result"
    }
   ],
   "source": [
    "len(pd.read_csv(path/\"data/SnoopDogg.csv\"))"
   ]
  },
  {
   "cell_type": "markdown",
   "metadata": {},
   "source": [
    "## _Bill Gates: @BillGates_"
   ]
  },
  {
   "cell_type": "code",
   "execution_count": 12,
   "metadata": {},
   "outputs": [
    {
     "name": "stdout",
     "output_type": "stream",
     "text": [
      "CPU times: user 3.1 s, sys: 228 ms, total: 3.33 s\n",
      "Wall time: 43 s\n"
     ]
    }
   ],
   "source": [
    "%%time \n",
    "\n",
    "get_tweets(path=path, user=\"BillGates\")"
   ]
  },
  {
   "cell_type": "code",
   "execution_count": 13,
   "metadata": {},
   "outputs": [
    {
     "data": {
      "text/plain": [
       "3235"
      ]
     },
     "execution_count": 13,
     "metadata": {},
     "output_type": "execute_result"
    }
   ],
   "source": [
    "len(pd.read_csv(path/\"data/BillGates.csv\"))"
   ]
  }
 ],
 "metadata": {
  "kernelspec": {
   "display_name": "Python 3",
   "language": "python",
   "name": "python3"
  },
  "language_info": {
   "codemirror_mode": {
    "name": "ipython",
    "version": 3
   },
   "file_extension": ".py",
   "mimetype": "text/x-python",
   "name": "python",
   "nbconvert_exporter": "python",
   "pygments_lexer": "ipython3",
   "version": "3.7.4"
  }
 },
 "nbformat": 4,
 "nbformat_minor": 4
}
