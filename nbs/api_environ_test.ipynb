{
 "cells": [
  {
   "cell_type": "code",
   "execution_count": 2,
   "metadata": {},
   "outputs": [],
   "source": [
    "import os"
   ]
  },
  {
   "cell_type": "code",
   "execution_count": 4,
   "metadata": {},
   "outputs": [],
   "source": [
    "API_KEY = os.environ.get(\"API_KEY\")\n",
    "API_SECRET_KEY = os.environ.get(\"API_SECRET_KEY\")\n",
    "ACCESS_TOKEN = os.environ.get(\"ACCESS_TOKEN\")\n",
    "ACCESS_TOKEN_SECRET = os.environ.get(\"ACCESS_TOKEN_SECRET\")"
   ]
  },
  {
   "cell_type": "code",
   "execution_count": 3,
   "metadata": {},
   "outputs": [],
   "source": [
    "def load_env():\n",
    "    '''\n",
    "    Load in Twitter API keys & tokens via os environment variables.\n",
    "    '''\n",
    "    API_KEY = os.environ.get(\"API_KEY\")\n",
    "    API_SECRET_KEY = os.environ.get(\"API_SECRET_KEY\")\n",
    "    ACCESS_TOKEN = os.environ.get(\"ACCESS_TOKEN\")\n",
    "    ACCESS_TOKEN_SECRET = os.environ.get(\"ACCESS_TOKEN_SECRET\")\n",
    "    return API_KEY, API_SECRET_KEY, ACCESS_TOKEN, ACCESS_TOKEN_SECRET"
   ]
  },
  {
   "cell_type": "code",
   "execution_count": 4,
   "metadata": {},
   "outputs": [],
   "source": [
    "API_KEY, API_SECRET_KEY, ACCESS_TOKEN, ACCESS_TOKEN_SECRET = load_env()"
   ]
  },
  {
   "cell_type": "code",
   "execution_count": 5,
   "metadata": {},
   "outputs": [],
   "source": [
    "import os\n",
    "import csv\n",
    "import pandas as pd\n",
    "import tweepy\n",
    "%reload_ext autoreload\n",
    "%autoreload 2\n",
    "%matplotlib inline"
   ]
  },
  {
   "cell_type": "code",
   "execution_count": 6,
   "metadata": {},
   "outputs": [
    {
     "data": {
      "text/plain": [
       "'/Users/jai/Documents/Private-projects/Russian-Disinformation/data'"
      ]
     },
     "execution_count": 6,
     "metadata": {},
     "output_type": "execute_result"
    }
   ],
   "source": [
    "os.getcwd() + '/data'"
   ]
  },
  {
   "cell_type": "code",
   "execution_count": 7,
   "metadata": {},
   "outputs": [
    {
     "name": "stdout",
     "output_type": "stream",
     "text": [
      "/data/earny_joe\n"
     ]
    }
   ],
   "source": [
    "user = \"earny_joe\"\n",
    "\n",
    "print(f\"/data/{user}\")"
   ]
  },
  {
   "cell_type": "code",
   "execution_count": 54,
   "metadata": {},
   "outputs": [],
   "source": [
    "def is_retweet(tweet):\n",
    "    '''\n",
    "    Returns True/False if Tweet is a retweet.\n",
    "    '''\n",
    "    if \"RT @\" in tweet.full_text:\n",
    "        return True\n",
    "    else:\n",
    "        return False"
   ]
  },
  {
   "cell_type": "code",
   "execution_count": 55,
   "metadata": {},
   "outputs": [
    {
     "name": "stdout",
     "output_type": "stream",
     "text": [
      "/Users/jai/Documents/Private-projects/Russian-Disinformation\n"
     ]
    }
   ],
   "source": [
    "from pathlib import Path\n",
    "\n",
    "path = Path(os.getcwd())\n",
    "print(path)"
   ]
  },
  {
   "cell_type": "code",
   "execution_count": 56,
   "metadata": {},
   "outputs": [
    {
     "data": {
      "text/plain": [
       "PosixPath('/Users/jai/Documents/Private-projects/Russian-Disinformation/data/earny_joe.csv')"
      ]
     },
     "execution_count": 56,
     "metadata": {},
     "output_type": "execute_result"
    }
   ],
   "source": [
    "path/f\"data/{user}.csv\""
   ]
  },
  {
   "cell_type": "code",
   "execution_count": 57,
   "metadata": {},
   "outputs": [],
   "source": [
    "def get_tweets(path, user):\n",
    "    '''\n",
    "    Function that gathers input user's Tweets and outputs them to a CSV file.\n",
    "    '''\n",
    "    # open new CSV file into data folder of current directory\n",
    "    csv_file = open(path/f\"data/{user}.csv\", \"a\")\n",
    "    # create CSV writer\n",
    "    csv_writer = csv.writer(csv_file)\n",
    "    \n",
    "    # write a single row with the headers of the columns\n",
    "    csv_writer.writerow(\n",
    "        [\n",
    "            \"id_str\",\n",
    "            \"screen_name\",\n",
    "            \"created_at\",\n",
    "            \"lang\",\n",
    "            \"source\",\n",
    "            \"retweet_count\",\n",
    "            \"favorite_count\",\n",
    "            \"is_retweet\",\n",
    "            \"full_text\"\n",
    "        ]\n",
    "    )\n",
    "    \n",
    "    # Tweepy authorization\n",
    "    auth = tweepy.OAuthHandler(API_KEY, API_SECRET_KEY)\n",
    "    \n",
    "    # set Tweepy access token's\n",
    "    auth.set_access_token(ACCESS_TOKEN, ACCESS_TOKEN_SECRET)\n",
    "    \n",
    "    # call Twitter API\n",
    "    api = tweepy.API(auth_handler=auth, wait_on_rate_limit=True, wait_on_rate_limit_notify=True)\n",
    "    \n",
    "    # get Tweets\n",
    "    for tweet in tweepy.Cursor(api.user_timeline, screen_name=user, tweet_mode=\"extended\").items():\n",
    "        csv_writer.writerow(\n",
    "            [\n",
    "                tweet.id_str,\n",
    "                tweet.user.screen_name,\n",
    "                tweet.created_at,\n",
    "                tweet.lang,\n",
    "                tweet.source,\n",
    "                tweet.retweet_count,\n",
    "                tweet.favorite_count,\n",
    "                is_retweet(tweet),\n",
    "                tweet.full_text\n",
    "            ]\n",
    "        )\n",
    "        \n",
    "    # close csv file\n",
    "    csv_file.close()"
   ]
  },
  {
   "cell_type": "code",
   "execution_count": 58,
   "metadata": {},
   "outputs": [
    {
     "name": "stdout",
     "output_type": "stream",
     "text": [
      "CPU times: user 1.01 s, sys: 76.8 ms, total: 1.08 s\n",
      "Wall time: 14.7 s\n"
     ]
    }
   ],
   "source": [
    "%%time\n",
    "\n",
    "get_tweets(path, \"earny_joe\")"
   ]
  },
  {
   "cell_type": "code",
   "execution_count": 59,
   "metadata": {},
   "outputs": [],
   "source": [
    "df = pd.read_csv(path/'data/earny_joe.csv')"
   ]
  },
  {
   "cell_type": "code",
   "execution_count": 60,
   "metadata": {},
   "outputs": [
    {
     "data": {
      "text/html": [
       "<div>\n",
       "<style scoped>\n",
       "    .dataframe tbody tr th:only-of-type {\n",
       "        vertical-align: middle;\n",
       "    }\n",
       "\n",
       "    .dataframe tbody tr th {\n",
       "        vertical-align: top;\n",
       "    }\n",
       "\n",
       "    .dataframe thead th {\n",
       "        text-align: right;\n",
       "    }\n",
       "</style>\n",
       "<table border=\"1\" class=\"dataframe\">\n",
       "  <thead>\n",
       "    <tr style=\"text-align: right;\">\n",
       "      <th></th>\n",
       "      <th>id_str</th>\n",
       "      <th>screen_name</th>\n",
       "      <th>created_at</th>\n",
       "      <th>lang</th>\n",
       "      <th>source</th>\n",
       "      <th>retweet_count</th>\n",
       "      <th>favorite_count</th>\n",
       "      <th>is_retweet</th>\n",
       "      <th>full_text</th>\n",
       "    </tr>\n",
       "  </thead>\n",
       "  <tbody>\n",
       "    <tr>\n",
       "      <td>0</td>\n",
       "      <td>1208134986513010690</td>\n",
       "      <td>earny_joe</td>\n",
       "      <td>2019-12-20 21:20:01</td>\n",
       "      <td>en</td>\n",
       "      <td>Twitter for iPhone</td>\n",
       "      <td>351</td>\n",
       "      <td>0</td>\n",
       "      <td>True</td>\n",
       "      <td>RT @lexfridman: I often hear people say that X...</td>\n",
       "    </tr>\n",
       "    <tr>\n",
       "      <td>1</td>\n",
       "      <td>1208129576951398400</td>\n",
       "      <td>earny_joe</td>\n",
       "      <td>2019-12-20 20:58:31</td>\n",
       "      <td>en</td>\n",
       "      <td>Twitter Web App</td>\n",
       "      <td>0</td>\n",
       "      <td>1</td>\n",
       "      <td>False</td>\n",
       "      <td>Been wondering how to more securely store API ...</td>\n",
       "    </tr>\n",
       "    <tr>\n",
       "      <td>2</td>\n",
       "      <td>1208080971595075584</td>\n",
       "      <td>earny_joe</td>\n",
       "      <td>2019-12-20 17:45:23</td>\n",
       "      <td>en</td>\n",
       "      <td>Twitter Web App</td>\n",
       "      <td>15</td>\n",
       "      <td>0</td>\n",
       "      <td>True</td>\n",
       "      <td>RT @david_perell: The Internet rewards people ...</td>\n",
       "    </tr>\n",
       "    <tr>\n",
       "      <td>3</td>\n",
       "      <td>1208080911083851776</td>\n",
       "      <td>earny_joe</td>\n",
       "      <td>2019-12-20 17:45:08</td>\n",
       "      <td>en</td>\n",
       "      <td>Twitter Web App</td>\n",
       "      <td>114</td>\n",
       "      <td>0</td>\n",
       "      <td>True</td>\n",
       "      <td>RT @RyanHoliday: \"Be satisfied with even the s...</td>\n",
       "    </tr>\n",
       "    <tr>\n",
       "      <td>4</td>\n",
       "      <td>1208043688141692928</td>\n",
       "      <td>earny_joe</td>\n",
       "      <td>2019-12-20 15:17:14</td>\n",
       "      <td>en</td>\n",
       "      <td>Twitter for iPhone</td>\n",
       "      <td>3</td>\n",
       "      <td>0</td>\n",
       "      <td>True</td>\n",
       "      <td>RT @radekosmulski: ✅What is loneliness?\\n✅What...</td>\n",
       "    </tr>\n",
       "  </tbody>\n",
       "</table>\n",
       "</div>"
      ],
      "text/plain": [
       "                id_str screen_name           created_at lang  \\\n",
       "0  1208134986513010690   earny_joe  2019-12-20 21:20:01   en   \n",
       "1  1208129576951398400   earny_joe  2019-12-20 20:58:31   en   \n",
       "2  1208080971595075584   earny_joe  2019-12-20 17:45:23   en   \n",
       "3  1208080911083851776   earny_joe  2019-12-20 17:45:08   en   \n",
       "4  1208043688141692928   earny_joe  2019-12-20 15:17:14   en   \n",
       "\n",
       "               source  retweet_count  favorite_count  is_retweet  \\\n",
       "0  Twitter for iPhone            351               0        True   \n",
       "1     Twitter Web App              0               1       False   \n",
       "2     Twitter Web App             15               0        True   \n",
       "3     Twitter Web App            114               0        True   \n",
       "4  Twitter for iPhone              3               0        True   \n",
       "\n",
       "                                           full_text  \n",
       "0  RT @lexfridman: I often hear people say that X...  \n",
       "1  Been wondering how to more securely store API ...  \n",
       "2  RT @david_perell: The Internet rewards people ...  \n",
       "3  RT @RyanHoliday: \"Be satisfied with even the s...  \n",
       "4  RT @radekosmulski: ✅What is loneliness?\\n✅What...  "
      ]
     },
     "execution_count": 60,
     "metadata": {},
     "output_type": "execute_result"
    }
   ],
   "source": [
    "df.head()"
   ]
  },
  {
   "cell_type": "code",
   "execution_count": null,
   "metadata": {},
   "outputs": [],
   "source": []
  },
  {
   "cell_type": "code",
   "execution_count": null,
   "metadata": {},
   "outputs": [],
   "source": []
  },
  {
   "cell_type": "code",
   "execution_count": null,
   "metadata": {},
   "outputs": [],
   "source": []
  },
  {
   "cell_type": "code",
   "execution_count": null,
   "metadata": {},
   "outputs": [],
   "source": []
  },
  {
   "cell_type": "code",
   "execution_count": null,
   "metadata": {},
   "outputs": [],
   "source": []
  },
  {
   "cell_type": "code",
   "execution_count": null,
   "metadata": {},
   "outputs": [],
   "source": []
  },
  {
   "cell_type": "code",
   "execution_count": null,
   "metadata": {},
   "outputs": [],
   "source": []
  },
  {
   "cell_type": "code",
   "execution_count": null,
   "metadata": {},
   "outputs": [],
   "source": []
  },
  {
   "cell_type": "code",
   "execution_count": 37,
   "metadata": {},
   "outputs": [
    {
     "name": "stderr",
     "output_type": "stream",
     "text": [
      "5it [00:00, 19.17it/s]"
     ]
    },
    {
     "name": "stdout",
     "output_type": "stream",
     "text": [
      "1208134986513010690 earny_joe 2019-12-20 21:20:01 en Twitter for iPhone 346 0 False False RT @lexfridman: I often hear people say that X is broken. Congress is broken. Academia is broken. Physics is broken. Deep learning is broke… \n",
      "\n",
      "1208129576951398400 earny_joe 2019-12-20 20:58:31 en Twitter Web App 0 1 True False Been wondering how to more securely store API keys/tokens, this article shows you how to do just that within @anacondainc  environments. \n",
      "\n",
      "Link: https://t.co/g8oePwX1bp \n",
      "\n",
      "1208080971595075584 earny_joe 2019-12-20 17:45:23 en Twitter Web App 15 0 False False RT @david_perell: The Internet rewards people who are prolific. \n",
      "\n",
      "Note-taking is the best way to become a prolific writer. \n",
      "\n",
      "1208080911083851776 earny_joe 2019-12-20 17:45:08 en Twitter Web App 114 0 False False RT @RyanHoliday: \"Be satisfied with even the smallest progress, and treat the outcome of it all as unimportant.\" Marcus Aurelius \n",
      "\n",
      "1208043688141692928 earny_joe 2019-12-20 15:17:14 en Twitter for iPhone 3 0 False False RT @radekosmulski: ✅What is loneliness?\n",
      "✅What does making decisions based in science look like?\n",
      "✅How do we identify and solve systemic prob… \n",
      "\n"
     ]
    },
    {
     "name": "stderr",
     "output_type": "stream",
     "text": [
      "\n"
     ]
    }
   ],
   "source": [
    "tweet_list = []\n",
    "for tweet in tqdm(tweepy.Cursor(api.user_timeline, screen_name=\"earny_joe\", tweet_mode=\"extended\").items(5)):\n",
    "    print(\n",
    "        tweet.id_str,\n",
    "        tweet.user.screen_name,\n",
    "        tweet.created_at,\n",
    "        tweet.lang,\n",
    "        tweet.source,\n",
    "        tweet.retweet_count,\n",
    "        tweet.favorite_count,\n",
    "        retweeted_status(tweet),\n",
    "        tweet.user.verified,\n",
    "        tweet.full_text,\n",
    "        \"\\n\"\n",
    "    )"
   ]
  },
  {
   "cell_type": "code",
   "execution_count": 15,
   "metadata": {},
   "outputs": [],
   "source": [
    "def tweepy_setup():\n",
    "    '''\n",
    "    Set's up Twitter API\n",
    "    '''\n",
    "    # Tweepy authorization\n",
    "    auth = tweepy.OAuthHandler(API_KEY, API_SECRET_KEY)\n",
    "    \n",
    "    # set Tweepy access token's\n",
    "    auth.set_access_token(ACCESS_TOKEN, ACCESS_TOKEN_SECRET)\n",
    "    \n",
    "    # call Twitter API\n",
    "    api = tweepy.API(auth_handler=auth, wait_on_rate_limit=True, wait_on_rate_limit_notify=True)\n",
    "    try:\n",
    "        api.verify_credentials()\n",
    "    except:\n",
    "        print(\"Unverified credentials.\")\n",
    "    \n",
    "    # return api\n",
    "    return api"
   ]
  },
  {
   "cell_type": "code",
   "execution_count": 16,
   "metadata": {},
   "outputs": [],
   "source": [
    "api = tweepy_setup()"
   ]
  },
  {
   "cell_type": "code",
   "execution_count": 17,
   "metadata": {},
   "outputs": [],
   "source": [
    "tweet_list = []\n",
    "for tweet in tweepy.Cursor(api.user_timeline, screen_name=\"earny_joe\", tweet_mode=\"extended\").items(5):\n",
    "    tweet_list.append(tweet._json)"
   ]
  },
  {
   "cell_type": "code",
   "execution_count": 20,
   "metadata": {},
   "outputs": [],
   "source": [
    "# gather information regarding first tweet\n",
    "first_tweet = tweet_list[0]"
   ]
  },
  {
   "cell_type": "code",
   "execution_count": 21,
   "metadata": {},
   "outputs": [
    {
     "data": {
      "text/plain": [
       "['created_at',\n",
       " 'id',\n",
       " 'id_str',\n",
       " 'full_text',\n",
       " 'truncated',\n",
       " 'display_text_range',\n",
       " 'entities',\n",
       " 'source',\n",
       " 'in_reply_to_status_id',\n",
       " 'in_reply_to_status_id_str',\n",
       " 'in_reply_to_user_id',\n",
       " 'in_reply_to_user_id_str',\n",
       " 'in_reply_to_screen_name',\n",
       " 'user',\n",
       " 'geo',\n",
       " 'coordinates',\n",
       " 'place',\n",
       " 'contributors',\n",
       " 'retweeted_status',\n",
       " 'is_quote_status',\n",
       " 'retweet_count',\n",
       " 'favorite_count',\n",
       " 'favorited',\n",
       " 'retweeted',\n",
       " 'lang']"
      ]
     },
     "execution_count": 21,
     "metadata": {},
     "output_type": "execute_result"
    }
   ],
   "source": [
    "[key for key in first_tweet.keys()]"
   ]
  },
  {
   "cell_type": "code",
   "execution_count": 23,
   "metadata": {},
   "outputs": [
    {
     "name": "stdout",
     "output_type": "stream",
     "text": [
      "Been wondering how to more securely store API keys/tokens, this article shows you how to do just that within @anacondainc  environments. \n",
      "\n",
      "Link: https://t.co/g8oePwX1bp\n"
     ]
    }
   ],
   "source": [
    "for tweet in tweet_list:\n",
    "    if not \"RT @\" in tweet[\"full_text\"]:\n",
    "        try:\n",
    "            print(tweet[\"full_text\"])\n",
    "        except:\n",
    "            print(\"Exception.\")"
   ]
  },
  {
   "cell_type": "code",
   "execution_count": 33,
   "metadata": {},
   "outputs": [],
   "source": [
    "def retweeted_status(status):\n",
    "    '''\n",
    "    Returns True/False if Tweet is a retweet.\n",
    "    '''\n",
    "    if not \"RT @\" in status.full_text:\n",
    "        return True\n",
    "    else:\n",
    "        return False"
   ]
  },
  {
   "cell_type": "code",
   "execution_count": null,
   "metadata": {},
   "outputs": [],
   "source": []
  }
 ],
 "metadata": {
  "kernelspec": {
   "display_name": "Python 3",
   "language": "python",
   "name": "python3"
  },
  "language_info": {
   "codemirror_mode": {
    "name": "ipython",
    "version": 3
   },
   "file_extension": ".py",
   "mimetype": "text/x-python",
   "name": "python",
   "nbconvert_exporter": "python",
   "pygments_lexer": "ipython3",
   "version": "3.7.4"
  }
 },
 "nbformat": 4,
 "nbformat_minor": 4
}
