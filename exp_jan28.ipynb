{
 "cells": [
  {
   "cell_type": "markdown",
   "metadata": {},
   "source": [
    "# _Experimentation: Jan. 28, 2019_\n",
    "\n",
    "Notebook prepped for work tomorrow."
   ]
  },
  {
   "cell_type": "code",
   "execution_count": 1,
   "metadata": {},
   "outputs": [],
   "source": [
    "%reload_ext autoreload\n",
    "%autoreload 2\n",
    "%matplotlib inline\n",
    "%config InlineBackend.figure_format = 'retina'"
   ]
  },
  {
   "cell_type": "code",
   "execution_count": 2,
   "metadata": {},
   "outputs": [],
   "source": [
    "# import libraries\n",
    "import pandas as pd\n",
    "pd.options.display.max_columns = None\n",
    "from pathlib import Path\n",
    "import numpy as np\n",
    "import random\n",
    "import os\n",
    "\n",
    "# Matplotlib\n",
    "import matplotlib as mpl\n",
    "import matplotlib.pyplot as plt\n",
    "import seaborn as sns\n",
    "plt.style.use('fivethirtyeight')"
   ]
  },
  {
   "cell_type": "markdown",
   "metadata": {},
   "source": [
    "## _Retrieve data from 20 Verified Twitter Users_"
   ]
  },
  {
   "cell_type": "code",
   "execution_count": 4,
   "metadata": {},
   "outputs": [
    {
     "name": "stdout",
     "output_type": "stream",
     "text": [
      "/Users/jai/Documents/Private-projects/Russian-Disinformation\n"
     ]
    }
   ],
   "source": [
    "# see what directory we're in\n",
    "!pwd"
   ]
  },
  {
   "cell_type": "code",
   "execution_count": 3,
   "metadata": {},
   "outputs": [
    {
     "name": "stdout",
     "output_type": "stream",
     "text": [
      "\u001b[34m__pycache__\u001b[m\u001b[m     exp_jan28.ipynb \u001b[34mml-nbs\u001b[m\u001b[m          \u001b[34mspacy-nbs\u001b[m\u001b[m       \u001b[34mtwint-data\u001b[m\u001b[m\n",
      "\u001b[34manalysis-nbs\u001b[m\u001b[m    \u001b[34mfastai-nbs\u001b[m\u001b[m      \u001b[34mnbs\u001b[m\u001b[m             test123.ipynb   \u001b[34mvisual-nbs\u001b[m\u001b[m\n",
      "\u001b[34mcsv-data\u001b[m\u001b[m        \u001b[34mjson-data\u001b[m\u001b[m       \u001b[34mscripts\u001b[m\u001b[m         \u001b[34mtr-data\u001b[m\u001b[m         \u001b[34mwrangling-nbs\u001b[m\u001b[m\n"
     ]
    }
   ],
   "source": [
    "# see what is in the directory\n",
    "!ls"
   ]
  },
  {
   "cell_type": "code",
   "execution_count": 22,
   "metadata": {},
   "outputs": [
    {
     "name": "stdout",
     "output_type": "stream",
     "text": [
      "12\n"
     ]
    }
   ],
   "source": [
    "# users of interest\n",
    "users = [\n",
    "    \"realDonaldTrump\",\n",
    "    \"AOC\",\n",
    "    \"SpeakerPelosi\",\n",
    "    \"VP\",\n",
    "    \"SpeakerRyan\",\n",
    "    \"MittRomney\",\n",
    "    \"MichelleObama\",\n",
    "    \"HillaryClinton\",\n",
    "    \"FBI\",\n",
    "    \"CIA\",\n",
    "    \"NASA\",\n",
    "    \"nytimes\",\n",
    "]\n",
    "\n",
    "print(len(users))"
   ]
  },
  {
   "cell_type": "code",
   "execution_count": 15,
   "metadata": {},
   "outputs": [],
   "source": [
    "#!pip install --upgrade twint\n",
    "import twint"
   ]
  },
  {
   "cell_type": "code",
   "execution_count": 20,
   "metadata": {},
   "outputs": [
    {
     "data": {
      "application/vnd.jupyter.widget-view+json": {
       "model_id": "ca6bf163a897423a871eba6e645e8f24",
       "version_major": 2,
       "version_minor": 0
      },
      "text/plain": [
       "HBox(children=(FloatProgress(value=0.0, max=2.0), HTML(value='')))"
      ]
     },
     "metadata": {},
     "output_type": "display_data"
    },
    {
     "name": "stdout",
     "output_type": "stream",
     "text": [
      "Data for earny_joe gathered! Sleeping for 5 seconds...\n",
      "Data for jai_research gathered! Sleeping for 3 seconds...\n",
      "\n"
     ]
    }
   ],
   "source": [
    "# test run with my own data\n",
    "from tqdm.notebook import tqdm\n",
    "import time, random\n",
    "\n",
    "for user in tqdm([\"earny_joe\", \"jai_research\"]):\n",
    "    # initiate counter\n",
    "    cnt = 0\n",
    "    # use terminal command to gather data via Twint \n",
    "    !twint -u {user} -ho --hide-output -fr --filter-retweets -o twint-data/{user}.json --json \n",
    "    # increase counter by 1\n",
    "    cnt += 1\n",
    "    if cnt == 20:\n",
    "        print(\"All done!\")\n",
    "    else:\n",
    "        # set time to sleep before gathering next user\n",
    "        sleeptime = random.randint(1, 5)\n",
    "        # once done print statement indicating so\n",
    "        print(f\"Data for {user} gathered! Sleeping for {sleeptime} seconds...\")\n",
    "        time.sleep(sleeptime)"
   ]
  },
  {
   "cell_type": "code",
   "execution_count": 24,
   "metadata": {},
   "outputs": [],
   "source": [
    "# run this when you want to get data for a list of users\n",
    "\"\"\"\n",
    "# run with users of interest\n",
    "for user in tqdm(users):\n",
    "    # initiate counter\n",
    "    cnt = 0\n",
    "    # use terminal command to gather data via Twint \n",
    "    !twint -u {user} -ho --hide-output -fr --filter-retweets -o twint-data/{user}.json --json \n",
    "    # increase counter by 1\n",
    "    cnt += 1\n",
    "    if cnt == 20:\n",
    "        print(\"All done!\")\n",
    "    else:\n",
    "        # set time to sleep before gathering next user\n",
    "        sleeptime = random.randint(30, 60)\n",
    "        # once done print statement indicating so\n",
    "        print(f\"Data for {user} gathered! Taking a rest for about {sleeptime} seconds :)\")\n",
    "        time.sleep(sleeptime)\n",
    "\"\"\";"
   ]
  },
  {
   "cell_type": "code",
   "execution_count": 30,
   "metadata": {},
   "outputs": [
    {
     "name": "stdout",
     "output_type": "stream",
     "text": [
      "realDonaldTrump --> 41113\n",
      "AOC --> 6716\n",
      "SpeakerPelosi --> 7450\n",
      "VP --> 5650\n",
      "SpeakerRyan --> 9469\n",
      "MittRomney --> 432\n",
      "MichelleObama --> 302\n",
      "HillaryClinton --> 8841\n",
      "FBI --> 11124\n",
      "CIA --> 4270\n",
      "NASA --> 46778\n",
      "nytimes --> 334928\n"
     ]
    }
   ],
   "source": [
    "for user in users:\n",
    "    print(user, \"-->\", len(pd.read_json(f\"twint-data/{user}.json\", lines=True)))"
   ]
  },
  {
   "cell_type": "code",
   "execution_count": 32,
   "metadata": {},
   "outputs": [
    {
     "name": "stdout",
     "output_type": "stream",
     "text": [
      "8\n"
     ]
    }
   ],
   "source": [
    "sports = [\n",
    "    \"KingJames\",\n",
    "    \"MagicJohnson\",\n",
    "    \"DwyaneWade\",\n",
    "    \"JHarden13\",\n",
    "    \"nyknicks\",\n",
    "    \"dallascowboys\",\n",
    "    \"Edelman11\",\n",
    "    \"Kaepernick7\"\n",
    "]\n",
    "\n",
    "print(len(sports))"
   ]
  },
  {
   "cell_type": "code",
   "execution_count": 35,
   "metadata": {},
   "outputs": [
    {
     "data": {
      "application/vnd.jupyter.widget-view+json": {
       "model_id": "a04392fb104c4376b5e5a30e05c6d737",
       "version_major": 2,
       "version_minor": 0
      },
      "text/plain": [
       "HBox(children=(FloatProgress(value=0.0, max=8.0), HTML(value='')))"
      ]
     },
     "metadata": {},
     "output_type": "display_data"
    },
    {
     "name": "stdout",
     "output_type": "stream",
     "text": [
      "CRITICAL:root:twint.run:Twint:Feed:noDataExpecting value: line 1 column 1 (char 0)\n",
      "Data for KingJames gathered! Taking a rest for about 33 seconds :)\n",
      "CRITICAL:root:twint.run:Twint:Feed:noDataExpecting value: line 1 column 1 (char 0)\n",
      "CRITICAL:root:twint.run:Twint:Feed:noDataExpecting value: line 1 column 1 (char 0)\n",
      "CRITICAL:root:twint.run:Twint:Feed:noDataExpecting value: line 1 column 1 (char 0)\n",
      "CRITICAL:root:twint.run:Twint:Feed:noDataExpecting value: line 1 column 1 (char 0)\n",
      "CRITICAL:root:twint.run:Twint:Feed:noDataExpecting value: line 1 column 1 (char 0)\n",
      "CRITICAL:root:twint.run:Twint:Feed:noDataExpecting value: line 1 column 1 (char 0)\n",
      "CRITICAL:root:twint.run:Twint:Feed:noDataExpecting value: line 1 column 1 (char 0)\n",
      "CRITICAL:root:twint.run:Twint:Feed:noDataExpecting value: line 1 column 1 (char 0)\n",
      "CRITICAL:root:twint.run:Twint:Feed:noDataExpecting value: line 1 column 1 (char 0)\n",
      "CRITICAL:root:twint.run:Twint:Feed:noDataExpecting value: line 1 column 1 (char 0)\n",
      "CRITICAL:root:twint.run:Twint:Feed:noDataExpecting value: line 1 column 1 (char 0)\n",
      "CRITICAL:root:twint.run:Twint:Feed:Tweets_known_error:Expecting value: line 1 column 1 (char 0)\n",
      "Expecting value: line 1 column 1 (char 0) [x] run.Feed\n",
      "[!] if get this error but you know for sure that more tweets exist, please open an issue and we will investigate it!\n",
      "Data for MagicJohnson gathered! Taking a rest for about 30 seconds :)\n",
      "CRITICAL:root:twint.run:Twint:Feed:noDataExpecting value: line 1 column 1 (char 0)\n",
      "CRITICAL:root:twint.run:Twint:Feed:noDataExpecting value: line 1 column 1 (char 0)\n",
      "CRITICAL:root:twint.run:Twint:Feed:noDataExpecting value: line 1 column 1 (char 0)\n",
      "CRITICAL:root:twint.run:Twint:Feed:noDataExpecting value: line 1 column 1 (char 0)\n",
      "CRITICAL:root:twint.run:Twint:Feed:noDataExpecting value: line 1 column 1 (char 0)\n",
      "CRITICAL:root:twint.run:Twint:Feed:noDataExpecting value: line 1 column 1 (char 0)\n",
      "CRITICAL:root:twint.run:Twint:Feed:noDataExpecting value: line 1 column 1 (char 0)\n",
      "CRITICAL:root:twint.run:Twint:Feed:noDataExpecting value: line 1 column 1 (char 0)\n",
      "CRITICAL:root:twint.run:Twint:Feed:noDataExpecting value: line 1 column 1 (char 0)\n",
      "CRITICAL:root:twint.run:Twint:Feed:noDataExpecting value: line 1 column 1 (char 0)\n",
      "CRITICAL:root:twint.run:Twint:Feed:Tweets_known_error:Expecting value: line 1 column 1 (char 0)\n",
      "Expecting value: line 1 column 1 (char 0) [x] run.Feed\n",
      "[!] if get this error but you know for sure that more tweets exist, please open an issue and we will investigate it!\n",
      "Data for DwyaneWade gathered! Taking a rest for about 46 seconds :)\n"
     ]
    },
    {
     "ename": "KeyboardInterrupt",
     "evalue": "",
     "output_type": "error",
     "traceback": [
      "\u001b[0;31m---------------------------------------------------------------------------\u001b[0m",
      "\u001b[0;31mKeyboardInterrupt\u001b[0m                         Traceback (most recent call last)",
      "\u001b[0;32m<ipython-input-35-68381afc340c>\u001b[0m in \u001b[0;36m<module>\u001b[0;34m\u001b[0m\n\u001b[1;32m     14\u001b[0m         \u001b[0;31m# once done print statement indicating so\u001b[0m\u001b[0;34m\u001b[0m\u001b[0;34m\u001b[0m\u001b[0;34m\u001b[0m\u001b[0m\n\u001b[1;32m     15\u001b[0m         \u001b[0mprint\u001b[0m\u001b[0;34m(\u001b[0m\u001b[0;34mf\"Data for {user} gathered! Taking a rest for about {sleeptime} seconds :)\"\u001b[0m\u001b[0;34m)\u001b[0m\u001b[0;34m\u001b[0m\u001b[0;34m\u001b[0m\u001b[0m\n\u001b[0;32m---> 16\u001b[0;31m         \u001b[0mtime\u001b[0m\u001b[0;34m.\u001b[0m\u001b[0msleep\u001b[0m\u001b[0;34m(\u001b[0m\u001b[0msleeptime\u001b[0m\u001b[0;34m)\u001b[0m\u001b[0;34m\u001b[0m\u001b[0;34m\u001b[0m\u001b[0m\n\u001b[0m",
      "\u001b[0;31mKeyboardInterrupt\u001b[0m: "
     ]
    }
   ],
   "source": [
    "# run with users of interest\n",
    "for user in tqdm(sports):\n",
    "    # initiate counter\n",
    "    cnt = 0\n",
    "    # use terminal command to gather data via Twint \n",
    "    !twint -u {user} -ho --hide-output -o twint-data/{user}.json --json \n",
    "    # increase counter by 1\n",
    "    cnt += 1\n",
    "    if cnt == 20:\n",
    "        print(\"All done!\")\n",
    "    else:\n",
    "        # set time to sleep before gathering next user\n",
    "        sleeptime = random.randint(30, 60)\n",
    "        # once done print statement indicating so\n",
    "        print(f\"Data for {user} gathered! Taking a rest for about {sleeptime} seconds :)\")\n",
    "        time.sleep(sleeptime)"
   ]
  },
  {
   "cell_type": "markdown",
   "metadata": {},
   "source": [
    "## _SWITCHED TO TERMINAL_"
   ]
  },
  {
   "cell_type": "code",
   "execution_count": 40,
   "metadata": {},
   "outputs": [
    {
     "data": {
      "text/plain": [
       "5744"
      ]
     },
     "execution_count": 40,
     "metadata": {},
     "output_type": "execute_result"
    }
   ],
   "source": [
    "len(pd.read_json(\"twint-data/KingJames.json\", lines=True))"
   ]
  },
  {
   "cell_type": "code",
   "execution_count": 41,
   "metadata": {},
   "outputs": [],
   "source": [
    "#!pip install --upgrade twint"
   ]
  },
  {
   "cell_type": "code",
   "execution_count": null,
   "metadata": {},
   "outputs": [],
   "source": []
  },
  {
   "cell_type": "code",
   "execution_count": null,
   "metadata": {},
   "outputs": [],
   "source": []
  }
 ],
 "metadata": {
  "kernelspec": {
   "display_name": "Python 3",
   "language": "python",
   "name": "python3"
  },
  "language_info": {
   "codemirror_mode": {
    "name": "ipython",
    "version": 3
   },
   "file_extension": ".py",
   "mimetype": "text/x-python",
   "name": "python",
   "nbconvert_exporter": "python",
   "pygments_lexer": "ipython3",
   "version": "3.7.5"
  }
 },
 "nbformat": 4,
 "nbformat_minor": 4
}
