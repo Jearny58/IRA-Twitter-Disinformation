{
 "cells": [
  {
   "cell_type": "markdown",
   "metadata": {},
   "source": [
    "# _Dec. 27, 2019_"
   ]
  },
  {
   "cell_type": "code",
   "execution_count": 63,
   "metadata": {},
   "outputs": [],
   "source": [
    "import pandas as pd\n",
    "pd.set_option(\"display.max_columns\", None)\n",
    "\n",
    "dtype = {\n",
    "    \"id_str\": str\n",
    "}\n",
    "\n",
    "# load in data\n",
    "df = pd.read_json(\"json-data/no_retweets.json\", dtype=dtype, orient=\"split\")"
   ]
  },
  {
   "cell_type": "code",
   "execution_count": 64,
   "metadata": {},
   "outputs": [],
   "source": [
    "# create a subset of the data to experiment with\n",
    "subset = df.sample(n=1000, random_state=1)"
   ]
  },
  {
   "cell_type": "code",
   "execution_count": 65,
   "metadata": {},
   "outputs": [],
   "source": [
    "# reset index so it is easier to work with\n",
    "subset.reset_index(drop=True, inplace=True)"
   ]
  },
  {
   "cell_type": "markdown",
   "metadata": {},
   "source": [
    "## _Cleaning Text: Subset_"
   ]
  },
  {
   "cell_type": "code",
   "execution_count": 66,
   "metadata": {},
   "outputs": [],
   "source": [
    "import re\n",
    "\n",
    "def text_clean(text):\n",
    "    \"\"\"\n",
    "    Function for cleaning Tweet text.\n",
    "    \"\"\"\n",
    "    # eliminate newline characters\n",
    "    text = text.strip(\"\\n\\n\")\n",
    "    text = text.strip(\"\\n\")\n",
    "    # delete links and any alphanumeric character and the underscore, strips whitespace\n",
    "    text = re.sub(r\"http\\S+|[^\\w\\s]\", \"\", text).strip(\" \")\n",
    "    # replaces any non-alphanumeric character with blank space\n",
    "    text = re.sub(\"\\W\", \" \", text)\n",
    "    # removes any extra whitespace\n",
    "    text = re.sub(\"\\s+\", \" \", text)\n",
    "    return text"
   ]
  },
  {
   "cell_type": "code",
   "execution_count": 67,
   "metadata": {},
   "outputs": [
    {
     "data": {
      "text/plain": [
       "'Gavin Lux just hit career homer 1 Earlier today the Dodgers rookie chatted with AlexaDatt and ScottBraun on TheRundown'"
      ]
     },
     "execution_count": 67,
     "metadata": {},
     "output_type": "execute_result"
    }
   ],
   "source": [
    "text_clean(subset[\"full_text\"][24])"
   ]
  },
  {
   "cell_type": "code",
   "execution_count": 68,
   "metadata": {},
   "outputs": [
    {
     "name": "stdout",
     "output_type": "stream",
     "text": [
      "The National Immigrant Justice Center or NIJC helps asylumseekers win their cases and fights against renewed attempts to separate and jail more families \n",
      "\n",
      "FizanKhan1 Hi Fizan This guide may help If something looks outofline we suggest adding extra layers of security to your Google Account with these tips \n",
      "\n",
      "A 50yd field goal in the University of Phoenix Stadium deflects about onethird inch to the right due to Earths rotation \n",
      "\n",
      "Emma Stone Just Got Engaged To Dave McCary And She Looks So Happy \n",
      "\n",
      "New York or Nowhere vibes \n",
      "\n",
      "Where three womens journey from Cuba to America left them \n",
      "\n",
      "Wow guess Im not a Yankees fan anymore LETS GO METS Man you cant trust \n",
      "\n",
      "SUBSCRIBE to my YOUTUBE channel SMSAUDIO EFFENVODKA \n",
      "\n",
      "I dont get mad I get motivated \n",
      "\n",
      "Incognito at NYCC Grunkle Stan had some fun today A big thanks to the fans javitscenter and ComicCon gravityfalls \n",
      "\n"
     ]
    }
   ],
   "source": [
    "for text in subset[\"full_text\"][:10].apply(lambda x: text_clean(x)):\n",
    "    print(text, \"\\n\")"
   ]
  },
  {
   "cell_type": "code",
   "execution_count": 69,
   "metadata": {},
   "outputs": [
    {
     "name": "stdout",
     "output_type": "stream",
     "text": [
      "CPU times: user 25.2 ms, sys: 1.35 ms, total: 26.6 ms\n",
      "Wall time: 26.1 ms\n"
     ]
    }
   ],
   "source": [
    "%%time\n",
    "\n",
    "# see how long it takes to apply the text_clean function to entire subset\n",
    "subset[\"clean_text\"] = subset[\"full_text\"].apply(lambda x: text_clean(x))"
   ]
  },
  {
   "cell_type": "code",
   "execution_count": 70,
   "metadata": {},
   "outputs": [
    {
     "data": {
      "text/html": [
       "<div>\n",
       "<style scoped>\n",
       "    .dataframe tbody tr th:only-of-type {\n",
       "        vertical-align: middle;\n",
       "    }\n",
       "\n",
       "    .dataframe tbody tr th {\n",
       "        vertical-align: top;\n",
       "    }\n",
       "\n",
       "    .dataframe thead th {\n",
       "        text-align: right;\n",
       "    }\n",
       "</style>\n",
       "<table border=\"1\" class=\"dataframe\">\n",
       "  <thead>\n",
       "    <tr style=\"text-align: right;\">\n",
       "      <th></th>\n",
       "      <th>full_text</th>\n",
       "      <th>clean_text</th>\n",
       "    </tr>\n",
       "  </thead>\n",
       "  <tbody>\n",
       "    <tr>\n",
       "      <td>0</td>\n",
       "      <td>The National Immigrant Justice Center, or @NIJ...</td>\n",
       "      <td>The National Immigrant Justice Center or NIJC ...</td>\n",
       "    </tr>\n",
       "    <tr>\n",
       "      <td>1</td>\n",
       "      <td>@FizanKhan1 Hi Fizan. This guide may help: htt...</td>\n",
       "      <td>FizanKhan1 Hi Fizan This guide may help If som...</td>\n",
       "    </tr>\n",
       "  </tbody>\n",
       "</table>\n",
       "</div>"
      ],
      "text/plain": [
       "                                           full_text  \\\n",
       "0  The National Immigrant Justice Center, or @NIJ...   \n",
       "1  @FizanKhan1 Hi Fizan. This guide may help: htt...   \n",
       "\n",
       "                                          clean_text  \n",
       "0  The National Immigrant Justice Center or NIJC ...  \n",
       "1  FizanKhan1 Hi Fizan This guide may help If som...  "
      ]
     },
     "execution_count": 70,
     "metadata": {},
     "output_type": "execute_result"
    }
   ],
   "source": [
    "# compare \n",
    "subset.loc[[0,1], [\"full_text\", \"clean_text\"]]"
   ]
  },
  {
   "cell_type": "code",
   "execution_count": 71,
   "metadata": {},
   "outputs": [
    {
     "name": "stdout",
     "output_type": "stream",
     "text": [
      "The National Immigrant Justice Center, or @NIJC, helps asylum-seekers win their cases and fights against renewed attempts to separate and jail more families. https://t.co/myOcT2Q6fu \n",
      "\n",
      "The National Immigrant Justice Center or NIJC helps asylumseekers win their cases and fights against renewed attempts to separate and jail more families \n",
      " ------------------------------\n",
      "@FizanKhan1 Hi Fizan. This guide may help: https://t.co/VRPMm6xAcH. If something looks out-of-line, we suggest adding extra layers of security to your Google Account with these tips: https://t.co/k6X4NghPTb. \n",
      "\n",
      "FizanKhan1 Hi Fizan This guide may help If something looks outofline we suggest adding extra layers of security to your Google Account with these tips \n",
      " ------------------------------\n",
      "A 50-yd field goal, in the University of Phoenix Stadium, deflects about one-third inch to the right due to Earth's rotation \n",
      "\n",
      "A 50yd field goal in the University of Phoenix Stadium deflects about onethird inch to the right due to Earths rotation \n",
      " ------------------------------\n",
      "Emma Stone Just Got Engaged To Dave McCary, And She Looks So Happy https://t.co/fOMcOg6QMQ \n",
      "\n",
      "Emma Stone Just Got Engaged To Dave McCary And She Looks So Happy \n",
      " ------------------------------\n"
     ]
    }
   ],
   "source": [
    "for i, row in subset[:4].iterrows():\n",
    "    print(row[\"full_text\"], \"\\n\")\n",
    "    print(row[\"clean_text\"], \"\\n\", \"-\"*30)"
   ]
  },
  {
   "cell_type": "code",
   "execution_count": 72,
   "metadata": {},
   "outputs": [],
   "source": [
    "# test with a sample of 5 observations\n",
    "sample = subset.sample(n=5, random_state=1)"
   ]
  },
  {
   "cell_type": "code",
   "execution_count": 73,
   "metadata": {},
   "outputs": [
    {
     "name": "stdout",
     "output_type": "stream",
     "text": [
      "Take no revenge and cherish no grudge against your own people. You shall love your neighbor as yourself.\n",
      "\n",
      "Leviticus 19:18 \n",
      "\n",
      "Take no revenge and cherish no grudge against your own people You shall love your neighbor as yourself Leviticus 1918 \n",
      " ------------------------------\n",
      "#FBI Director Wray: At the end of the day, we all want the same thing: to protect our innovation, our systems, and above all, our people. #ICCS2018 \n",
      "\n",
      "FBI Director Wray At the end of the day we all want the same thing to protect our innovation our systems and above all our people ICCS2018 \n",
      " ------------------------------\n",
      "The House’s vote to impeach President Trump drew an immediate reaction from the federal judiciary as a federal appeals court demanded answers on what impact the historic move may have on ongoing legal efforts to obtain records and testimony https://t.co/SpQr6KL58J \n",
      "\n",
      "The Houses vote to impeach President Trump drew an immediate reaction from the federal judiciary as a federal appeals court demanded answers on what impact the historic move may have on ongoing legal efforts to obtain records and testimony \n",
      " ------------------------------\n",
      "On this day 75 years ago, more than 200,000 Germans launched a surprise attack on the Allied troops.\n",
      "\n",
      "What began that day would become the Battle of the Bulge. Here's how it got its name https://t.co/scaRQfnzLK \n",
      "\n",
      "On this day 75 years ago more than 200000 Germans launched a surprise attack on the Allied troops What began that day would become the Battle of the Bulge Heres how it got its name \n",
      " ------------------------------\n"
     ]
    }
   ],
   "source": [
    "for i, row in sample[:4].iterrows():\n",
    "    print(row[\"full_text\"], \"\\n\")\n",
    "    print(row[\"clean_text\"], \"\\n\", \"-\"*30)"
   ]
  },
  {
   "cell_type": "markdown",
   "metadata": {},
   "source": [
    "## _Cleaning Text: `json-data/no_retweets.json`_"
   ]
  },
  {
   "cell_type": "code",
   "execution_count": 74,
   "metadata": {},
   "outputs": [
    {
     "name": "stdout",
     "output_type": "stream",
     "text": [
      "<class 'pandas.core.frame.DataFrame'>\n",
      "Int64Index: 211104 entries, 0 to 211103\n",
      "Data columns (total 8 columns):\n",
      "id_str            211104 non-null object\n",
      "screen_name       211104 non-null object\n",
      "created_at        211104 non-null datetime64[ns]\n",
      "lang              211104 non-null object\n",
      "source            211104 non-null object\n",
      "retweet_count     211104 non-null int64\n",
      "favorite_count    211104 non-null int64\n",
      "full_text         211104 non-null object\n",
      "dtypes: datetime64[ns](1), int64(2), object(5)\n",
      "memory usage: 14.5+ MB\n"
     ]
    }
   ],
   "source": [
    "df.info()"
   ]
  },
  {
   "cell_type": "code",
   "execution_count": 59,
   "metadata": {},
   "outputs": [
    {
     "name": "stdout",
     "output_type": "stream",
     "text": [
      "4.72 s ± 352 ms per loop (mean ± std. dev. of 7 runs, 1 loop each)\n"
     ]
    }
   ],
   "source": [
    "%%timeit\n",
    "\n",
    "df[\"full_text\"].apply(lambda x: text_clean(x))"
   ]
  },
  {
   "cell_type": "code",
   "execution_count": 75,
   "metadata": {},
   "outputs": [
    {
     "name": "stdout",
     "output_type": "stream",
     "text": [
      "CPU times: user 4.21 s, sys: 10.5 ms, total: 4.22 s\n",
      "Wall time: 4.31 s\n"
     ]
    }
   ],
   "source": [
    "%%time \n",
    "\n",
    "# create clean text column\n",
    "df[\"clean_text\"] = df[\"full_text\"].apply(lambda x: text_clean(x))"
   ]
  },
  {
   "cell_type": "code",
   "execution_count": 76,
   "metadata": {},
   "outputs": [
    {
     "name": "stdout",
     "output_type": "stream",
     "text": [
      "<class 'pandas.core.frame.DataFrame'>\n",
      "Int64Index: 211104 entries, 0 to 211103\n",
      "Data columns (total 9 columns):\n",
      "id_str            211104 non-null object\n",
      "screen_name       211104 non-null object\n",
      "created_at        211104 non-null datetime64[ns]\n",
      "lang              211104 non-null object\n",
      "source            211104 non-null object\n",
      "retweet_count     211104 non-null int64\n",
      "favorite_count    211104 non-null int64\n",
      "full_text         211104 non-null object\n",
      "clean_text        211104 non-null object\n",
      "dtypes: datetime64[ns](1), int64(2), object(6)\n",
      "memory usage: 16.1+ MB\n"
     ]
    }
   ],
   "source": [
    "df.info()"
   ]
  },
  {
   "cell_type": "markdown",
   "metadata": {},
   "source": [
    "## _Add Label Column_"
   ]
  },
  {
   "cell_type": "code",
   "execution_count": 87,
   "metadata": {},
   "outputs": [],
   "source": [
    "# insert label column for ML/DL\n",
    "df[\"label\"] = \"real\""
   ]
  },
  {
   "cell_type": "code",
   "execution_count": 88,
   "metadata": {},
   "outputs": [
    {
     "name": "stdout",
     "output_type": "stream",
     "text": [
      "<class 'pandas.core.frame.DataFrame'>\n",
      "Int64Index: 211104 entries, 0 to 211103\n",
      "Data columns (total 10 columns):\n",
      "id_str            211104 non-null object\n",
      "screen_name       211104 non-null object\n",
      "created_at        211104 non-null datetime64[ns]\n",
      "lang              211104 non-null object\n",
      "source            211104 non-null object\n",
      "retweet_count     211104 non-null int64\n",
      "favorite_count    211104 non-null int64\n",
      "full_text         211104 non-null object\n",
      "clean_text        211104 non-null object\n",
      "label             211104 non-null object\n",
      "dtypes: datetime64[ns](1), int64(2), object(7)\n",
      "memory usage: 17.7+ MB\n"
     ]
    }
   ],
   "source": [
    "df.info()"
   ]
  },
  {
   "cell_type": "code",
   "execution_count": 89,
   "metadata": {},
   "outputs": [
    {
     "data": {
      "text/html": [
       "<div>\n",
       "<style scoped>\n",
       "    .dataframe tbody tr th:only-of-type {\n",
       "        vertical-align: middle;\n",
       "    }\n",
       "\n",
       "    .dataframe tbody tr th {\n",
       "        vertical-align: top;\n",
       "    }\n",
       "\n",
       "    .dataframe thead th {\n",
       "        text-align: right;\n",
       "    }\n",
       "</style>\n",
       "<table border=\"1\" class=\"dataframe\">\n",
       "  <thead>\n",
       "    <tr style=\"text-align: right;\">\n",
       "      <th></th>\n",
       "      <th>id_str</th>\n",
       "      <th>screen_name</th>\n",
       "      <th>created_at</th>\n",
       "      <th>lang</th>\n",
       "      <th>source</th>\n",
       "      <th>retweet_count</th>\n",
       "      <th>favorite_count</th>\n",
       "      <th>full_text</th>\n",
       "      <th>clean_text</th>\n",
       "      <th>label</th>\n",
       "    </tr>\n",
       "  </thead>\n",
       "  <tbody>\n",
       "    <tr>\n",
       "      <td>0</td>\n",
       "      <td>1209319045411028992</td>\n",
       "      <td>NBCNews</td>\n",
       "      <td>2019-12-24 03:45:03</td>\n",
       "      <td>en</td>\n",
       "      <td>SocialFlow</td>\n",
       "      <td>12</td>\n",
       "      <td>28</td>\n",
       "      <td>A North Carolina man is accused of using eye d...</td>\n",
       "      <td>A North Carolina man is accused of using eye d...</td>\n",
       "      <td>real</td>\n",
       "    </tr>\n",
       "    <tr>\n",
       "      <td>1</td>\n",
       "      <td>1209315792657043456</td>\n",
       "      <td>NBCNews</td>\n",
       "      <td>2019-12-24 03:32:07</td>\n",
       "      <td>en</td>\n",
       "      <td>SocialFlow</td>\n",
       "      <td>4</td>\n",
       "      <td>16</td>\n",
       "      <td>11 best gifts and gadgets for home cooks. http...</td>\n",
       "      <td>11 best gifts and gadgets for home cooks NBCNe...</td>\n",
       "      <td>real</td>\n",
       "    </tr>\n",
       "    <tr>\n",
       "      <td>2</td>\n",
       "      <td>1209308993459572736</td>\n",
       "      <td>NBCNews</td>\n",
       "      <td>2019-12-24 03:05:06</td>\n",
       "      <td>en</td>\n",
       "      <td>SocialFlow</td>\n",
       "      <td>14</td>\n",
       "      <td>61</td>\n",
       "      <td>A woman upset that KFC got sandwich wrong call...</td>\n",
       "      <td>A woman upset that KFC got sandwich wrong call...</td>\n",
       "      <td>real</td>\n",
       "    </tr>\n",
       "  </tbody>\n",
       "</table>\n",
       "</div>"
      ],
      "text/plain": [
       "                id_str screen_name          created_at lang      source  \\\n",
       "0  1209319045411028992     NBCNews 2019-12-24 03:45:03   en  SocialFlow   \n",
       "1  1209315792657043456     NBCNews 2019-12-24 03:32:07   en  SocialFlow   \n",
       "2  1209308993459572736     NBCNews 2019-12-24 03:05:06   en  SocialFlow   \n",
       "\n",
       "   retweet_count  favorite_count  \\\n",
       "0             12              28   \n",
       "1              4              16   \n",
       "2             14              61   \n",
       "\n",
       "                                           full_text  \\\n",
       "0  A North Carolina man is accused of using eye d...   \n",
       "1  11 best gifts and gadgets for home cooks. http...   \n",
       "2  A woman upset that KFC got sandwich wrong call...   \n",
       "\n",
       "                                          clean_text label  \n",
       "0  A North Carolina man is accused of using eye d...  real  \n",
       "1  11 best gifts and gadgets for home cooks NBCNe...  real  \n",
       "2  A woman upset that KFC got sandwich wrong call...  real  "
      ]
     },
     "execution_count": 89,
     "metadata": {},
     "output_type": "execute_result"
    }
   ],
   "source": [
    "df.head(3)"
   ]
  },
  {
   "cell_type": "markdown",
   "metadata": {},
   "source": [
    "## _Shuffle/Split Data into Train & Test sets_"
   ]
  },
  {
   "cell_type": "code",
   "execution_count": 90,
   "metadata": {},
   "outputs": [],
   "source": [
    "from sklearn.model_selection import train_test_split"
   ]
  },
  {
   "cell_type": "code",
   "execution_count": 92,
   "metadata": {},
   "outputs": [],
   "source": [
    "train, test = train_test_split(df, test_size=0.2, random_state=1, shuffle=True)"
   ]
  },
  {
   "cell_type": "code",
   "execution_count": 102,
   "metadata": {},
   "outputs": [
    {
     "data": {
      "text/plain": [
       "(168883, 42221)"
      ]
     },
     "execution_count": 102,
     "metadata": {},
     "output_type": "execute_result"
    }
   ],
   "source": [
    "len(train), len(test)"
   ]
  },
  {
   "cell_type": "code",
   "execution_count": 104,
   "metadata": {},
   "outputs": [
    {
     "data": {
      "text/html": [
       "<div>\n",
       "<style scoped>\n",
       "    .dataframe tbody tr th:only-of-type {\n",
       "        vertical-align: middle;\n",
       "    }\n",
       "\n",
       "    .dataframe tbody tr th {\n",
       "        vertical-align: top;\n",
       "    }\n",
       "\n",
       "    .dataframe thead th {\n",
       "        text-align: right;\n",
       "    }\n",
       "</style>\n",
       "<table border=\"1\" class=\"dataframe\">\n",
       "  <thead>\n",
       "    <tr style=\"text-align: right;\">\n",
       "      <th></th>\n",
       "      <th>id_str</th>\n",
       "      <th>screen_name</th>\n",
       "      <th>created_at</th>\n",
       "      <th>lang</th>\n",
       "      <th>source</th>\n",
       "      <th>retweet_count</th>\n",
       "      <th>favorite_count</th>\n",
       "      <th>full_text</th>\n",
       "      <th>clean_text</th>\n",
       "      <th>label</th>\n",
       "    </tr>\n",
       "  </thead>\n",
       "  <tbody>\n",
       "    <tr>\n",
       "      <td>0</td>\n",
       "      <td>475980318382383104</td>\n",
       "      <td>tonyhawk</td>\n",
       "      <td>2014-06-09 12:38:45</td>\n",
       "      <td>en</td>\n",
       "      <td>Twitter for iPhone</td>\n",
       "      <td>65</td>\n",
       "      <td>142</td>\n",
       "      <td>June 11, 9pm: the 2014 @gumball3000 concludes ...</td>\n",
       "      <td>June 11 9pm the 2014 gumball3000 concludes wit...</td>\n",
       "      <td>real</td>\n",
       "    </tr>\n",
       "    <tr>\n",
       "      <td>1</td>\n",
       "      <td>1039495495494918144</td>\n",
       "      <td>SenSchumer</td>\n",
       "      <td>2018-09-11 12:46:53</td>\n",
       "      <td>en</td>\n",
       "      <td>Twitter for iPhone</td>\n",
       "      <td>323</td>\n",
       "      <td>735</td>\n",
       "      <td>As @USATODAY reported, “By the end of 2018, ma...</td>\n",
       "      <td>As USATODAY reported By the end of 2018 many e...</td>\n",
       "      <td>real</td>\n",
       "    </tr>\n",
       "    <tr>\n",
       "      <td>2</td>\n",
       "      <td>912056752681766912</td>\n",
       "      <td>neiltyson</td>\n",
       "      <td>2017-09-24 20:50:49</td>\n",
       "      <td>en</td>\n",
       "      <td>TweetDeck</td>\n",
       "      <td>1000</td>\n",
       "      <td>10291</td>\n",
       "      <td>I thought the frozen dead dudes couldn’t swim,...</td>\n",
       "      <td>I thought the frozen dead dudes couldnt swim b...</td>\n",
       "      <td>real</td>\n",
       "    </tr>\n",
       "    <tr>\n",
       "      <td>3</td>\n",
       "      <td>944420654497042432</td>\n",
       "      <td>ChuckGrassley</td>\n",
       "      <td>2017-12-23 04:13:25</td>\n",
       "      <td>es</td>\n",
       "      <td>Twitter for iPhone</td>\n",
       "      <td>6</td>\n",
       "      <td>55</td>\n",
       "      <td>UNI loses to Xavier 77/67</td>\n",
       "      <td>UNI loses to Xavier 7767</td>\n",
       "      <td>real</td>\n",
       "    </tr>\n",
       "    <tr>\n",
       "      <td>4</td>\n",
       "      <td>659150226431811584</td>\n",
       "      <td>BarackObama</td>\n",
       "      <td>2015-10-27 23:30:35</td>\n",
       "      <td>en</td>\n",
       "      <td>Twitter Web Client</td>\n",
       "      <td>1175</td>\n",
       "      <td>1109</td>\n",
       "      <td>Retweet to spread the word. #GetCovered https:...</td>\n",
       "      <td>Retweet to spread the word GetCovered</td>\n",
       "      <td>real</td>\n",
       "    </tr>\n",
       "  </tbody>\n",
       "</table>\n",
       "</div>"
      ],
      "text/plain": [
       "                id_str    screen_name          created_at lang  \\\n",
       "0   475980318382383104       tonyhawk 2014-06-09 12:38:45   en   \n",
       "1  1039495495494918144     SenSchumer 2018-09-11 12:46:53   en   \n",
       "2   912056752681766912      neiltyson 2017-09-24 20:50:49   en   \n",
       "3   944420654497042432  ChuckGrassley 2017-12-23 04:13:25   es   \n",
       "4   659150226431811584    BarackObama 2015-10-27 23:30:35   en   \n",
       "\n",
       "               source  retweet_count  favorite_count  \\\n",
       "0  Twitter for iPhone             65             142   \n",
       "1  Twitter for iPhone            323             735   \n",
       "2           TweetDeck           1000           10291   \n",
       "3  Twitter for iPhone              6              55   \n",
       "4  Twitter Web Client           1175            1109   \n",
       "\n",
       "                                           full_text  \\\n",
       "0  June 11, 9pm: the 2014 @gumball3000 concludes ...   \n",
       "1  As @USATODAY reported, “By the end of 2018, ma...   \n",
       "2  I thought the frozen dead dudes couldn’t swim,...   \n",
       "3                          UNI loses to Xavier 77/67   \n",
       "4  Retweet to spread the word. #GetCovered https:...   \n",
       "\n",
       "                                          clean_text label  \n",
       "0  June 11 9pm the 2014 gumball3000 concludes wit...  real  \n",
       "1  As USATODAY reported By the end of 2018 many e...  real  \n",
       "2  I thought the frozen dead dudes couldnt swim b...  real  \n",
       "3                           UNI loses to Xavier 7767  real  \n",
       "4              Retweet to spread the word GetCovered  real  "
      ]
     },
     "execution_count": 104,
     "metadata": {},
     "output_type": "execute_result"
    }
   ],
   "source": [
    "train = train.reset_index(drop=True)\n",
    "train[:5]"
   ]
  },
  {
   "cell_type": "code",
   "execution_count": 106,
   "metadata": {},
   "outputs": [
    {
     "name": "stdout",
     "output_type": "stream",
     "text": [
      "<class 'pandas.core.frame.DataFrame'>\n",
      "RangeIndex: 168883 entries, 0 to 168882\n",
      "Data columns (total 10 columns):\n",
      "id_str            168883 non-null object\n",
      "screen_name       168883 non-null object\n",
      "created_at        168883 non-null datetime64[ns]\n",
      "lang              168883 non-null object\n",
      "source            168883 non-null object\n",
      "retweet_count     168883 non-null int64\n",
      "favorite_count    168883 non-null int64\n",
      "full_text         168883 non-null object\n",
      "clean_text        168883 non-null object\n",
      "label             168883 non-null object\n",
      "dtypes: datetime64[ns](1), int64(2), object(7)\n",
      "memory usage: 12.9+ MB\n"
     ]
    }
   ],
   "source": [
    "train.info()"
   ]
  },
  {
   "cell_type": "code",
   "execution_count": 105,
   "metadata": {},
   "outputs": [
    {
     "data": {
      "text/html": [
       "<div>\n",
       "<style scoped>\n",
       "    .dataframe tbody tr th:only-of-type {\n",
       "        vertical-align: middle;\n",
       "    }\n",
       "\n",
       "    .dataframe tbody tr th {\n",
       "        vertical-align: top;\n",
       "    }\n",
       "\n",
       "    .dataframe thead th {\n",
       "        text-align: right;\n",
       "    }\n",
       "</style>\n",
       "<table border=\"1\" class=\"dataframe\">\n",
       "  <thead>\n",
       "    <tr style=\"text-align: right;\">\n",
       "      <th></th>\n",
       "      <th>id_str</th>\n",
       "      <th>screen_name</th>\n",
       "      <th>created_at</th>\n",
       "      <th>lang</th>\n",
       "      <th>source</th>\n",
       "      <th>retweet_count</th>\n",
       "      <th>favorite_count</th>\n",
       "      <th>full_text</th>\n",
       "      <th>clean_text</th>\n",
       "      <th>label</th>\n",
       "    </tr>\n",
       "  </thead>\n",
       "  <tbody>\n",
       "    <tr>\n",
       "      <td>0</td>\n",
       "      <td>1067419455158931456</td>\n",
       "      <td>HillaryClinton</td>\n",
       "      <td>2018-11-27 14:06:44</td>\n",
       "      <td>en</td>\n",
       "      <td>Twitter Web Client</td>\n",
       "      <td>381</td>\n",
       "      <td>973</td>\n",
       "      <td>The National Immigrant Justice Center, or @NIJ...</td>\n",
       "      <td>The National Immigrant Justice Center or NIJC ...</td>\n",
       "      <td>real</td>\n",
       "    </tr>\n",
       "    <tr>\n",
       "      <td>1</td>\n",
       "      <td>1190540505404325888</td>\n",
       "      <td>Google</td>\n",
       "      <td>2019-11-02 08:05:50</td>\n",
       "      <td>en</td>\n",
       "      <td>Conversocial</td>\n",
       "      <td>0</td>\n",
       "      <td>0</td>\n",
       "      <td>@FizanKhan1 Hi Fizan. This guide may help: htt...</td>\n",
       "      <td>FizanKhan1 Hi Fizan This guide may help If som...</td>\n",
       "      <td>real</td>\n",
       "    </tr>\n",
       "    <tr>\n",
       "      <td>2</td>\n",
       "      <td>562080196489404416</td>\n",
       "      <td>neiltyson</td>\n",
       "      <td>2015-02-02 02:48:56</td>\n",
       "      <td>en</td>\n",
       "      <td>TweetDeck</td>\n",
       "      <td>3621</td>\n",
       "      <td>5050</td>\n",
       "      <td>A 50-yd field goal, in the University of Phoen...</td>\n",
       "      <td>A 50yd field goal in the University of Phoenix...</td>\n",
       "      <td>real</td>\n",
       "    </tr>\n",
       "    <tr>\n",
       "      <td>3</td>\n",
       "      <td>1202422229256097792</td>\n",
       "      <td>BuzzFeed</td>\n",
       "      <td>2019-12-05 02:59:34</td>\n",
       "      <td>en</td>\n",
       "      <td>PubHub by BuzzFeed</td>\n",
       "      <td>51</td>\n",
       "      <td>622</td>\n",
       "      <td>Emma Stone Just Got Engaged To Dave McCary, An...</td>\n",
       "      <td>Emma Stone Just Got Engaged To Dave McCary And...</td>\n",
       "      <td>real</td>\n",
       "    </tr>\n",
       "    <tr>\n",
       "      <td>4</td>\n",
       "      <td>1128314104853278720</td>\n",
       "      <td>nyknicks</td>\n",
       "      <td>2019-05-14 15:00:20</td>\n",
       "      <td>en</td>\n",
       "      <td>Spredfast</td>\n",
       "      <td>624</td>\n",
       "      <td>2279</td>\n",
       "      <td>New York or Nowhere vibes. https://t.co/WW41xo...</td>\n",
       "      <td>New York or Nowhere vibes</td>\n",
       "      <td>real</td>\n",
       "    </tr>\n",
       "  </tbody>\n",
       "</table>\n",
       "</div>"
      ],
      "text/plain": [
       "                id_str     screen_name          created_at lang  \\\n",
       "0  1067419455158931456  HillaryClinton 2018-11-27 14:06:44   en   \n",
       "1  1190540505404325888          Google 2019-11-02 08:05:50   en   \n",
       "2   562080196489404416       neiltyson 2015-02-02 02:48:56   en   \n",
       "3  1202422229256097792        BuzzFeed 2019-12-05 02:59:34   en   \n",
       "4  1128314104853278720        nyknicks 2019-05-14 15:00:20   en   \n",
       "\n",
       "               source  retweet_count  favorite_count  \\\n",
       "0  Twitter Web Client            381             973   \n",
       "1        Conversocial              0               0   \n",
       "2           TweetDeck           3621            5050   \n",
       "3  PubHub by BuzzFeed             51             622   \n",
       "4           Spredfast            624            2279   \n",
       "\n",
       "                                           full_text  \\\n",
       "0  The National Immigrant Justice Center, or @NIJ...   \n",
       "1  @FizanKhan1 Hi Fizan. This guide may help: htt...   \n",
       "2  A 50-yd field goal, in the University of Phoen...   \n",
       "3  Emma Stone Just Got Engaged To Dave McCary, An...   \n",
       "4  New York or Nowhere vibes. https://t.co/WW41xo...   \n",
       "\n",
       "                                          clean_text label  \n",
       "0  The National Immigrant Justice Center or NIJC ...  real  \n",
       "1  FizanKhan1 Hi Fizan This guide may help If som...  real  \n",
       "2  A 50yd field goal in the University of Phoenix...  real  \n",
       "3  Emma Stone Just Got Engaged To Dave McCary And...  real  \n",
       "4                          New York or Nowhere vibes  real  "
      ]
     },
     "execution_count": 105,
     "metadata": {},
     "output_type": "execute_result"
    }
   ],
   "source": [
    "test = test.reset_index(drop=True)\n",
    "test[:5]"
   ]
  },
  {
   "cell_type": "code",
   "execution_count": 107,
   "metadata": {},
   "outputs": [
    {
     "name": "stdout",
     "output_type": "stream",
     "text": [
      "<class 'pandas.core.frame.DataFrame'>\n",
      "RangeIndex: 42221 entries, 0 to 42220\n",
      "Data columns (total 10 columns):\n",
      "id_str            42221 non-null object\n",
      "screen_name       42221 non-null object\n",
      "created_at        42221 non-null datetime64[ns]\n",
      "lang              42221 non-null object\n",
      "source            42221 non-null object\n",
      "retweet_count     42221 non-null int64\n",
      "favorite_count    42221 non-null int64\n",
      "full_text         42221 non-null object\n",
      "clean_text        42221 non-null object\n",
      "label             42221 non-null object\n",
      "dtypes: datetime64[ns](1), int64(2), object(7)\n",
      "memory usage: 3.2+ MB\n"
     ]
    }
   ],
   "source": [
    "test.info()"
   ]
  },
  {
   "cell_type": "markdown",
   "metadata": {},
   "source": [
    "## _Create JSONs of train and test data_"
   ]
  },
  {
   "cell_type": "code",
   "execution_count": 108,
   "metadata": {},
   "outputs": [],
   "source": [
    "train.to_json(\"verified_train.json\", orient=\"split\")"
   ]
  },
  {
   "cell_type": "code",
   "execution_count": 109,
   "metadata": {},
   "outputs": [],
   "source": [
    "test.to_json(\"verified_test.json\", orient=\"split\")"
   ]
  }
 ],
 "metadata": {
  "kernelspec": {
   "display_name": "Python 3",
   "language": "python",
   "name": "python3"
  },
  "language_info": {
   "codemirror_mode": {
    "name": "ipython",
    "version": 3
   },
   "file_extension": ".py",
   "mimetype": "text/x-python",
   "name": "python",
   "nbconvert_exporter": "python",
   "pygments_lexer": "ipython3",
   "version": "3.7.4"
  }
 },
 "nbformat": 4,
 "nbformat_minor": 4
}
