{
 "cells": [
  {
   "cell_type": "markdown",
   "metadata": {},
   "source": [
    "# _ML Experimentation: Dec. 30, 2019_\n",
    "\n",
    "**Purpose**: Continue exploration of how to best apply machine learning to the data set. I'll continue working with a sample of the all the data, which will also include different arrangements to the fake/real account split percentage."
   ]
  },
  {
   "cell_type": "code",
   "execution_count": 1,
   "metadata": {},
   "outputs": [],
   "source": [
    "%reload_ext autoreload\n",
    "%autoreload 2\n",
    "%matplotlib inline"
   ]
  },
  {
   "cell_type": "code",
   "execution_count": 2,
   "metadata": {},
   "outputs": [],
   "source": [
    "import pandas as pd\n",
    "pd.set_option(\"display.max_columns\", None)\n",
    "\n",
    "dtype = {\n",
    "    \"id_str\": str\n",
    "}\n",
    "\n",
    "# load in verified training set\n",
    "verified = pd.read_json(\n",
    "    \"json-data/verified_train.json\",\n",
    "    orient=\"split\",\n",
    "    dtype=dtype\n",
    ")\n",
    "\n",
    "# load in ira training set\n",
    "ira = pd.read_json(\n",
    "    \"json-data/ira_train.json\",\n",
    "    orient=\"split\",\n",
    "    dtype=dtype\n",
    ")"
   ]
  },
  {
   "cell_type": "code",
   "execution_count": 3,
   "metadata": {},
   "outputs": [
    {
     "name": "stdout",
     "output_type": "stream",
     "text": [
      "<class 'pandas.core.frame.DataFrame'>\n",
      "Int64Index: 168883 entries, 0 to 168882\n",
      "Data columns (total 10 columns):\n",
      "id_str            168883 non-null object\n",
      "screen_name       168883 non-null object\n",
      "created_at        168883 non-null datetime64[ns]\n",
      "lang              168883 non-null object\n",
      "source            168883 non-null object\n",
      "retweet_count     168883 non-null int64\n",
      "favorite_count    168883 non-null int64\n",
      "full_text         168883 non-null object\n",
      "clean_text        168883 non-null object\n",
      "label             168883 non-null object\n",
      "dtypes: datetime64[ns](1), int64(2), object(7)\n",
      "memory usage: 14.2+ MB\n"
     ]
    }
   ],
   "source": [
    "# info from Verified user data\n",
    "verified.info()"
   ]
  },
  {
   "cell_type": "code",
   "execution_count": 4,
   "metadata": {},
   "outputs": [
    {
     "name": "stdout",
     "output_type": "stream",
     "text": [
      "<class 'pandas.core.frame.DataFrame'>\n",
      "Int64Index: 1525311 entries, 0 to 1525310\n",
      "Data columns (total 10 columns):\n",
      "id_str            1525311 non-null object\n",
      "screen_name       1525311 non-null object\n",
      "created_at        1525311 non-null datetime64[ns]\n",
      "lang              1525311 non-null object\n",
      "source            1525311 non-null object\n",
      "retweet_count     1525311 non-null int64\n",
      "favorite_count    1525311 non-null int64\n",
      "full_text         1525311 non-null object\n",
      "clean_text        1525311 non-null object\n",
      "label             1525311 non-null object\n",
      "dtypes: datetime64[ns](1), int64(2), object(7)\n",
      "memory usage: 128.0+ MB\n"
     ]
    }
   ],
   "source": [
    "# info from IRA data\n",
    "ira.info()"
   ]
  },
  {
   "cell_type": "code",
   "execution_count": 5,
   "metadata": {},
   "outputs": [],
   "source": [
    "# take sample of IRA data = to length of Verified data\n",
    "ira_sample = ira.sample(n=len(verified), random_state=1)"
   ]
  },
  {
   "cell_type": "code",
   "execution_count": 6,
   "metadata": {},
   "outputs": [
    {
     "name": "stdout",
     "output_type": "stream",
     "text": [
      "<class 'pandas.core.frame.DataFrame'>\n",
      "Int64Index: 168883 entries, 1169189 to 923184\n",
      "Data columns (total 10 columns):\n",
      "id_str            168883 non-null object\n",
      "screen_name       168883 non-null object\n",
      "created_at        168883 non-null datetime64[ns]\n",
      "lang              168883 non-null object\n",
      "source            168883 non-null object\n",
      "retweet_count     168883 non-null int64\n",
      "favorite_count    168883 non-null int64\n",
      "full_text         168883 non-null object\n",
      "clean_text        168883 non-null object\n",
      "label             168883 non-null object\n",
      "dtypes: datetime64[ns](1), int64(2), object(7)\n",
      "memory usage: 14.2+ MB\n"
     ]
    }
   ],
   "source": [
    "# get info on sample\n",
    "ira_sample.info()"
   ]
  },
  {
   "cell_type": "code",
   "execution_count": 7,
   "metadata": {},
   "outputs": [
    {
     "name": "stdout",
     "output_type": "stream",
     "text": [
      "True\n"
     ]
    }
   ],
   "source": [
    "# concat together IRA sample and Verified data\n",
    "combine = pd.concat([verified, ira_sample], ignore_index=True)\n",
    "\n",
    "# check to confirm that combined data set is = IRA + Verified\n",
    "print(len(combine) == (len(ira_sample) + len(verified)))"
   ]
  },
  {
   "cell_type": "code",
   "execution_count": 8,
   "metadata": {},
   "outputs": [],
   "source": [
    "# convert screen_name column to categorical type\n",
    "combine[\"screen_name\"] = combine[\"screen_name\"].astype(\"category\")\n",
    "\n",
    "# convert source column to categorical type\n",
    "combine[\"source\"] = combine[\"source\"].astype(\"category\")"
   ]
  },
  {
   "cell_type": "code",
   "execution_count": 9,
   "metadata": {},
   "outputs": [
    {
     "name": "stdout",
     "output_type": "stream",
     "text": [
      "<class 'pandas.core.frame.DataFrame'>\n",
      "RangeIndex: 337766 entries, 0 to 337765\n",
      "Data columns (total 10 columns):\n",
      "id_str            337766 non-null object\n",
      "screen_name       337766 non-null category\n",
      "created_at        337766 non-null datetime64[ns]\n",
      "lang              337766 non-null object\n",
      "source            337766 non-null category\n",
      "retweet_count     337766 non-null int64\n",
      "favorite_count    337766 non-null int64\n",
      "full_text         337766 non-null object\n",
      "clean_text        337766 non-null object\n",
      "label             337766 non-null object\n",
      "dtypes: category(2), datetime64[ns](1), int64(2), object(5)\n",
      "memory usage: 22.0+ MB\n"
     ]
    }
   ],
   "source": [
    "# get info on Combined Dataframe\n",
    "combine.info()"
   ]
  },
  {
   "cell_type": "code",
   "execution_count": 10,
   "metadata": {},
   "outputs": [
    {
     "data": {
      "text/html": [
       "<div>\n",
       "<style scoped>\n",
       "    .dataframe tbody tr th:only-of-type {\n",
       "        vertical-align: middle;\n",
       "    }\n",
       "\n",
       "    .dataframe tbody tr th {\n",
       "        vertical-align: top;\n",
       "    }\n",
       "\n",
       "    .dataframe thead th {\n",
       "        text-align: right;\n",
       "    }\n",
       "</style>\n",
       "<table border=\"1\" class=\"dataframe\">\n",
       "  <thead>\n",
       "    <tr style=\"text-align: right;\">\n",
       "      <th></th>\n",
       "      <th>id_str</th>\n",
       "      <th>screen_name</th>\n",
       "      <th>created_at</th>\n",
       "      <th>lang</th>\n",
       "      <th>source</th>\n",
       "      <th>retweet_count</th>\n",
       "      <th>favorite_count</th>\n",
       "      <th>full_text</th>\n",
       "      <th>clean_text</th>\n",
       "      <th>label</th>\n",
       "    </tr>\n",
       "  </thead>\n",
       "  <tbody>\n",
       "    <tr>\n",
       "      <td>0</td>\n",
       "      <td>561424233624915968</td>\n",
       "      <td>DailyLosAngeles</td>\n",
       "      <td>2015-01-31 07:22:00</td>\n",
       "      <td>en</td>\n",
       "      <td>twitterfeed</td>\n",
       "      <td>0</td>\n",
       "      <td>0</td>\n",
       "      <td>San Francisco police detain 2 in dismembered b...</td>\n",
       "      <td>San Francisco police detain 2 in dismembered b...</td>\n",
       "      <td>fake</td>\n",
       "    </tr>\n",
       "    <tr>\n",
       "      <td>1</td>\n",
       "      <td>1159709950018539520</td>\n",
       "      <td>MeekMill</td>\n",
       "      <td>2019-08-09 06:16:13</td>\n",
       "      <td>en</td>\n",
       "      <td>Twitter for iPhone</td>\n",
       "      <td>4</td>\n",
       "      <td>25</td>\n",
       "      <td>@PrimeVideo then call it a night!! https://t.c...</td>\n",
       "      <td>PrimeVideo then call it a night</td>\n",
       "      <td>real</td>\n",
       "    </tr>\n",
       "    <tr>\n",
       "      <td>2</td>\n",
       "      <td>68709491461464064</td>\n",
       "      <td>ActuallyNPH</td>\n",
       "      <td>2011-05-12 16:09:53</td>\n",
       "      <td>en</td>\n",
       "      <td>Twitter Web Client</td>\n",
       "      <td>99</td>\n",
       "      <td>18</td>\n",
       "      <td>NYers: I'm trying to find a simple, furnished ...</td>\n",
       "      <td>NYers Im trying to find a simple furnished sub...</td>\n",
       "      <td>real</td>\n",
       "    </tr>\n",
       "  </tbody>\n",
       "</table>\n",
       "</div>"
      ],
      "text/plain": [
       "                id_str      screen_name          created_at lang  \\\n",
       "0   561424233624915968  DailyLosAngeles 2015-01-31 07:22:00   en   \n",
       "1  1159709950018539520         MeekMill 2019-08-09 06:16:13   en   \n",
       "2    68709491461464064      ActuallyNPH 2011-05-12 16:09:53   en   \n",
       "\n",
       "               source  retweet_count  favorite_count  \\\n",
       "0         twitterfeed              0               0   \n",
       "1  Twitter for iPhone              4              25   \n",
       "2  Twitter Web Client             99              18   \n",
       "\n",
       "                                           full_text  \\\n",
       "0  San Francisco police detain 2 in dismembered b...   \n",
       "1  @PrimeVideo then call it a night!! https://t.c...   \n",
       "2  NYers: I'm trying to find a simple, furnished ...   \n",
       "\n",
       "                                          clean_text label  \n",
       "0  San Francisco police detain 2 in dismembered b...  fake  \n",
       "1                    PrimeVideo then call it a night  real  \n",
       "2  NYers Im trying to find a simple furnished sub...  real  "
      ]
     },
     "execution_count": 10,
     "metadata": {},
     "output_type": "execute_result"
    }
   ],
   "source": [
    "# shuffle combined data set (which will help with sampling from this data set for ML development)\n",
    "shuffled = combine.sample(frac=1, random_state=1).copy()\n",
    "\n",
    "# reset index of shuffled data set\n",
    "shuffled = shuffled.reset_index(drop=True)\n",
    "\n",
    "# print out first few rows\n",
    "shuffled[:3]"
   ]
  },
  {
   "cell_type": "code",
   "execution_count": 11,
   "metadata": {},
   "outputs": [
    {
     "name": "stdout",
     "output_type": "stream",
     "text": [
      "<class 'pandas.core.frame.DataFrame'>\n",
      "RangeIndex: 337766 entries, 0 to 337765\n",
      "Data columns (total 10 columns):\n",
      "id_str            337766 non-null object\n",
      "screen_name       337766 non-null category\n",
      "created_at        337766 non-null datetime64[ns]\n",
      "lang              337766 non-null object\n",
      "source            337766 non-null category\n",
      "retweet_count     337766 non-null int64\n",
      "favorite_count    337766 non-null int64\n",
      "full_text         337766 non-null object\n",
      "clean_text        337766 non-null object\n",
      "label             337766 non-null object\n",
      "dtypes: category(2), datetime64[ns](1), int64(2), object(5)\n",
      "memory usage: 22.0+ MB\n"
     ]
    }
   ],
   "source": [
    "shuffled.info()"
   ]
  },
  {
   "cell_type": "code",
   "execution_count": 21,
   "metadata": {},
   "outputs": [],
   "source": [
    "# convert shuffled to JSON so that we can simply load in JSON file for future ML development\n",
    "shuffled.to_json(\"json-data/ml_sample20.json\", orient=\"split\")"
   ]
  },
  {
   "cell_type": "markdown",
   "metadata": {},
   "source": [
    "## _Take 20% Sample & Experimental ML_"
   ]
  },
  {
   "cell_type": "code",
   "execution_count": 12,
   "metadata": {},
   "outputs": [],
   "source": [
    "# get 20% of combined data set\n",
    "train_sample = combine.sample(frac=0.2, random_state=1)"
   ]
  },
  {
   "cell_type": "code",
   "execution_count": 13,
   "metadata": {},
   "outputs": [],
   "source": [
    "# reset the index\n",
    "train_sample = train_sample.reset_index(drop=True)"
   ]
  },
  {
   "cell_type": "code",
   "execution_count": 14,
   "metadata": {},
   "outputs": [
    {
     "name": "stdout",
     "output_type": "stream",
     "text": [
      "<class 'pandas.core.frame.DataFrame'>\n",
      "RangeIndex: 67553 entries, 0 to 67552\n",
      "Data columns (total 10 columns):\n",
      "id_str            67553 non-null object\n",
      "screen_name       67553 non-null category\n",
      "created_at        67553 non-null datetime64[ns]\n",
      "lang              67553 non-null object\n",
      "source            67553 non-null category\n",
      "retweet_count     67553 non-null int64\n",
      "favorite_count    67553 non-null int64\n",
      "full_text         67553 non-null object\n",
      "clean_text        67553 non-null object\n",
      "label             67553 non-null object\n",
      "dtypes: category(2), datetime64[ns](1), int64(2), object(5)\n",
      "memory usage: 4.5+ MB\n"
     ]
    }
   ],
   "source": [
    "train_sample.info()"
   ]
  },
  {
   "cell_type": "code",
   "execution_count": 15,
   "metadata": {},
   "outputs": [],
   "source": [
    "# replace values in label column with 0 for real accounts and 1 for fake accounts\n",
    "train_sample[\"label\"] = train_sample[\"label\"].replace(to_replace={\"real\": 0, \"fake\": 1})"
   ]
  },
  {
   "cell_type": "code",
   "execution_count": 16,
   "metadata": {},
   "outputs": [],
   "source": [
    "from sklearn.model_selection import train_test_split\n",
    "\n",
    "# split data sample into train and test sets\n",
    "X_train, X_test, y_train, y_test = train_test_split(\n",
    "    train_sample[\"clean_text\"],\n",
    "    train_sample[\"label\"],\n",
    "    test_size=0.3,\n",
    "    random_state=1\n",
    ")"
   ]
  },
  {
   "cell_type": "code",
   "execution_count": 17,
   "metadata": {},
   "outputs": [],
   "source": [
    "# libraries to help us build a function that takes in varying ML algortihms and test their performance\n",
    "from sklearn.pipeline import Pipeline\n",
    "from sklearn.feature_extraction.text import CountVectorizer, TfidfTransformer\n",
    "from sklearn.naive_bayes import MultinomialNB\n",
    "from sklearn.svm import LinearSVC\n",
    "from sklearn.experimental import enable_hist_gradient_boosting\n",
    "from sklearn.ensemble import RandomForestClassifier, AdaBoostClassifier, HistGradientBoostingClassifier\n",
    "from sklearn.linear_model import LogisticRegression\n",
    "from sklearn.metrics import f1_score"
   ]
  },
  {
   "cell_type": "code",
   "execution_count": 18,
   "metadata": {},
   "outputs": [],
   "source": [
    "# create function that takes in an classifier, fits it to to data, and produces a metric score for performance\n",
    "# assessment\n",
    "def ml_test(x_train, y_train, x_test, y_test, clf):\n",
    "    \"\"\"\n",
    "    Function that tests the performance of classifier algorithms, given the input data via train and test\n",
    "    data.\n",
    "    \"\"\"\n",
    "    # define classifier\n",
    "    text_clf = Pipeline([\n",
    "        (\"vect\", CountVectorizer()),\n",
    "        (\"tfidf\", TfidfTransformer()),\n",
    "        (\"clf\", clf)\n",
    "    ])\n",
    "    # fit the classifier to data\n",
    "    text_clf.fit(x_train, y_train)\n",
    "    # predictions on on test set\n",
    "    y_pred = text_clf.predict(x_test)\n",
    "    # get F1 score\n",
    "    f1 = f1_score(y_test, y_pred)\n",
    "    # returns the F1 Score\n",
    "    return f1"
   ]
  },
  {
   "cell_type": "code",
   "execution_count": 19,
   "metadata": {},
   "outputs": [
    {
     "name": "stderr",
     "output_type": "stream",
     "text": [
      "  0%|          | 0/5 [00:00<?, ?it/s]"
     ]
    },
    {
     "name": "stdout",
     "output_type": "stream",
     "text": [
      "'MultinomialNB'\n"
     ]
    },
    {
     "name": "stderr",
     "output_type": "stream",
     "text": [
      " 20%|██        | 1/5 [00:01<00:04,  1.00s/it]"
     ]
    },
    {
     "name": "stdout",
     "output_type": "stream",
     "text": [
      "'LinearSVC'\n"
     ]
    },
    {
     "name": "stderr",
     "output_type": "stream",
     "text": [
      " 40%|████      | 2/5 [00:02<00:03,  1.00s/it]"
     ]
    },
    {
     "name": "stdout",
     "output_type": "stream",
     "text": [
      "'LogisticRegression'\n"
     ]
    },
    {
     "name": "stderr",
     "output_type": "stream",
     "text": [
      " 60%|██████    | 3/5 [00:03<00:02,  1.00s/it]"
     ]
    },
    {
     "name": "stdout",
     "output_type": "stream",
     "text": [
      "'RandomForestClassifier'\n"
     ]
    },
    {
     "name": "stderr",
     "output_type": "stream",
     "text": [
      " 80%|████████  | 4/5 [00:04<00:01,  1.00s/it]"
     ]
    },
    {
     "name": "stdout",
     "output_type": "stream",
     "text": [
      "'AdaBoostClassifier'\n"
     ]
    },
    {
     "name": "stderr",
     "output_type": "stream",
     "text": [
      "100%|██████████| 5/5 [00:05<00:00,  1.00s/it]\n"
     ]
    }
   ],
   "source": [
    "from tqdm import tqdm\n",
    "from pprint import pprint\n",
    "from time import sleep\n",
    "\n",
    "naive_bayes = MultinomialNB()\n",
    "svc = LinearSVC(random_state=1)\n",
    "rf = RandomForestClassifier(random_state=1, n_estimators=10, n_jobs=-1)\n",
    "lr = LogisticRegression(random_state=1, solver=\"lbfgs\", max_iter=200)\n",
    "ada = AdaBoostClassifier(random_state=1)\n",
    "hist = HistGradientBoostingClassifier(random_state=1)\n",
    "\n",
    "for clf in tqdm([naive_bayes, svc, lr, rf, ada]):\n",
    "    pprint(str(clf).split(\"(\")[0])\n",
    "    sleep(1)"
   ]
  },
  {
   "cell_type": "code",
   "execution_count": 63,
   "metadata": {},
   "outputs": [
    {
     "name": "stderr",
     "output_type": "stream",
     "text": [
      "\n",
      "\n",
      "  0%|          | 0/5 [00:00<?, ?it/s]\u001b[A\u001b[A\n",
      "\n",
      " 20%|██        | 1/5 [00:01<00:04,  1.17s/it]\u001b[A\u001b[A"
     ]
    },
    {
     "name": "stdout",
     "output_type": "stream",
     "text": [
      "F1 Score for MultinomialNB: 0.8276\n"
     ]
    },
    {
     "name": "stderr",
     "output_type": "stream",
     "text": [
      "\n",
      "\n",
      " 40%|████      | 2/5 [00:02<00:03,  1.30s/it]\u001b[A\u001b[A"
     ]
    },
    {
     "name": "stdout",
     "output_type": "stream",
     "text": [
      "F1 Score for LinearSVC: 0.8508\n"
     ]
    },
    {
     "name": "stderr",
     "output_type": "stream",
     "text": [
      "\n",
      "\n",
      " 60%|██████    | 3/5 [00:05<00:03,  1.60s/it]\u001b[A\u001b[A"
     ]
    },
    {
     "name": "stdout",
     "output_type": "stream",
     "text": [
      "F1 Score for LogisticRegression: 0.837\n"
     ]
    },
    {
     "name": "stderr",
     "output_type": "stream",
     "text": [
      "\n",
      "\n",
      " 80%|████████  | 4/5 [00:10<00:02,  2.74s/it]\u001b[A\u001b[A"
     ]
    },
    {
     "name": "stdout",
     "output_type": "stream",
     "text": [
      "F1 Score for RandomForestClassifier: 0.8019\n"
     ]
    },
    {
     "name": "stderr",
     "output_type": "stream",
     "text": [
      "\n",
      "\n",
      "100%|██████████| 5/5 [00:16<00:00,  3.31s/it]\u001b[A\u001b[A"
     ]
    },
    {
     "name": "stdout",
     "output_type": "stream",
     "text": [
      "F1 Score for AdaBoostClassifier: 0.7493\n"
     ]
    },
    {
     "name": "stderr",
     "output_type": "stream",
     "text": [
      "\n"
     ]
    }
   ],
   "source": [
    "for clf in tqdm([naive_bayes, svc, lr, rf, ada]):\n",
    "    f1 = round(ml_test(X_train, y_train, X_test, y_test, clf), 4)\n",
    "    clf_name = str(clf).split(\"(\")[0]\n",
    "    print(f\"F1 Score for {clf_name}: {f1}\")"
   ]
  },
  {
   "cell_type": "code",
   "execution_count": 20,
   "metadata": {},
   "outputs": [],
   "source": [
    "from sklearn.model_selection import cross_val_score\n",
    "\n",
    "# function that's similar to ml_test but with cross validation\n",
    "def cv_ml_test(X, y, clf):\n",
    "    \"\"\"\n",
    "    Function that takes variable and label data and performes 5-fold cross-validation with specified text classifier algorithm.\n",
    "    \"\"\"\n",
    "    # define the classifier\n",
    "    clf = Pipeline([\n",
    "        (\"vect\", CountVectorizer()),\n",
    "        (\"tfidf\", TfidfTransformer()),\n",
    "        (\"clf\", clf)\n",
    "    ])\n",
    "    # perform cross_validation and return f1 scores\n",
    "    scores = cross_val_score(clf, X, y, cv=5, scoring=\"f1_macro\")\n",
    "    # print out 95% confidence interval of the score estimate\n",
    "    return str(\"Accuracy: %0.2f (+/- %0.2f)\" % (scores.mean(), scores.std() * 2))"
   ]
  },
  {
   "cell_type": "code",
   "execution_count": 67,
   "metadata": {},
   "outputs": [
    {
     "name": "stderr",
     "output_type": "stream",
     "text": [
      "\n",
      "\n",
      "  0%|          | 0/5 [00:00<?, ?it/s]\u001b[A\u001b[A\n",
      "\n",
      " 20%|██        | 1/5 [00:05<00:23,  5.78s/it]\u001b[A\u001b[A"
     ]
    },
    {
     "name": "stdout",
     "output_type": "stream",
     "text": [
      "CV F1 Score for MultinomialNB: Accuracy: 0.84 (+/- 0.01)\n"
     ]
    },
    {
     "name": "stderr",
     "output_type": "stream",
     "text": [
      "\n",
      "\n",
      " 40%|████      | 2/5 [00:13<00:19,  6.37s/it]\u001b[A\u001b[A"
     ]
    },
    {
     "name": "stdout",
     "output_type": "stream",
     "text": [
      "CV F1 Score for LinearSVC: Accuracy: 0.85 (+/- 0.01)\n"
     ]
    },
    {
     "name": "stderr",
     "output_type": "stream",
     "text": [
      "\n",
      "\n",
      " 60%|██████    | 3/5 [00:48<00:30, 15.01s/it]\u001b[A\u001b[A"
     ]
    },
    {
     "name": "stdout",
     "output_type": "stream",
     "text": [
      "CV F1 Score for RandomForestClassifier: Accuracy: 0.82 (+/- 0.01)\n"
     ]
    },
    {
     "name": "stderr",
     "output_type": "stream",
     "text": [
      "\n",
      "\n",
      " 80%|████████  | 4/5 [00:59<00:13, 13.76s/it]\u001b[A\u001b[A"
     ]
    },
    {
     "name": "stdout",
     "output_type": "stream",
     "text": [
      "CV F1 Score for LogisticRegression: Accuracy: 0.84 (+/- 0.01)\n"
     ]
    },
    {
     "name": "stderr",
     "output_type": "stream",
     "text": [
      "\n",
      "\n",
      "100%|██████████| 5/5 [01:34<00:00, 18.85s/it]\u001b[A\u001b[A"
     ]
    },
    {
     "name": "stdout",
     "output_type": "stream",
     "text": [
      "CV F1 Score for AdaBoostClassifier: Accuracy: 0.74 (+/- 0.01)\n"
     ]
    },
    {
     "name": "stderr",
     "output_type": "stream",
     "text": [
      "\n"
     ]
    }
   ],
   "source": [
    "# loop through assorted algorithms and get their respective CV metric scores\n",
    "for clf in tqdm([naive_bayes, svc, rf, lr, ada]):\n",
    "    scores = cv_ml_test(train_sample[\"clean_text\"], train_sample[\"label\"], clf)\n",
    "    clf_name = str(clf).split(\"(\")[0]\n",
    "    print(f\"CV F1 Score for {clf_name}: {scores}\")"
   ]
  },
  {
   "cell_type": "code",
   "execution_count": 49,
   "metadata": {},
   "outputs": [
    {
     "data": {
      "text/plain": [
       "'Accuracy: 98.00 (+/- 3.00)'"
      ]
     },
     "execution_count": 49,
     "metadata": {},
     "output_type": "execute_result"
    }
   ],
   "source": [
    "str(\"Accuracy: %0.2f (+/- %0.2f)\" % (98, 1.5 * 2))"
   ]
  },
  {
   "cell_type": "markdown",
   "metadata": {},
   "source": [
    "## _`Yellowbrick` Model Evaluation_"
   ]
  },
  {
   "cell_type": "code",
   "execution_count": null,
   "metadata": {},
   "outputs": [],
   "source": []
  },
  {
   "cell_type": "code",
   "execution_count": 27,
   "metadata": {},
   "outputs": [],
   "source": [
    "from sklearn.svm import LinearSVC, NuSVC, SVC\n",
    "from sklearn.linear_model import LogisticRegression, SGDClassifier\n",
    "from sklearn.neighbors import KNeighborsClassifier\n",
    "from sklearn.ensemble import BaggingClassifier, RandomForestClassifier, AdaBoostClassifier, HistGradientBoostingClassifier"
   ]
  },
  {
   "cell_type": "code",
   "execution_count": 28,
   "metadata": {},
   "outputs": [],
   "source": [
    "naive_bayes = MultinomialNB()\n",
    "svc = LinearSVC(random_state=1)\n",
    "rf = RandomForestClassifier(random_state=1, n_estimators=10, n_jobs=-1)\n",
    "lr = LogisticRegression(random_state=1, solver=\"lbfgs\", max_iter=200)\n",
    "ada = AdaBoostClassifier(random_state=1)\n",
    "hist = HistGradientBoostingClassifier(random_state=1)\n",
    "\n",
    "# create list of models\n",
    "models = [\n",
    "    naive_bayes,\n",
    "    svc,\n",
    "    lr,\n",
    "    rf,\n",
    "    ada\n",
    "]\n",
    "\n",
    "def test_models(X, y, model):\n",
    "    \"\"\"\n",
    "    Test various estimators with 5-fold CV, and retrieve F1 Score.\n",
    "    \"\"\"\n",
    "    # define the classifier\n",
    "    clf = Pipeline([\n",
    "        (\"vect\", CountVectorizer()),\n",
    "        (\"tfidf\", TfidfTransformer()),\n",
    "        (\"clf\", model)\n",
    "    ]) \n",
    "    # perform cross_validation and return f1 scores\n",
    "    scores = cross_val_score(clf, X, y, cv=5, scoring=\"f1\", n_jobs=-1)\n",
    "    # print out 95% confidence interval of the score estimate\n",
    "    return str(\"%0.2f (+/- %0.2f)\" % (scores.mean(), scores.std() * 2))"
   ]
  },
  {
   "cell_type": "code",
   "execution_count": 30,
   "metadata": {},
   "outputs": [
    {
     "name": "stderr",
     "output_type": "stream",
     "text": [
      "\n",
      "\n",
      "\n",
      "\n",
      "  0%|          | 0/5 [00:00<?, ?it/s]\u001b[A\u001b[A\u001b[A\u001b[A\n",
      "\n",
      "\n",
      "\n",
      " 20%|██        | 1/5 [00:02<00:09,  2.46s/it]\u001b[A\u001b[A\u001b[A\u001b[A"
     ]
    },
    {
     "name": "stdout",
     "output_type": "stream",
     "text": [
      "CV F1 Score for MultinomialNB: 0.83 (+/- 0.01)\n"
     ]
    },
    {
     "name": "stderr",
     "output_type": "stream",
     "text": [
      "\n",
      "\n",
      "\n",
      "\n",
      " 40%|████      | 2/5 [00:05<00:08,  2.71s/it]\u001b[A\u001b[A\u001b[A\u001b[A"
     ]
    },
    {
     "name": "stdout",
     "output_type": "stream",
     "text": [
      "CV F1 Score for LinearSVC: 0.86 (+/- 0.00)\n"
     ]
    },
    {
     "name": "stderr",
     "output_type": "stream",
     "text": [
      "\n",
      "\n",
      "\n",
      "\n",
      " 60%|██████    | 3/5 [00:10<00:06,  3.34s/it]\u001b[A\u001b[A\u001b[A\u001b[A"
     ]
    },
    {
     "name": "stdout",
     "output_type": "stream",
     "text": [
      "CV F1 Score for LogisticRegression: 0.84 (+/- 0.01)\n"
     ]
    },
    {
     "name": "stderr",
     "output_type": "stream",
     "text": [
      "\n",
      "\n",
      "\n",
      "\n",
      " 80%|████████  | 4/5 [00:39<00:11, 11.11s/it]\u001b[A\u001b[A\u001b[A\u001b[A"
     ]
    },
    {
     "name": "stdout",
     "output_type": "stream",
     "text": [
      "CV F1 Score for RandomForestClassifier: 0.81 (+/- 0.01)\n"
     ]
    },
    {
     "name": "stderr",
     "output_type": "stream",
     "text": [
      "\n",
      "\n",
      "\n",
      "\n",
      "100%|██████████| 5/5 [00:54<00:00, 10.95s/it]\u001b[A\u001b[A\u001b[A\u001b[A"
     ]
    },
    {
     "name": "stdout",
     "output_type": "stream",
     "text": [
      "CV F1 Score for AdaBoostClassifier: 0.75 (+/- 0.01)\n"
     ]
    },
    {
     "name": "stderr",
     "output_type": "stream",
     "text": [
      "\n"
     ]
    }
   ],
   "source": [
    "for model in tqdm(models):\n",
    "    scores = test_models(train_sample[\"clean_text\"], train_sample[\"label\"], model)\n",
    "    clf_name = str(model).split(\"(\")[0]\n",
    "    print(f\"CV F1 Score for {clf_name}: {scores}\")"
   ]
  },
  {
   "cell_type": "code",
   "execution_count": null,
   "metadata": {},
   "outputs": [],
   "source": []
  }
 ],
 "metadata": {
  "kernelspec": {
   "display_name": "Python 3",
   "language": "python",
   "name": "python3"
  },
  "language_info": {
   "codemirror_mode": {
    "name": "ipython",
    "version": 3
   },
   "file_extension": ".py",
   "mimetype": "text/x-python",
   "name": "python",
   "nbconvert_exporter": "python",
   "pygments_lexer": "ipython3",
   "version": "3.7.4"
  }
 },
 "nbformat": 4,
 "nbformat_minor": 4
}
