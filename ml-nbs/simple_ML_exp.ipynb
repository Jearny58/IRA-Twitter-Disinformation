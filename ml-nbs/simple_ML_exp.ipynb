{
 "cells": [
  {
   "cell_type": "markdown",
   "metadata": {},
   "source": [
    "# _ML Attempt: Dec. 27, 2019_"
   ]
  },
  {
   "cell_type": "code",
   "execution_count": 1,
   "metadata": {},
   "outputs": [],
   "source": [
    "%reload_ext autoreload\n",
    "%autoreload 2\n",
    "%matplotlib inline"
   ]
  },
  {
   "cell_type": "code",
   "execution_count": 2,
   "metadata": {},
   "outputs": [],
   "source": [
    "import pandas as pd\n",
    "pd.set_option(\"display.max_columns\", None)\n",
    "\n",
    "dtype = {\n",
    "    \"id_str\": str\n",
    "}\n",
    "\n",
    "# load in verified training set\n",
    "verified = pd.read_json(\n",
    "    \"json-data/verified_train.json\",\n",
    "    orient=\"split\",\n",
    "    dtype=dtype\n",
    ")\n",
    "\n",
    "# load in ira training set\n",
    "ira = pd.read_json(\n",
    "    \"json-data/ira_train.json\",\n",
    "    orient=\"split\",\n",
    "    dtype=dtype\n",
    ")"
   ]
  },
  {
   "cell_type": "code",
   "execution_count": 3,
   "metadata": {},
   "outputs": [
    {
     "name": "stdout",
     "output_type": "stream",
     "text": [
      "<class 'pandas.core.frame.DataFrame'>\n",
      "Int64Index: 168883 entries, 0 to 168882\n",
      "Data columns (total 10 columns):\n",
      "id_str            168883 non-null object\n",
      "screen_name       168883 non-null object\n",
      "created_at        168883 non-null datetime64[ns]\n",
      "lang              168883 non-null object\n",
      "source            168883 non-null object\n",
      "retweet_count     168883 non-null int64\n",
      "favorite_count    168883 non-null int64\n",
      "full_text         168883 non-null object\n",
      "clean_text        168883 non-null object\n",
      "label             168883 non-null object\n",
      "dtypes: datetime64[ns](1), int64(2), object(7)\n",
      "memory usage: 14.2+ MB\n"
     ]
    }
   ],
   "source": [
    "# info about verified data\n",
    "verified.info()"
   ]
  },
  {
   "cell_type": "code",
   "execution_count": 4,
   "metadata": {},
   "outputs": [
    {
     "name": "stdout",
     "output_type": "stream",
     "text": [
      "<class 'pandas.core.frame.DataFrame'>\n",
      "Int64Index: 1525311 entries, 0 to 1525310\n",
      "Data columns (total 10 columns):\n",
      "id_str            1525311 non-null object\n",
      "screen_name       1525311 non-null object\n",
      "created_at        1525311 non-null datetime64[ns]\n",
      "lang              1525311 non-null object\n",
      "source            1525311 non-null object\n",
      "retweet_count     1525311 non-null int64\n",
      "favorite_count    1525311 non-null int64\n",
      "full_text         1525311 non-null object\n",
      "clean_text        1525311 non-null object\n",
      "label             1525311 non-null object\n",
      "dtypes: datetime64[ns](1), int64(2), object(7)\n",
      "memory usage: 128.0+ MB\n"
     ]
    }
   ],
   "source": [
    "# info abour ira data\n",
    "ira.info()"
   ]
  },
  {
   "cell_type": "code",
   "execution_count": 5,
   "metadata": {},
   "outputs": [],
   "source": [
    "# take a sample of ira equal to the length of verified data\n",
    "ira_sample = ira.sample(n=len(verified), random_state=1)"
   ]
  },
  {
   "cell_type": "code",
   "execution_count": 6,
   "metadata": {},
   "outputs": [
    {
     "name": "stdout",
     "output_type": "stream",
     "text": [
      "<class 'pandas.core.frame.DataFrame'>\n",
      "Int64Index: 168883 entries, 1169189 to 923184\n",
      "Data columns (total 10 columns):\n",
      "id_str            168883 non-null object\n",
      "screen_name       168883 non-null object\n",
      "created_at        168883 non-null datetime64[ns]\n",
      "lang              168883 non-null object\n",
      "source            168883 non-null object\n",
      "retweet_count     168883 non-null int64\n",
      "favorite_count    168883 non-null int64\n",
      "full_text         168883 non-null object\n",
      "clean_text        168883 non-null object\n",
      "label             168883 non-null object\n",
      "dtypes: datetime64[ns](1), int64(2), object(7)\n",
      "memory usage: 14.2+ MB\n"
     ]
    }
   ],
   "source": [
    "# get info of ira_sample\n",
    "ira_sample.info()"
   ]
  },
  {
   "cell_type": "code",
   "execution_count": 12,
   "metadata": {},
   "outputs": [],
   "source": [
    "# concat together ira_sample and verified data\n",
    "combine = pd.concat([verified, ira_sample], ignore_index=True)"
   ]
  },
  {
   "cell_type": "code",
   "execution_count": 13,
   "metadata": {},
   "outputs": [
    {
     "data": {
      "text/plain": [
       "True"
      ]
     },
     "execution_count": 13,
     "metadata": {},
     "output_type": "execute_result"
    }
   ],
   "source": [
    "len(combine) == (len(ira_sample) + len(verified))"
   ]
  },
  {
   "cell_type": "code",
   "execution_count": 14,
   "metadata": {},
   "outputs": [
    {
     "name": "stdout",
     "output_type": "stream",
     "text": [
      "<class 'pandas.core.frame.DataFrame'>\n",
      "RangeIndex: 337766 entries, 0 to 337765\n",
      "Data columns (total 10 columns):\n",
      "id_str            337766 non-null object\n",
      "screen_name       337766 non-null object\n",
      "created_at        337766 non-null datetime64[ns]\n",
      "lang              337766 non-null object\n",
      "source            337766 non-null object\n",
      "retweet_count     337766 non-null int64\n",
      "favorite_count    337766 non-null int64\n",
      "full_text         337766 non-null object\n",
      "clean_text        337766 non-null object\n",
      "label             337766 non-null object\n",
      "dtypes: datetime64[ns](1), int64(2), object(7)\n",
      "memory usage: 25.8+ MB\n"
     ]
    }
   ],
   "source": [
    "# get info from combined dataframe\n",
    "combine.info()"
   ]
  },
  {
   "cell_type": "code",
   "execution_count": 16,
   "metadata": {},
   "outputs": [],
   "source": [
    "# shuffle combined data set\n",
    "shuffled = combine.sample(frac=1, random_state=1).copy()"
   ]
  },
  {
   "cell_type": "markdown",
   "metadata": {},
   "source": [
    "## _Get 10% Sample of `combine` DataFrame & conduct initial ML experiment_"
   ]
  },
  {
   "cell_type": "code",
   "execution_count": 10,
   "metadata": {},
   "outputs": [],
   "source": [
    "# get 10% sample of combined data set\n",
    "train_sample = combine.sample(frac=0.10, random_state=1)"
   ]
  },
  {
   "cell_type": "code",
   "execution_count": 17,
   "metadata": {},
   "outputs": [],
   "source": [
    "# reset index\n",
    "train_sample = train_sample.reset_index(drop=True)"
   ]
  },
  {
   "cell_type": "code",
   "execution_count": 18,
   "metadata": {},
   "outputs": [
    {
     "name": "stdout",
     "output_type": "stream",
     "text": [
      "<class 'pandas.core.frame.DataFrame'>\n",
      "RangeIndex: 33777 entries, 0 to 33776\n",
      "Data columns (total 10 columns):\n",
      "id_str            33777 non-null object\n",
      "screen_name       33777 non-null object\n",
      "created_at        33777 non-null datetime64[ns]\n",
      "lang              33777 non-null object\n",
      "source            33777 non-null object\n",
      "retweet_count     33777 non-null int64\n",
      "favorite_count    33777 non-null int64\n",
      "full_text         33777 non-null object\n",
      "clean_text        33777 non-null object\n",
      "label             33777 non-null object\n",
      "dtypes: datetime64[ns](1), int64(2), object(7)\n",
      "memory usage: 2.6+ MB\n"
     ]
    }
   ],
   "source": [
    "# check info on sample so far\n",
    "train_sample.info()"
   ]
  },
  {
   "cell_type": "code",
   "execution_count": 19,
   "metadata": {},
   "outputs": [],
   "source": [
    "# replace real accounts with 0 and fake accounts with 1\n",
    "train_sample[\"label\"] = train_sample[\"label\"].replace(to_replace={\"real\": 0, \"fake\": 1})"
   ]
  },
  {
   "cell_type": "code",
   "execution_count": 20,
   "metadata": {},
   "outputs": [],
   "source": [
    "# divide into train/test split\n",
    "from sklearn.model_selection import train_test_split\n",
    "\n",
    "X_train, X_test, y_train, y_test = train_test_split(\n",
    "    train_sample[\"clean_text\"], \n",
    "    train_sample[\"label\"],\n",
    "    test_size=0.3,\n",
    "    random_state=1\n",
    ")"
   ]
  },
  {
   "cell_type": "code",
   "execution_count": 21,
   "metadata": {},
   "outputs": [],
   "source": [
    "# build a simple pipeline\n",
    "from sklearn.pipeline import Pipeline\n",
    "from sklearn.feature_extraction.text import CountVectorizer, TfidfTransformer\n",
    "from sklearn.naive_bayes import MultinomialNB"
   ]
  },
  {
   "cell_type": "code",
   "execution_count": 22,
   "metadata": {},
   "outputs": [],
   "source": [
    "text_clf = Pipeline([\n",
    "    (\"vect\", CountVectorizer()),\n",
    "    (\"tfidf\", TfidfTransformer()),\n",
    "    (\"clf\", MultinomialNB())\n",
    "])"
   ]
  },
  {
   "cell_type": "code",
   "execution_count": 23,
   "metadata": {},
   "outputs": [
    {
     "data": {
      "text/plain": [
       "Pipeline(memory=None,\n",
       "         steps=[('vect',\n",
       "                 CountVectorizer(analyzer='word', binary=False,\n",
       "                                 decode_error='strict',\n",
       "                                 dtype=<class 'numpy.int64'>, encoding='utf-8',\n",
       "                                 input='content', lowercase=True, max_df=1.0,\n",
       "                                 max_features=None, min_df=1,\n",
       "                                 ngram_range=(1, 1), preprocessor=None,\n",
       "                                 stop_words=None, strip_accents=None,\n",
       "                                 token_pattern='(?u)\\\\b\\\\w\\\\w+\\\\b',\n",
       "                                 tokenizer=None, vocabulary=None)),\n",
       "                ('tfidf',\n",
       "                 TfidfTransformer(norm='l2', smooth_idf=True,\n",
       "                                  sublinear_tf=False, use_idf=True)),\n",
       "                ('clf',\n",
       "                 MultinomialNB(alpha=1.0, class_prior=None, fit_prior=True))],\n",
       "         verbose=False)"
      ]
     },
     "execution_count": 23,
     "metadata": {},
     "output_type": "execute_result"
    }
   ],
   "source": [
    "# fit classifier\n",
    "text_clf.fit(X_train, y_train)"
   ]
  },
  {
   "cell_type": "code",
   "execution_count": 24,
   "metadata": {},
   "outputs": [],
   "source": [
    "# create predictions\n",
    "predicted = text_clf.predict(X_test)"
   ]
  },
  {
   "cell_type": "code",
   "execution_count": 25,
   "metadata": {},
   "outputs": [
    {
     "data": {
      "text/plain": [
       "0.8056048944148412"
      ]
     },
     "execution_count": 25,
     "metadata": {},
     "output_type": "execute_result"
    }
   ],
   "source": [
    "import numpy as np\n",
    "\n",
    "np.mean(predicted == y_test)"
   ]
  },
  {
   "cell_type": "code",
   "execution_count": 26,
   "metadata": {},
   "outputs": [
    {
     "data": {
      "text/plain": [
       "array([0, 1, 0, ..., 0, 1, 1])"
      ]
     },
     "execution_count": 26,
     "metadata": {},
     "output_type": "execute_result"
    }
   ],
   "source": [
    "predicted"
   ]
  },
  {
   "cell_type": "code",
   "execution_count": 27,
   "metadata": {},
   "outputs": [
    {
     "data": {
      "text/plain": [
       "0.7917987740435426"
      ]
     },
     "execution_count": 27,
     "metadata": {},
     "output_type": "execute_result"
    }
   ],
   "source": [
    "from sklearn.metrics import f1_score\n",
    "\n",
    "f1_score(y_test, predicted)"
   ]
  },
  {
   "cell_type": "code",
   "execution_count": 28,
   "metadata": {},
   "outputs": [],
   "source": [
    "import matplotlib.pyplot as plt\n",
    "from sklearn.metrics import classification_report"
   ]
  },
  {
   "cell_type": "code",
   "execution_count": 29,
   "metadata": {},
   "outputs": [
    {
     "name": "stdout",
     "output_type": "stream",
     "text": [
      "              precision    recall  f1-score   support\n",
      "\n",
      "           0       0.77      0.88      0.82      5041\n",
      "           1       0.86      0.74      0.79      5093\n",
      "\n",
      "    accuracy                           0.81     10134\n",
      "   macro avg       0.81      0.81      0.80     10134\n",
      "weighted avg       0.81      0.81      0.80     10134\n",
      "\n"
     ]
    }
   ],
   "source": [
    "print(classification_report(y_test, predicted))"
   ]
  },
  {
   "cell_type": "code",
   "execution_count": null,
   "metadata": {},
   "outputs": [],
   "source": []
  }
 ],
 "metadata": {
  "kernelspec": {
   "display_name": "Python 3",
   "language": "python",
   "name": "python3"
  },
  "language_info": {
   "codemirror_mode": {
    "name": "ipython",
    "version": 3
   },
   "file_extension": ".py",
   "mimetype": "text/x-python",
   "name": "python",
   "nbconvert_exporter": "python",
   "pygments_lexer": "ipython3",
   "version": "3.7.4"
  }
 },
 "nbformat": 4,
 "nbformat_minor": 4
}
